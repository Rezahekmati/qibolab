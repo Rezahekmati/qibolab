{
 "cells": [
  {
   "cell_type": "raw",
   "metadata": {},
   "source": [
    "\n",
    "Users:\n",
    "\tExperimentalist\n",
    "\tQibo\n",
    "\n",
    "Use cases:\n",
    "[Experimentalists] should be able to use qibolab to characterize their platform\n",
    "\tThere should be a library of characterization scripts \n",
    "\tThe code should be optimised so that the characterisation process runs as fast as possible\n",
    "\t- Changes to the diagnosis or calibration parameters should not require restarting the notebook:\n",
    "\t\t○ Platform should have a method for reloading parameters from file\n",
    "\t\t○ Platform should have a method for saving individual parameters\n",
    "\t- Slow-loading libraries are loaded as few times as possible\n",
    "\t\t○ Reduce the number of MCs and let them be managed by diagnostics.py\n",
    "        ○ Avoid opening windows that are not required\n",
    "\t- All parameters that can be adjusted during characterisation are saved in one single file \n",
    "        ○ Bring back the setting of the pulse sequence to the script, to be loaded from platform settings yaml\n",
    "\n",
    "\t- The experimentalist should be able to compare the effect of the changes introduced \n",
    "\t\to MCs should be preserved between characterisation script calls\n",
    "\n",
    "[Qibo] should be able to call platform.calibrate(), running all calibration scripts automatically and \n",
    "    saving them in the platform settings yaml \n"
   ]
  },
  {
   "cell_type": "code",
   "execution_count": null,
   "metadata": {},
   "outputs": [],
   "source": [
    "from qibolab import Platform\n",
    "import diagnostics"
   ]
  },
  {
   "cell_type": "code",
   "execution_count": null,
   "metadata": {},
   "outputs": [],
   "source": [
    "# Create a platform; connect and configure it\n",
    "platform = Platform('tiiq')\n",
    "platform.connect()\n",
    "platform.setup()\n",
    "\n",
    "# create a diagnostics object\n",
    "ds = diagnostics.Diagnostics(platform)\n",
    "\n",
    "# Characterisation can be done by changing settings to qibolab/runcards/tiiq.yml and diagnostics.yml"
   ]
  },
  {
   "cell_type": "markdown",
   "metadata": {},
   "source": [
    "Resonator Spectroscopy"
   ]
  },
  {
   "cell_type": "code",
   "execution_count": null,
   "metadata": {},
   "outputs": [],
   "source": [
    "\n",
    "resonator_freq, avg_min_voltage, max_ro_voltage, smooth_dataset, dataset = ds.run_resonator_spectroscopy()"
   ]
  },
  {
   "cell_type": "code",
   "execution_count": null,
   "metadata": {},
   "outputs": [],
   "source": [
    "#save resonator params\n",
    "print(diagnostics.get_config_parameter(\"settings\", \"\", \"resonator_freq\"))\n",
    "diagnostics.save_config_parameter(\"settings\", \"\", \"resonator_freq\", float(resonator_freq))\n",
    "\n",
    "print(diagnostics.get_config_parameter(\"settings\", \"\", \"resonator_spectroscopy_avg_min_ro_voltage\"))\n",
    "diagnostics.save_config_parameter(\"settings\", \"\", \"resonator_spectroscopy_avg_min_ro_voltage\", float(avg_min_voltage))\n",
    "\n",
    "print(diagnostics.get_config_parameter(\"settings\", \"\", \"resonator_spectroscopy_max_ro_voltage\"))\n",
    "diagnostics.save_config_parameter(\"settings\", \"\", \"resonator_spectroscopy_max_ro_voltage\", float(max_ro_voltage))\n",
    "\n",
    "print(diagnostics.get_config_parameter(\"LO_QRM_settings\", \"\", \"frequency\"))\n",
    "diagnostics.save_config_parameter(\"LO_QRM_settings\", \"\", \"frequency\", float(resonator_freq - 20_000_000))\n"
   ]
  },
  {
   "cell_type": "markdown",
   "metadata": {},
   "source": [
    "Qubit Spectroscopy"
   ]
  },
  {
   "cell_type": "code",
   "execution_count": null,
   "metadata": {},
   "outputs": [],
   "source": [
    "qubit_freq, min_ro_voltage, smooth_dataset, dataset = ds.run_qubit_spectroscopy()"
   ]
  },
  {
   "cell_type": "code",
   "execution_count": null,
   "metadata": {},
   "outputs": [],
   "source": [
    "#save qubit frequency founded - update LO_QCM freq + update qubit spec min voltage\n",
    "print(diagnostics.get_config_parameter(\"settings\", \"\", \"qubit_freq\"))\n",
    "diagnostics.save_config_parameter(\"settings\", \"\", \"qubit_freq\", float(qubit_freq))\n",
    "\n",
    "print(diagnostics.get_config_parameter(\"LO_QCM_settings\", \"\", \"frequency\"))\n",
    "diagnostics.save_config_parameter(\"LO_QCM_settings\", \"\", \"frequency\", float(qubit_freq + 200_000_000))\n",
    "\n",
    "print(diagnostics.get_config_parameter(\"settings\", \"\", \"qubit_spectroscopy_min_ro_voltage\"))\n",
    "diagnostics.save_config_parameter(\"settings\", \"\", \"qubit_spectroscopy_min_ro_voltage\", float(min_ro_voltage))"
   ]
  },
  {
   "cell_type": "markdown",
   "metadata": {},
   "source": [
    "Rabi Oscillations with varying pulse length"
   ]
  },
  {
   "cell_type": "code",
   "execution_count": null,
   "metadata": {},
   "outputs": [],
   "source": [
    "dataset, pi_pulse_duration, pi_pulse_amplitude, pi_pulse_gain, rabi_oscillations_pi_pulse_min_voltage, t1 = ds.run_rabi_pulse_length()\n"
   ]
  },
  {
   "cell_type": "code",
   "execution_count": null,
   "metadata": {},
   "outputs": [],
   "source": [
    "#save pi pulse params founded + pi pulse min vol + T1\n",
    "print(diagnostics.get_config_parameter(\"settings\", \"\", \"pi_pulse_duration\"))\n",
    "diagnostics.save_config_parameter(\"settings\", \"\", \"pi_pulse_duration\", int(pi_pulse_duration))\n",
    "\n",
    "print(diagnostics.get_config_parameter(\"settings\", \"\", \"pi_pulse_amplitude\"))\n",
    "diagnostics.save_config_parameter(\"settings\", \"\", \"pi_pulse_amplitude\", float(pi_pulse_amplitude))\n",
    "\n",
    "print(diagnostics.get_config_parameter(\"settings\", \"\", \"pi_pulse_gain\"))\n",
    "diagnostics.save_config_parameter(\"settings\", \"\", \"pi_pulse_gain\", float(pi_pulse_gain))\n",
    "\n",
    "print(diagnostics.get_config_parameter(\"settings\", \"\", \"rabi_oscillations_pi_pulse_min_voltage\"))\n",
    "diagnostics.save_config_parameter(\"settings\", \"\", \"rabi_oscillations_pi_pulse_min_voltage\", float(rabi_oscillations_pi_pulse_min_voltage))\n",
    "\n",
    "print(diagnostics.get_config_parameter(\"settings\", \"\", \"T1\"))\n",
    "#TODO: Double check T1 obtained from Rabi. It is not correct.\n",
    "#diagnostics.save_config_parameter(\"settings\", \"\", \"T1\", float(t1))"
   ]
  },
  {
   "cell_type": "markdown",
   "metadata": {},
   "source": [
    "T1"
   ]
  },
  {
   "cell_type": "code",
   "execution_count": null,
   "metadata": {},
   "outputs": [],
   "source": [
    "t1, smooth_dataset, dataset = ds.run_t1()"
   ]
  },
  {
   "cell_type": "markdown",
   "metadata": {},
   "source": [
    "Ramsey"
   ]
  },
  {
   "cell_type": "code",
   "execution_count": null,
   "metadata": {},
   "outputs": [],
   "source": [
    "t2, smooth_dataset, dataset = ds.run_ramsey()"
   ]
  },
  {
   "cell_type": "markdown",
   "metadata": {},
   "source": [
    "Spin Echo"
   ]
  },
  {
   "cell_type": "code",
   "execution_count": null,
   "metadata": {},
   "outputs": [],
   "source": [
    "dataset = ds.run_spin_echo()"
   ]
  },
  {
   "cell_type": "code",
   "execution_count": null,
   "metadata": {},
   "outputs": [],
   "source": [
    "#Run Spin Echo 3 Pulses\n",
    "dataset = ds.run_spin_echo_3pulses()\n",
    "#TODO: The result of the plot does not match with the expected result\n",
    "#        it should result in state |0> and it seems to give state |1>"
   ]
  }
 ],
 "metadata": {
  "interpreter": {
   "hash": "7eaae0a1e5de089bd97afdf8c2e7e5174291eeeb163002bffa2af0ecb55f114e"
  },
  "kernelspec": {
   "display_name": "Python 3.9.7 ('Quantum_cluster')",
   "language": "python",
   "name": "python3"
  },
  "language_info": {
   "codemirror_mode": {
    "name": "ipython",
    "version": 3
   },
   "file_extension": ".py",
   "mimetype": "text/x-python",
   "name": "python",
   "nbconvert_exporter": "python",
   "pygments_lexer": "ipython3",
   "version": "3.9.7"
  },
  "orig_nbformat": 4
 },
 "nbformat": 4,
 "nbformat_minor": 2
}
