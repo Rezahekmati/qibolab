{
 "cells": [
  {
   "cell_type": "raw",
   "metadata": {},
   "source": [
    "\n",
    "Users:\n",
    "\tExperimentalist\n",
    "\tQibo\n",
    "\n",
    "Use cases:\n",
    "[Experimentalists] should be able to use qibolab to characterize their platform\n",
    "\tThere should be a library of characterization scripts \n",
    "\tThe code should be optimised so that the characterisation process runs as fast as possible\n",
    "\t- Changes to the diagnosis or calibration parameters should not require restarting the notebook:\n",
    "\t\t○ Platform should have a method for reloading parameters from file\n",
    "\t\t○ Platform should have a method for saving individual parameters\n",
    "\t- Slow-loading libraries are loaded as few times as possible\n",
    "\t\t○ Reduce the number of MCs and let them be managed by diagnostics.py\n",
    "        ○ Avoid opening windows that are not required\n",
    "\t- All parameters that can be adjusted during characterisation are saved in one single file \n",
    "        ○ Bring back the setting of the pulse sequence to the script, to be loaded from platform settings yaml\n",
    "\n",
    "\t- The experimentalist should be able to compare the effect of the changes introduced \n",
    "\t\to MCs should be preserved between characterisation script calls\n",
    "\n",
    "[Qibo] should be able to call platform.calibrate(), running all calibration scripts automatically and \n",
    "    saving them in the platform settings yaml \n"
   ]
  },
  {
   "cell_type": "raw",
   "metadata": {},
   "source": [
    "!ping 192.168.0.12\n",
    "!ping 192.168.0.14"
   ]
  },
  {
   "cell_type": "raw",
   "metadata": {},
   "source": [
    "!ping 192.168.0.7\n",
    "!ping 192.168.0.8"
   ]
  },
  {
   "cell_type": "code",
   "execution_count": 1,
   "metadata": {},
   "outputs": [
    {
     "name": "stderr",
     "output_type": "stream",
     "text": [
      "[Qibo 0.1.6|INFO|2022-03-28 17:40:02]: Using numpy backend on /CPU:0\n",
      "[Qibo 0.1.6|WARNING|2022-03-28 17:40:02]: numpy backend uses `np.einsum` and supports CPU only. Consider installing the qibojit or qibotf backends for increased performance and to enable GPU acceleration.\n"
     ]
    }
   ],
   "source": [
    "from qibolab import Platform\n",
    "import diagnostics"
   ]
  },
  {
   "cell_type": "code",
   "execution_count": 2,
   "metadata": {},
   "outputs": [
    {
     "name": "stderr",
     "output_type": "stream",
     "text": [
      "[Qibo 0.1.6|INFO|2022-03-28 17:40:07]: Loading platform tiiq\n",
      "[Qibo 0.1.6|INFO|2022-03-28 17:40:07]: Loading runcard c:\\users\\david fuentes ruiz\\github\\qibolab\\src\\qibolab\\runcards\\tiiq.yml\n",
      "[Qibo 0.1.6|INFO|2022-03-28 17:40:07]: Connecting to tiiq instruments.\n"
     ]
    },
    {
     "name": "stdout",
     "output_type": "stream",
     "text": [
      "Connected to: Rohde&Schwarz SGS100A (serial:1416.0505k02/113301, firmware:4.2.76.0-4.30.046.295) in 1.05s\n",
      "Connected to: Rohde&Schwarz SGS100A (serial:1416.0505k02/113300, firmware:4.2.76.0-4.30.046.295) in 0.99s\n"
     ]
    }
   ],
   "source": [
    "# Create a platform; connect and configure it\n",
    "platform = Platform('tiiq')\n",
    "platform.connect()\n",
    "platform.setup()\n",
    "\n",
    "# create a diagnostics object\n",
    "ds = diagnostics.Diagnostics(platform)\n",
    "\n",
    "# Characterisation can be done by changing settings to qibolab/runcards/tiiq.yml and diagnostics.yml"
   ]
  },
  {
   "cell_type": "code",
   "execution_count": 5,
   "metadata": {},
   "outputs": [
    {
     "ename": "TypeError",
     "evalue": "backup_config_file() takes 0 positional arguments but 1 was given",
     "output_type": "error",
     "traceback": [
      "\u001b[1;31m---------------------------------------------------------------------------\u001b[0m",
      "\u001b[1;31mTypeError\u001b[0m                                 Traceback (most recent call last)",
      "\u001b[1;32mC:\\Users\\DAVIDF~1\\AppData\\Local\\Temp/ipykernel_11024/3373814742.py\u001b[0m in \u001b[0;36m<module>\u001b[1;34m\u001b[0m\n\u001b[1;32m----> 1\u001b[1;33m \u001b[0mdiagnostics\u001b[0m\u001b[1;33m.\u001b[0m\u001b[0mbackup_config_file\u001b[0m\u001b[1;33m(\u001b[0m\u001b[0mplatform\u001b[0m\u001b[1;33m)\u001b[0m\u001b[1;33m\u001b[0m\u001b[1;33m\u001b[0m\u001b[0m\n\u001b[0m",
      "\u001b[1;31mTypeError\u001b[0m: backup_config_file() takes 0 positional arguments but 1 was given"
     ]
    }
   ],
   "source": [
    "diagnostics.backup_config_file(platform)"
   ]
  },
  {
   "cell_type": "markdown",
   "metadata": {},
   "source": [
    "Resonator Spectroscopy"
   ]
  },
  {
   "cell_type": "code",
   "execution_count": 3,
   "metadata": {},
   "outputs": [
    {
     "name": "stdout",
     "output_type": "stream",
     "text": [
      "Starting iterative measurement...\n"
     ]
    },
    {
     "name": "stderr",
     "output_type": "stream",
     "text": [
      "C:\\Anaconda\\envs\\Quantum_cluster\\lib\\site-packages\\pyqtgraph\\graphicsItems\\ScatterPlotItem.py:974: RuntimeWarning: All-NaN slice encountered\n",
      "  self.bounds[ax] = (np.nanmin(d) - self._maxSpotWidth*0.7072, np.nanmax(d) + self._maxSpotWidth*0.7072)\n",
      "C:\\Anaconda\\envs\\Quantum_cluster\\lib\\site-packages\\pyqtgraph\\graphicsItems\\ScatterPlotItem.py:974: RuntimeWarning: All-NaN slice encountered\n",
      "  self.bounds[ax] = (np.nanmin(d) - self._maxSpotWidth*0.7072, np.nanmax(d) + self._maxSpotWidth*0.7072)\n",
      "C:\\Anaconda\\envs\\Quantum_cluster\\lib\\site-packages\\pyqtgraph\\graphicsItems\\ScatterPlotItem.py:974: RuntimeWarning: All-NaN slice encountered\n",
      "  self.bounds[ax] = (np.nanmin(d) - self._maxSpotWidth*0.7072, np.nanmax(d) + self._maxSpotWidth*0.7072)\n",
      "C:\\Anaconda\\envs\\Quantum_cluster\\lib\\site-packages\\pyqtgraph\\graphicsItems\\ScatterPlotItem.py:974: RuntimeWarning: All-NaN slice encountered\n",
      "  self.bounds[ax] = (np.nanmin(d) - self._maxSpotWidth*0.7072, np.nanmax(d) + self._maxSpotWidth*0.7072)\n",
      "C:\\Anaconda\\envs\\Quantum_cluster\\lib\\site-packages\\pyqtgraph\\graphicsItems\\ScatterPlotItem.py:974: RuntimeWarning: All-NaN slice encountered\n",
      "  self.bounds[ax] = (np.nanmin(d) - self._maxSpotWidth*0.7072, np.nanmax(d) + self._maxSpotWidth*0.7072)\n",
      "C:\\Anaconda\\envs\\Quantum_cluster\\lib\\site-packages\\pyqtgraph\\graphicsItems\\ScatterPlotItem.py:974: RuntimeWarning: All-NaN slice encountered\n",
      "  self.bounds[ax] = (np.nanmin(d) - self._maxSpotWidth*0.7072, np.nanmax(d) + self._maxSpotWidth*0.7072)\n",
      "C:\\Anaconda\\envs\\Quantum_cluster\\lib\\site-packages\\pyqtgraph\\graphicsItems\\ScatterPlotItem.py:974: RuntimeWarning: All-NaN slice encountered\n",
      "  self.bounds[ax] = (np.nanmin(d) - self._maxSpotWidth*0.7072, np.nanmax(d) + self._maxSpotWidth*0.7072)\n",
      "C:\\Anaconda\\envs\\Quantum_cluster\\lib\\site-packages\\pyqtgraph\\graphicsItems\\ScatterPlotItem.py:974: RuntimeWarning: All-NaN slice encountered\n",
      "  self.bounds[ax] = (np.nanmin(d) - self._maxSpotWidth*0.7072, np.nanmax(d) + self._maxSpotWidth*0.7072)\n",
      "C:\\Anaconda\\envs\\Quantum_cluster\\lib\\site-packages\\pyqtgraph\\graphicsItems\\ScatterPlotItem.py:974: RuntimeWarning: All-NaN slice encountered\n",
      "  self.bounds[ax] = (np.nanmin(d) - self._maxSpotWidth*0.7072, np.nanmax(d) + self._maxSpotWidth*0.7072)\n",
      "C:\\Anaconda\\envs\\Quantum_cluster\\lib\\site-packages\\pyqtgraph\\graphicsItems\\ScatterPlotItem.py:974: RuntimeWarning: All-NaN slice encountered\n",
      "  self.bounds[ax] = (np.nanmin(d) - self._maxSpotWidth*0.7072, np.nanmax(d) + self._maxSpotWidth*0.7072)\n",
      "C:\\Anaconda\\envs\\Quantum_cluster\\lib\\site-packages\\pyqtgraph\\graphicsItems\\ScatterPlotItem.py:974: RuntimeWarning: All-NaN slice encountered\n",
      "  self.bounds[ax] = (np.nanmin(d) - self._maxSpotWidth*0.7072, np.nanmax(d) + self._maxSpotWidth*0.7072)\n",
      "C:\\Anaconda\\envs\\Quantum_cluster\\lib\\site-packages\\pyqtgraph\\graphicsItems\\ScatterPlotItem.py:974: RuntimeWarning: All-NaN slice encountered\n",
      "  self.bounds[ax] = (np.nanmin(d) - self._maxSpotWidth*0.7072, np.nanmax(d) + self._maxSpotWidth*0.7072)\n",
      "C:\\Anaconda\\envs\\Quantum_cluster\\lib\\site-packages\\pyqtgraph\\graphicsItems\\ScatterPlotItem.py:974: RuntimeWarning: All-NaN slice encountered\n",
      "  self.bounds[ax] = (np.nanmin(d) - self._maxSpotWidth*0.7072, np.nanmax(d) + self._maxSpotWidth*0.7072)\n",
      "C:\\Anaconda\\envs\\Quantum_cluster\\lib\\site-packages\\pyqtgraph\\graphicsItems\\ScatterPlotItem.py:974: RuntimeWarning: All-NaN slice encountered\n",
      "  self.bounds[ax] = (np.nanmin(d) - self._maxSpotWidth*0.7072, np.nanmax(d) + self._maxSpotWidth*0.7072)\n",
      "C:\\Anaconda\\envs\\Quantum_cluster\\lib\\site-packages\\pyqtgraph\\graphicsItems\\ScatterPlotItem.py:974: RuntimeWarning: All-NaN slice encountered\n",
      "  self.bounds[ax] = (np.nanmin(d) - self._maxSpotWidth*0.7072, np.nanmax(d) + self._maxSpotWidth*0.7072)\n"
     ]
    },
    {
     "name": "stdout",
     "output_type": "stream",
     "text": [
      "100% completed | elapsed time:    133s | time left:      0s  \n",
      "100% completed | elapsed time:    133s | time left:      0s  Starting iterative measurement...\n"
     ]
    },
    {
     "name": "stderr",
     "output_type": "stream",
     "text": [
      "C:\\Anaconda\\envs\\Quantum_cluster\\lib\\site-packages\\pyqtgraph\\graphicsItems\\ScatterPlotItem.py:974: RuntimeWarning: All-NaN slice encountered\n",
      "  self.bounds[ax] = (np.nanmin(d) - self._maxSpotWidth*0.7072, np.nanmax(d) + self._maxSpotWidth*0.7072)\n",
      "C:\\Anaconda\\envs\\Quantum_cluster\\lib\\site-packages\\pyqtgraph\\graphicsItems\\ScatterPlotItem.py:974: RuntimeWarning: All-NaN slice encountered\n",
      "  self.bounds[ax] = (np.nanmin(d) - self._maxSpotWidth*0.7072, np.nanmax(d) + self._maxSpotWidth*0.7072)\n",
      "C:\\Anaconda\\envs\\Quantum_cluster\\lib\\site-packages\\pyqtgraph\\graphicsItems\\ScatterPlotItem.py:974: RuntimeWarning: All-NaN slice encountered\n",
      "  self.bounds[ax] = (np.nanmin(d) - self._maxSpotWidth*0.7072, np.nanmax(d) + self._maxSpotWidth*0.7072)\n",
      "C:\\Anaconda\\envs\\Quantum_cluster\\lib\\site-packages\\pyqtgraph\\graphicsItems\\ScatterPlotItem.py:974: RuntimeWarning: All-NaN slice encountered\n",
      "  self.bounds[ax] = (np.nanmin(d) - self._maxSpotWidth*0.7072, np.nanmax(d) + self._maxSpotWidth*0.7072)\n",
      "C:\\Anaconda\\envs\\Quantum_cluster\\lib\\site-packages\\pyqtgraph\\graphicsItems\\ScatterPlotItem.py:974: RuntimeWarning: All-NaN slice encountered\n",
      "  self.bounds[ax] = (np.nanmin(d) - self._maxSpotWidth*0.7072, np.nanmax(d) + self._maxSpotWidth*0.7072)\n"
     ]
    },
    {
     "name": "stdout",
     "output_type": "stream",
     "text": [
      "100% completed | elapsed time:    655s | time left:      0s  \n",
      "100% completed | elapsed time:    655s | time left:      0s  "
     ]
    },
    {
     "data": {
      "image/png": "[encoded data removed]",
      "text/plain": [
       "<Figure size 432x288 with 1 Axes>"
      ]
     },
     "metadata": {
      "needs_background": "light"
     },
     "output_type": "display_data"
    },
    {
     "data": {
      "image/png": "[encoded data removed]",
      "text/plain": [
       "<Figure size 576x216 with 1 Axes>"
      ]
     },
     "metadata": {
      "needs_background": "light"
     },
     "output_type": "display_data"
    },
    {
     "name": "stdout",
     "output_type": "stream",
     "text": [
      "\n",
      "Resonator Frequency = 7795164914.265556\n"
     ]
    }
   ],
   "source": [
    "\n",
    "resonator_freq, avg_min_voltage, max_ro_voltage, smooth_dataset, dataset = ds.run_resonator_spectroscopy()"
   ]
  },
  {
   "cell_type": "code",
   "execution_count": 6,
   "metadata": {},
   "outputs": [
    {
     "name": "stdout",
     "output_type": "stream",
     "text": [
      "7795108893.499539\n",
      "Saved value: 7795164914.265556\n",
      "16.558676254943574\n",
      "Saved value: 16.385041436795955\n",
      "369.34690016364306\n",
      "Saved value: 378.1358820360145\n",
      "7775108893.49953\n",
      "Saved value: 7775164914.265556\n"
     ]
    }
   ],
   "source": [
    "#save resonator params\n",
    "print(diagnostics.get_config_parameter(\"settings\", \"\", \"resonator_freq\"))\n",
    "diagnostics.save_config_parameter(\"settings\", \"\", \"resonator_freq\", float(resonator_freq))\n",
    "\n",
    "print(diagnostics.get_config_parameter(\"settings\", \"\", \"resonator_spectroscopy_avg_min_ro_voltage\"))\n",
    "diagnostics.save_config_parameter(\"settings\", \"\", \"resonator_spectroscopy_avg_min_ro_voltage\", float(avg_min_voltage))\n",
    "\n",
    "print(diagnostics.get_config_parameter(\"settings\", \"\", \"resonator_spectroscopy_max_ro_voltage\"))\n",
    "diagnostics.save_config_parameter(\"settings\", \"\", \"resonator_spectroscopy_max_ro_voltage\", float(max_ro_voltage))\n",
    "\n",
    "print(diagnostics.get_config_parameter(\"LO_QRM_settings\", \"\", \"frequency\"))\n",
    "diagnostics.save_config_parameter(\"LO_QRM_settings\", \"\", \"frequency\", float(resonator_freq - 20_000_000))\n"
   ]
  },
  {
   "cell_type": "markdown",
   "metadata": {},
   "source": [
    "Qubit Spectroscopy"
   ]
  },
  {
   "cell_type": "code",
   "execution_count": null,
   "metadata": {},
   "outputs": [],
   "source": [
    "qubit_freq, min_ro_voltage, smooth_dataset, dataset = ds.run_qubit_spectroscopy()"
   ]
  },
  {
   "cell_type": "code",
   "execution_count": null,
   "metadata": {},
   "outputs": [],
   "source": [
    "#save qubit frequency founded - update LO_QCM freq + update qubit spec min voltage\n",
    "print(diagnostics.get_config_parameter(\"settings\", \"\", \"qubit_freq\"))\n",
    "diagnostics.save_config_parameter(\"settings\", \"\", \"qubit_freq\", float(qubit_freq))\n",
    "\n",
    "print(diagnostics.get_config_parameter(\"LO_QCM_settings\", \"\", \"frequency\"))\n",
    "diagnostics.save_config_parameter(\"LO_QCM_settings\", \"\", \"frequency\", float(qubit_freq + 200_000_000))\n",
    "\n",
    "print(diagnostics.get_config_parameter(\"settings\", \"\", \"qubit_spectroscopy_min_ro_voltage\"))\n",
    "diagnostics.save_config_parameter(\"settings\", \"\", \"qubit_spectroscopy_min_ro_voltage\", float(min_ro_voltage))"
   ]
  },
  {
   "cell_type": "markdown",
   "metadata": {},
   "source": [
    "Rabi Oscillations with varying pulse length"
   ]
  },
  {
   "cell_type": "code",
   "execution_count": null,
   "metadata": {},
   "outputs": [],
   "source": [
    "dataset, pi_pulse_duration, pi_pulse_amplitude, pi_pulse_gain, rabi_oscillations_pi_pulse_min_voltage, t1 = ds.run_rabi_pulse_length()\n"
   ]
  },
  {
   "cell_type": "code",
   "execution_count": null,
   "metadata": {},
   "outputs": [],
   "source": [
    "#save pi pulse params founded + pi pulse min vol + T1\n",
    "print(diagnostics.get_config_parameter(\"settings\", \"\", \"pi_pulse_duration\"))\n",
    "diagnostics.save_config_parameter(\"settings\", \"\", \"pi_pulse_duration\", int(pi_pulse_duration))\n",
    "\n",
    "print(diagnostics.get_config_parameter(\"settings\", \"\", \"pi_pulse_amplitude\"))\n",
    "diagnostics.save_config_parameter(\"settings\", \"\", \"pi_pulse_amplitude\", float(pi_pulse_amplitude))\n",
    "\n",
    "print(diagnostics.get_config_parameter(\"settings\", \"\", \"pi_pulse_gain\"))\n",
    "diagnostics.save_config_parameter(\"settings\", \"\", \"pi_pulse_gain\", float(pi_pulse_gain))\n",
    "\n",
    "print(diagnostics.get_config_parameter(\"settings\", \"\", \"rabi_oscillations_pi_pulse_min_voltage\"))\n",
    "diagnostics.save_config_parameter(\"settings\", \"\", \"rabi_oscillations_pi_pulse_min_voltage\", float(rabi_oscillations_pi_pulse_min_voltage))\n",
    "\n",
    "print(diagnostics.get_config_parameter(\"settings\", \"\", \"T1\"))\n",
    "#TODO: Double check T1 obtained from Rabi. It is not correct.\n",
    "#diagnostics.save_config_parameter(\"settings\", \"\", \"T1\", float(t1))"
   ]
  },
  {
   "cell_type": "markdown",
   "metadata": {},
   "source": [
    "T1"
   ]
  },
  {
   "cell_type": "code",
   "execution_count": null,
   "metadata": {},
   "outputs": [],
   "source": [
    "t1, smooth_dataset, dataset = ds.run_t1()"
   ]
  },
  {
   "cell_type": "markdown",
   "metadata": {},
   "source": [
    "Ramsey"
   ]
  },
  {
   "cell_type": "code",
   "execution_count": null,
   "metadata": {},
   "outputs": [],
   "source": [
    "t2, smooth_dataset, dataset = ds.run_ramsey()"
   ]
  },
  {
   "cell_type": "markdown",
   "metadata": {},
   "source": [
    "Spin Echo"
   ]
  },
  {
   "cell_type": "code",
   "execution_count": null,
   "metadata": {},
   "outputs": [],
   "source": [
    "dataset = ds.run_spin_echo()"
   ]
  },
  {
   "cell_type": "code",
   "execution_count": null,
   "metadata": {},
   "outputs": [],
   "source": [
    "#Run Spin Echo 3 Pulses\n",
    "dataset = ds.run_spin_echo_3pulses()\n",
    "#TODO: The result of the plot does not match with the expected result\n",
    "#        it should result in state |0> and it seems to give state |1>"
   ]
  }
 ],
 "metadata": {
  "interpreter": {
   "hash": "7eaae0a1e5de089bd97afdf8c2e7e5174291eeeb163002bffa2af0ecb55f114e"
  },
  "kernelspec": {
   "display_name": "Python 3.9.7 ('Quantum_cluster')",
   "language": "python",
   "name": "python3"
  },
  "language_info": {
   "codemirror_mode": {
    "name": "ipython",
    "version": 3
   },
   "file_extension": ".py",
   "mimetype": "text/x-python",
   "name": "python",
   "nbconvert_exporter": "python",
   "pygments_lexer": "ipython3",
   "version": "3.9.7"
  },
  "orig_nbformat": 4
 },
 "nbformat": 4,
 "nbformat_minor": 2
}
