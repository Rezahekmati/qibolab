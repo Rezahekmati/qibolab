{
 "cells": [
  {
   "cell_type": "markdown",
   "metadata": {},
   "source": [
    "# Rabi Lenght"
   ]
  },
  {
   "cell_type": "code",
   "execution_count": 1,
   "metadata": {},
   "outputs": [
    {
     "name": "stdout",
     "output_type": "stream",
     "text": [
      "2022.12.08 17:35:44.130 laboneq.controller.laboneq_logging INFO   Logging initialized from [Default inline config in laboneq.controller.laboneq_logging] logdir is /home/admin/Juan/qibolab/examples/laboneq_output/log\n",
      "2022.12.08 17:35:44.131 laboneq.controller.controller  INFO   VERSION: laboneq 1.4.0\n",
      "2022.12.08 17:35:44.131 laboneq.controller.devices.device_collection INFO   Connecting to data server at localhost:8004\n",
      "2022.12.08 17:35:44.293 laboneq.controller.communication INFO   Connected to Zurich Instrument's Data Server version 22.08 at localhost:8004\n",
      "2022.12.08 17:35:44.737 laboneq.controller.devices.device_collection INFO   Configuring clock sources\n",
      "2022.12.08 17:35:44.885 laboneq.controller.devices.device_collection INFO   Clock sources configured\n"
     ]
    }
   ],
   "source": [
    "from qibolab.paths import qibolab_folder\n",
    "from qibolab.instruments.zhinst import SHFQC_QA\n",
    "\n",
    "# runcard = \"/home/admin/Juan/qibolab/src/qibolab/runcards/zhinst.yml\"\n",
    "runcard = qibolab_folder / \"runcards\" / \"zhinst.yml\"\n",
    "use_emulation = False\n",
    "Device = SHFQC_QA('EL_ZURO', \"DEV12146\", runcard, use_emulation=use_emulation)"
   ]
  },
  {
   "cell_type": "code",
   "execution_count": 2,
   "metadata": {},
   "outputs": [
    {
     "name": "stdout",
     "output_type": "stream",
     "text": [
      "2022.12.08 17:27:37.189 laboneq.compiler.workflow.compiler INFO   Starting LabOne Q Compiler run...\n",
      "2022.12.08 17:27:37.212 laboneq.compiler.workflow.compiler INFO   Total seqC lines generated: 13\n",
      "2022.12.08 17:27:37.213 laboneq.compiler.workflow.compiler INFO   Total sample points generated: 2000\n",
      "2022.12.08 17:27:37.213 laboneq.compiler.workflow.compiler INFO   Finished LabOne Q Compiler run.\n",
      "2022.12.08 17:27:38.144 laboneq.controller.controller  INFO   Starting near-time execution...\n",
      "2022.12.08 17:27:38.723 laboneq.controller.controller  INFO   Finished near-time execution.\n",
      "0.0001012940706883213 -1.1598935857084243 4.046060863737276e-05 -9.286241384599039e-05\n",
      "2022.12.08 17:27:39.061 laboneq.compiler.workflow.compiler INFO   Starting LabOne Q Compiler run...\n",
      "2022.12.08 17:27:39.083 laboneq.compiler.workflow.compiler INFO   Total seqC lines generated: 12\n",
      "2022.12.08 17:27:39.083 laboneq.compiler.workflow.compiler INFO   Total sample points generated: 2000\n",
      "2022.12.08 17:27:39.083 laboneq.compiler.workflow.compiler INFO   Finished LabOne Q Compiler run.\n",
      "2022.12.08 17:27:39.848 laboneq.controller.controller  INFO   Starting near-time execution...\n",
      "2022.12.08 17:27:40.424 laboneq.controller.controller  INFO   Finished near-time execution.\n",
      "0.011544362888243693 -1.0228432348699992 0.006013933053720557 -0.009854183056997956\n"
     ]
    }
   ],
   "source": [
    "from qibolab.pulses import PulseSequence\n",
    "\n",
    "sequence = PulseSequence()\n",
    "ro_pulse = Device.create_qubit_readout_pulse(0, start=0)\n",
    "sequence.add(ro_pulse)\n",
    "    \n",
    "msr, phase, i, q = Device.execute_pulse_sequence_NoSamples(sequence)\n",
    "print(msr, phase, i , q)\n",
    "\n",
    "msr, phase, i, q = Device.execute_pulse_sequence(sequence)\n",
    "print(msr, phase, i , q)"
   ]
  },
  {
   "cell_type": "code",
   "execution_count": 3,
   "metadata": {},
   "outputs": [
    {
     "name": "stdout",
     "output_type": "stream",
     "text": [
      "2022.12.08 17:27:40.790 laboneq.compiler.workflow.compiler INFO   Starting LabOne Q Compiler run...\n",
      "2022.12.08 17:27:40.816 laboneq.compiler.workflow.compiler INFO   Total seqC lines generated: 28\n",
      "2022.12.08 17:27:40.816 laboneq.compiler.workflow.compiler INFO   Total sample points generated: 6000\n",
      "2022.12.08 17:27:40.817 laboneq.compiler.workflow.compiler INFO   Finished LabOne Q Compiler run.\n",
      "2022.12.08 17:27:41.611 laboneq.controller.controller  INFO   Starting near-time execution...\n",
      "2022.12.08 17:27:42.240 laboneq.controller.controller  INFO   Finished near-time execution.\n",
      "5.613526040777934e-05 -1.4957086456974025 4.21110677845914e-06 -5.597708496116616e-05\n",
      "2022.12.08 17:27:42.596 laboneq.compiler.workflow.compiler INFO   Starting LabOne Q Compiler run...\n",
      "2022.12.08 17:27:42.622 laboneq.compiler.workflow.compiler INFO   Total seqC lines generated: 27\n",
      "2022.12.08 17:27:42.623 laboneq.compiler.workflow.compiler INFO   Total sample points generated: 6000\n",
      "2022.12.08 17:27:42.623 laboneq.compiler.workflow.compiler INFO   Finished LabOne Q Compiler run.\n",
      "2022.12.08 17:27:43.344 laboneq.controller.controller  INFO   Starting near-time execution...\n",
      "2022.12.08 17:27:43.980 laboneq.controller.controller  INFO   Finished near-time execution.\n",
      "0.014641924576191265 -1.0639708790501778 0.007107251958021607 -0.012801286064301188\n"
     ]
    }
   ],
   "source": [
    "sequence_exc = PulseSequence()\n",
    "qd_pulse = Device.create_qubit_drive_pulse(0, start=0, duration=1000) \n",
    "ro_pulse = Device.create_qubit_readout_pulse(0, start=1000)\n",
    "sequence_exc.add(qd_pulse)\n",
    "sequence_exc.add(ro_pulse)\n",
    "    \n",
    "msr, phase, i, q = Device.execute_pulse_sequence_NoSamples(sequence_exc)\n",
    "print(msr, phase, i , q)\n",
    "\n",
    "msr, phase, i, q = Device.execute_pulse_sequence(sequence_exc)\n",
    "print(msr, phase, i , q)"
   ]
  },
  {
   "cell_type": "code",
   "execution_count": 2,
   "metadata": {},
   "outputs": [],
   "source": [
    "from qibocal.data import DataUnits\n",
    "from qibolab.pulses import Pulse, PulseSequence\n",
    "import laboneq.simple as lo\n",
    "import numpy as np\n",
    "\n",
    "def rabi_pulse_length(\n",
    "    platform,\n",
    "    qubit: int,\n",
    "    pulse_duration_start,\n",
    "    pulse_duration_end,\n",
    "    pulse_duration_step,\n",
    "    software_averages,\n",
    "):\n",
    "    platform.reload_settings()\n",
    "    platform.apply_settings()\n",
    "\n",
    "    data = DataUnits(name=f\"data_q{qubit}\", quantities={\"Time\": \"ns\"})\n",
    "\n",
    "    sequence = PulseSequence()\n",
    "    qd_pulse = platform.create_qubit_drive_pulse(qubit, start=0, duration=4)\n",
    "    ro_pulse = platform.create_qubit_readout_pulse(qubit, start=4)\n",
    "    sequence.add(qd_pulse)\n",
    "    sequence.add(ro_pulse)\n",
    "\n",
    "    qd_pulse_duration_range = np.arange(\n",
    "        pulse_duration_start, pulse_duration_end, pulse_duration_step\n",
    "    )\n",
    "\n",
    "    # platform.instruments[\"shfqc_qa\"][\"settings\"][\"lo_frequency\"] = (\n",
    "    #     platform.characterization[\"single_qubit\"][qubit][\"resonator_freq\"]\n",
    "    #     - ro_pulse.frequency\n",
    "    # )\n",
    "    # platform.instruments[\"shfqc_qc\"][\"settings\"][\"lo_frequency\"] = (\n",
    "    #     platform.characterization[\"single_qubit\"][qubit][\"qubit_freq\"]\n",
    "    #     - qd_pulse.frequency\n",
    "    # )\n",
    "\n",
    "    for _ in range(software_averages):\n",
    "        for duration in qd_pulse_duration_range:\n",
    "            qd_pulse.duration = duration\n",
    "            ro_pulse.start = duration\n",
    "    \n",
    "            # msr, phase, i, q = platform.execute_pulse_sequence(sequence)\n",
    "            msr, phase, i, q = platform.execute_pulse_sequence_NoSamples(sequence)\n",
    "\n",
    "            \n",
    "            results = {\n",
    "                \"MSR[V]\": msr,\n",
    "                \"i[V]\": i,\n",
    "                \"q[V]\": q,\n",
    "                \"phase[rad]\": phase,\n",
    "                \"Time[ns]\": duration,\n",
    "            }\n",
    "            \n",
    "            \n",
    "            data.add(results)\n",
    "            \n",
    "        # Plot simulated output signals\n",
    "    if use_emulation == True:\n",
    "        Device.plot_output_signals()\n",
    "    else:\n",
    "        lo.show_pulse_sheet(\"Pulse_sheet\",Device.exp)\n",
    "            \n",
    "    return data\n",
    "            "
   ]
  },
  {
   "cell_type": "code",
   "execution_count": 5,
   "metadata": {},
   "outputs": [],
   "source": [
    "import plotly.graph_objects as go\n",
    "from plotly.subplots import make_subplots\n",
    "\n",
    "# For Rabi oscillations\n",
    "def time_msr_phase(data):\n",
    "\n",
    "    # try:\n",
    "    #     data_fit = Data.load_data(folder, routine, format, f\"fit_q{qubit}\")\n",
    "    # except:\n",
    "    #     data_fit = Data(\n",
    "    #         quantities=[\n",
    "    #             \"popt0\",\n",
    "    #             \"popt1\",\n",
    "    #             \"popt2\",\n",
    "    #             \"popt3\",\n",
    "    #             \"popt4\",\n",
    "    #             \"label1\",\n",
    "    #             \"label2\",\n",
    "    #         ]\n",
    "    #     )\n",
    "\n",
    "    fig = make_subplots(\n",
    "        rows=1,\n",
    "        cols=2,\n",
    "        horizontal_spacing=0.1,\n",
    "        vertical_spacing=0.1,\n",
    "        subplot_titles=(\n",
    "            \"MSR (V)\",\n",
    "            \"phase (rad)\",\n",
    "        ),\n",
    "    )\n",
    "\n",
    "    fig.add_trace(\n",
    "        go.Scatter(\n",
    "            x=data.get_values(\"Time\", \"ns\"),\n",
    "            y=data.get_values(\"MSR\", \"uV\"),\n",
    "            name=\"Rabi Oscillations\",\n",
    "        ),\n",
    "        row=1,\n",
    "        col=1,\n",
    "    )\n",
    "    fig.add_trace(\n",
    "        go.Scatter(\n",
    "            x=data.get_values(\"Time\", \"ns\"),\n",
    "            y=data.get_values(\"phase\", \"rad\"),\n",
    "            name=\"Rabi Oscillations\",\n",
    "        ),\n",
    "        row=1,\n",
    "        col=2,\n",
    "    )\n",
    "\n",
    "    # # add fitting trace\n",
    "    # if len(data) > 0 and len(data_fit) > 0:\n",
    "    #     timerange = np.linspace(\n",
    "    #         min(data.get_values(\"Time\", \"ns\")),\n",
    "    #         max(data.get_values(\"Time\", \"ns\")),\n",
    "    #         2 * len(data),\n",
    "    #     )\n",
    "    #     params = [i for i in list(data_fit.df.keys()) if \"popt\" not in i]\n",
    "    #     fig.add_trace(\n",
    "    #         go.Scatter(\n",
    "    #             x=timerange,\n",
    "    #             y=rabi(\n",
    "    #                 timerange,\n",
    "    #                 data_fit.get_values(\"popt0\"),\n",
    "    #                 data_fit.get_values(\"popt1\"),\n",
    "    #                 data_fit.get_values(\"popt2\"),\n",
    "    #                 data_fit.get_values(\"popt3\"),\n",
    "    #                 data_fit.get_values(\"popt4\"),\n",
    "    #             ),\n",
    "    #             name=\"Fit\",\n",
    "    #             line=go.scatter.Line(dash=\"dot\"),\n",
    "    #         ),\n",
    "    #         row=1,\n",
    "    #         col=1,\n",
    "    #     )\n",
    "\n",
    "    #     fig.add_annotation(\n",
    "    #         dict(\n",
    "    #             font=dict(color=\"black\", size=12),\n",
    "    #             x=0,\n",
    "    #             y=-0.20,\n",
    "    #             showarrow=False,\n",
    "    #             text=f\"Estimated {params[1]} is {data_fit.df[params[1]][0]:.3f} ns.\",\n",
    "    #             textangle=0,\n",
    "    #             xanchor=\"left\",\n",
    "    #             xref=\"paper\",\n",
    "    #             yref=\"paper\",\n",
    "    #         )\n",
    "    #     )\n",
    "\n",
    "    #     fig.add_annotation(\n",
    "    #         dict(\n",
    "    #             font=dict(color=\"black\", size=12),\n",
    "    #             x=0,\n",
    "    #             y=-0.30,\n",
    "    #             showarrow=False,\n",
    "    #             text=f\"Estimated {params[0]} is {data_fit.df[params[0]][0]:.1f} uV.\",\n",
    "    #             textangle=0,\n",
    "    #             xanchor=\"left\",\n",
    "    #             xref=\"paper\",\n",
    "    #             yref=\"paper\",\n",
    "    #         )\n",
    "    #     )\n",
    "\n",
    "    # last part\n",
    "    fig.update_layout(\n",
    "        showlegend=True,\n",
    "        uirevision=\"0\",  # ``uirevision`` allows zooming while live plotting\n",
    "        xaxis_title=\"Time (ns)\",\n",
    "        yaxis_title=\"MSR (uV)\",\n",
    "        xaxis2_title=\"Time (ns)\",\n",
    "        yaxis2_title=\"Phase (rad)\",\n",
    "    )\n",
    "    return fig"
   ]
  },
  {
   "cell_type": "code",
   "execution_count": 6,
   "metadata": {},
   "outputs": [],
   "source": [
    "def rabi_pulse_length_sequences(\n",
    "    platform,\n",
    "    qubit: int,\n",
    "    pulse_duration_start,\n",
    "    pulse_duration_end,\n",
    "    pulse_duration_step,\n",
    "):\n",
    "\n",
    "    sequences = []\n",
    "\n",
    "    # sequence = PulseSequence()\n",
    "    # qd_pulse = platform.create_qubit_drive_pulse(qubit, start=0, duration=4)\n",
    "    # ro_pulse = platform.create_qubit_readout_pulse(qubit, start=4)\n",
    "    # sequence.add(qd_pulse)\n",
    "    # sequence.add(ro_pulse)\n",
    "\n",
    "    qd_pulse_duration_range = np.arange(\n",
    "        pulse_duration_start, pulse_duration_end, pulse_duration_step\n",
    "    )\n",
    "\n",
    "    durations = []\n",
    "    for duration in qd_pulse_duration_range:\n",
    "        \n",
    "        sequence = PulseSequence()\n",
    "        qd_pulse = platform.create_qubit_drive_pulse(qubit, start=0, duration=duration)\n",
    "        ro_pulse = platform.create_qubit_readout_pulse(qubit, start=duration)\n",
    "        sequence.add(qd_pulse)\n",
    "        sequence.add(ro_pulse)\n",
    "        \n",
    "        # qd_pulse.duration = duration\n",
    "        # ro_pulse.start = duration\n",
    "\n",
    "        sequences.append(sequence)\n",
    "        durations.append(duration)\n",
    "        \n",
    "    return sequences, durations\n",
    "            "
   ]
  },
  {
   "cell_type": "code",
   "execution_count": 10,
   "metadata": {},
   "outputs": [],
   "source": [
    "Device.reload_settings()\n",
    "Device.apply_settings()"
   ]
  },
  {
   "cell_type": "code",
   "execution_count": 11,
   "metadata": {},
   "outputs": [
    {
     "name": "stdout",
     "output_type": "stream",
     "text": [
      "2022.12.08 17:28:58.063 laboneq.compiler.workflow.compiler INFO   Starting LabOne Q Compiler run...\n",
      "2022.12.08 17:28:58.146 laboneq.compiler.workflow.compiler INFO   Total seqC lines generated: 248\n",
      "2022.12.08 17:28:58.146 laboneq.compiler.workflow.compiler INFO   Total sample points generated: 30048\n",
      "2022.12.08 17:28:58.147 laboneq.compiler.workflow.compiler INFO   Finished LabOne Q Compiler run.\n",
      "2022.12.08 17:28:58.908 laboneq.controller.controller  INFO   Starting near-time execution...\n",
      "2022.12.08 17:28:59.221 laboneq.controller.controller  INFO   Estimated RT execution time: 7.01 s.\n",
      "2022.12.08 17:29:06.456 laboneq.controller.controller  INFO   Finished near-time execution.\n"
     ]
    },
    {
     "name": "stderr",
     "output_type": "stream",
     "text": [
      "/opt/anaconda3/envs/JQibo/lib/python3.9/site-packages/pandas/core/construction.py:617: UnitStrippedWarning:\n",
      "\n",
      "The unit of the quantity is stripped when downcasting to ndarray.\n",
      "\n",
      "/opt/anaconda3/envs/JQibo/lib/python3.9/site-packages/pint_pandas/pint_array.py:227: RuntimeWarning:\n",
      "\n",
      "pint-pandas does not support magnitudes of int64. Converting magnitudes to float.\n",
      "\n"
     ]
    },
    {
     "data": {
      "application/vnd.plotly.v1+json": {
       "config": {
        "plotlyServerURL": "https://plot.ly"
       },
       "data": [
        {
         "name": "Rabi Oscillations",
         "type": "scatter",
         "x": [
          40,
          43,
          46,
          49,
          52,
          55,
          58,
          61,
          64,
          67,
          70,
          73,
          76,
          79
         ],
         "xaxis": "x",
         "y": [
          57.126519379353624,
          61.309571469552104,
          58.76280736859388,
          60.275915128776234,
          62.19291488284528,
          57.58188199491997,
          59.179245007341514,
          62.56340951171872,
          56.71123911383727,
          62.0745537194469,
          56.842519994650694,
          58.960366770619764,
          59.58109144394254,
          62.609824357237606
         ],
         "yaxis": "y"
        },
        {
         "name": "Rabi Oscillations",
         "type": "scatter",
         "x": [
          40,
          43,
          46,
          49,
          52,
          55,
          58,
          61,
          64,
          67,
          70,
          73,
          76,
          79
         ],
         "xaxis": "x2",
         "y": [
          -1.4504160496212823,
          -1.6300078013342427,
          -1.5043022723222637,
          -1.6424270205962723,
          -1.4654183310554574,
          -1.579402017124881,
          -1.5700242360180028,
          -1.5078720422195733,
          -1.5532740273024455,
          -1.6009715384161014,
          -1.55080199600424,
          -1.5316520200627146,
          -1.6074135790340582,
          -1.6234591131219167
         ],
         "yaxis": "y2"
        }
       ],
       "layout": {
        "annotations": [
         {
          "font": {
           "size": 16
          },
          "showarrow": false,
          "text": "MSR (V)",
          "x": 0.225,
          "xanchor": "center",
          "xref": "paper",
          "y": 1,
          "yanchor": "bottom",
          "yref": "paper"
         },
         {
          "font": {
           "size": 16
          },
          "showarrow": false,
          "text": "phase (rad)",
          "x": 0.775,
          "xanchor": "center",
          "xref": "paper",
          "y": 1,
          "yanchor": "bottom",
          "yref": "paper"
         }
        ],
        "showlegend": true,
        "template": {
         "data": {
          "bar": [
           {
            "error_x": {
             "color": "#2a3f5f"
            },
            "error_y": {
             "color": "#2a3f5f"
            },
            "marker": {
             "line": {
              "color": "#E5ECF6",
              "width": 0.5
             },
             "pattern": {
              "fillmode": "overlay",
              "size": 10,
              "solidity": 0.2
             }
            },
            "type": "bar"
           }
          ],
          "barpolar": [
           {
            "marker": {
             "line": {
              "color": "#E5ECF6",
              "width": 0.5
             },
             "pattern": {
              "fillmode": "overlay",
              "size": 10,
              "solidity": 0.2
             }
            },
            "type": "barpolar"
           }
          ],
          "carpet": [
           {
            "aaxis": {
             "endlinecolor": "#2a3f5f",
             "gridcolor": "white",
             "linecolor": "white",
             "minorgridcolor": "white",
             "startlinecolor": "#2a3f5f"
            },
            "baxis": {
             "endlinecolor": "#2a3f5f",
             "gridcolor": "white",
             "linecolor": "white",
             "minorgridcolor": "white",
             "startlinecolor": "#2a3f5f"
            },
            "type": "carpet"
           }
          ],
          "choropleth": [
           {
            "colorbar": {
             "outlinewidth": 0,
             "ticks": ""
            },
            "type": "choropleth"
           }
          ],
          "contour": [
           {
            "colorbar": {
             "outlinewidth": 0,
             "ticks": ""
            },
            "colorscale": [
             [
              0,
              "#0d0887"
             ],
             [
              0.1111111111111111,
              "#46039f"
             ],
             [
              0.2222222222222222,
              "#7201a8"
             ],
             [
              0.3333333333333333,
              "#9c179e"
             ],
             [
              0.4444444444444444,
              "#bd3786"
             ],
             [
              0.5555555555555556,
              "#d8576b"
             ],
             [
              0.6666666666666666,
              "#ed7953"
             ],
             [
              0.7777777777777778,
              "#fb9f3a"
             ],
             [
              0.8888888888888888,
              "#fdca26"
             ],
             [
              1,
              "#f0f921"
             ]
            ],
            "type": "contour"
           }
          ],
          "contourcarpet": [
           {
            "colorbar": {
             "outlinewidth": 0,
             "ticks": ""
            },
            "type": "contourcarpet"
           }
          ],
          "heatmap": [
           {
            "colorbar": {
             "outlinewidth": 0,
             "ticks": ""
            },
            "colorscale": [
             [
              0,
              "#0d0887"
             ],
             [
              0.1111111111111111,
              "#46039f"
             ],
             [
              0.2222222222222222,
              "#7201a8"
             ],
             [
              0.3333333333333333,
              "#9c179e"
             ],
             [
              0.4444444444444444,
              "#bd3786"
             ],
             [
              0.5555555555555556,
              "#d8576b"
             ],
             [
              0.6666666666666666,
              "#ed7953"
             ],
             [
              0.7777777777777778,
              "#fb9f3a"
             ],
             [
              0.8888888888888888,
              "#fdca26"
             ],
             [
              1,
              "#f0f921"
             ]
            ],
            "type": "heatmap"
           }
          ],
          "heatmapgl": [
           {
            "colorbar": {
             "outlinewidth": 0,
             "ticks": ""
            },
            "colorscale": [
             [
              0,
              "#0d0887"
             ],
             [
              0.1111111111111111,
              "#46039f"
             ],
             [
              0.2222222222222222,
              "#7201a8"
             ],
             [
              0.3333333333333333,
              "#9c179e"
             ],
             [
              0.4444444444444444,
              "#bd3786"
             ],
             [
              0.5555555555555556,
              "#d8576b"
             ],
             [
              0.6666666666666666,
              "#ed7953"
             ],
             [
              0.7777777777777778,
              "#fb9f3a"
             ],
             [
              0.8888888888888888,
              "#fdca26"
             ],
             [
              1,
              "#f0f921"
             ]
            ],
            "type": "heatmapgl"
           }
          ],
          "histogram": [
           {
            "marker": {
             "pattern": {
              "fillmode": "overlay",
              "size": 10,
              "solidity": 0.2
             }
            },
            "type": "histogram"
           }
          ],
          "histogram2d": [
           {
            "colorbar": {
             "outlinewidth": 0,
             "ticks": ""
            },
            "colorscale": [
             [
              0,
              "#0d0887"
             ],
             [
              0.1111111111111111,
              "#46039f"
             ],
             [
              0.2222222222222222,
              "#7201a8"
             ],
             [
              0.3333333333333333,
              "#9c179e"
             ],
             [
              0.4444444444444444,
              "#bd3786"
             ],
             [
              0.5555555555555556,
              "#d8576b"
             ],
             [
              0.6666666666666666,
              "#ed7953"
             ],
             [
              0.7777777777777778,
              "#fb9f3a"
             ],
             [
              0.8888888888888888,
              "#fdca26"
             ],
             [
              1,
              "#f0f921"
             ]
            ],
            "type": "histogram2d"
           }
          ],
          "histogram2dcontour": [
           {
            "colorbar": {
             "outlinewidth": 0,
             "ticks": ""
            },
            "colorscale": [
             [
              0,
              "#0d0887"
             ],
             [
              0.1111111111111111,
              "#46039f"
             ],
             [
              0.2222222222222222,
              "#7201a8"
             ],
             [
              0.3333333333333333,
              "#9c179e"
             ],
             [
              0.4444444444444444,
              "#bd3786"
             ],
             [
              0.5555555555555556,
              "#d8576b"
             ],
             [
              0.6666666666666666,
              "#ed7953"
             ],
             [
              0.7777777777777778,
              "#fb9f3a"
             ],
             [
              0.8888888888888888,
              "#fdca26"
             ],
             [
              1,
              "#f0f921"
             ]
            ],
            "type": "histogram2dcontour"
           }
          ],
          "mesh3d": [
           {
            "colorbar": {
             "outlinewidth": 0,
             "ticks": ""
            },
            "type": "mesh3d"
           }
          ],
          "parcoords": [
           {
            "line": {
             "colorbar": {
              "outlinewidth": 0,
              "ticks": ""
             }
            },
            "type": "parcoords"
           }
          ],
          "pie": [
           {
            "automargin": true,
            "type": "pie"
           }
          ],
          "scatter": [
           {
            "fillpattern": {
             "fillmode": "overlay",
             "size": 10,
             "solidity": 0.2
            },
            "type": "scatter"
           }
          ],
          "scatter3d": [
           {
            "line": {
             "colorbar": {
              "outlinewidth": 0,
              "ticks": ""
             }
            },
            "marker": {
             "colorbar": {
              "outlinewidth": 0,
              "ticks": ""
             }
            },
            "type": "scatter3d"
           }
          ],
          "scattercarpet": [
           {
            "marker": {
             "colorbar": {
              "outlinewidth": 0,
              "ticks": ""
             }
            },
            "type": "scattercarpet"
           }
          ],
          "scattergeo": [
           {
            "marker": {
             "colorbar": {
              "outlinewidth": 0,
              "ticks": ""
             }
            },
            "type": "scattergeo"
           }
          ],
          "scattergl": [
           {
            "marker": {
             "colorbar": {
              "outlinewidth": 0,
              "ticks": ""
             }
            },
            "type": "scattergl"
           }
          ],
          "scattermapbox": [
           {
            "marker": {
             "colorbar": {
              "outlinewidth": 0,
              "ticks": ""
             }
            },
            "type": "scattermapbox"
           }
          ],
          "scatterpolar": [
           {
            "marker": {
             "colorbar": {
              "outlinewidth": 0,
              "ticks": ""
             }
            },
            "type": "scatterpolar"
           }
          ],
          "scatterpolargl": [
           {
            "marker": {
             "colorbar": {
              "outlinewidth": 0,
              "ticks": ""
             }
            },
            "type": "scatterpolargl"
           }
          ],
          "scatterternary": [
           {
            "marker": {
             "colorbar": {
              "outlinewidth": 0,
              "ticks": ""
             }
            },
            "type": "scatterternary"
           }
          ],
          "surface": [
           {
            "colorbar": {
             "outlinewidth": 0,
             "ticks": ""
            },
            "colorscale": [
             [
              0,
              "#0d0887"
             ],
             [
              0.1111111111111111,
              "#46039f"
             ],
             [
              0.2222222222222222,
              "#7201a8"
             ],
             [
              0.3333333333333333,
              "#9c179e"
             ],
             [
              0.4444444444444444,
              "#bd3786"
             ],
             [
              0.5555555555555556,
              "#d8576b"
             ],
             [
              0.6666666666666666,
              "#ed7953"
             ],
             [
              0.7777777777777778,
              "#fb9f3a"
             ],
             [
              0.8888888888888888,
              "#fdca26"
             ],
             [
              1,
              "#f0f921"
             ]
            ],
            "type": "surface"
           }
          ],
          "table": [
           {
            "cells": {
             "fill": {
              "color": "#EBF0F8"
             },
             "line": {
              "color": "white"
             }
            },
            "header": {
             "fill": {
              "color": "#C8D4E3"
             },
             "line": {
              "color": "white"
             }
            },
            "type": "table"
           }
          ]
         },
         "layout": {
          "annotationdefaults": {
           "arrowcolor": "#2a3f5f",
           "arrowhead": 0,
           "arrowwidth": 1
          },
          "autotypenumbers": "strict",
          "coloraxis": {
           "colorbar": {
            "outlinewidth": 0,
            "ticks": ""
           }
          },
          "colorscale": {
           "diverging": [
            [
             0,
             "#8e0152"
            ],
            [
             0.1,
             "#c51b7d"
            ],
            [
             0.2,
             "#de77ae"
            ],
            [
             0.3,
             "#f1b6da"
            ],
            [
             0.4,
             "#fde0ef"
            ],
            [
             0.5,
             "#f7f7f7"
            ],
            [
             0.6,
             "#e6f5d0"
            ],
            [
             0.7,
             "#b8e186"
            ],
            [
             0.8,
             "#7fbc41"
            ],
            [
             0.9,
             "#4d9221"
            ],
            [
             1,
             "#276419"
            ]
           ],
           "sequential": [
            [
             0,
             "#0d0887"
            ],
            [
             0.1111111111111111,
             "#46039f"
            ],
            [
             0.2222222222222222,
             "#7201a8"
            ],
            [
             0.3333333333333333,
             "#9c179e"
            ],
            [
             0.4444444444444444,
             "#bd3786"
            ],
            [
             0.5555555555555556,
             "#d8576b"
            ],
            [
             0.6666666666666666,
             "#ed7953"
            ],
            [
             0.7777777777777778,
             "#fb9f3a"
            ],
            [
             0.8888888888888888,
             "#fdca26"
            ],
            [
             1,
             "#f0f921"
            ]
           ],
           "sequentialminus": [
            [
             0,
             "#0d0887"
            ],
            [
             0.1111111111111111,
             "#46039f"
            ],
            [
             0.2222222222222222,
             "#7201a8"
            ],
            [
             0.3333333333333333,
             "#9c179e"
            ],
            [
             0.4444444444444444,
             "#bd3786"
            ],
            [
             0.5555555555555556,
             "#d8576b"
            ],
            [
             0.6666666666666666,
             "#ed7953"
            ],
            [
             0.7777777777777778,
             "#fb9f3a"
            ],
            [
             0.8888888888888888,
             "#fdca26"
            ],
            [
             1,
             "#f0f921"
            ]
           ]
          },
          "colorway": [
           "#636efa",
           "#EF553B",
           "#00cc96",
           "#ab63fa",
           "#FFA15A",
           "#19d3f3",
           "#FF6692",
           "#B6E880",
           "#FF97FF",
           "#FECB52"
          ],
          "font": {
           "color": "#2a3f5f"
          },
          "geo": {
           "bgcolor": "white",
           "lakecolor": "white",
           "landcolor": "#E5ECF6",
           "showlakes": true,
           "showland": true,
           "subunitcolor": "white"
          },
          "hoverlabel": {
           "align": "left"
          },
          "hovermode": "closest",
          "mapbox": {
           "style": "light"
          },
          "paper_bgcolor": "white",
          "plot_bgcolor": "#E5ECF6",
          "polar": {
           "angularaxis": {
            "gridcolor": "white",
            "linecolor": "white",
            "ticks": ""
           },
           "bgcolor": "#E5ECF6",
           "radialaxis": {
            "gridcolor": "white",
            "linecolor": "white",
            "ticks": ""
           }
          },
          "scene": {
           "xaxis": {
            "backgroundcolor": "#E5ECF6",
            "gridcolor": "white",
            "gridwidth": 2,
            "linecolor": "white",
            "showbackground": true,
            "ticks": "",
            "zerolinecolor": "white"
           },
           "yaxis": {
            "backgroundcolor": "#E5ECF6",
            "gridcolor": "white",
            "gridwidth": 2,
            "linecolor": "white",
            "showbackground": true,
            "ticks": "",
            "zerolinecolor": "white"
           },
           "zaxis": {
            "backgroundcolor": "#E5ECF6",
            "gridcolor": "white",
            "gridwidth": 2,
            "linecolor": "white",
            "showbackground": true,
            "ticks": "",
            "zerolinecolor": "white"
           }
          },
          "shapedefaults": {
           "line": {
            "color": "#2a3f5f"
           }
          },
          "ternary": {
           "aaxis": {
            "gridcolor": "white",
            "linecolor": "white",
            "ticks": ""
           },
           "baxis": {
            "gridcolor": "white",
            "linecolor": "white",
            "ticks": ""
           },
           "bgcolor": "#E5ECF6",
           "caxis": {
            "gridcolor": "white",
            "linecolor": "white",
            "ticks": ""
           }
          },
          "title": {
           "x": 0.05
          },
          "xaxis": {
           "automargin": true,
           "gridcolor": "white",
           "linecolor": "white",
           "ticks": "",
           "title": {
            "standoff": 15
           },
           "zerolinecolor": "white",
           "zerolinewidth": 2
          },
          "yaxis": {
           "automargin": true,
           "gridcolor": "white",
           "linecolor": "white",
           "ticks": "",
           "title": {
            "standoff": 15
           },
           "zerolinecolor": "white",
           "zerolinewidth": 2
          }
         }
        },
        "uirevision": "0",
        "xaxis": {
         "anchor": "y",
         "domain": [
          0,
          0.45
         ],
         "title": {
          "text": "Time (ns)"
         }
        },
        "xaxis2": {
         "anchor": "y2",
         "domain": [
          0.55,
          1
         ],
         "title": {
          "text": "Time (ns)"
         }
        },
        "yaxis": {
         "anchor": "x",
         "domain": [
          0,
          1
         ],
         "title": {
          "text": "MSR (uV)"
         }
        },
        "yaxis2": {
         "anchor": "x2",
         "domain": [
          0,
          1
         ],
         "title": {
          "text": "Phase (rad)"
         }
        }
       }
      },
      "text/html": [
       "<div>                            <div id=\"8f0f31b2-1b46-4677-b521-fe3afff49d72\" class=\"plotly-graph-div\" style=\"height:525px; width:100%;\"></div>            <script type=\"text/javascript\">                require([\"plotly\"], function(Plotly) {                    window.PLOTLYENV=window.PLOTLYENV || {};                                    if (document.getElementById(\"8f0f31b2-1b46-4677-b521-fe3afff49d72\")) {                    Plotly.newPlot(                        \"8f0f31b2-1b46-4677-b521-fe3afff49d72\",                        [{\"name\":\"Rabi Oscillations\",\"x\":[40.0,43.0,46.0,49.0,52.0,55.0,58.0,61.0,64.0,67.0,70.0,73.0,76.0,79.0],\"y\":[57.126519379353624,61.309571469552104,58.76280736859388,60.275915128776234,62.19291488284528,57.58188199491997,59.179245007341514,62.56340951171872,56.71123911383727,62.0745537194469,56.842519994650694,58.960366770619764,59.58109144394254,62.609824357237606],\"type\":\"scatter\",\"xaxis\":\"x\",\"yaxis\":\"y\"},{\"name\":\"Rabi Oscillations\",\"x\":[40.0,43.0,46.0,49.0,52.0,55.0,58.0,61.0,64.0,67.0,70.0,73.0,76.0,79.0],\"y\":[-1.4504160496212823,-1.6300078013342427,-1.5043022723222637,-1.6424270205962723,-1.4654183310554574,-1.579402017124881,-1.5700242360180028,-1.5078720422195733,-1.5532740273024455,-1.6009715384161014,-1.55080199600424,-1.5316520200627146,-1.6074135790340582,-1.6234591131219167],\"type\":\"scatter\",\"xaxis\":\"x2\",\"yaxis\":\"y2\"}],                        {\"template\":{\"data\":{\"histogram2dcontour\":[{\"type\":\"histogram2dcontour\",\"colorbar\":{\"outlinewidth\":0,\"ticks\":\"\"},\"colorscale\":[[0.0,\"#0d0887\"],[0.1111111111111111,\"#46039f\"],[0.2222222222222222,\"#7201a8\"],[0.3333333333333333,\"#9c179e\"],[0.4444444444444444,\"#bd3786\"],[0.5555555555555556,\"#d8576b\"],[0.6666666666666666,\"#ed7953\"],[0.7777777777777778,\"#fb9f3a\"],[0.8888888888888888,\"#fdca26\"],[1.0,\"#f0f921\"]]}],\"choropleth\":[{\"type\":\"choropleth\",\"colorbar\":{\"outlinewidth\":0,\"ticks\":\"\"}}],\"histogram2d\":[{\"type\":\"histogram2d\",\"colorbar\":{\"outlinewidth\":0,\"ticks\":\"\"},\"colorscale\":[[0.0,\"#0d0887\"],[0.1111111111111111,\"#46039f\"],[0.2222222222222222,\"#7201a8\"],[0.3333333333333333,\"#9c179e\"],[0.4444444444444444,\"#bd3786\"],[0.5555555555555556,\"#d8576b\"],[0.6666666666666666,\"#ed7953\"],[0.7777777777777778,\"#fb9f3a\"],[0.8888888888888888,\"#fdca26\"],[1.0,\"#f0f921\"]]}],\"heatmap\":[{\"type\":\"heatmap\",\"colorbar\":{\"outlinewidth\":0,\"ticks\":\"\"},\"colorscale\":[[0.0,\"#0d0887\"],[0.1111111111111111,\"#46039f\"],[0.2222222222222222,\"#7201a8\"],[0.3333333333333333,\"#9c179e\"],[0.4444444444444444,\"#bd3786\"],[0.5555555555555556,\"#d8576b\"],[0.6666666666666666,\"#ed7953\"],[0.7777777777777778,\"#fb9f3a\"],[0.8888888888888888,\"#fdca26\"],[1.0,\"#f0f921\"]]}],\"heatmapgl\":[{\"type\":\"heatmapgl\",\"colorbar\":{\"outlinewidth\":0,\"ticks\":\"\"},\"colorscale\":[[0.0,\"#0d0887\"],[0.1111111111111111,\"#46039f\"],[0.2222222222222222,\"#7201a8\"],[0.3333333333333333,\"#9c179e\"],[0.4444444444444444,\"#bd3786\"],[0.5555555555555556,\"#d8576b\"],[0.6666666666666666,\"#ed7953\"],[0.7777777777777778,\"#fb9f3a\"],[0.8888888888888888,\"#fdca26\"],[1.0,\"#f0f921\"]]}],\"contourcarpet\":[{\"type\":\"contourcarpet\",\"colorbar\":{\"outlinewidth\":0,\"ticks\":\"\"}}],\"contour\":[{\"type\":\"contour\",\"colorbar\":{\"outlinewidth\":0,\"ticks\":\"\"},\"colorscale\":[[0.0,\"#0d0887\"],[0.1111111111111111,\"#46039f\"],[0.2222222222222222,\"#7201a8\"],[0.3333333333333333,\"#9c179e\"],[0.4444444444444444,\"#bd3786\"],[0.5555555555555556,\"#d8576b\"],[0.6666666666666666,\"#ed7953\"],[0.7777777777777778,\"#fb9f3a\"],[0.8888888888888888,\"#fdca26\"],[1.0,\"#f0f921\"]]}],\"surface\":[{\"type\":\"surface\",\"colorbar\":{\"outlinewidth\":0,\"ticks\":\"\"},\"colorscale\":[[0.0,\"#0d0887\"],[0.1111111111111111,\"#46039f\"],[0.2222222222222222,\"#7201a8\"],[0.3333333333333333,\"#9c179e\"],[0.4444444444444444,\"#bd3786\"],[0.5555555555555556,\"#d8576b\"],[0.6666666666666666,\"#ed7953\"],[0.7777777777777778,\"#fb9f3a\"],[0.8888888888888888,\"#fdca26\"],[1.0,\"#f0f921\"]]}],\"mesh3d\":[{\"type\":\"mesh3d\",\"colorbar\":{\"outlinewidth\":0,\"ticks\":\"\"}}],\"scatter\":[{\"fillpattern\":{\"fillmode\":\"overlay\",\"size\":10,\"solidity\":0.2},\"type\":\"scatter\"}],\"parcoords\":[{\"type\":\"parcoords\",\"line\":{\"colorbar\":{\"outlinewidth\":0,\"ticks\":\"\"}}}],\"scatterpolargl\":[{\"type\":\"scatterpolargl\",\"marker\":{\"colorbar\":{\"outlinewidth\":0,\"ticks\":\"\"}}}],\"bar\":[{\"error_x\":{\"color\":\"#2a3f5f\"},\"error_y\":{\"color\":\"#2a3f5f\"},\"marker\":{\"line\":{\"color\":\"#E5ECF6\",\"width\":0.5},\"pattern\":{\"fillmode\":\"overlay\",\"size\":10,\"solidity\":0.2}},\"type\":\"bar\"}],\"scattergeo\":[{\"type\":\"scattergeo\",\"marker\":{\"colorbar\":{\"outlinewidth\":0,\"ticks\":\"\"}}}],\"scatterpolar\":[{\"type\":\"scatterpolar\",\"marker\":{\"colorbar\":{\"outlinewidth\":0,\"ticks\":\"\"}}}],\"histogram\":[{\"marker\":{\"pattern\":{\"fillmode\":\"overlay\",\"size\":10,\"solidity\":0.2}},\"type\":\"histogram\"}],\"scattergl\":[{\"type\":\"scattergl\",\"marker\":{\"colorbar\":{\"outlinewidth\":0,\"ticks\":\"\"}}}],\"scatter3d\":[{\"type\":\"scatter3d\",\"line\":{\"colorbar\":{\"outlinewidth\":0,\"ticks\":\"\"}},\"marker\":{\"colorbar\":{\"outlinewidth\":0,\"ticks\":\"\"}}}],\"scattermapbox\":[{\"type\":\"scattermapbox\",\"marker\":{\"colorbar\":{\"outlinewidth\":0,\"ticks\":\"\"}}}],\"scatterternary\":[{\"type\":\"scatterternary\",\"marker\":{\"colorbar\":{\"outlinewidth\":0,\"ticks\":\"\"}}}],\"scattercarpet\":[{\"type\":\"scattercarpet\",\"marker\":{\"colorbar\":{\"outlinewidth\":0,\"ticks\":\"\"}}}],\"carpet\":[{\"aaxis\":{\"endlinecolor\":\"#2a3f5f\",\"gridcolor\":\"white\",\"linecolor\":\"white\",\"minorgridcolor\":\"white\",\"startlinecolor\":\"#2a3f5f\"},\"baxis\":{\"endlinecolor\":\"#2a3f5f\",\"gridcolor\":\"white\",\"linecolor\":\"white\",\"minorgridcolor\":\"white\",\"startlinecolor\":\"#2a3f5f\"},\"type\":\"carpet\"}],\"table\":[{\"cells\":{\"fill\":{\"color\":\"#EBF0F8\"},\"line\":{\"color\":\"white\"}},\"header\":{\"fill\":{\"color\":\"#C8D4E3\"},\"line\":{\"color\":\"white\"}},\"type\":\"table\"}],\"barpolar\":[{\"marker\":{\"line\":{\"color\":\"#E5ECF6\",\"width\":0.5},\"pattern\":{\"fillmode\":\"overlay\",\"size\":10,\"solidity\":0.2}},\"type\":\"barpolar\"}],\"pie\":[{\"automargin\":true,\"type\":\"pie\"}]},\"layout\":{\"autotypenumbers\":\"strict\",\"colorway\":[\"#636efa\",\"#EF553B\",\"#00cc96\",\"#ab63fa\",\"#FFA15A\",\"#19d3f3\",\"#FF6692\",\"#B6E880\",\"#FF97FF\",\"#FECB52\"],\"font\":{\"color\":\"#2a3f5f\"},\"hovermode\":\"closest\",\"hoverlabel\":{\"align\":\"left\"},\"paper_bgcolor\":\"white\",\"plot_bgcolor\":\"#E5ECF6\",\"polar\":{\"bgcolor\":\"#E5ECF6\",\"angularaxis\":{\"gridcolor\":\"white\",\"linecolor\":\"white\",\"ticks\":\"\"},\"radialaxis\":{\"gridcolor\":\"white\",\"linecolor\":\"white\",\"ticks\":\"\"}},\"ternary\":{\"bgcolor\":\"#E5ECF6\",\"aaxis\":{\"gridcolor\":\"white\",\"linecolor\":\"white\",\"ticks\":\"\"},\"baxis\":{\"gridcolor\":\"white\",\"linecolor\":\"white\",\"ticks\":\"\"},\"caxis\":{\"gridcolor\":\"white\",\"linecolor\":\"white\",\"ticks\":\"\"}},\"coloraxis\":{\"colorbar\":{\"outlinewidth\":0,\"ticks\":\"\"}},\"colorscale\":{\"sequential\":[[0.0,\"#0d0887\"],[0.1111111111111111,\"#46039f\"],[0.2222222222222222,\"#7201a8\"],[0.3333333333333333,\"#9c179e\"],[0.4444444444444444,\"#bd3786\"],[0.5555555555555556,\"#d8576b\"],[0.6666666666666666,\"#ed7953\"],[0.7777777777777778,\"#fb9f3a\"],[0.8888888888888888,\"#fdca26\"],[1.0,\"#f0f921\"]],\"sequentialminus\":[[0.0,\"#0d0887\"],[0.1111111111111111,\"#46039f\"],[0.2222222222222222,\"#7201a8\"],[0.3333333333333333,\"#9c179e\"],[0.4444444444444444,\"#bd3786\"],[0.5555555555555556,\"#d8576b\"],[0.6666666666666666,\"#ed7953\"],[0.7777777777777778,\"#fb9f3a\"],[0.8888888888888888,\"#fdca26\"],[1.0,\"#f0f921\"]],\"diverging\":[[0,\"#8e0152\"],[0.1,\"#c51b7d\"],[0.2,\"#de77ae\"],[0.3,\"#f1b6da\"],[0.4,\"#fde0ef\"],[0.5,\"#f7f7f7\"],[0.6,\"#e6f5d0\"],[0.7,\"#b8e186\"],[0.8,\"#7fbc41\"],[0.9,\"#4d9221\"],[1,\"#276419\"]]},\"xaxis\":{\"gridcolor\":\"white\",\"linecolor\":\"white\",\"ticks\":\"\",\"title\":{\"standoff\":15},\"zerolinecolor\":\"white\",\"automargin\":true,\"zerolinewidth\":2},\"yaxis\":{\"gridcolor\":\"white\",\"linecolor\":\"white\",\"ticks\":\"\",\"title\":{\"standoff\":15},\"zerolinecolor\":\"white\",\"automargin\":true,\"zerolinewidth\":2},\"scene\":{\"xaxis\":{\"backgroundcolor\":\"#E5ECF6\",\"gridcolor\":\"white\",\"linecolor\":\"white\",\"showbackground\":true,\"ticks\":\"\",\"zerolinecolor\":\"white\",\"gridwidth\":2},\"yaxis\":{\"backgroundcolor\":\"#E5ECF6\",\"gridcolor\":\"white\",\"linecolor\":\"white\",\"showbackground\":true,\"ticks\":\"\",\"zerolinecolor\":\"white\",\"gridwidth\":2},\"zaxis\":{\"backgroundcolor\":\"#E5ECF6\",\"gridcolor\":\"white\",\"linecolor\":\"white\",\"showbackground\":true,\"ticks\":\"\",\"zerolinecolor\":\"white\",\"gridwidth\":2}},\"shapedefaults\":{\"line\":{\"color\":\"#2a3f5f\"}},\"annotationdefaults\":{\"arrowcolor\":\"#2a3f5f\",\"arrowhead\":0,\"arrowwidth\":1},\"geo\":{\"bgcolor\":\"white\",\"landcolor\":\"#E5ECF6\",\"subunitcolor\":\"white\",\"showland\":true,\"showlakes\":true,\"lakecolor\":\"white\"},\"title\":{\"x\":0.05},\"mapbox\":{\"style\":\"light\"}}},\"xaxis\":{\"anchor\":\"y\",\"domain\":[0.0,0.45],\"title\":{\"text\":\"Time (ns)\"}},\"yaxis\":{\"anchor\":\"x\",\"domain\":[0.0,1.0],\"title\":{\"text\":\"MSR (uV)\"}},\"xaxis2\":{\"anchor\":\"y2\",\"domain\":[0.55,1.0],\"title\":{\"text\":\"Time (ns)\"}},\"yaxis2\":{\"anchor\":\"x2\",\"domain\":[0.0,1.0],\"title\":{\"text\":\"Phase (rad)\"}},\"annotations\":[{\"font\":{\"size\":16},\"showarrow\":false,\"text\":\"MSR (V)\",\"x\":0.225,\"xanchor\":\"center\",\"xref\":\"paper\",\"y\":1.0,\"yanchor\":\"bottom\",\"yref\":\"paper\"},{\"font\":{\"size\":16},\"showarrow\":false,\"text\":\"phase (rad)\",\"x\":0.775,\"xanchor\":\"center\",\"xref\":\"paper\",\"y\":1.0,\"yanchor\":\"bottom\",\"yref\":\"paper\"}],\"showlegend\":true,\"uirevision\":\"0\"},                        {\"responsive\": true}                    ).then(function(){\n",
       "                            \n",
       "var gd = document.getElementById('8f0f31b2-1b46-4677-b521-fe3afff49d72');\n",
       "var x = new MutationObserver(function (mutations, observer) {{\n",
       "        var display = window.getComputedStyle(gd).display;\n",
       "        if (!display || display === 'none') {{\n",
       "            console.log([gd, 'removed!']);\n",
       "            Plotly.purge(gd);\n",
       "            observer.disconnect();\n",
       "        }}\n",
       "}});\n",
       "\n",
       "// Listen for the removal of the full notebook cells\n",
       "var notebookContainer = gd.closest('#notebook-container');\n",
       "if (notebookContainer) {{\n",
       "    x.observe(notebookContainer, {childList: true});\n",
       "}}\n",
       "\n",
       "// Listen for the clearing of the current output cell\n",
       "var outputEl = gd.closest('.output');\n",
       "if (outputEl) {{\n",
       "    x.observe(outputEl, {childList: true});\n",
       "}}\n",
       "\n",
       "                        })                };                });            </script>        </div>"
      ]
     },
     "metadata": {},
     "output_type": "display_data"
    }
   ],
   "source": [
    "sequences, durations = rabi_pulse_length_sequences(Device,\n",
    "    qubit = 0,\n",
    "    pulse_duration_start = 40,\n",
    "    pulse_duration_end = 80,\n",
    "    pulse_duration_step = 3,\n",
    ")\n",
    "\n",
    "msr, phase, i , q = Device.execute_pulse_sequences(sequences)\n",
    "qubit = 0\n",
    "\n",
    "data = DataUnits(name=f\"data_q{qubit}\", quantities={\"Time\": \"ns\"})\n",
    "\n",
    "results = {\n",
    "    \"MSR[V]\": msr,\n",
    "    \"i[V]\": i,\n",
    "    \"q[V]\": q,\n",
    "    \"phase[rad]\": phase,\n",
    "    \"Time[ns]\": durations,\n",
    "}\n",
    "                   \n",
    "data.set(results)\n",
    "\n",
    "time_msr_phase(data)"
   ]
  },
  {
   "cell_type": "code",
   "execution_count": 50,
   "metadata": {},
   "outputs": [
    {
     "name": "stdout",
     "output_type": "stream",
     "text": [
      "2022.12.08 16:24:07.114 laboneq.pulse_sheet_viewer.pulse_sheet_viewer INFO   Writing html file to /home/admin/Juan/qibolab/examples/Pulse_sheet_2022-12-08-16-24-07.html\n"
     ]
    },
    {
     "data": {
      "text/html": [
       "<a href='Pulse_sheet_2022-12-08-16-24-07.html' target='_blank'>Pulse_sheet_2022-12-08-16-24-07.html</a><br>"
      ],
      "text/plain": [
       "/home/admin/Juan/qibolab/examples/Pulse_sheet_2022-12-08-16-24-07.html"
      ]
     },
     "execution_count": 50,
     "metadata": {},
     "output_type": "execute_result"
    }
   ],
   "source": [
    "lo.show_pulse_sheet(\"Pulse_sheet\",Device.exp)"
   ]
  },
  {
   "cell_type": "code",
   "execution_count": 22,
   "metadata": {},
   "outputs": [
    {
     "name": "stdout",
     "output_type": "stream",
     "text": [
      "2022.12.08 16:01:28.277 laboneq.compiler.workflow.compiler INFO   Starting LabOne Q Compiler run...\n",
      "2022.12.08 16:01:28.302 laboneq.compiler.workflow.compiler INFO   Total seqC lines generated: 28\n",
      "2022.12.08 16:01:28.303 laboneq.compiler.workflow.compiler INFO   Total sample points generated: 4048\n",
      "2022.12.08 16:01:28.303 laboneq.compiler.workflow.compiler INFO   Finished LabOne Q Compiler run.\n",
      "2022.12.08 16:01:29.088 laboneq.controller.controller  INFO   Starting near-time execution...\n",
      "2022.12.08 16:01:29.712 laboneq.controller.controller  INFO   Finished near-time execution.\n",
      "2022.12.08 16:01:30.055 laboneq.compiler.workflow.compiler INFO   Starting LabOne Q Compiler run...\n",
      "2022.12.08 16:01:30.080 laboneq.compiler.workflow.compiler INFO   Total seqC lines generated: 28\n",
      "2022.12.08 16:01:30.081 laboneq.compiler.workflow.compiler INFO   Total sample points generated: 4048\n",
      "2022.12.08 16:01:30.081 laboneq.compiler.workflow.compiler INFO   Finished LabOne Q Compiler run.\n",
      "2022.12.08 16:01:30.815 laboneq.controller.controller  INFO   Starting near-time execution...\n",
      "2022.12.08 16:01:31.391 laboneq.controller.controller  INFO   Finished near-time execution.\n",
      "2022.12.08 16:01:31.748 laboneq.compiler.workflow.compiler INFO   Starting LabOne Q Compiler run...\n",
      "2022.12.08 16:01:31.773 laboneq.compiler.workflow.compiler INFO   Total seqC lines generated: 28\n",
      "2022.12.08 16:01:31.773 laboneq.compiler.workflow.compiler INFO   Total sample points generated: 4048\n",
      "2022.12.08 16:01:31.774 laboneq.compiler.workflow.compiler INFO   Finished LabOne Q Compiler run.\n",
      "2022.12.08 16:01:32.516 laboneq.controller.controller  INFO   Starting near-time execution...\n",
      "2022.12.08 16:01:33.076 laboneq.controller.controller  INFO   Finished near-time execution.\n",
      "2022.12.08 16:01:33.433 laboneq.compiler.workflow.compiler INFO   Starting LabOne Q Compiler run...\n",
      "2022.12.08 16:01:33.458 laboneq.compiler.workflow.compiler INFO   Total seqC lines generated: 28\n",
      "2022.12.08 16:01:33.459 laboneq.compiler.workflow.compiler INFO   Total sample points generated: 4048\n",
      "2022.12.08 16:01:33.459 laboneq.compiler.workflow.compiler INFO   Finished LabOne Q Compiler run.\n",
      "2022.12.08 16:01:34.280 laboneq.controller.controller  INFO   Starting near-time execution...\n",
      "2022.12.08 16:01:34.868 laboneq.controller.controller  INFO   Finished near-time execution.\n",
      "2022.12.08 16:01:35.246 laboneq.compiler.workflow.compiler INFO   Starting LabOne Q Compiler run...\n",
      "2022.12.08 16:01:35.271 laboneq.compiler.workflow.compiler INFO   Total seqC lines generated: 28\n",
      "2022.12.08 16:01:35.271 laboneq.compiler.workflow.compiler INFO   Total sample points generated: 4048\n",
      "2022.12.08 16:01:35.272 laboneq.compiler.workflow.compiler INFO   Finished LabOne Q Compiler run.\n",
      "2022.12.08 16:01:36.044 laboneq.controller.controller  INFO   Starting near-time execution...\n",
      "2022.12.08 16:01:36.636 laboneq.controller.controller  INFO   Finished near-time execution.\n",
      "2022.12.08 16:01:37.007 laboneq.compiler.workflow.compiler INFO   Starting LabOne Q Compiler run...\n",
      "2022.12.08 16:01:37.032 laboneq.compiler.workflow.compiler INFO   Total seqC lines generated: 28\n",
      "2022.12.08 16:01:37.033 laboneq.compiler.workflow.compiler INFO   Total sample points generated: 4048\n",
      "2022.12.08 16:01:37.033 laboneq.compiler.workflow.compiler INFO   Finished LabOne Q Compiler run.\n",
      "2022.12.08 16:01:37.788 laboneq.controller.controller  INFO   Starting near-time execution...\n",
      "2022.12.08 16:01:38.364 laboneq.controller.controller  INFO   Finished near-time execution.\n",
      "2022.12.08 16:01:38.722 laboneq.compiler.workflow.compiler INFO   Starting LabOne Q Compiler run...\n",
      "2022.12.08 16:01:38.747 laboneq.compiler.workflow.compiler INFO   Total seqC lines generated: 28\n",
      "2022.12.08 16:01:38.747 laboneq.compiler.workflow.compiler INFO   Total sample points generated: 4048\n",
      "2022.12.08 16:01:38.747 laboneq.compiler.workflow.compiler INFO   Finished LabOne Q Compiler run.\n",
      "2022.12.08 16:01:39.523 laboneq.controller.controller  INFO   Starting near-time execution...\n",
      "2022.12.08 16:01:40.064 laboneq.controller.controller  INFO   Finished near-time execution.\n",
      "2022.12.08 16:01:40.424 laboneq.compiler.workflow.compiler INFO   Starting LabOne Q Compiler run...\n",
      "2022.12.08 16:01:40.449 laboneq.compiler.workflow.compiler INFO   Total seqC lines generated: 28\n",
      "2022.12.08 16:01:40.449 laboneq.compiler.workflow.compiler INFO   Total sample points generated: 4048\n",
      "2022.12.08 16:01:40.449 laboneq.compiler.workflow.compiler INFO   Finished LabOne Q Compiler run.\n",
      "2022.12.08 16:01:41.211 laboneq.controller.controller  INFO   Starting near-time execution...\n",
      "2022.12.08 16:01:41.795 laboneq.controller.controller  INFO   Finished near-time execution.\n",
      "2022.12.08 16:01:42.147 laboneq.compiler.workflow.compiler INFO   Starting LabOne Q Compiler run...\n",
      "2022.12.08 16:01:42.173 laboneq.compiler.workflow.compiler INFO   Total seqC lines generated: 28\n",
      "2022.12.08 16:01:42.173 laboneq.compiler.workflow.compiler INFO   Total sample points generated: 4048\n",
      "2022.12.08 16:01:42.174 laboneq.compiler.workflow.compiler INFO   Finished LabOne Q Compiler run.\n",
      "2022.12.08 16:01:42.987 laboneq.controller.controller  INFO   Starting near-time execution...\n",
      "2022.12.08 16:01:43.564 laboneq.controller.controller  INFO   Finished near-time execution.\n",
      "2022.12.08 16:01:43.930 laboneq.compiler.workflow.compiler INFO   Starting LabOne Q Compiler run...\n",
      "2022.12.08 16:01:43.955 laboneq.compiler.workflow.compiler INFO   Total seqC lines generated: 28\n",
      "2022.12.08 16:01:43.956 laboneq.compiler.workflow.compiler INFO   Total sample points generated: 4048\n",
      "2022.12.08 16:01:43.956 laboneq.compiler.workflow.compiler INFO   Finished LabOne Q Compiler run.\n",
      "2022.12.08 16:01:44.660 laboneq.controller.controller  INFO   Starting near-time execution...\n",
      "2022.12.08 16:01:45.237 laboneq.controller.controller  INFO   Finished near-time execution.\n",
      "2022.12.08 16:01:45.602 laboneq.compiler.workflow.compiler INFO   Starting LabOne Q Compiler run...\n",
      "2022.12.08 16:01:45.627 laboneq.compiler.workflow.compiler INFO   Total seqC lines generated: 28\n",
      "2022.12.08 16:01:45.627 laboneq.compiler.workflow.compiler INFO   Total sample points generated: 4048\n",
      "2022.12.08 16:01:45.628 laboneq.compiler.workflow.compiler INFO   Finished LabOne Q Compiler run.\n",
      "2022.12.08 16:01:46.388 laboneq.controller.controller  INFO   Starting near-time execution...\n",
      "2022.12.08 16:01:47.024 laboneq.controller.controller  INFO   Finished near-time execution.\n",
      "2022.12.08 16:01:47.383 laboneq.compiler.workflow.compiler INFO   Starting LabOne Q Compiler run...\n",
      "2022.12.08 16:01:47.409 laboneq.compiler.workflow.compiler INFO   Total seqC lines generated: 28\n",
      "2022.12.08 16:01:47.410 laboneq.compiler.workflow.compiler INFO   Total sample points generated: 4048\n",
      "2022.12.08 16:01:47.410 laboneq.compiler.workflow.compiler INFO   Finished LabOne Q Compiler run.\n",
      "2022.12.08 16:01:48.244 laboneq.controller.controller  INFO   Starting near-time execution...\n",
      "2022.12.08 16:01:48.824 laboneq.controller.controller  INFO   Finished near-time execution.\n",
      "2022.12.08 16:01:49.200 laboneq.compiler.workflow.compiler INFO   Starting LabOne Q Compiler run...\n",
      "2022.12.08 16:01:49.225 laboneq.compiler.workflow.compiler INFO   Total seqC lines generated: 28\n",
      "2022.12.08 16:01:49.225 laboneq.compiler.workflow.compiler INFO   Total sample points generated: 4048\n",
      "2022.12.08 16:01:49.226 laboneq.compiler.workflow.compiler INFO   Finished LabOne Q Compiler run.\n",
      "2022.12.08 16:01:50.022 laboneq.controller.controller  INFO   Starting near-time execution...\n",
      "2022.12.08 16:01:50.604 laboneq.controller.controller  INFO   Finished near-time execution.\n",
      "2022.12.08 16:01:50.954 laboneq.compiler.workflow.compiler INFO   Starting LabOne Q Compiler run...\n",
      "2022.12.08 16:01:50.979 laboneq.compiler.workflow.compiler INFO   Total seqC lines generated: 28\n",
      "2022.12.08 16:01:50.980 laboneq.compiler.workflow.compiler INFO   Total sample points generated: 4048\n",
      "2022.12.08 16:01:50.980 laboneq.compiler.workflow.compiler INFO   Finished LabOne Q Compiler run.\n",
      "2022.12.08 16:01:51.735 laboneq.controller.controller  INFO   Starting near-time execution...\n",
      "2022.12.08 16:01:52.277 laboneq.controller.controller  INFO   Finished near-time execution.\n",
      "2022.12.08 16:01:52.627 laboneq.compiler.workflow.compiler INFO   Starting LabOne Q Compiler run...\n",
      "2022.12.08 16:01:52.652 laboneq.compiler.workflow.compiler INFO   Total seqC lines generated: 28\n",
      "2022.12.08 16:01:52.653 laboneq.compiler.workflow.compiler INFO   Total sample points generated: 4048\n",
      "2022.12.08 16:01:52.653 laboneq.compiler.workflow.compiler INFO   Finished LabOne Q Compiler run.\n",
      "2022.12.08 16:01:53.412 laboneq.controller.controller  INFO   Starting near-time execution...\n",
      "2022.12.08 16:01:54.008 laboneq.controller.controller  INFO   Finished near-time execution.\n",
      "2022.12.08 16:01:54.377 laboneq.compiler.workflow.compiler INFO   Starting LabOne Q Compiler run...\n",
      "2022.12.08 16:01:54.403 laboneq.compiler.workflow.compiler INFO   Total seqC lines generated: 28\n",
      "2022.12.08 16:01:54.404 laboneq.compiler.workflow.compiler INFO   Total sample points generated: 4048\n",
      "2022.12.08 16:01:54.404 laboneq.compiler.workflow.compiler INFO   Finished LabOne Q Compiler run.\n",
      "2022.12.08 16:01:55.215 laboneq.controller.controller  INFO   Starting near-time execution...\n",
      "2022.12.08 16:01:55.796 laboneq.controller.controller  INFO   Finished near-time execution.\n",
      "2022.12.08 16:01:56.152 laboneq.compiler.workflow.compiler INFO   Starting LabOne Q Compiler run...\n",
      "2022.12.08 16:01:56.177 laboneq.compiler.workflow.compiler INFO   Total seqC lines generated: 28\n",
      "2022.12.08 16:01:56.177 laboneq.compiler.workflow.compiler INFO   Total sample points generated: 4048\n",
      "2022.12.08 16:01:56.178 laboneq.compiler.workflow.compiler INFO   Finished LabOne Q Compiler run.\n",
      "2022.12.08 16:01:56.931 laboneq.controller.controller  INFO   Starting near-time execution...\n",
      "2022.12.08 16:01:57.517 laboneq.controller.controller  INFO   Finished near-time execution.\n",
      "2022.12.08 16:01:57.879 laboneq.compiler.workflow.compiler INFO   Starting LabOne Q Compiler run...\n",
      "2022.12.08 16:01:57.906 laboneq.compiler.workflow.compiler INFO   Total seqC lines generated: 28\n",
      "2022.12.08 16:01:57.906 laboneq.compiler.workflow.compiler INFO   Total sample points generated: 4048\n",
      "2022.12.08 16:01:57.907 laboneq.compiler.workflow.compiler INFO   Finished LabOne Q Compiler run.\n",
      "2022.12.08 16:01:58.635 laboneq.controller.controller  INFO   Starting near-time execution...\n",
      "2022.12.08 16:01:59.256 laboneq.controller.controller  INFO   Finished near-time execution.\n",
      "2022.12.08 16:01:59.627 laboneq.pulse_sheet_viewer.pulse_sheet_viewer INFO   Writing html file to /home/admin/Juan/qibolab/examples/Pulse_sheet_2022-12-08-16-01-59.html\n"
     ]
    },
    {
     "data": {
      "application/vnd.plotly.v1+json": {
       "config": {
        "plotlyServerURL": "https://plot.ly"
       },
       "data": [
        {
         "name": "Rabi Oscillations",
         "type": "scatter",
         "x": [
          20,
          30,
          40,
          50,
          60,
          70,
          80,
          90,
          100,
          110,
          120,
          130,
          140,
          150,
          160,
          170,
          180,
          190
         ],
         "xaxis": "x",
         "y": [
          85.68332860889485,
          78.7055608902808,
          60.012975169694364,
          50.16770418485653,
          51.43784475408267,
          43.4141259698382,
          46.30695004162234,
          51.4839953994203,
          47.93674851796888,
          49.49616860356715,
          60.93669263689646,
          73.54452978245048,
          88.82688836229276,
          95.42576772766907,
          87.92249384509594,
          76.03459145349579,
          80.05035428040118,
          75.52379378614765
         ],
         "yaxis": "y"
        },
        {
         "name": "Rabi Oscillations",
         "type": "scatter",
         "x": [
          20,
          30,
          40,
          50,
          60,
          70,
          80,
          90,
          100,
          110,
          120,
          130,
          140,
          150,
          160,
          170,
          180,
          190
         ],
         "xaxis": "x2",
         "y": [
          -1.18298263759125,
          -1.3253331484401347,
          -1.436807892338258,
          -1.781071508267179,
          -1.8526400206305085,
          -2.176510394864796,
          -2.123523404468316,
          -2.266798930522164,
          -2.014571455010015,
          -1.6545809285831463,
          -1.5737173135249305,
          -1.5035623723602287,
          -1.3474902777724986,
          -1.3899963273668832,
          -1.4166470523408947,
          -1.5069756485853043,
          -1.4165757753577668,
          -1.2924243683470282
         ],
         "yaxis": "y2"
        }
       ],
       "layout": {
        "annotations": [
         {
          "font": {
           "size": 16
          },
          "showarrow": false,
          "text": "MSR (V)",
          "x": 0.225,
          "xanchor": "center",
          "xref": "paper",
          "y": 1,
          "yanchor": "bottom",
          "yref": "paper"
         },
         {
          "font": {
           "size": 16
          },
          "showarrow": false,
          "text": "phase (rad)",
          "x": 0.775,
          "xanchor": "center",
          "xref": "paper",
          "y": 1,
          "yanchor": "bottom",
          "yref": "paper"
         }
        ],
        "showlegend": true,
        "template": {
         "data": {
          "bar": [
           {
            "error_x": {
             "color": "#2a3f5f"
            },
            "error_y": {
             "color": "#2a3f5f"
            },
            "marker": {
             "line": {
              "color": "#E5ECF6",
              "width": 0.5
             },
             "pattern": {
              "fillmode": "overlay",
              "size": 10,
              "solidity": 0.2
             }
            },
            "type": "bar"
           }
          ],
          "barpolar": [
           {
            "marker": {
             "line": {
              "color": "#E5ECF6",
              "width": 0.5
             },
             "pattern": {
              "fillmode": "overlay",
              "size": 10,
              "solidity": 0.2
             }
            },
            "type": "barpolar"
           }
          ],
          "carpet": [
           {
            "aaxis": {
             "endlinecolor": "#2a3f5f",
             "gridcolor": "white",
             "linecolor": "white",
             "minorgridcolor": "white",
             "startlinecolor": "#2a3f5f"
            },
            "baxis": {
             "endlinecolor": "#2a3f5f",
             "gridcolor": "white",
             "linecolor": "white",
             "minorgridcolor": "white",
             "startlinecolor": "#2a3f5f"
            },
            "type": "carpet"
           }
          ],
          "choropleth": [
           {
            "colorbar": {
             "outlinewidth": 0,
             "ticks": ""
            },
            "type": "choropleth"
           }
          ],
          "contour": [
           {
            "colorbar": {
             "outlinewidth": 0,
             "ticks": ""
            },
            "colorscale": [
             [
              0,
              "#0d0887"
             ],
             [
              0.1111111111111111,
              "#46039f"
             ],
             [
              0.2222222222222222,
              "#7201a8"
             ],
             [
              0.3333333333333333,
              "#9c179e"
             ],
             [
              0.4444444444444444,
              "#bd3786"
             ],
             [
              0.5555555555555556,
              "#d8576b"
             ],
             [
              0.6666666666666666,
              "#ed7953"
             ],
             [
              0.7777777777777778,
              "#fb9f3a"
             ],
             [
              0.8888888888888888,
              "#fdca26"
             ],
             [
              1,
              "#f0f921"
             ]
            ],
            "type": "contour"
           }
          ],
          "contourcarpet": [
           {
            "colorbar": {
             "outlinewidth": 0,
             "ticks": ""
            },
            "type": "contourcarpet"
           }
          ],
          "heatmap": [
           {
            "colorbar": {
             "outlinewidth": 0,
             "ticks": ""
            },
            "colorscale": [
             [
              0,
              "#0d0887"
             ],
             [
              0.1111111111111111,
              "#46039f"
             ],
             [
              0.2222222222222222,
              "#7201a8"
             ],
             [
              0.3333333333333333,
              "#9c179e"
             ],
             [
              0.4444444444444444,
              "#bd3786"
             ],
             [
              0.5555555555555556,
              "#d8576b"
             ],
             [
              0.6666666666666666,
              "#ed7953"
             ],
             [
              0.7777777777777778,
              "#fb9f3a"
             ],
             [
              0.8888888888888888,
              "#fdca26"
             ],
             [
              1,
              "#f0f921"
             ]
            ],
            "type": "heatmap"
           }
          ],
          "heatmapgl": [
           {
            "colorbar": {
             "outlinewidth": 0,
             "ticks": ""
            },
            "colorscale": [
             [
              0,
              "#0d0887"
             ],
             [
              0.1111111111111111,
              "#46039f"
             ],
             [
              0.2222222222222222,
              "#7201a8"
             ],
             [
              0.3333333333333333,
              "#9c179e"
             ],
             [
              0.4444444444444444,
              "#bd3786"
             ],
             [
              0.5555555555555556,
              "#d8576b"
             ],
             [
              0.6666666666666666,
              "#ed7953"
             ],
             [
              0.7777777777777778,
              "#fb9f3a"
             ],
             [
              0.8888888888888888,
              "#fdca26"
             ],
             [
              1,
              "#f0f921"
             ]
            ],
            "type": "heatmapgl"
           }
          ],
          "histogram": [
           {
            "marker": {
             "pattern": {
              "fillmode": "overlay",
              "size": 10,
              "solidity": 0.2
             }
            },
            "type": "histogram"
           }
          ],
          "histogram2d": [
           {
            "colorbar": {
             "outlinewidth": 0,
             "ticks": ""
            },
            "colorscale": [
             [
              0,
              "#0d0887"
             ],
             [
              0.1111111111111111,
              "#46039f"
             ],
             [
              0.2222222222222222,
              "#7201a8"
             ],
             [
              0.3333333333333333,
              "#9c179e"
             ],
             [
              0.4444444444444444,
              "#bd3786"
             ],
             [
              0.5555555555555556,
              "#d8576b"
             ],
             [
              0.6666666666666666,
              "#ed7953"
             ],
             [
              0.7777777777777778,
              "#fb9f3a"
             ],
             [
              0.8888888888888888,
              "#fdca26"
             ],
             [
              1,
              "#f0f921"
             ]
            ],
            "type": "histogram2d"
           }
          ],
          "histogram2dcontour": [
           {
            "colorbar": {
             "outlinewidth": 0,
             "ticks": ""
            },
            "colorscale": [
             [
              0,
              "#0d0887"
             ],
             [
              0.1111111111111111,
              "#46039f"
             ],
             [
              0.2222222222222222,
              "#7201a8"
             ],
             [
              0.3333333333333333,
              "#9c179e"
             ],
             [
              0.4444444444444444,
              "#bd3786"
             ],
             [
              0.5555555555555556,
              "#d8576b"
             ],
             [
              0.6666666666666666,
              "#ed7953"
             ],
             [
              0.7777777777777778,
              "#fb9f3a"
             ],
             [
              0.8888888888888888,
              "#fdca26"
             ],
             [
              1,
              "#f0f921"
             ]
            ],
            "type": "histogram2dcontour"
           }
          ],
          "mesh3d": [
           {
            "colorbar": {
             "outlinewidth": 0,
             "ticks": ""
            },
            "type": "mesh3d"
           }
          ],
          "parcoords": [
           {
            "line": {
             "colorbar": {
              "outlinewidth": 0,
              "ticks": ""
             }
            },
            "type": "parcoords"
           }
          ],
          "pie": [
           {
            "automargin": true,
            "type": "pie"
           }
          ],
          "scatter": [
           {
            "fillpattern": {
             "fillmode": "overlay",
             "size": 10,
             "solidity": 0.2
            },
            "type": "scatter"
           }
          ],
          "scatter3d": [
           {
            "line": {
             "colorbar": {
              "outlinewidth": 0,
              "ticks": ""
             }
            },
            "marker": {
             "colorbar": {
              "outlinewidth": 0,
              "ticks": ""
             }
            },
            "type": "scatter3d"
           }
          ],
          "scattercarpet": [
           {
            "marker": {
             "colorbar": {
              "outlinewidth": 0,
              "ticks": ""
             }
            },
            "type": "scattercarpet"
           }
          ],
          "scattergeo": [
           {
            "marker": {
             "colorbar": {
              "outlinewidth": 0,
              "ticks": ""
             }
            },
            "type": "scattergeo"
           }
          ],
          "scattergl": [
           {
            "marker": {
             "colorbar": {
              "outlinewidth": 0,
              "ticks": ""
             }
            },
            "type": "scattergl"
           }
          ],
          "scattermapbox": [
           {
            "marker": {
             "colorbar": {
              "outlinewidth": 0,
              "ticks": ""
             }
            },
            "type": "scattermapbox"
           }
          ],
          "scatterpolar": [
           {
            "marker": {
             "colorbar": {
              "outlinewidth": 0,
              "ticks": ""
             }
            },
            "type": "scatterpolar"
           }
          ],
          "scatterpolargl": [
           {
            "marker": {
             "colorbar": {
              "outlinewidth": 0,
              "ticks": ""
             }
            },
            "type": "scatterpolargl"
           }
          ],
          "scatterternary": [
           {
            "marker": {
             "colorbar": {
              "outlinewidth": 0,
              "ticks": ""
             }
            },
            "type": "scatterternary"
           }
          ],
          "surface": [
           {
            "colorbar": {
             "outlinewidth": 0,
             "ticks": ""
            },
            "colorscale": [
             [
              0,
              "#0d0887"
             ],
             [
              0.1111111111111111,
              "#46039f"
             ],
             [
              0.2222222222222222,
              "#7201a8"
             ],
             [
              0.3333333333333333,
              "#9c179e"
             ],
             [
              0.4444444444444444,
              "#bd3786"
             ],
             [
              0.5555555555555556,
              "#d8576b"
             ],
             [
              0.6666666666666666,
              "#ed7953"
             ],
             [
              0.7777777777777778,
              "#fb9f3a"
             ],
             [
              0.8888888888888888,
              "#fdca26"
             ],
             [
              1,
              "#f0f921"
             ]
            ],
            "type": "surface"
           }
          ],
          "table": [
           {
            "cells": {
             "fill": {
              "color": "#EBF0F8"
             },
             "line": {
              "color": "white"
             }
            },
            "header": {
             "fill": {
              "color": "#C8D4E3"
             },
             "line": {
              "color": "white"
             }
            },
            "type": "table"
           }
          ]
         },
         "layout": {
          "annotationdefaults": {
           "arrowcolor": "#2a3f5f",
           "arrowhead": 0,
           "arrowwidth": 1
          },
          "autotypenumbers": "strict",
          "coloraxis": {
           "colorbar": {
            "outlinewidth": 0,
            "ticks": ""
           }
          },
          "colorscale": {
           "diverging": [
            [
             0,
             "#8e0152"
            ],
            [
             0.1,
             "#c51b7d"
            ],
            [
             0.2,
             "#de77ae"
            ],
            [
             0.3,
             "#f1b6da"
            ],
            [
             0.4,
             "#fde0ef"
            ],
            [
             0.5,
             "#f7f7f7"
            ],
            [
             0.6,
             "#e6f5d0"
            ],
            [
             0.7,
             "#b8e186"
            ],
            [
             0.8,
             "#7fbc41"
            ],
            [
             0.9,
             "#4d9221"
            ],
            [
             1,
             "#276419"
            ]
           ],
           "sequential": [
            [
             0,
             "#0d0887"
            ],
            [
             0.1111111111111111,
             "#46039f"
            ],
            [
             0.2222222222222222,
             "#7201a8"
            ],
            [
             0.3333333333333333,
             "#9c179e"
            ],
            [
             0.4444444444444444,
             "#bd3786"
            ],
            [
             0.5555555555555556,
             "#d8576b"
            ],
            [
             0.6666666666666666,
             "#ed7953"
            ],
            [
             0.7777777777777778,
             "#fb9f3a"
            ],
            [
             0.8888888888888888,
             "#fdca26"
            ],
            [
             1,
             "#f0f921"
            ]
           ],
           "sequentialminus": [
            [
             0,
             "#0d0887"
            ],
            [
             0.1111111111111111,
             "#46039f"
            ],
            [
             0.2222222222222222,
             "#7201a8"
            ],
            [
             0.3333333333333333,
             "#9c179e"
            ],
            [
             0.4444444444444444,
             "#bd3786"
            ],
            [
             0.5555555555555556,
             "#d8576b"
            ],
            [
             0.6666666666666666,
             "#ed7953"
            ],
            [
             0.7777777777777778,
             "#fb9f3a"
            ],
            [
             0.8888888888888888,
             "#fdca26"
            ],
            [
             1,
             "#f0f921"
            ]
           ]
          },
          "colorway": [
           "#636efa",
           "#EF553B",
           "#00cc96",
           "#ab63fa",
           "#FFA15A",
           "#19d3f3",
           "#FF6692",
           "#B6E880",
           "#FF97FF",
           "#FECB52"
          ],
          "font": {
           "color": "#2a3f5f"
          },
          "geo": {
           "bgcolor": "white",
           "lakecolor": "white",
           "landcolor": "#E5ECF6",
           "showlakes": true,
           "showland": true,
           "subunitcolor": "white"
          },
          "hoverlabel": {
           "align": "left"
          },
          "hovermode": "closest",
          "mapbox": {
           "style": "light"
          },
          "paper_bgcolor": "white",
          "plot_bgcolor": "#E5ECF6",
          "polar": {
           "angularaxis": {
            "gridcolor": "white",
            "linecolor": "white",
            "ticks": ""
           },
           "bgcolor": "#E5ECF6",
           "radialaxis": {
            "gridcolor": "white",
            "linecolor": "white",
            "ticks": ""
           }
          },
          "scene": {
           "xaxis": {
            "backgroundcolor": "#E5ECF6",
            "gridcolor": "white",
            "gridwidth": 2,
            "linecolor": "white",
            "showbackground": true,
            "ticks": "",
            "zerolinecolor": "white"
           },
           "yaxis": {
            "backgroundcolor": "#E5ECF6",
            "gridcolor": "white",
            "gridwidth": 2,
            "linecolor": "white",
            "showbackground": true,
            "ticks": "",
            "zerolinecolor": "white"
           },
           "zaxis": {
            "backgroundcolor": "#E5ECF6",
            "gridcolor": "white",
            "gridwidth": 2,
            "linecolor": "white",
            "showbackground": true,
            "ticks": "",
            "zerolinecolor": "white"
           }
          },
          "shapedefaults": {
           "line": {
            "color": "#2a3f5f"
           }
          },
          "ternary": {
           "aaxis": {
            "gridcolor": "white",
            "linecolor": "white",
            "ticks": ""
           },
           "baxis": {
            "gridcolor": "white",
            "linecolor": "white",
            "ticks": ""
           },
           "bgcolor": "#E5ECF6",
           "caxis": {
            "gridcolor": "white",
            "linecolor": "white",
            "ticks": ""
           }
          },
          "title": {
           "x": 0.05
          },
          "xaxis": {
           "automargin": true,
           "gridcolor": "white",
           "linecolor": "white",
           "ticks": "",
           "title": {
            "standoff": 15
           },
           "zerolinecolor": "white",
           "zerolinewidth": 2
          },
          "yaxis": {
           "automargin": true,
           "gridcolor": "white",
           "linecolor": "white",
           "ticks": "",
           "title": {
            "standoff": 15
           },
           "zerolinecolor": "white",
           "zerolinewidth": 2
          }
         }
        },
        "uirevision": "0",
        "xaxis": {
         "anchor": "y",
         "domain": [
          0,
          0.45
         ],
         "title": {
          "text": "Time (ns)"
         }
        },
        "xaxis2": {
         "anchor": "y2",
         "domain": [
          0.55,
          1
         ],
         "title": {
          "text": "Time (ns)"
         }
        },
        "yaxis": {
         "anchor": "x",
         "domain": [
          0,
          1
         ],
         "title": {
          "text": "MSR (uV)"
         }
        },
        "yaxis2": {
         "anchor": "x2",
         "domain": [
          0,
          1
         ],
         "title": {
          "text": "Phase (rad)"
         }
        }
       }
      },
      "text/html": [
       "<div>                            <div id=\"54e7dcc2-d108-4c25-a50f-becc5f131a13\" class=\"plotly-graph-div\" style=\"height:525px; width:100%;\"></div>            <script type=\"text/javascript\">                require([\"plotly\"], function(Plotly) {                    window.PLOTLYENV=window.PLOTLYENV || {};                                    if (document.getElementById(\"54e7dcc2-d108-4c25-a50f-becc5f131a13\")) {                    Plotly.newPlot(                        \"54e7dcc2-d108-4c25-a50f-becc5f131a13\",                        [{\"name\":\"Rabi Oscillations\",\"x\":[20.0,30.0,40.0,50.0,60.0,70.0,80.0,90.0,100.0,110.0,120.0,130.0,140.0,150.0,160.0,170.0,180.0,190.0],\"y\":[85.68332860889485,78.7055608902808,60.012975169694364,50.16770418485653,51.43784475408267,43.4141259698382,46.30695004162234,51.4839953994203,47.93674851796888,49.49616860356715,60.93669263689646,73.54452978245048,88.82688836229276,95.42576772766907,87.92249384509594,76.03459145349579,80.05035428040118,75.52379378614765],\"type\":\"scatter\",\"xaxis\":\"x\",\"yaxis\":\"y\"},{\"name\":\"Rabi Oscillations\",\"x\":[20.0,30.0,40.0,50.0,60.0,70.0,80.0,90.0,100.0,110.0,120.0,130.0,140.0,150.0,160.0,170.0,180.0,190.0],\"y\":[-1.18298263759125,-1.3253331484401347,-1.436807892338258,-1.781071508267179,-1.8526400206305085,-2.176510394864796,-2.123523404468316,-2.266798930522164,-2.014571455010015,-1.6545809285831463,-1.5737173135249305,-1.5035623723602287,-1.3474902777724986,-1.3899963273668832,-1.4166470523408947,-1.5069756485853043,-1.4165757753577668,-1.2924243683470282],\"type\":\"scatter\",\"xaxis\":\"x2\",\"yaxis\":\"y2\"}],                        {\"template\":{\"data\":{\"histogram2dcontour\":[{\"type\":\"histogram2dcontour\",\"colorbar\":{\"outlinewidth\":0,\"ticks\":\"\"},\"colorscale\":[[0.0,\"#0d0887\"],[0.1111111111111111,\"#46039f\"],[0.2222222222222222,\"#7201a8\"],[0.3333333333333333,\"#9c179e\"],[0.4444444444444444,\"#bd3786\"],[0.5555555555555556,\"#d8576b\"],[0.6666666666666666,\"#ed7953\"],[0.7777777777777778,\"#fb9f3a\"],[0.8888888888888888,\"#fdca26\"],[1.0,\"#f0f921\"]]}],\"choropleth\":[{\"type\":\"choropleth\",\"colorbar\":{\"outlinewidth\":0,\"ticks\":\"\"}}],\"histogram2d\":[{\"type\":\"histogram2d\",\"colorbar\":{\"outlinewidth\":0,\"ticks\":\"\"},\"colorscale\":[[0.0,\"#0d0887\"],[0.1111111111111111,\"#46039f\"],[0.2222222222222222,\"#7201a8\"],[0.3333333333333333,\"#9c179e\"],[0.4444444444444444,\"#bd3786\"],[0.5555555555555556,\"#d8576b\"],[0.6666666666666666,\"#ed7953\"],[0.7777777777777778,\"#fb9f3a\"],[0.8888888888888888,\"#fdca26\"],[1.0,\"#f0f921\"]]}],\"heatmap\":[{\"type\":\"heatmap\",\"colorbar\":{\"outlinewidth\":0,\"ticks\":\"\"},\"colorscale\":[[0.0,\"#0d0887\"],[0.1111111111111111,\"#46039f\"],[0.2222222222222222,\"#7201a8\"],[0.3333333333333333,\"#9c179e\"],[0.4444444444444444,\"#bd3786\"],[0.5555555555555556,\"#d8576b\"],[0.6666666666666666,\"#ed7953\"],[0.7777777777777778,\"#fb9f3a\"],[0.8888888888888888,\"#fdca26\"],[1.0,\"#f0f921\"]]}],\"heatmapgl\":[{\"type\":\"heatmapgl\",\"colorbar\":{\"outlinewidth\":0,\"ticks\":\"\"},\"colorscale\":[[0.0,\"#0d0887\"],[0.1111111111111111,\"#46039f\"],[0.2222222222222222,\"#7201a8\"],[0.3333333333333333,\"#9c179e\"],[0.4444444444444444,\"#bd3786\"],[0.5555555555555556,\"#d8576b\"],[0.6666666666666666,\"#ed7953\"],[0.7777777777777778,\"#fb9f3a\"],[0.8888888888888888,\"#fdca26\"],[1.0,\"#f0f921\"]]}],\"contourcarpet\":[{\"type\":\"contourcarpet\",\"colorbar\":{\"outlinewidth\":0,\"ticks\":\"\"}}],\"contour\":[{\"type\":\"contour\",\"colorbar\":{\"outlinewidth\":0,\"ticks\":\"\"},\"colorscale\":[[0.0,\"#0d0887\"],[0.1111111111111111,\"#46039f\"],[0.2222222222222222,\"#7201a8\"],[0.3333333333333333,\"#9c179e\"],[0.4444444444444444,\"#bd3786\"],[0.5555555555555556,\"#d8576b\"],[0.6666666666666666,\"#ed7953\"],[0.7777777777777778,\"#fb9f3a\"],[0.8888888888888888,\"#fdca26\"],[1.0,\"#f0f921\"]]}],\"surface\":[{\"type\":\"surface\",\"colorbar\":{\"outlinewidth\":0,\"ticks\":\"\"},\"colorscale\":[[0.0,\"#0d0887\"],[0.1111111111111111,\"#46039f\"],[0.2222222222222222,\"#7201a8\"],[0.3333333333333333,\"#9c179e\"],[0.4444444444444444,\"#bd3786\"],[0.5555555555555556,\"#d8576b\"],[0.6666666666666666,\"#ed7953\"],[0.7777777777777778,\"#fb9f3a\"],[0.8888888888888888,\"#fdca26\"],[1.0,\"#f0f921\"]]}],\"mesh3d\":[{\"type\":\"mesh3d\",\"colorbar\":{\"outlinewidth\":0,\"ticks\":\"\"}}],\"scatter\":[{\"fillpattern\":{\"fillmode\":\"overlay\",\"size\":10,\"solidity\":0.2},\"type\":\"scatter\"}],\"parcoords\":[{\"type\":\"parcoords\",\"line\":{\"colorbar\":{\"outlinewidth\":0,\"ticks\":\"\"}}}],\"scatterpolargl\":[{\"type\":\"scatterpolargl\",\"marker\":{\"colorbar\":{\"outlinewidth\":0,\"ticks\":\"\"}}}],\"bar\":[{\"error_x\":{\"color\":\"#2a3f5f\"},\"error_y\":{\"color\":\"#2a3f5f\"},\"marker\":{\"line\":{\"color\":\"#E5ECF6\",\"width\":0.5},\"pattern\":{\"fillmode\":\"overlay\",\"size\":10,\"solidity\":0.2}},\"type\":\"bar\"}],\"scattergeo\":[{\"type\":\"scattergeo\",\"marker\":{\"colorbar\":{\"outlinewidth\":0,\"ticks\":\"\"}}}],\"scatterpolar\":[{\"type\":\"scatterpolar\",\"marker\":{\"colorbar\":{\"outlinewidth\":0,\"ticks\":\"\"}}}],\"histogram\":[{\"marker\":{\"pattern\":{\"fillmode\":\"overlay\",\"size\":10,\"solidity\":0.2}},\"type\":\"histogram\"}],\"scattergl\":[{\"type\":\"scattergl\",\"marker\":{\"colorbar\":{\"outlinewidth\":0,\"ticks\":\"\"}}}],\"scatter3d\":[{\"type\":\"scatter3d\",\"line\":{\"colorbar\":{\"outlinewidth\":0,\"ticks\":\"\"}},\"marker\":{\"colorbar\":{\"outlinewidth\":0,\"ticks\":\"\"}}}],\"scattermapbox\":[{\"type\":\"scattermapbox\",\"marker\":{\"colorbar\":{\"outlinewidth\":0,\"ticks\":\"\"}}}],\"scatterternary\":[{\"type\":\"scatterternary\",\"marker\":{\"colorbar\":{\"outlinewidth\":0,\"ticks\":\"\"}}}],\"scattercarpet\":[{\"type\":\"scattercarpet\",\"marker\":{\"colorbar\":{\"outlinewidth\":0,\"ticks\":\"\"}}}],\"carpet\":[{\"aaxis\":{\"endlinecolor\":\"#2a3f5f\",\"gridcolor\":\"white\",\"linecolor\":\"white\",\"minorgridcolor\":\"white\",\"startlinecolor\":\"#2a3f5f\"},\"baxis\":{\"endlinecolor\":\"#2a3f5f\",\"gridcolor\":\"white\",\"linecolor\":\"white\",\"minorgridcolor\":\"white\",\"startlinecolor\":\"#2a3f5f\"},\"type\":\"carpet\"}],\"table\":[{\"cells\":{\"fill\":{\"color\":\"#EBF0F8\"},\"line\":{\"color\":\"white\"}},\"header\":{\"fill\":{\"color\":\"#C8D4E3\"},\"line\":{\"color\":\"white\"}},\"type\":\"table\"}],\"barpolar\":[{\"marker\":{\"line\":{\"color\":\"#E5ECF6\",\"width\":0.5},\"pattern\":{\"fillmode\":\"overlay\",\"size\":10,\"solidity\":0.2}},\"type\":\"barpolar\"}],\"pie\":[{\"automargin\":true,\"type\":\"pie\"}]},\"layout\":{\"autotypenumbers\":\"strict\",\"colorway\":[\"#636efa\",\"#EF553B\",\"#00cc96\",\"#ab63fa\",\"#FFA15A\",\"#19d3f3\",\"#FF6692\",\"#B6E880\",\"#FF97FF\",\"#FECB52\"],\"font\":{\"color\":\"#2a3f5f\"},\"hovermode\":\"closest\",\"hoverlabel\":{\"align\":\"left\"},\"paper_bgcolor\":\"white\",\"plot_bgcolor\":\"#E5ECF6\",\"polar\":{\"bgcolor\":\"#E5ECF6\",\"angularaxis\":{\"gridcolor\":\"white\",\"linecolor\":\"white\",\"ticks\":\"\"},\"radialaxis\":{\"gridcolor\":\"white\",\"linecolor\":\"white\",\"ticks\":\"\"}},\"ternary\":{\"bgcolor\":\"#E5ECF6\",\"aaxis\":{\"gridcolor\":\"white\",\"linecolor\":\"white\",\"ticks\":\"\"},\"baxis\":{\"gridcolor\":\"white\",\"linecolor\":\"white\",\"ticks\":\"\"},\"caxis\":{\"gridcolor\":\"white\",\"linecolor\":\"white\",\"ticks\":\"\"}},\"coloraxis\":{\"colorbar\":{\"outlinewidth\":0,\"ticks\":\"\"}},\"colorscale\":{\"sequential\":[[0.0,\"#0d0887\"],[0.1111111111111111,\"#46039f\"],[0.2222222222222222,\"#7201a8\"],[0.3333333333333333,\"#9c179e\"],[0.4444444444444444,\"#bd3786\"],[0.5555555555555556,\"#d8576b\"],[0.6666666666666666,\"#ed7953\"],[0.7777777777777778,\"#fb9f3a\"],[0.8888888888888888,\"#fdca26\"],[1.0,\"#f0f921\"]],\"sequentialminus\":[[0.0,\"#0d0887\"],[0.1111111111111111,\"#46039f\"],[0.2222222222222222,\"#7201a8\"],[0.3333333333333333,\"#9c179e\"],[0.4444444444444444,\"#bd3786\"],[0.5555555555555556,\"#d8576b\"],[0.6666666666666666,\"#ed7953\"],[0.7777777777777778,\"#fb9f3a\"],[0.8888888888888888,\"#fdca26\"],[1.0,\"#f0f921\"]],\"diverging\":[[0,\"#8e0152\"],[0.1,\"#c51b7d\"],[0.2,\"#de77ae\"],[0.3,\"#f1b6da\"],[0.4,\"#fde0ef\"],[0.5,\"#f7f7f7\"],[0.6,\"#e6f5d0\"],[0.7,\"#b8e186\"],[0.8,\"#7fbc41\"],[0.9,\"#4d9221\"],[1,\"#276419\"]]},\"xaxis\":{\"gridcolor\":\"white\",\"linecolor\":\"white\",\"ticks\":\"\",\"title\":{\"standoff\":15},\"zerolinecolor\":\"white\",\"automargin\":true,\"zerolinewidth\":2},\"yaxis\":{\"gridcolor\":\"white\",\"linecolor\":\"white\",\"ticks\":\"\",\"title\":{\"standoff\":15},\"zerolinecolor\":\"white\",\"automargin\":true,\"zerolinewidth\":2},\"scene\":{\"xaxis\":{\"backgroundcolor\":\"#E5ECF6\",\"gridcolor\":\"white\",\"linecolor\":\"white\",\"showbackground\":true,\"ticks\":\"\",\"zerolinecolor\":\"white\",\"gridwidth\":2},\"yaxis\":{\"backgroundcolor\":\"#E5ECF6\",\"gridcolor\":\"white\",\"linecolor\":\"white\",\"showbackground\":true,\"ticks\":\"\",\"zerolinecolor\":\"white\",\"gridwidth\":2},\"zaxis\":{\"backgroundcolor\":\"#E5ECF6\",\"gridcolor\":\"white\",\"linecolor\":\"white\",\"showbackground\":true,\"ticks\":\"\",\"zerolinecolor\":\"white\",\"gridwidth\":2}},\"shapedefaults\":{\"line\":{\"color\":\"#2a3f5f\"}},\"annotationdefaults\":{\"arrowcolor\":\"#2a3f5f\",\"arrowhead\":0,\"arrowwidth\":1},\"geo\":{\"bgcolor\":\"white\",\"landcolor\":\"#E5ECF6\",\"subunitcolor\":\"white\",\"showland\":true,\"showlakes\":true,\"lakecolor\":\"white\"},\"title\":{\"x\":0.05},\"mapbox\":{\"style\":\"light\"}}},\"xaxis\":{\"anchor\":\"y\",\"domain\":[0.0,0.45],\"title\":{\"text\":\"Time (ns)\"}},\"yaxis\":{\"anchor\":\"x\",\"domain\":[0.0,1.0],\"title\":{\"text\":\"MSR (uV)\"}},\"xaxis2\":{\"anchor\":\"y2\",\"domain\":[0.55,1.0],\"title\":{\"text\":\"Time (ns)\"}},\"yaxis2\":{\"anchor\":\"x2\",\"domain\":[0.0,1.0],\"title\":{\"text\":\"Phase (rad)\"}},\"annotations\":[{\"font\":{\"size\":16},\"showarrow\":false,\"text\":\"MSR (V)\",\"x\":0.225,\"xanchor\":\"center\",\"xref\":\"paper\",\"y\":1.0,\"yanchor\":\"bottom\",\"yref\":\"paper\"},{\"font\":{\"size\":16},\"showarrow\":false,\"text\":\"phase (rad)\",\"x\":0.775,\"xanchor\":\"center\",\"xref\":\"paper\",\"y\":1.0,\"yanchor\":\"bottom\",\"yref\":\"paper\"}],\"showlegend\":true,\"uirevision\":\"0\"},                        {\"responsive\": true}                    ).then(function(){\n",
       "                            \n",
       "var gd = document.getElementById('54e7dcc2-d108-4c25-a50f-becc5f131a13');\n",
       "var x = new MutationObserver(function (mutations, observer) {{\n",
       "        var display = window.getComputedStyle(gd).display;\n",
       "        if (!display || display === 'none') {{\n",
       "            console.log([gd, 'removed!']);\n",
       "            Plotly.purge(gd);\n",
       "            observer.disconnect();\n",
       "        }}\n",
       "}});\n",
       "\n",
       "// Listen for the removal of the full notebook cells\n",
       "var notebookContainer = gd.closest('#notebook-container');\n",
       "if (notebookContainer) {{\n",
       "    x.observe(notebookContainer, {childList: true});\n",
       "}}\n",
       "\n",
       "// Listen for the clearing of the current output cell\n",
       "var outputEl = gd.closest('.output');\n",
       "if (outputEl) {{\n",
       "    x.observe(outputEl, {childList: true});\n",
       "}}\n",
       "\n",
       "                        })                };                });            </script>        </div>"
      ]
     },
     "metadata": {},
     "output_type": "display_data"
    }
   ],
   "source": [
    "data = rabi_pulse_length(Device,\n",
    "    qubit = 0,\n",
    "    pulse_duration_start = 20,\n",
    "    pulse_duration_end = 200,\n",
    "    pulse_duration_step = 10,\n",
    "    software_averages = 1,\n",
    ")\n",
    "\n",
    "time_msr_phase(data)"
   ]
  },
  {
   "cell_type": "code",
   "execution_count": 17,
   "metadata": {},
   "outputs": [
    {
     "name": "stdout",
     "output_type": "stream",
     "text": [
      "2022.12.08 15:56:08.457 laboneq.pulse_sheet_viewer.pulse_sheet_viewer INFO   Writing html file to /home/admin/Juan/qibolab/examples/Pulse_sheet_2022-12-08-15-56-08.html\n"
     ]
    },
    {
     "data": {
      "text/html": [
       "<a href='Pulse_sheet_2022-12-08-15-56-08.html' target='_blank'>Pulse_sheet_2022-12-08-15-56-08.html</a><br>"
      ],
      "text/plain": [
       "/home/admin/Juan/qibolab/examples/Pulse_sheet_2022-12-08-15-56-08.html"
      ]
     },
     "execution_count": 17,
     "metadata": {},
     "output_type": "execute_result"
    }
   ],
   "source": [
    "lo.show_pulse_sheet(\"Pulse_sheet\",Device.exp)"
   ]
  },
  {
   "cell_type": "markdown",
   "metadata": {},
   "source": [
    "Check Pi-pulse"
   ]
  },
  {
   "cell_type": "code",
   "execution_count": 12,
   "metadata": {},
   "outputs": [],
   "source": [
    "Device.reload_settings()\n",
    "Device.native_gates[\"single_qubit\"][0][\"RX\"][\"duration\"] = 80\n",
    "Device.apply_settings()"
   ]
  },
  {
   "cell_type": "code",
   "execution_count": 13,
   "metadata": {},
   "outputs": [
    {
     "name": "stdout",
     "output_type": "stream",
     "text": [
      "2022.12.08 17:29:45.332 laboneq.compiler.workflow.compiler INFO   Starting LabOne Q Compiler run...\n",
      "2022.12.08 17:29:45.358 laboneq.compiler.workflow.compiler INFO   Total seqC lines generated: 40\n",
      "2022.12.08 17:29:45.358 laboneq.compiler.workflow.compiler INFO   Total sample points generated: 4048\n",
      "2022.12.08 17:29:45.359 laboneq.compiler.workflow.compiler INFO   Finished LabOne Q Compiler run.\n",
      "2022.12.08 17:29:46.107 laboneq.controller.controller  INFO   Starting near-time execution...\n",
      "2022.12.08 17:29:47.137 laboneq.controller.controller  INFO   Finished near-time execution.\n",
      "4.936334922951801e-05 -2.4947146265965414 -3.939043681097434e-05 -2.9751197202734435e-05\n"
     ]
    }
   ],
   "source": [
    "sequence = PulseSequence()\n",
    "qd_pulse = Device.create_RX_pulse(0, start=0) \n",
    "ro_pulse = Device.create_qubit_readout_pulse(0, start=qd_pulse.finish)\n",
    "sequence.add(qd_pulse)\n",
    "sequence.add(ro_pulse)\n",
    "    \n",
    "msr, phase, i, q = Device.execute_pulse_sequence_NoSamples(sequence)\n",
    "print(msr, phase, i , q)"
   ]
  },
  {
   "cell_type": "code",
   "execution_count": null,
   "metadata": {},
   "outputs": [],
   "source": []
  },
  {
   "cell_type": "code",
   "execution_count": 5,
   "metadata": {},
   "outputs": [
    {
     "name": "stdout",
     "output_type": "stream",
     "text": [
      "2022.12.08 17:37:16.242 laboneq.compiler.workflow.compiler INFO   Starting LabOne Q Compiler run...\n",
      "2022.12.08 17:37:16.267 laboneq.compiler.workflow.compiler INFO   Total seqC lines generated: 40\n",
      "2022.12.08 17:37:16.267 laboneq.compiler.workflow.compiler INFO   Total sample points generated: 4048\n",
      "2022.12.08 17:37:16.268 laboneq.compiler.workflow.compiler INFO   Finished LabOne Q Compiler run.\n",
      "2022.12.08 17:37:17.056 laboneq.controller.controller  INFO   Starting near-time execution...\n",
      "2022.12.08 17:37:18.088 laboneq.controller.controller  INFO   Finished near-time execution.\n",
      "4.94501520096053e-05 -2.535006537544249 -4.062819251076954e-05 -2.8189847588820358e-05\n",
      "2022.12.08 17:37:18.436 laboneq.compiler.workflow.compiler INFO   Starting LabOne Q Compiler run...\n",
      "2022.12.08 17:37:18.462 laboneq.compiler.workflow.compiler INFO   Total seqC lines generated: 40\n",
      "2022.12.08 17:37:18.462 laboneq.compiler.workflow.compiler INFO   Total sample points generated: 4048\n",
      "2022.12.08 17:37:18.462 laboneq.compiler.workflow.compiler INFO   Finished LabOne Q Compiler run.\n",
      "2022.12.08 17:37:19.200 laboneq.controller.controller  INFO   Starting near-time execution...\n",
      "2022.12.08 17:37:20.224 laboneq.controller.controller  INFO   Finished near-time execution.\n",
      "6.060924243878524e-05 -1.4065018902996704 9.913024007133885e-06 -5.979307839572599e-05\n",
      "PulseFunctional(function='gaussian', uid='drive0', amplitude=0.8, length=3.9000000000000005e-08, pulse_parameters={'sigma': 0.4})\n",
      "PulseFunctional(function='gaussian', uid='drive0', amplitude=0.8, length=3.9000000000000005e-08, pulse_parameters={'sigma': 0.4})\n",
      "2022.12.08 17:37:20.559 laboneq.compiler.workflow.compiler INFO   Starting LabOne Q Compiler run...\n",
      "2022.12.08 17:37:20.587 laboneq.compiler.workflow.compiler INFO   Total seqC lines generated: 56\n",
      "2022.12.08 17:37:20.587 laboneq.compiler.workflow.compiler INFO   Total sample points generated: 6048\n",
      "2022.12.08 17:37:20.588 laboneq.compiler.workflow.compiler INFO   Finished LabOne Q Compiler run.\n",
      "2022.12.08 17:37:21.340 laboneq.controller.controller  INFO   Starting near-time execution...\n",
      "2022.12.08 17:37:22.872 laboneq.controller.controller  INFO   Finished near-time execution.\n",
      "[5.962013955870329e-05, 5.954182621117491e-05] [-1.3998675923811847, -1.4594535713437702] [1.0141243989797403e-05, 6.61586149485828e-06] [-5.875130816704132e-05, -5.9173131108997496e-05]\n"
     ]
    }
   ],
   "source": [
    "sequence = PulseSequence()\n",
    "qd_pulse = Device.create_RX_pulse(0, start=0) \n",
    "ro_pulse = Device.create_qubit_readout_pulse(0, start=qd_pulse.finish)\n",
    "sequence.add(qd_pulse)\n",
    "sequence.add(ro_pulse)\n",
    "\n",
    "msr, phase, i, q = Device.execute_pulse_sequence_NoSamples(sequence)\n",
    "print(msr, phase, i , q)\n",
    "\n",
    "sequence2 = PulseSequence()\n",
    "qd2_pulse = Device.create_RX90_pulse(0, start=0) \n",
    "ro2_pulse = Device.create_qubit_readout_pulse(0, start=qd2_pulse.finish)\n",
    "sequence2.add(qd2_pulse)\n",
    "sequence2.add(ro2_pulse)\n",
    "\n",
    "msr, phase, i, q = Device.execute_pulse_sequence_NoSamples(sequence2)\n",
    "print(msr, phase, i , q)\n",
    "\n",
    "sequences = [ sequence2, sequence2]\n",
    "\n",
    "msr, phase, i, q = Device.execute_pulse_sequences(sequences)\n",
    "print(msr, phase, i , q)"
   ]
  },
  {
   "cell_type": "code",
   "execution_count": 20,
   "metadata": {},
   "outputs": [
    {
     "data": {
      "text/plain": [
       "[[PulseFunctional(function='gaussian', uid='drive0', amplitude=0.8, length=8e-08, pulse_parameters={'sigma': 0.4})],\n",
       " [PulseFunctional(function='gaussian', uid='drive0', amplitude=0.8, length=4e-08, pulse_parameters={'sigma': 0.4})]]"
      ]
     },
     "execution_count": 20,
     "metadata": {},
     "output_type": "execute_result"
    }
   ],
   "source": [
    "Device.sequence_drive"
   ]
  },
  {
   "cell_type": "code",
   "execution_count": 21,
   "metadata": {},
   "outputs": [
    {
     "data": {
      "text/plain": [
       "[[PulseFunctional(function='const', uid='readout_0_1', amplitude=0.1, length=1.0000000000000002e-06, pulse_parameters=None)],\n",
       " [PulseFunctional(function='const', uid='readout_1_1', amplitude=0.1, length=1.0000000000000002e-06, pulse_parameters=None)]]"
      ]
     },
     "execution_count": 21,
     "metadata": {},
     "output_type": "execute_result"
    }
   ],
   "source": [
    "Device.sequence_readout"
   ]
  },
  {
   "cell_type": "markdown",
   "metadata": {},
   "source": [
    "------------------------------------"
   ]
  },
  {
   "cell_type": "markdown",
   "metadata": {},
   "source": [
    "# Rabi Amplitude"
   ]
  },
  {
   "cell_type": "markdown",
   "metadata": {},
   "source": [
    "Something wrong"
   ]
  },
  {
   "cell_type": "code",
   "execution_count": null,
   "metadata": {},
   "outputs": [],
   "source": [
    "def rabi_pulse_amp(\n",
    "    platform,\n",
    "    qubit: int,\n",
    "    Amp_start,\n",
    "    Amp_end,\n",
    "    Amp_step,\n",
    "    software_averages,\n",
    "):\n",
    "    platform.reload_settings()\n",
    "    platform.apply_settings()\n",
    "\n",
    "    data = DataUnits(name=f\"data_q{qubit}\", quantities={\"Amp\": \"A\"})\n",
    "\n",
    "    sequence = PulseSequence()\n",
    "    qd_pulse = platform.create_RX_pulse(qubit, start=0)\n",
    "    ro_pulse = platform.create_qubit_readout_pulse(qubit, start=qd_pulse.finish)\n",
    "    sequence.add(qd_pulse)\n",
    "    sequence.add(ro_pulse)\n",
    "\n",
    "    qd_amp_range = np.arange(\n",
    "        Amp_start, Amp_end, Amp_step\n",
    "    )\n",
    "\n",
    "    for _ in range(software_averages):\n",
    "        for Amp in qd_amp_range:\n",
    "\n",
    "            qd_pulse.amplitude = Amp\n",
    "\n",
    "            # platform.reload_settings()\n",
    "            \n",
    "            # platform.native_gates[\"single_qubit\"][qubit][\"RX\"][\"amplitude\"] = Amp \n",
    "\n",
    "            # platform.apply_settings()\n",
    "\n",
    "            # sequence = PulseSequence()\n",
    "            # qd_pulse = platform.create_RX_pulse(qubit, start=0)\n",
    "            # ro_pulse = platform.create_qubit_readout_pulse(qubit, start=qd_pulse.finish)\n",
    "            # sequence.add(qd_pulse)\n",
    "            # sequence.add(ro_pulse)\n",
    "            \n",
    "            # msr, phase, i, q = platform.execute_pulse_sequence(sequence)\n",
    "            msr, phase, i, q = platform.execute_pulse_sequence_NoSamples(sequence)\n",
    "\n",
    "            \n",
    "            results = {\n",
    "                \"MSR[V]\": msr,\n",
    "                \"i[V]\": i,\n",
    "                \"q[V]\": q,\n",
    "                \"phase[rad]\": phase,\n",
    "                \"Amp[A]\": Amp,\n",
    "            }\n",
    "            \n",
    "            \n",
    "            data.add(results)\n",
    "            \n",
    "        # Plot simulated output signals\n",
    "    if use_emulation == True:\n",
    "        Device.plot_output_signals()\n",
    "    else:\n",
    "        lo.show_pulse_sheet(\"Pulse_sheet\",Device.exp)\n",
    "            \n",
    "    return data"
   ]
  },
  {
   "cell_type": "code",
   "execution_count": null,
   "metadata": {},
   "outputs": [],
   "source": [
    "import plotly.graph_objects as go\n",
    "from plotly.subplots import make_subplots\n",
    "\n",
    "def amplitude_msr_phase(data):\n",
    "\n",
    "    # try:\n",
    "    #     data_fit = Data.load_data(folder, routine, format, f\"fit_q{qubit}\")\n",
    "    # except:\n",
    "    #     data_fit = DataUnits()\n",
    "\n",
    "    fig = make_subplots(\n",
    "        rows=1,\n",
    "        cols=2,\n",
    "        horizontal_spacing=0.1,\n",
    "        vertical_spacing=0.1,\n",
    "        subplot_titles=(\n",
    "            \"MSR (V)\",\n",
    "            \"phase (rad)\",\n",
    "        ),\n",
    "    )\n",
    "\n",
    "    fig.add_trace(\n",
    "        go.Scatter(\n",
    "            x=data.get_values(\"amplitude\", \"dimensionless\"),\n",
    "            y=data.get_values(\"MSR\", \"uV\"),\n",
    "            name=\"Rabi Oscillations\",\n",
    "        ),\n",
    "        row=1,\n",
    "        col=1,\n",
    "    )\n",
    "    fig.add_trace(\n",
    "        go.Scatter(\n",
    "            x=data.get_values(\"amplitude\", \"dimensionless\"),\n",
    "            y=data.get_values(\"phase\", \"rad\"),\n",
    "            name=\"Rabi Oscillations\",\n",
    "        ),\n",
    "        row=1,\n",
    "        col=2,\n",
    "    )\n",
    "\n",
    "    # # add fitting trace\n",
    "    # if len(data) > 0 and len(data_fit) > 0:\n",
    "    #     amplituderange = np.linspace(\n",
    "    #         min(data.get_values(\"amplitude\", \"dimensionless\")),\n",
    "    #         max(data.get_values(\"amplitude\", \"dimensionless\")),\n",
    "    #         2 * len(data),\n",
    "    #     )\n",
    "    #     params = [i for i in list(data_fit.df.keys()) if \"popt\" not in i]\n",
    "    #     fig.add_trace(\n",
    "    #         go.Scatter(\n",
    "    #             x=amplituderange,\n",
    "    #             y=rabi(\n",
    "    #                 amplituderange,\n",
    "    #                 data_fit.get_values(\"popt0\"),\n",
    "    #                 data_fit.get_values(\"popt1\"),\n",
    "    #                 data_fit.get_values(\"popt2\"),\n",
    "    #                 data_fit.get_values(\"popt3\"),\n",
    "    #                 data_fit.get_values(\"popt4\"),\n",
    "    #             ),\n",
    "    #             name=\"Fit\",\n",
    "    #             line=go.scatter.Line(dash=\"dot\"),\n",
    "    #         ),\n",
    "    #         row=1,\n",
    "    #         col=1,\n",
    "    #     )\n",
    "\n",
    "    #     fig.add_annotation(\n",
    "    #         dict(\n",
    "    #             font=dict(color=\"black\", size=12),\n",
    "    #             x=0,\n",
    "    #             y=-0.30,\n",
    "    #             showarrow=False,\n",
    "    #             text=f\"Estimated {params[0]} is {data_fit.df[params[0]][0]:.3f} uV.\",\n",
    "    #             textangle=0,\n",
    "    #             xanchor=\"left\",\n",
    "    #             xref=\"paper\",\n",
    "    #             yref=\"paper\",\n",
    "    #         )\n",
    "    #     )\n",
    "\n",
    "    #     fig.add_annotation(\n",
    "    #         dict(\n",
    "    #             font=dict(color=\"black\", size=12),\n",
    "    #             x=0,\n",
    "    #             y=-0.25,\n",
    "    #             showarrow=False,\n",
    "    #             text=f\"Estimated {params[1]} is {data_fit.df[params[1]][0]:.4f}\",\n",
    "    #             textangle=0,\n",
    "    #             xanchor=\"left\",\n",
    "    #             xref=\"paper\",\n",
    "    #             yref=\"paper\",\n",
    "    #         )\n",
    "    #     )\n",
    "\n",
    "    fig.update_layout(\n",
    "        showlegend=True,\n",
    "        uirevision=\"0\",  # ``uirevision`` allows zooming while live plotting\n",
    "        xaxis_title=\"Amplitude (dimensionless)\",\n",
    "        yaxis_title=\"MSR (uV)\",\n",
    "    )\n",
    "    return fig"
   ]
  },
  {
   "cell_type": "code",
   "execution_count": null,
   "metadata": {},
   "outputs": [],
   "source": [
    "data = rabi_pulse_amp(Device,\n",
    "    qubit = 0,\n",
    "    Amp_start = 0.8,\n",
    "    Amp_end = 1,\n",
    "    Amp_step = 0.3,\n",
    "    software_averages = 1,\n",
    ")\n",
    "\n",
    "amplitude_msr_phase(data)"
   ]
  },
  {
   "cell_type": "markdown",
   "metadata": {},
   "source": [
    "---------------------------------------------------"
   ]
  },
  {
   "cell_type": "markdown",
   "metadata": {},
   "source": [
    "# Rabi Power"
   ]
  },
  {
   "cell_type": "markdown",
   "metadata": {},
   "source": [
    "Already at max drive_range"
   ]
  },
  {
   "cell_type": "code",
   "execution_count": null,
   "metadata": {},
   "outputs": [],
   "source": [
    "from qibocal.data import DataUnits\n",
    "from qibolab.pulses import Pulse, PulseSequence\n",
    "import laboneq.simple as lo\n",
    "import numpy as np\n",
    "\n",
    "def rabi_pulse_drive_range(\n",
    "    platform,\n",
    "    qubit: int,\n",
    "    drive_range_start,\n",
    "    drive_range_end,\n",
    "    drive_range_step,\n",
    "    software_averages,\n",
    "):\n",
    "    platform.reload_settings()\n",
    "    platform.apply_settings()\n",
    "\n",
    "    data = DataUnits(name=f\"data_q{qubit}\", quantities={\"Drive_range\": \"dimensionless\"})\n",
    "\n",
    "    sequence = PulseSequence()\n",
    "    qd_pulse = platform.create_qubit_RX_pulse(qubit, start=0)\n",
    "    ro_pulse = platform.create_qubit_readout_pulse(qubit, start=qd_pulse.finish)\n",
    "    sequence.add(qd_pulse)\n",
    "    sequence.add(ro_pulse)\n",
    "\n",
    "    qd_pulse_drive_range_range = np.arange(\n",
    "        drive_range_start, drive_range_end,drive_range_step\n",
    "    )\n",
    "\n",
    "    # platform.instruments[\"shfqc_qa\"][\"settings\"][\"lo_frequency\"] = (\n",
    "    #     platform.characterization[\"single_qubit\"][qubit][\"resonator_freq\"]\n",
    "    #     - ro_pulse.frequency\n",
    "    # )\n",
    "    # platform.instruments[\"shfqc_qc\"][\"settings\"][\"lo_frequency\"] = (\n",
    "    #     platform.characterization[\"single_qubit\"][qubit][\"qubit_freq\"]\n",
    "    #     - qd_pulse.frequency\n",
    "    # )\n",
    "\n",
    "    for _ in range(software_averages):\n",
    "        for drive_range in qd_pulse_drive_range_range:\n",
    "            \n",
    "            platform.reload_settings()\n",
    "            \n",
    "            platform.instruments[\"shfqc_qc\"][\"settings\"][\"drive_range\"] = drive_range\n",
    "            \n",
    "            platform.apply_settings()\n",
    "    \n",
    "            # msr, phase, i, q = platform.execute_pulse_sequence(sequence)\n",
    "            msr, phase, i, q = platform.execute_pulse_sequence_NoSamples(sequence)\n",
    "\n",
    "            \n",
    "            results = {\n",
    "                \"MSR[V]\": msr,\n",
    "                \"i[V]\": i,\n",
    "                \"q[V]\": q,\n",
    "                \"phase[rad]\": phase,\n",
    "                \"Drive_range[dimensionless]\": drive_range,\n",
    "            }\n",
    "            \n",
    "            \n",
    "            data.add(results)\n",
    "            \n",
    "        # Plot simulated output signals\n",
    "    if use_emulation == True:\n",
    "        Device.plot_output_signals()\n",
    "    else:\n",
    "        lo.show_pulse_sheet(\"Pulse_sheet\",Device.exp)\n",
    "            \n",
    "    return data"
   ]
  },
  {
   "cell_type": "code",
   "execution_count": null,
   "metadata": {},
   "outputs": [],
   "source": [
    "def gain_msr_phase(data):\n",
    "\n",
    "    # try:\n",
    "    #     data_fit = Data.load_data(folder, routine, format, f\"fit_q{qubit}\")\n",
    "    # except:\n",
    "    #     data_fit = Data(\n",
    "    #         quantities=[\n",
    "    #             \"popt0\",\n",
    "    #             \"popt1\",\n",
    "    #             \"popt2\",\n",
    "    #             \"popt3\",\n",
    "    #             \"popt4\",\n",
    "    #             \"label1\",\n",
    "    #             \"label2\",\n",
    "    #         ]\n",
    "    #     )\n",
    "\n",
    "    fig = make_subplots(\n",
    "        rows=1,\n",
    "        cols=2,\n",
    "        horizontal_spacing=0.1,\n",
    "        vertical_spacing=0.1,\n",
    "        subplot_titles=(\n",
    "            \"MSR (V)\",\n",
    "            \"phase (rad)\",\n",
    "        ),\n",
    "    )\n",
    "\n",
    "    fig.add_trace(\n",
    "        go.Scatter(\n",
    "            x=data.get_values(\"gain\", \"dimensionless\"),\n",
    "            y=data.get_values(\"MSR\", \"uV\"),\n",
    "            name=\"Rabi Oscillations\",\n",
    "        ),\n",
    "        row=1,\n",
    "        col=1,\n",
    "    )\n",
    "    fig.add_trace(\n",
    "        go.Scatter(\n",
    "            x=data.get_values(\"gain\", \"dimensionless\"),\n",
    "            y=data.get_values(\"phase\", \"rad\"),\n",
    "            name=\"Rabi Oscillations\",\n",
    "        ),\n",
    "        row=1,\n",
    "        col=2,\n",
    "    )\n",
    "\n",
    "    # # add fitting trace\n",
    "    # if len(data) > 0 and len(data_fit) > 0:\n",
    "    #     gainrange = np.linspace(\n",
    "    #         min(data.get_values(\"gain\", \"dimensionless\")),\n",
    "    #         max(data.get_values(\"gain\", \"dimensionless\")),\n",
    "    #         2 * len(data),\n",
    "    #     )\n",
    "    #     params = [i for i in list(data_fit.df.keys()) if \"popt\" not in i]\n",
    "    #     fig.add_trace(\n",
    "    #         go.Scatter(\n",
    "    #             x=gainrange,\n",
    "    #             y=rabi(\n",
    "    #                 gainrange,\n",
    "    #                 data_fit.get_values(\"popt0\"),\n",
    "    #                 data_fit.get_values(\"popt1\"),\n",
    "    #                 data_fit.get_values(\"popt2\"),\n",
    "    #                 data_fit.get_values(\"popt3\"),\n",
    "    #                 data_fit.get_values(\"popt4\"),\n",
    "    #             ),\n",
    "    #             name=\"Fit\",\n",
    "    #             line=go.scatter.Line(dash=\"dot\"),\n",
    "    #         ),\n",
    "    #         row=1,\n",
    "    #         col=1,\n",
    "    #     )\n",
    "\n",
    "    #     fig.add_annotation(\n",
    "    #         dict(\n",
    "    #             font=dict(color=\"black\", size=12),\n",
    "    #             x=0,\n",
    "    #             y=-0.20,\n",
    "    #             showarrow=False,\n",
    "    #             text=f\"Estimated {params[1]} is {data_fit.df[params[1]][0]:.3f}\",\n",
    "    #             textangle=0,\n",
    "    #             xanchor=\"left\",\n",
    "    #             xref=\"paper\",\n",
    "    #             yref=\"paper\",\n",
    "    #         )\n",
    "    #     )\n",
    "\n",
    "    #     fig.add_annotation(\n",
    "    #         dict(\n",
    "    #             font=dict(color=\"black\", size=12),\n",
    "    #             x=0,\n",
    "    #             y=-0.25,\n",
    "    #             showarrow=False,\n",
    "    #             text=f\"Estimated {params[0]} is {data_fit.df[params[0]][0]:.4f} uV\",\n",
    "    #             textangle=0,\n",
    "    #             xanchor=\"left\",\n",
    "    #             xref=\"paper\",\n",
    "    #             yref=\"paper\",\n",
    "    #         )\n",
    "    #     )\n",
    "\n",
    "    fig.update_layout(\n",
    "        showlegend=True,\n",
    "        uirevision=\"0\",  # ``uirevision`` allows zooming while live plotting\n",
    "        xaxis_title=\"Gain (dimensionless)\",\n",
    "        yaxis_title=\"MSR (uV)\",\n",
    "    )\n",
    "    return fig\n"
   ]
  }
 ],
 "metadata": {
  "kernelspec": {
   "display_name": "Python 3.9.13 ('JQibo')",
   "language": "python",
   "name": "python3"
  },
  "language_info": {
   "codemirror_mode": {
    "name": "ipython",
    "version": 3
   },
   "file_extension": ".py",
   "mimetype": "text/x-python",
   "name": "python",
   "nbconvert_exporter": "python",
   "pygments_lexer": "ipython3",
   "version": "3.9.13"
  },
  "orig_nbformat": 4,
  "vscode": {
   "interpreter": {
    "hash": "f353bd5fd81425b5652546a01bae5f32b1385e41b0e8c3de3b348335c6a3ea5c"
   }
  }
 },
 "nbformat": 4,
 "nbformat_minor": 2
}
