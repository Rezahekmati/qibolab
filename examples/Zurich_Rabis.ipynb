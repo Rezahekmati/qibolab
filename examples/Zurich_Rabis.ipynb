{
 "cells": [
  {
   "cell_type": "markdown",
   "metadata": {},
   "source": [
    "# Rabi Lenght"
   ]
  },
  {
   "cell_type": "code",
   "execution_count": 1,
   "metadata": {},
   "outputs": [
    {
     "name": "stdout",
     "output_type": "stream",
     "text": [
      "2023.01.10 11:54:28.330 laboneq.controller.laboneq_logging INFO   Logging initialized from [Default inline config in laboneq.controller.laboneq_logging] logdir is /home/admin/Juan/qibolab/examples/laboneq_output/log\n",
      "2023.01.10 11:54:28.331 laboneq.controller.controller  INFO   VERSION: laboneq 1.4.0\n",
      "2023.01.10 11:54:28.332 laboneq.controller.devices.device_collection INFO   Connecting to data server at localhost:8004\n",
      "2023.01.10 11:54:28.425 laboneq.controller.communication INFO   Connected to Zurich Instrument's Data Server version 22.08 at localhost:8004\n",
      "2023.01.10 11:54:29.039 laboneq.controller.devices.device_collection INFO   Configuring clock sources\n",
      "2023.01.10 11:54:29.042 laboneq.controller.devices.device_collection INFO   Clock sources configured\n"
     ]
    }
   ],
   "source": [
    "from qibolab.paths import qibolab_folder\n",
    "from qibolab.instruments.zhinst import SHFQC_QA\n",
    "\n",
    "# runcard = \"/home/admin/Juan/qibolab/src/qibolab/runcards/zhinst.yml\"\n",
    "runcard = qibolab_folder / \"runcards\" / \"zhinst.yml\"\n",
    "use_emulation = False\n",
    "Device = SHFQC_QA('EL_ZURO', \"DEV12146\", runcard, use_emulation=use_emulation)"
   ]
  },
  {
   "cell_type": "code",
   "execution_count": 22,
   "metadata": {},
   "outputs": [
    {
     "name": "stdout",
     "output_type": "stream",
     "text": [
      "2023.01.10 16:17:46.803 laboneq.compiler.workflow.compiler INFO   Starting LabOne Q Compiler run...\n",
      "2023.01.10 16:17:46.825 laboneq.compiler.workflow.compiler INFO   Total seqC lines generated: 13\n",
      "2023.01.10 16:17:46.825 laboneq.compiler.workflow.compiler INFO   Total sample points generated: 2000\n",
      "2023.01.10 16:17:46.826 laboneq.compiler.workflow.compiler INFO   Finished LabOne Q Compiler run.\n",
      "2023.01.10 16:17:47.573 laboneq.controller.controller  INFO   Starting near-time execution...\n",
      "2023.01.10 16:17:47.753 laboneq.controller.util        CRITICAL The number of measurements (0) executed for device dev12146 on channel 0 does not match the number of measurements defined (1000). Probably the time between measurements or within a loop is too short. Please contact Zurich Instruments.\n"
     ]
    },
    {
     "name": "stderr",
     "output_type": "stream",
     "text": [
      "2023.01.10 16:17:47.753 laboneq.controller.util        CRITICAL The number of measurements (0) executed for device dev12146 on channel 0 does not match the number of measurements defined (1000). Probably the time between measurements or within a loop is too short. Please contact Zurich Instruments.\n"
     ]
    },
    {
     "name": "stdout",
     "output_type": "stream",
     "text": [
      "2023.01.10 16:17:47.758 laboneq.controller.controller  INFO   Step retry 2 of 3...\n",
      "2023.01.10 16:17:49.223 laboneq.controller.controller  WARNING Stop conditions still not fulfilled after 1.000000 s, estimated execution time was 0.05 s. Continuing to the next step.\n",
      "2023.01.10 16:17:49.285 laboneq.controller.controller  INFO   Finished near-time execution.\n",
      "2.7470000935276317e-05 -1.630477875879376 -1.6384791251522303e-06 -2.7421092931182048e-05\n"
     ]
    }
   ],
   "source": [
    "from qibolab.pulses import PulseSequence\n",
    "\n",
    "sequence = PulseSequence()\n",
    "ro_pulse = Device.create_qubit_readout_pulse(0, start=0)\n",
    "sequence.add(ro_pulse)\n",
    "    \n",
    "msr, phase, i, q = Device.execute_pulse_sequence_NoSamples(sequence)\n",
    "print(msr, phase, i , q)"
   ]
  },
  {
   "cell_type": "code",
   "execution_count": 3,
   "metadata": {},
   "outputs": [
    {
     "name": "stdout",
     "output_type": "stream",
     "text": [
      "2023.01.10 11:54:31.454 laboneq.compiler.workflow.compiler INFO   Starting LabOne Q Compiler run...\n",
      "2023.01.10 11:54:31.480 laboneq.compiler.workflow.compiler INFO   Total seqC lines generated: 28\n",
      "2023.01.10 11:54:31.480 laboneq.compiler.workflow.compiler INFO   Total sample points generated: 6000\n",
      "2023.01.10 11:54:31.480 laboneq.compiler.workflow.compiler INFO   Finished LabOne Q Compiler run.\n",
      "2023.01.10 11:54:32.332 laboneq.controller.controller  INFO   Starting near-time execution...\n",
      "2023.01.10 11:54:32.936 laboneq.controller.controller  INFO   Finished near-time execution.\n",
      "2.9862574382601845e-06 0.17001394553427934 2.9432027953420176e-06 5.052630929082512e-07\n"
     ]
    }
   ],
   "source": [
    "sequence_exc = PulseSequence()\n",
    "qd_pulse = Device.create_qubit_drive_pulse(0, start=0, duration=1000) \n",
    "ro_pulse = Device.create_qubit_readout_pulse(0, start=1000)\n",
    "sequence_exc.add(qd_pulse)\n",
    "sequence_exc.add(ro_pulse)\n",
    "    \n",
    "msr, phase, i, q = Device.execute_pulse_sequence_NoSamples(sequence_exc)\n",
    "print(msr, phase, i , q)"
   ]
  },
  {
   "cell_type": "code",
   "execution_count": 4,
   "metadata": {},
   "outputs": [],
   "source": [
    "from qibocal.data import DataUnits\n",
    "from qibolab.pulses import Pulse, PulseSequence\n",
    "import laboneq.simple as lo\n",
    "import numpy as np\n",
    "\n",
    "def rabi_pulse_length(\n",
    "    platform,\n",
    "    qubit: int,\n",
    "    pulse_duration_start,\n",
    "    pulse_duration_end,\n",
    "    pulse_duration_step,\n",
    "    software_averages,\n",
    "):\n",
    "    platform.reload_settings()\n",
    "    platform.apply_settings()\n",
    "\n",
    "    data = DataUnits(name=f\"data_q{qubit}\", quantities={\"Time\": \"ns\"})\n",
    "\n",
    "    sequence = PulseSequence()\n",
    "    qd_pulse = platform.create_qubit_drive_pulse(qubit, start=0, duration=4)\n",
    "    ro_pulse = platform.create_qubit_readout_pulse(qubit, start=4)\n",
    "    sequence.add(qd_pulse)\n",
    "    sequence.add(ro_pulse)\n",
    "\n",
    "    qd_pulse_duration_range = np.arange(\n",
    "        pulse_duration_start, pulse_duration_end, pulse_duration_step\n",
    "    )\n",
    "\n",
    "    # platform.instruments[\"shfqc_qa\"][\"settings\"][\"lo_frequency\"] = (\n",
    "    #     platform.characterization[\"single_qubit\"][qubit][\"resonator_freq\"]\n",
    "    #     - ro_pulse.frequency\n",
    "    # )\n",
    "    # platform.instruments[\"shfqc_qc\"][\"settings\"][\"lo_frequency\"] = (\n",
    "    #     platform.characterization[\"single_qubit\"][qubit][\"qubit_freq\"]\n",
    "    #     - qd_pulse.frequency\n",
    "    # )\n",
    "\n",
    "    for _ in range(software_averages):\n",
    "        for duration in qd_pulse_duration_range:\n",
    "            qd_pulse.duration = duration\n",
    "            ro_pulse.start = duration\n",
    "    \n",
    "            # msr, phase, i, q = platform.execute_pulse_sequence(sequence)\n",
    "            msr, phase, i, q = platform.execute_pulse_sequence_NoSamples(sequence)\n",
    "\n",
    "            \n",
    "            results = {\n",
    "                \"MSR[V]\": msr,\n",
    "                \"i[V]\": i,\n",
    "                \"q[V]\": q,\n",
    "                \"phase[rad]\": phase,\n",
    "                \"Time[ns]\": duration,\n",
    "            }\n",
    "            \n",
    "            \n",
    "            data.add(results)\n",
    "            \n",
    "        # Plot simulated output signals\n",
    "    if use_emulation == True:\n",
    "        Device.plot_output_signals()\n",
    "    else:\n",
    "        lo.show_pulse_sheet(\"Pulse_sheet\",Device.exp)\n",
    "            \n",
    "    return data\n",
    "            "
   ]
  },
  {
   "cell_type": "code",
   "execution_count": 5,
   "metadata": {},
   "outputs": [],
   "source": [
    "import plotly.graph_objects as go\n",
    "from plotly.subplots import make_subplots\n",
    "\n",
    "# For Rabi oscillations\n",
    "def time_msr_phase(data):\n",
    "\n",
    "    # try:\n",
    "    #     data_fit = Data.load_data(folder, routine, format, f\"fit_q{qubit}\")\n",
    "    # except:\n",
    "    #     data_fit = Data(\n",
    "    #         quantities=[\n",
    "    #             \"popt0\",\n",
    "    #             \"popt1\",\n",
    "    #             \"popt2\",\n",
    "    #             \"popt3\",\n",
    "    #             \"popt4\",\n",
    "    #             \"label1\",\n",
    "    #             \"label2\",\n",
    "    #         ]\n",
    "    #     )\n",
    "\n",
    "    fig = make_subplots(\n",
    "        rows=1,\n",
    "        cols=2,\n",
    "        horizontal_spacing=0.1,\n",
    "        vertical_spacing=0.1,\n",
    "        subplot_titles=(\n",
    "            \"MSR (V)\",\n",
    "            \"phase (rad)\",\n",
    "        ),\n",
    "    )\n",
    "\n",
    "    fig.add_trace(\n",
    "        go.Scatter(\n",
    "            x=data.get_values(\"Time\", \"ns\"),\n",
    "            y=data.get_values(\"MSR\", \"uV\"),\n",
    "            name=\"Rabi Oscillations\",\n",
    "        ),\n",
    "        row=1,\n",
    "        col=1,\n",
    "    )\n",
    "    fig.add_trace(\n",
    "        go.Scatter(\n",
    "            x=data.get_values(\"Time\", \"ns\"),\n",
    "            y=data.get_values(\"phase\", \"rad\"),\n",
    "            name=\"Rabi Oscillations\",\n",
    "        ),\n",
    "        row=1,\n",
    "        col=2,\n",
    "    )\n",
    "\n",
    "    # # add fitting trace\n",
    "    # if len(data) > 0 and len(data_fit) > 0:\n",
    "    #     timerange = np.linspace(\n",
    "    #         min(data.get_values(\"Time\", \"ns\")),\n",
    "    #         max(data.get_values(\"Time\", \"ns\")),\n",
    "    #         2 * len(data),\n",
    "    #     )\n",
    "    #     params = [i for i in list(data_fit.df.keys()) if \"popt\" not in i]\n",
    "    #     fig.add_trace(\n",
    "    #         go.Scatter(\n",
    "    #             x=timerange,\n",
    "    #             y=rabi(\n",
    "    #                 timerange,\n",
    "    #                 data_fit.get_values(\"popt0\"),\n",
    "    #                 data_fit.get_values(\"popt1\"),\n",
    "    #                 data_fit.get_values(\"popt2\"),\n",
    "    #                 data_fit.get_values(\"popt3\"),\n",
    "    #                 data_fit.get_values(\"popt4\"),\n",
    "    #             ),\n",
    "    #             name=\"Fit\",\n",
    "    #             line=go.scatter.Line(dash=\"dot\"),\n",
    "    #         ),\n",
    "    #         row=1,\n",
    "    #         col=1,\n",
    "    #     )\n",
    "\n",
    "    #     fig.add_annotation(\n",
    "    #         dict(\n",
    "    #             font=dict(color=\"black\", size=12),\n",
    "    #             x=0,\n",
    "    #             y=-0.20,\n",
    "    #             showarrow=False,\n",
    "    #             text=f\"Estimated {params[1]} is {data_fit.df[params[1]][0]:.3f} ns.\",\n",
    "    #             textangle=0,\n",
    "    #             xanchor=\"left\",\n",
    "    #             xref=\"paper\",\n",
    "    #             yref=\"paper\",\n",
    "    #         )\n",
    "    #     )\n",
    "\n",
    "    #     fig.add_annotation(\n",
    "    #         dict(\n",
    "    #             font=dict(color=\"black\", size=12),\n",
    "    #             x=0,\n",
    "    #             y=-0.30,\n",
    "    #             showarrow=False,\n",
    "    #             text=f\"Estimated {params[0]} is {data_fit.df[params[0]][0]:.1f} uV.\",\n",
    "    #             textangle=0,\n",
    "    #             xanchor=\"left\",\n",
    "    #             xref=\"paper\",\n",
    "    #             yref=\"paper\",\n",
    "    #         )\n",
    "    #     )\n",
    "\n",
    "    # last part\n",
    "    fig.update_layout(\n",
    "        showlegend=True,\n",
    "        uirevision=\"0\",  # ``uirevision`` allows zooming while live plotting\n",
    "        xaxis_title=\"Time (ns)\",\n",
    "        yaxis_title=\"MSR (uV)\",\n",
    "        xaxis2_title=\"Time (ns)\",\n",
    "        yaxis2_title=\"Phase (rad)\",\n",
    "    )\n",
    "    return fig"
   ]
  },
  {
   "cell_type": "code",
   "execution_count": 6,
   "metadata": {},
   "outputs": [],
   "source": [
    "def rabi_pulse_length_sequences(\n",
    "    platform,\n",
    "    qubit: int,\n",
    "    pulse_duration_start,\n",
    "    pulse_duration_end,\n",
    "    pulse_duration_step,\n",
    "):\n",
    "\n",
    "    sequences = []\n",
    "\n",
    "    # sequence = PulseSequence()\n",
    "    # qd_pulse = platform.create_qubit_drive_pulse(qubit, start=0, duration=4)\n",
    "    # ro_pulse = platform.create_qubit_readout_pulse(qubit, start=4)\n",
    "    # sequence.add(qd_pulse)\n",
    "    # sequence.add(ro_pulse)\n",
    "\n",
    "    qd_pulse_duration_range = np.arange(\n",
    "        pulse_duration_start, pulse_duration_end, pulse_duration_step\n",
    "    )\n",
    "\n",
    "    durations = []\n",
    "    for duration in qd_pulse_duration_range:\n",
    "        \n",
    "        sequence = PulseSequence()\n",
    "        qd_pulse = platform.create_qubit_drive_pulse(qubit, start=0, duration=duration)\n",
    "        ro_pulse = platform.create_qubit_readout_pulse(qubit, start=duration)\n",
    "        sequence.add(qd_pulse)\n",
    "        sequence.add(ro_pulse)\n",
    "        \n",
    "        # qd_pulse.duration = duration\n",
    "        # ro_pulse.start = duration\n",
    "\n",
    "        sequences.append(sequence)\n",
    "        durations.append(duration)\n",
    "        \n",
    "    return sequences, durations\n",
    "            "
   ]
  },
  {
   "cell_type": "code",
   "execution_count": 7,
   "metadata": {},
   "outputs": [],
   "source": [
    "Device.reload_settings()\n",
    "Device.apply_settings()"
   ]
  },
  {
   "cell_type": "code",
   "execution_count": 12,
   "metadata": {},
   "outputs": [
    {
     "name": "stdout",
     "output_type": "stream",
     "text": [
      "2023.01.10 11:56:17.040 laboneq.compiler.workflow.compiler INFO   Starting LabOne Q Compiler run...\n",
      "2023.01.10 11:56:17.775 laboneq.compiler.workflow.compiler INFO   Total seqC lines generated: 559\n",
      "2023.01.10 11:56:17.776 laboneq.compiler.workflow.compiler INFO   Total sample points generated: 482880\n",
      "2023.01.10 11:56:17.776 laboneq.compiler.workflow.compiler INFO   Finished LabOne Q Compiler run.\n",
      "2023.01.10 11:56:18.587 laboneq.controller.controller  INFO   Starting near-time execution...\n",
      "2023.01.10 11:56:22.238 laboneq.controller.controller  INFO   Finished near-time execution.\n"
     ]
    },
    {
     "name": "stderr",
     "output_type": "stream",
     "text": [
      "/opt/anaconda3/envs/JQibo/lib/python3.9/site-packages/pandas/core/construction.py:617: UnitStrippedWarning:\n",
      "\n",
      "The unit of the quantity is stripped when downcasting to ndarray.\n",
      "\n",
      "/opt/anaconda3/envs/JQibo/lib/python3.9/site-packages/pint_pandas/pint_array.py:227: RuntimeWarning:\n",
      "\n",
      "pint-pandas does not support magnitudes of int64. Converting magnitudes to float.\n",
      "\n"
     ]
    },
    {
     "data": {
      "application/vnd.plotly.v1+json": {
       "config": {
        "plotlyServerURL": "https://plot.ly"
       },
       "data": [
        {
         "name": "Rabi Oscillations",
         "type": "scatter",
         "x": [
          20,
          25,
          30,
          35,
          40,
          45,
          50,
          55,
          60,
          65,
          70,
          75,
          80,
          85,
          90,
          95,
          100,
          105,
          110,
          115,
          120,
          125,
          130,
          135,
          140,
          145,
          150,
          155,
          160,
          165,
          170,
          175,
          180,
          185,
          190,
          195,
          200,
          205,
          210,
          215,
          220,
          225,
          230,
          235,
          240,
          245,
          250,
          255,
          260,
          265,
          270,
          275,
          280,
          285,
          290,
          295,
          300,
          305,
          310,
          315
         ],
         "xaxis": "x",
         "y": [
          5.407850364246547,
          2.215252145794948,
          3.9772852160326377,
          5.928334550157889,
          7.679881003631101,
          5.162205618435097,
          1.9676680118741472,
          1.6806149908563173,
          4.89461898693413,
          2.76236454589535,
          1.6455512870934488,
          4.221579577032885,
          4.6627322882767706,
          3.590099975795482,
          5.3239110451584715,
          4.286066084486247,
          2.738248767969151,
          3.2497463167437783,
          4.955168182101467,
          1.764922531191102,
          0.9784687922696401,
          2.7301085277153407,
          3.6846862826187876,
          2.283957198502049,
          2.5130023851820864,
          5.778776375681883,
          2.196555708090901,
          2.8585658343821145,
          3.1289231742177273,
          4.057748401422197,
          4.428638866107159,
          3.733289532647165,
          5.096334053203579,
          4.026943696293166,
          2.065148352299217,
          4.0162295790751665,
          1.3901778958293922,
          2.472280988058554,
          4.0723208381173785,
          1.8364738566627714,
          4.356531331891764,
          3.30654533178149,
          3.9890983300545413,
          5.721172909694581,
          1.2653706141661383,
          4.714706237407643,
          4.964740202739418,
          2.7070379381897887,
          4.159616250336785,
          2.196137041717705,
          4.699006114541264,
          0.5758204570120388,
          2.5808260334459208,
          5.7238142725683545,
          3.3598083656427975,
          4.298137783786858,
          6.009718103092347,
          4.180603503949886,
          1.2214663579856762,
          4.166382020829974
         ],
         "yaxis": "y"
        },
        {
         "name": "Rabi Oscillations",
         "type": "scatter",
         "x": [
          20,
          25,
          30,
          35,
          40,
          45,
          50,
          55,
          60,
          65,
          70,
          75,
          80,
          85,
          90,
          95,
          100,
          105,
          110,
          115,
          120,
          125,
          130,
          135,
          140,
          145,
          150,
          155,
          160,
          165,
          170,
          175,
          180,
          185,
          190,
          195,
          200,
          205,
          210,
          215,
          220,
          225,
          230,
          235,
          240,
          245,
          250,
          255,
          260,
          265,
          270,
          275,
          280,
          285,
          290,
          295,
          300,
          305,
          310,
          315
         ],
         "xaxis": "x2",
         "y": [
          -2.750868061829089,
          -2.2066288055416288,
          -2.1528704417711597,
          -2.2273062544211957,
          -2.877212769725686,
          -2.1021024619998974,
          -1.4927515223594512,
          -2.2039414156314145,
          -2.8746950499257093,
          -2.3712272442980282,
          -1.7997179992828862,
          2.679883031937284,
          -2.106577955237529,
          -2.5959963682616394,
          -2.242767517307992,
          -1.1895551608221426,
          -2.0738015604693754,
          -2.4321835906233327,
          -2.509167513940586,
          -2.2512650852401297,
          -1.0624196448361587,
          -1.9629331587840135,
          -1.2392478955935682,
          -1.8221956879495362,
          -1.910551722293128,
          -2.4625695922498316,
          -1.2161144438523175,
          -2.9306749325019665,
          -2.4224848845017917,
          -2.2843005961610365,
          -2.0526163737770196,
          -2.2210145140813182,
          -2.521113778292891,
          -2.317935418189652,
          -2.009311287638632,
          -1.9253524363901422,
          -2.0031288860271075,
          -1.8039896142031444,
          -2.7894841877923664,
          -3.1272616491906833,
          -2.849653978218992,
          2.954572418358495,
          -2.9049531704867366,
          -2.4456704595147536,
          -1.7037985769888746,
          -2.357113177303194,
          -1.6822692273463125,
          -1.4946876727839744,
          -1.143097253158889,
          -2.11993589492081,
          -2.009458376430254,
          2.944131627391655,
          -2.143324737091565,
          -2.090000547871139,
          -1.5366144678173752,
          -1.8486445867998387,
          -1.7856983106700666,
          -2.0633588517613655,
          -1.5312439305180556,
          -2.007790541818158
         ],
         "yaxis": "y2"
        }
       ],
       "layout": {
        "annotations": [
         {
          "font": {
           "size": 16
          },
          "showarrow": false,
          "text": "MSR (V)",
          "x": 0.225,
          "xanchor": "center",
          "xref": "paper",
          "y": 1,
          "yanchor": "bottom",
          "yref": "paper"
         },
         {
          "font": {
           "size": 16
          },
          "showarrow": false,
          "text": "phase (rad)",
          "x": 0.775,
          "xanchor": "center",
          "xref": "paper",
          "y": 1,
          "yanchor": "bottom",
          "yref": "paper"
         }
        ],
        "showlegend": true,
        "template": {
         "data": {
          "bar": [
           {
            "error_x": {
             "color": "#2a3f5f"
            },
            "error_y": {
             "color": "#2a3f5f"
            },
            "marker": {
             "line": {
              "color": "#E5ECF6",
              "width": 0.5
             },
             "pattern": {
              "fillmode": "overlay",
              "size": 10,
              "solidity": 0.2
             }
            },
            "type": "bar"
           }
          ],
          "barpolar": [
           {
            "marker": {
             "line": {
              "color": "#E5ECF6",
              "width": 0.5
             },
             "pattern": {
              "fillmode": "overlay",
              "size": 10,
              "solidity": 0.2
             }
            },
            "type": "barpolar"
           }
          ],
          "carpet": [
           {
            "aaxis": {
             "endlinecolor": "#2a3f5f",
             "gridcolor": "white",
             "linecolor": "white",
             "minorgridcolor": "white",
             "startlinecolor": "#2a3f5f"
            },
            "baxis": {
             "endlinecolor": "#2a3f5f",
             "gridcolor": "white",
             "linecolor": "white",
             "minorgridcolor": "white",
             "startlinecolor": "#2a3f5f"
            },
            "type": "carpet"
           }
          ],
          "choropleth": [
           {
            "colorbar": {
             "outlinewidth": 0,
             "ticks": ""
            },
            "type": "choropleth"
           }
          ],
          "contour": [
           {
            "colorbar": {
             "outlinewidth": 0,
             "ticks": ""
            },
            "colorscale": [
             [
              0,
              "#0d0887"
             ],
             [
              0.1111111111111111,
              "#46039f"
             ],
             [
              0.2222222222222222,
              "#7201a8"
             ],
             [
              0.3333333333333333,
              "#9c179e"
             ],
             [
              0.4444444444444444,
              "#bd3786"
             ],
             [
              0.5555555555555556,
              "#d8576b"
             ],
             [
              0.6666666666666666,
              "#ed7953"
             ],
             [
              0.7777777777777778,
              "#fb9f3a"
             ],
             [
              0.8888888888888888,
              "#fdca26"
             ],
             [
              1,
              "#f0f921"
             ]
            ],
            "type": "contour"
           }
          ],
          "contourcarpet": [
           {
            "colorbar": {
             "outlinewidth": 0,
             "ticks": ""
            },
            "type": "contourcarpet"
           }
          ],
          "heatmap": [
           {
            "colorbar": {
             "outlinewidth": 0,
             "ticks": ""
            },
            "colorscale": [
             [
              0,
              "#0d0887"
             ],
             [
              0.1111111111111111,
              "#46039f"
             ],
             [
              0.2222222222222222,
              "#7201a8"
             ],
             [
              0.3333333333333333,
              "#9c179e"
             ],
             [
              0.4444444444444444,
              "#bd3786"
             ],
             [
              0.5555555555555556,
              "#d8576b"
             ],
             [
              0.6666666666666666,
              "#ed7953"
             ],
             [
              0.7777777777777778,
              "#fb9f3a"
             ],
             [
              0.8888888888888888,
              "#fdca26"
             ],
             [
              1,
              "#f0f921"
             ]
            ],
            "type": "heatmap"
           }
          ],
          "heatmapgl": [
           {
            "colorbar": {
             "outlinewidth": 0,
             "ticks": ""
            },
            "colorscale": [
             [
              0,
              "#0d0887"
             ],
             [
              0.1111111111111111,
              "#46039f"
             ],
             [
              0.2222222222222222,
              "#7201a8"
             ],
             [
              0.3333333333333333,
              "#9c179e"
             ],
             [
              0.4444444444444444,
              "#bd3786"
             ],
             [
              0.5555555555555556,
              "#d8576b"
             ],
             [
              0.6666666666666666,
              "#ed7953"
             ],
             [
              0.7777777777777778,
              "#fb9f3a"
             ],
             [
              0.8888888888888888,
              "#fdca26"
             ],
             [
              1,
              "#f0f921"
             ]
            ],
            "type": "heatmapgl"
           }
          ],
          "histogram": [
           {
            "marker": {
             "pattern": {
              "fillmode": "overlay",
              "size": 10,
              "solidity": 0.2
             }
            },
            "type": "histogram"
           }
          ],
          "histogram2d": [
           {
            "colorbar": {
             "outlinewidth": 0,
             "ticks": ""
            },
            "colorscale": [
             [
              0,
              "#0d0887"
             ],
             [
              0.1111111111111111,
              "#46039f"
             ],
             [
              0.2222222222222222,
              "#7201a8"
             ],
             [
              0.3333333333333333,
              "#9c179e"
             ],
             [
              0.4444444444444444,
              "#bd3786"
             ],
             [
              0.5555555555555556,
              "#d8576b"
             ],
             [
              0.6666666666666666,
              "#ed7953"
             ],
             [
              0.7777777777777778,
              "#fb9f3a"
             ],
             [
              0.8888888888888888,
              "#fdca26"
             ],
             [
              1,
              "#f0f921"
             ]
            ],
            "type": "histogram2d"
           }
          ],
          "histogram2dcontour": [
           {
            "colorbar": {
             "outlinewidth": 0,
             "ticks": ""
            },
            "colorscale": [
             [
              0,
              "#0d0887"
             ],
             [
              0.1111111111111111,
              "#46039f"
             ],
             [
              0.2222222222222222,
              "#7201a8"
             ],
             [
              0.3333333333333333,
              "#9c179e"
             ],
             [
              0.4444444444444444,
              "#bd3786"
             ],
             [
              0.5555555555555556,
              "#d8576b"
             ],
             [
              0.6666666666666666,
              "#ed7953"
             ],
             [
              0.7777777777777778,
              "#fb9f3a"
             ],
             [
              0.8888888888888888,
              "#fdca26"
             ],
             [
              1,
              "#f0f921"
             ]
            ],
            "type": "histogram2dcontour"
           }
          ],
          "mesh3d": [
           {
            "colorbar": {
             "outlinewidth": 0,
             "ticks": ""
            },
            "type": "mesh3d"
           }
          ],
          "parcoords": [
           {
            "line": {
             "colorbar": {
              "outlinewidth": 0,
              "ticks": ""
             }
            },
            "type": "parcoords"
           }
          ],
          "pie": [
           {
            "automargin": true,
            "type": "pie"
           }
          ],
          "scatter": [
           {
            "fillpattern": {
             "fillmode": "overlay",
             "size": 10,
             "solidity": 0.2
            },
            "type": "scatter"
           }
          ],
          "scatter3d": [
           {
            "line": {
             "colorbar": {
              "outlinewidth": 0,
              "ticks": ""
             }
            },
            "marker": {
             "colorbar": {
              "outlinewidth": 0,
              "ticks": ""
             }
            },
            "type": "scatter3d"
           }
          ],
          "scattercarpet": [
           {
            "marker": {
             "colorbar": {
              "outlinewidth": 0,
              "ticks": ""
             }
            },
            "type": "scattercarpet"
           }
          ],
          "scattergeo": [
           {
            "marker": {
             "colorbar": {
              "outlinewidth": 0,
              "ticks": ""
             }
            },
            "type": "scattergeo"
           }
          ],
          "scattergl": [
           {
            "marker": {
             "colorbar": {
              "outlinewidth": 0,
              "ticks": ""
             }
            },
            "type": "scattergl"
           }
          ],
          "scattermapbox": [
           {
            "marker": {
             "colorbar": {
              "outlinewidth": 0,
              "ticks": ""
             }
            },
            "type": "scattermapbox"
           }
          ],
          "scatterpolar": [
           {
            "marker": {
             "colorbar": {
              "outlinewidth": 0,
              "ticks": ""
             }
            },
            "type": "scatterpolar"
           }
          ],
          "scatterpolargl": [
           {
            "marker": {
             "colorbar": {
              "outlinewidth": 0,
              "ticks": ""
             }
            },
            "type": "scatterpolargl"
           }
          ],
          "scatterternary": [
           {
            "marker": {
             "colorbar": {
              "outlinewidth": 0,
              "ticks": ""
             }
            },
            "type": "scatterternary"
           }
          ],
          "surface": [
           {
            "colorbar": {
             "outlinewidth": 0,
             "ticks": ""
            },
            "colorscale": [
             [
              0,
              "#0d0887"
             ],
             [
              0.1111111111111111,
              "#46039f"
             ],
             [
              0.2222222222222222,
              "#7201a8"
             ],
             [
              0.3333333333333333,
              "#9c179e"
             ],
             [
              0.4444444444444444,
              "#bd3786"
             ],
             [
              0.5555555555555556,
              "#d8576b"
             ],
             [
              0.6666666666666666,
              "#ed7953"
             ],
             [
              0.7777777777777778,
              "#fb9f3a"
             ],
             [
              0.8888888888888888,
              "#fdca26"
             ],
             [
              1,
              "#f0f921"
             ]
            ],
            "type": "surface"
           }
          ],
          "table": [
           {
            "cells": {
             "fill": {
              "color": "#EBF0F8"
             },
             "line": {
              "color": "white"
             }
            },
            "header": {
             "fill": {
              "color": "#C8D4E3"
             },
             "line": {
              "color": "white"
             }
            },
            "type": "table"
           }
          ]
         },
         "layout": {
          "annotationdefaults": {
           "arrowcolor": "#2a3f5f",
           "arrowhead": 0,
           "arrowwidth": 1
          },
          "autotypenumbers": "strict",
          "coloraxis": {
           "colorbar": {
            "outlinewidth": 0,
            "ticks": ""
           }
          },
          "colorscale": {
           "diverging": [
            [
             0,
             "#8e0152"
            ],
            [
             0.1,
             "#c51b7d"
            ],
            [
             0.2,
             "#de77ae"
            ],
            [
             0.3,
             "#f1b6da"
            ],
            [
             0.4,
             "#fde0ef"
            ],
            [
             0.5,
             "#f7f7f7"
            ],
            [
             0.6,
             "#e6f5d0"
            ],
            [
             0.7,
             "#b8e186"
            ],
            [
             0.8,
             "#7fbc41"
            ],
            [
             0.9,
             "#4d9221"
            ],
            [
             1,
             "#276419"
            ]
           ],
           "sequential": [
            [
             0,
             "#0d0887"
            ],
            [
             0.1111111111111111,
             "#46039f"
            ],
            [
             0.2222222222222222,
             "#7201a8"
            ],
            [
             0.3333333333333333,
             "#9c179e"
            ],
            [
             0.4444444444444444,
             "#bd3786"
            ],
            [
             0.5555555555555556,
             "#d8576b"
            ],
            [
             0.6666666666666666,
             "#ed7953"
            ],
            [
             0.7777777777777778,
             "#fb9f3a"
            ],
            [
             0.8888888888888888,
             "#fdca26"
            ],
            [
             1,
             "#f0f921"
            ]
           ],
           "sequentialminus": [
            [
             0,
             "#0d0887"
            ],
            [
             0.1111111111111111,
             "#46039f"
            ],
            [
             0.2222222222222222,
             "#7201a8"
            ],
            [
             0.3333333333333333,
             "#9c179e"
            ],
            [
             0.4444444444444444,
             "#bd3786"
            ],
            [
             0.5555555555555556,
             "#d8576b"
            ],
            [
             0.6666666666666666,
             "#ed7953"
            ],
            [
             0.7777777777777778,
             "#fb9f3a"
            ],
            [
             0.8888888888888888,
             "#fdca26"
            ],
            [
             1,
             "#f0f921"
            ]
           ]
          },
          "colorway": [
           "#636efa",
           "#EF553B",
           "#00cc96",
           "#ab63fa",
           "#FFA15A",
           "#19d3f3",
           "#FF6692",
           "#B6E880",
           "#FF97FF",
           "#FECB52"
          ],
          "font": {
           "color": "#2a3f5f"
          },
          "geo": {
           "bgcolor": "white",
           "lakecolor": "white",
           "landcolor": "#E5ECF6",
           "showlakes": true,
           "showland": true,
           "subunitcolor": "white"
          },
          "hoverlabel": {
           "align": "left"
          },
          "hovermode": "closest",
          "mapbox": {
           "style": "light"
          },
          "paper_bgcolor": "white",
          "plot_bgcolor": "#E5ECF6",
          "polar": {
           "angularaxis": {
            "gridcolor": "white",
            "linecolor": "white",
            "ticks": ""
           },
           "bgcolor": "#E5ECF6",
           "radialaxis": {
            "gridcolor": "white",
            "linecolor": "white",
            "ticks": ""
           }
          },
          "scene": {
           "xaxis": {
            "backgroundcolor": "#E5ECF6",
            "gridcolor": "white",
            "gridwidth": 2,
            "linecolor": "white",
            "showbackground": true,
            "ticks": "",
            "zerolinecolor": "white"
           },
           "yaxis": {
            "backgroundcolor": "#E5ECF6",
            "gridcolor": "white",
            "gridwidth": 2,
            "linecolor": "white",
            "showbackground": true,
            "ticks": "",
            "zerolinecolor": "white"
           },
           "zaxis": {
            "backgroundcolor": "#E5ECF6",
            "gridcolor": "white",
            "gridwidth": 2,
            "linecolor": "white",
            "showbackground": true,
            "ticks": "",
            "zerolinecolor": "white"
           }
          },
          "shapedefaults": {
           "line": {
            "color": "#2a3f5f"
           }
          },
          "ternary": {
           "aaxis": {
            "gridcolor": "white",
            "linecolor": "white",
            "ticks": ""
           },
           "baxis": {
            "gridcolor": "white",
            "linecolor": "white",
            "ticks": ""
           },
           "bgcolor": "#E5ECF6",
           "caxis": {
            "gridcolor": "white",
            "linecolor": "white",
            "ticks": ""
           }
          },
          "title": {
           "x": 0.05
          },
          "xaxis": {
           "automargin": true,
           "gridcolor": "white",
           "linecolor": "white",
           "ticks": "",
           "title": {
            "standoff": 15
           },
           "zerolinecolor": "white",
           "zerolinewidth": 2
          },
          "yaxis": {
           "automargin": true,
           "gridcolor": "white",
           "linecolor": "white",
           "ticks": "",
           "title": {
            "standoff": 15
           },
           "zerolinecolor": "white",
           "zerolinewidth": 2
          }
         }
        },
        "uirevision": "0",
        "xaxis": {
         "anchor": "y",
         "domain": [
          0,
          0.45
         ],
         "title": {
          "text": "Time (ns)"
         }
        },
        "xaxis2": {
         "anchor": "y2",
         "domain": [
          0.55,
          1
         ],
         "title": {
          "text": "Time (ns)"
         }
        },
        "yaxis": {
         "anchor": "x",
         "domain": [
          0,
          1
         ],
         "title": {
          "text": "MSR (uV)"
         }
        },
        "yaxis2": {
         "anchor": "x2",
         "domain": [
          0,
          1
         ],
         "title": {
          "text": "Phase (rad)"
         }
        }
       }
      },
      "text/html": [
       "<div>                            <div id=\"4d457f86-ba49-4d17-9646-9a8154efb346\" class=\"plotly-graph-div\" style=\"height:525px; width:100%;\"></div>            <script type=\"text/javascript\">                require([\"plotly\"], function(Plotly) {                    window.PLOTLYENV=window.PLOTLYENV || {};                                    if (document.getElementById(\"4d457f86-ba49-4d17-9646-9a8154efb346\")) {                    Plotly.newPlot(                        \"4d457f86-ba49-4d17-9646-9a8154efb346\",                        [{\"name\":\"Rabi Oscillations\",\"x\":[20.0,25.0,30.0,35.0,40.0,45.0,50.0,55.0,60.0,65.0,70.0,75.0,80.0,85.0,90.0,95.0,100.0,105.0,110.0,115.0,120.0,125.0,130.0,135.0,140.0,145.0,150.0,155.0,160.0,165.0,170.0,175.0,180.0,185.0,190.0,195.0,200.0,205.0,210.0,215.0,220.0,225.0,230.0,235.0,240.0,245.0,250.0,255.0,260.0,265.0,270.0,275.0,280.0,285.0,290.0,295.0,300.0,305.0,310.0,315.0],\"y\":[5.407850364246547,2.215252145794948,3.9772852160326377,5.928334550157889,7.679881003631101,5.162205618435097,1.9676680118741472,1.6806149908563173,4.89461898693413,2.76236454589535,1.6455512870934488,4.221579577032885,4.6627322882767706,3.590099975795482,5.3239110451584715,4.286066084486247,2.738248767969151,3.2497463167437783,4.955168182101467,1.764922531191102,0.9784687922696401,2.7301085277153407,3.6846862826187876,2.283957198502049,2.5130023851820864,5.778776375681883,2.196555708090901,2.8585658343821145,3.1289231742177273,4.057748401422197,4.428638866107159,3.733289532647165,5.096334053203579,4.026943696293166,2.065148352299217,4.0162295790751665,1.3901778958293922,2.472280988058554,4.0723208381173785,1.8364738566627714,4.356531331891764,3.30654533178149,3.9890983300545413,5.721172909694581,1.2653706141661383,4.714706237407643,4.964740202739418,2.7070379381897887,4.159616250336785,2.196137041717705,4.699006114541264,0.5758204570120388,2.5808260334459208,5.7238142725683545,3.3598083656427975,4.298137783786858,6.009718103092347,4.180603503949886,1.2214663579856762,4.166382020829974],\"type\":\"scatter\",\"xaxis\":\"x\",\"yaxis\":\"y\"},{\"name\":\"Rabi Oscillations\",\"x\":[20.0,25.0,30.0,35.0,40.0,45.0,50.0,55.0,60.0,65.0,70.0,75.0,80.0,85.0,90.0,95.0,100.0,105.0,110.0,115.0,120.0,125.0,130.0,135.0,140.0,145.0,150.0,155.0,160.0,165.0,170.0,175.0,180.0,185.0,190.0,195.0,200.0,205.0,210.0,215.0,220.0,225.0,230.0,235.0,240.0,245.0,250.0,255.0,260.0,265.0,270.0,275.0,280.0,285.0,290.0,295.0,300.0,305.0,310.0,315.0],\"y\":[-2.750868061829089,-2.2066288055416288,-2.1528704417711597,-2.2273062544211957,-2.877212769725686,-2.1021024619998974,-1.4927515223594512,-2.2039414156314145,-2.8746950499257093,-2.3712272442980282,-1.7997179992828862,2.679883031937284,-2.106577955237529,-2.5959963682616394,-2.242767517307992,-1.1895551608221426,-2.0738015604693754,-2.4321835906233327,-2.509167513940586,-2.2512650852401297,-1.0624196448361587,-1.9629331587840135,-1.2392478955935682,-1.8221956879495362,-1.910551722293128,-2.4625695922498316,-1.2161144438523175,-2.9306749325019665,-2.4224848845017917,-2.2843005961610365,-2.0526163737770196,-2.2210145140813182,-2.521113778292891,-2.317935418189652,-2.009311287638632,-1.9253524363901422,-2.0031288860271075,-1.8039896142031444,-2.7894841877923664,-3.1272616491906833,-2.849653978218992,2.954572418358495,-2.9049531704867366,-2.4456704595147536,-1.7037985769888746,-2.357113177303194,-1.6822692273463125,-1.4946876727839744,-1.143097253158889,-2.11993589492081,-2.009458376430254,2.944131627391655,-2.143324737091565,-2.090000547871139,-1.5366144678173752,-1.8486445867998387,-1.7856983106700666,-2.0633588517613655,-1.5312439305180556,-2.007790541818158],\"type\":\"scatter\",\"xaxis\":\"x2\",\"yaxis\":\"y2\"}],                        {\"template\":{\"data\":{\"histogram2dcontour\":[{\"type\":\"histogram2dcontour\",\"colorbar\":{\"outlinewidth\":0,\"ticks\":\"\"},\"colorscale\":[[0.0,\"#0d0887\"],[0.1111111111111111,\"#46039f\"],[0.2222222222222222,\"#7201a8\"],[0.3333333333333333,\"#9c179e\"],[0.4444444444444444,\"#bd3786\"],[0.5555555555555556,\"#d8576b\"],[0.6666666666666666,\"#ed7953\"],[0.7777777777777778,\"#fb9f3a\"],[0.8888888888888888,\"#fdca26\"],[1.0,\"#f0f921\"]]}],\"choropleth\":[{\"type\":\"choropleth\",\"colorbar\":{\"outlinewidth\":0,\"ticks\":\"\"}}],\"histogram2d\":[{\"type\":\"histogram2d\",\"colorbar\":{\"outlinewidth\":0,\"ticks\":\"\"},\"colorscale\":[[0.0,\"#0d0887\"],[0.1111111111111111,\"#46039f\"],[0.2222222222222222,\"#7201a8\"],[0.3333333333333333,\"#9c179e\"],[0.4444444444444444,\"#bd3786\"],[0.5555555555555556,\"#d8576b\"],[0.6666666666666666,\"#ed7953\"],[0.7777777777777778,\"#fb9f3a\"],[0.8888888888888888,\"#fdca26\"],[1.0,\"#f0f921\"]]}],\"heatmap\":[{\"type\":\"heatmap\",\"colorbar\":{\"outlinewidth\":0,\"ticks\":\"\"},\"colorscale\":[[0.0,\"#0d0887\"],[0.1111111111111111,\"#46039f\"],[0.2222222222222222,\"#7201a8\"],[0.3333333333333333,\"#9c179e\"],[0.4444444444444444,\"#bd3786\"],[0.5555555555555556,\"#d8576b\"],[0.6666666666666666,\"#ed7953\"],[0.7777777777777778,\"#fb9f3a\"],[0.8888888888888888,\"#fdca26\"],[1.0,\"#f0f921\"]]}],\"heatmapgl\":[{\"type\":\"heatmapgl\",\"colorbar\":{\"outlinewidth\":0,\"ticks\":\"\"},\"colorscale\":[[0.0,\"#0d0887\"],[0.1111111111111111,\"#46039f\"],[0.2222222222222222,\"#7201a8\"],[0.3333333333333333,\"#9c179e\"],[0.4444444444444444,\"#bd3786\"],[0.5555555555555556,\"#d8576b\"],[0.6666666666666666,\"#ed7953\"],[0.7777777777777778,\"#fb9f3a\"],[0.8888888888888888,\"#fdca26\"],[1.0,\"#f0f921\"]]}],\"contourcarpet\":[{\"type\":\"contourcarpet\",\"colorbar\":{\"outlinewidth\":0,\"ticks\":\"\"}}],\"contour\":[{\"type\":\"contour\",\"colorbar\":{\"outlinewidth\":0,\"ticks\":\"\"},\"colorscale\":[[0.0,\"#0d0887\"],[0.1111111111111111,\"#46039f\"],[0.2222222222222222,\"#7201a8\"],[0.3333333333333333,\"#9c179e\"],[0.4444444444444444,\"#bd3786\"],[0.5555555555555556,\"#d8576b\"],[0.6666666666666666,\"#ed7953\"],[0.7777777777777778,\"#fb9f3a\"],[0.8888888888888888,\"#fdca26\"],[1.0,\"#f0f921\"]]}],\"surface\":[{\"type\":\"surface\",\"colorbar\":{\"outlinewidth\":0,\"ticks\":\"\"},\"colorscale\":[[0.0,\"#0d0887\"],[0.1111111111111111,\"#46039f\"],[0.2222222222222222,\"#7201a8\"],[0.3333333333333333,\"#9c179e\"],[0.4444444444444444,\"#bd3786\"],[0.5555555555555556,\"#d8576b\"],[0.6666666666666666,\"#ed7953\"],[0.7777777777777778,\"#fb9f3a\"],[0.8888888888888888,\"#fdca26\"],[1.0,\"#f0f921\"]]}],\"mesh3d\":[{\"type\":\"mesh3d\",\"colorbar\":{\"outlinewidth\":0,\"ticks\":\"\"}}],\"scatter\":[{\"fillpattern\":{\"fillmode\":\"overlay\",\"size\":10,\"solidity\":0.2},\"type\":\"scatter\"}],\"parcoords\":[{\"type\":\"parcoords\",\"line\":{\"colorbar\":{\"outlinewidth\":0,\"ticks\":\"\"}}}],\"scatterpolargl\":[{\"type\":\"scatterpolargl\",\"marker\":{\"colorbar\":{\"outlinewidth\":0,\"ticks\":\"\"}}}],\"bar\":[{\"error_x\":{\"color\":\"#2a3f5f\"},\"error_y\":{\"color\":\"#2a3f5f\"},\"marker\":{\"line\":{\"color\":\"#E5ECF6\",\"width\":0.5},\"pattern\":{\"fillmode\":\"overlay\",\"size\":10,\"solidity\":0.2}},\"type\":\"bar\"}],\"scattergeo\":[{\"type\":\"scattergeo\",\"marker\":{\"colorbar\":{\"outlinewidth\":0,\"ticks\":\"\"}}}],\"scatterpolar\":[{\"type\":\"scatterpolar\",\"marker\":{\"colorbar\":{\"outlinewidth\":0,\"ticks\":\"\"}}}],\"histogram\":[{\"marker\":{\"pattern\":{\"fillmode\":\"overlay\",\"size\":10,\"solidity\":0.2}},\"type\":\"histogram\"}],\"scattergl\":[{\"type\":\"scattergl\",\"marker\":{\"colorbar\":{\"outlinewidth\":0,\"ticks\":\"\"}}}],\"scatter3d\":[{\"type\":\"scatter3d\",\"line\":{\"colorbar\":{\"outlinewidth\":0,\"ticks\":\"\"}},\"marker\":{\"colorbar\":{\"outlinewidth\":0,\"ticks\":\"\"}}}],\"scattermapbox\":[{\"type\":\"scattermapbox\",\"marker\":{\"colorbar\":{\"outlinewidth\":0,\"ticks\":\"\"}}}],\"scatterternary\":[{\"type\":\"scatterternary\",\"marker\":{\"colorbar\":{\"outlinewidth\":0,\"ticks\":\"\"}}}],\"scattercarpet\":[{\"type\":\"scattercarpet\",\"marker\":{\"colorbar\":{\"outlinewidth\":0,\"ticks\":\"\"}}}],\"carpet\":[{\"aaxis\":{\"endlinecolor\":\"#2a3f5f\",\"gridcolor\":\"white\",\"linecolor\":\"white\",\"minorgridcolor\":\"white\",\"startlinecolor\":\"#2a3f5f\"},\"baxis\":{\"endlinecolor\":\"#2a3f5f\",\"gridcolor\":\"white\",\"linecolor\":\"white\",\"minorgridcolor\":\"white\",\"startlinecolor\":\"#2a3f5f\"},\"type\":\"carpet\"}],\"table\":[{\"cells\":{\"fill\":{\"color\":\"#EBF0F8\"},\"line\":{\"color\":\"white\"}},\"header\":{\"fill\":{\"color\":\"#C8D4E3\"},\"line\":{\"color\":\"white\"}},\"type\":\"table\"}],\"barpolar\":[{\"marker\":{\"line\":{\"color\":\"#E5ECF6\",\"width\":0.5},\"pattern\":{\"fillmode\":\"overlay\",\"size\":10,\"solidity\":0.2}},\"type\":\"barpolar\"}],\"pie\":[{\"automargin\":true,\"type\":\"pie\"}]},\"layout\":{\"autotypenumbers\":\"strict\",\"colorway\":[\"#636efa\",\"#EF553B\",\"#00cc96\",\"#ab63fa\",\"#FFA15A\",\"#19d3f3\",\"#FF6692\",\"#B6E880\",\"#FF97FF\",\"#FECB52\"],\"font\":{\"color\":\"#2a3f5f\"},\"hovermode\":\"closest\",\"hoverlabel\":{\"align\":\"left\"},\"paper_bgcolor\":\"white\",\"plot_bgcolor\":\"#E5ECF6\",\"polar\":{\"bgcolor\":\"#E5ECF6\",\"angularaxis\":{\"gridcolor\":\"white\",\"linecolor\":\"white\",\"ticks\":\"\"},\"radialaxis\":{\"gridcolor\":\"white\",\"linecolor\":\"white\",\"ticks\":\"\"}},\"ternary\":{\"bgcolor\":\"#E5ECF6\",\"aaxis\":{\"gridcolor\":\"white\",\"linecolor\":\"white\",\"ticks\":\"\"},\"baxis\":{\"gridcolor\":\"white\",\"linecolor\":\"white\",\"ticks\":\"\"},\"caxis\":{\"gridcolor\":\"white\",\"linecolor\":\"white\",\"ticks\":\"\"}},\"coloraxis\":{\"colorbar\":{\"outlinewidth\":0,\"ticks\":\"\"}},\"colorscale\":{\"sequential\":[[0.0,\"#0d0887\"],[0.1111111111111111,\"#46039f\"],[0.2222222222222222,\"#7201a8\"],[0.3333333333333333,\"#9c179e\"],[0.4444444444444444,\"#bd3786\"],[0.5555555555555556,\"#d8576b\"],[0.6666666666666666,\"#ed7953\"],[0.7777777777777778,\"#fb9f3a\"],[0.8888888888888888,\"#fdca26\"],[1.0,\"#f0f921\"]],\"sequentialminus\":[[0.0,\"#0d0887\"],[0.1111111111111111,\"#46039f\"],[0.2222222222222222,\"#7201a8\"],[0.3333333333333333,\"#9c179e\"],[0.4444444444444444,\"#bd3786\"],[0.5555555555555556,\"#d8576b\"],[0.6666666666666666,\"#ed7953\"],[0.7777777777777778,\"#fb9f3a\"],[0.8888888888888888,\"#fdca26\"],[1.0,\"#f0f921\"]],\"diverging\":[[0,\"#8e0152\"],[0.1,\"#c51b7d\"],[0.2,\"#de77ae\"],[0.3,\"#f1b6da\"],[0.4,\"#fde0ef\"],[0.5,\"#f7f7f7\"],[0.6,\"#e6f5d0\"],[0.7,\"#b8e186\"],[0.8,\"#7fbc41\"],[0.9,\"#4d9221\"],[1,\"#276419\"]]},\"xaxis\":{\"gridcolor\":\"white\",\"linecolor\":\"white\",\"ticks\":\"\",\"title\":{\"standoff\":15},\"zerolinecolor\":\"white\",\"automargin\":true,\"zerolinewidth\":2},\"yaxis\":{\"gridcolor\":\"white\",\"linecolor\":\"white\",\"ticks\":\"\",\"title\":{\"standoff\":15},\"zerolinecolor\":\"white\",\"automargin\":true,\"zerolinewidth\":2},\"scene\":{\"xaxis\":{\"backgroundcolor\":\"#E5ECF6\",\"gridcolor\":\"white\",\"linecolor\":\"white\",\"showbackground\":true,\"ticks\":\"\",\"zerolinecolor\":\"white\",\"gridwidth\":2},\"yaxis\":{\"backgroundcolor\":\"#E5ECF6\",\"gridcolor\":\"white\",\"linecolor\":\"white\",\"showbackground\":true,\"ticks\":\"\",\"zerolinecolor\":\"white\",\"gridwidth\":2},\"zaxis\":{\"backgroundcolor\":\"#E5ECF6\",\"gridcolor\":\"white\",\"linecolor\":\"white\",\"showbackground\":true,\"ticks\":\"\",\"zerolinecolor\":\"white\",\"gridwidth\":2}},\"shapedefaults\":{\"line\":{\"color\":\"#2a3f5f\"}},\"annotationdefaults\":{\"arrowcolor\":\"#2a3f5f\",\"arrowhead\":0,\"arrowwidth\":1},\"geo\":{\"bgcolor\":\"white\",\"landcolor\":\"#E5ECF6\",\"subunitcolor\":\"white\",\"showland\":true,\"showlakes\":true,\"lakecolor\":\"white\"},\"title\":{\"x\":0.05},\"mapbox\":{\"style\":\"light\"}}},\"xaxis\":{\"anchor\":\"y\",\"domain\":[0.0,0.45],\"title\":{\"text\":\"Time (ns)\"}},\"yaxis\":{\"anchor\":\"x\",\"domain\":[0.0,1.0],\"title\":{\"text\":\"MSR (uV)\"}},\"xaxis2\":{\"anchor\":\"y2\",\"domain\":[0.55,1.0],\"title\":{\"text\":\"Time (ns)\"}},\"yaxis2\":{\"anchor\":\"x2\",\"domain\":[0.0,1.0],\"title\":{\"text\":\"Phase (rad)\"}},\"annotations\":[{\"font\":{\"size\":16},\"showarrow\":false,\"text\":\"MSR (V)\",\"x\":0.225,\"xanchor\":\"center\",\"xref\":\"paper\",\"y\":1.0,\"yanchor\":\"bottom\",\"yref\":\"paper\"},{\"font\":{\"size\":16},\"showarrow\":false,\"text\":\"phase (rad)\",\"x\":0.775,\"xanchor\":\"center\",\"xref\":\"paper\",\"y\":1.0,\"yanchor\":\"bottom\",\"yref\":\"paper\"}],\"showlegend\":true,\"uirevision\":\"0\"},                        {\"responsive\": true}                    ).then(function(){\n",
       "                            \n",
       "var gd = document.getElementById('4d457f86-ba49-4d17-9646-9a8154efb346');\n",
       "var x = new MutationObserver(function (mutations, observer) {{\n",
       "        var display = window.getComputedStyle(gd).display;\n",
       "        if (!display || display === 'none') {{\n",
       "            console.log([gd, 'removed!']);\n",
       "            Plotly.purge(gd);\n",
       "            observer.disconnect();\n",
       "        }}\n",
       "}});\n",
       "\n",
       "// Listen for the removal of the full notebook cells\n",
       "var notebookContainer = gd.closest('#notebook-container');\n",
       "if (notebookContainer) {{\n",
       "    x.observe(notebookContainer, {childList: true});\n",
       "}}\n",
       "\n",
       "// Listen for the clearing of the current output cell\n",
       "var outputEl = gd.closest('.output');\n",
       "if (outputEl) {{\n",
       "    x.observe(outputEl, {childList: true});\n",
       "}}\n",
       "\n",
       "                        })                };                });            </script>        </div>"
      ]
     },
     "metadata": {},
     "output_type": "display_data"
    }
   ],
   "source": [
    "sequences, durations = rabi_pulse_length_sequences(Device,\n",
    "    qubit = 0,\n",
    "    pulse_duration_start = 20,\n",
    "    pulse_duration_end = 320,\n",
    "    pulse_duration_step = 10,\n",
    ")\n",
    "\n",
    "msr, phase, i , q = Device.execute_pulse_sequences(sequences)\n",
    "qubit = 0\n",
    "\n",
    "data = DataUnits(name=f\"data_q{qubit}\", quantities={\"Time\": \"ns\"})\n",
    "\n",
    "results = {\n",
    "    \"MSR[V]\": msr,\n",
    "    \"i[V]\": i,\n",
    "    \"q[V]\": q,\n",
    "    \"phase[rad]\": phase,\n",
    "    \"Time[ns]\": durations,\n",
    "}\n",
    "                   \n",
    "data.set(results)\n",
    "\n",
    "time_msr_phase(data)"
   ]
  },
  {
   "cell_type": "code",
   "execution_count": 13,
   "metadata": {},
   "outputs": [
    {
     "name": "stdout",
     "output_type": "stream",
     "text": [
      "2023.01.10 11:56:39.805 laboneq.compiler.workflow.compiler INFO   Starting LabOne Q Compiler run...\n",
      "2023.01.10 11:56:40.484 laboneq.compiler.workflow.compiler INFO   Total seqC lines generated: 559\n",
      "2023.01.10 11:56:40.485 laboneq.compiler.workflow.compiler INFO   Total sample points generated: 482880\n",
      "2023.01.10 11:56:40.485 laboneq.compiler.workflow.compiler INFO   Finished LabOne Q Compiler run.\n",
      "2023.01.10 11:56:41.280 laboneq.controller.controller  INFO   Starting near-time execution...\n",
      "2023.01.10 11:56:44.969 laboneq.controller.controller  INFO   Finished near-time execution.\n"
     ]
    },
    {
     "name": "stderr",
     "output_type": "stream",
     "text": [
      "/opt/anaconda3/envs/JQibo/lib/python3.9/site-packages/pandas/core/construction.py:617: UnitStrippedWarning:\n",
      "\n",
      "The unit of the quantity is stripped when downcasting to ndarray.\n",
      "\n",
      "/opt/anaconda3/envs/JQibo/lib/python3.9/site-packages/pint_pandas/pint_array.py:227: RuntimeWarning:\n",
      "\n",
      "pint-pandas does not support magnitudes of int64. Converting magnitudes to float.\n",
      "\n"
     ]
    },
    {
     "data": {
      "application/vnd.plotly.v1+json": {
       "config": {
        "plotlyServerURL": "https://plot.ly"
       },
       "data": [
        {
         "name": "Rabi Oscillations",
         "type": "scatter",
         "x": [
          20,
          25,
          30,
          35,
          40,
          45,
          50,
          55,
          60,
          65,
          70,
          75,
          80,
          85,
          90,
          95,
          100,
          105,
          110,
          115,
          120,
          125,
          130,
          135,
          140,
          145,
          150,
          155,
          160,
          165,
          170,
          175,
          180,
          185,
          190,
          195,
          200,
          205,
          210,
          215,
          220,
          225,
          230,
          235,
          240,
          245,
          250,
          255,
          260,
          265,
          270,
          275,
          280,
          285,
          290,
          295,
          300,
          305,
          310,
          315
         ],
         "xaxis": "x",
         "y": [
          1.39224720725459,
          3.2926724923489776,
          5.375287699537456,
          3.37298985510667,
          3.5258038074734683,
          1.5069647751458348,
          3.5163201880823247,
          1.4337779571682068,
          2.478655804638477,
          2.4413076822211712,
          2.7341269871542133,
          1.9321054355383878,
          4.392632693032867,
          5.037319436954795,
          6.578396296346806,
          4.666156269422205,
          1.1502313434634472,
          3.315983683414294,
          3.269176178549359,
          3.581474674201485,
          3.2263984751293324,
          3.584536693503728,
          4.946101176729684,
          0.4949152391692296,
          3.877253963906295,
          2.5274987291293405,
          5.970449036962861,
          1.6405593014218691,
          3.4437215972323734,
          4.764718439855052,
          3.7245799722324535,
          0.8929727351220852,
          3.0889205621518605,
          5.018875518627165,
          3.811537625119167,
          3.619148576371406,
          3.0317190352666064,
          2.552992760307492,
          4.468954591498923,
          3.4839026191077247,
          3.7961929307570075,
          3.1520808805962286,
          4.214171884662823,
          2.5088409306318806,
          2.6187867321274436,
          1.5340180004320945,
          2.6131281689562917,
          1.3960845587238366,
          3.018364858692115,
          1.1987954610384697,
          5.86137164294933,
          3.304438164260146,
          4.398408824878634,
          3.7846026848888568,
          2.785888538634342,
          3.0131110811358193,
          1.1822023029161353,
          3.583707102680467,
          4.298363181629936,
          4.052324018544687
         ],
         "yaxis": "y"
        },
        {
         "name": "Rabi Oscillations",
         "type": "scatter",
         "x": [
          20,
          25,
          30,
          35,
          40,
          45,
          50,
          55,
          60,
          65,
          70,
          75,
          80,
          85,
          90,
          95,
          100,
          105,
          110,
          115,
          120,
          125,
          130,
          135,
          140,
          145,
          150,
          155,
          160,
          165,
          170,
          175,
          180,
          185,
          190,
          195,
          200,
          205,
          210,
          215,
          220,
          225,
          230,
          235,
          240,
          245,
          250,
          255,
          260,
          265,
          270,
          275,
          280,
          285,
          290,
          295,
          300,
          305,
          310,
          315
         ],
         "xaxis": "x2",
         "y": [
          -3.0892736109497916,
          2.0430290588053825,
          1.5092804923925522,
          1.2996804095501682,
          2.0230577320991756,
          1.5560618616754651,
          2.0522333567989413,
          0.30822398674349766,
          0.8966355476204774,
          0.8226526753939413,
          0.4597321999538209,
          2.6812965000502875,
          1.908286572142297,
          2.4225944544470064,
          1.539210012220436,
          2.093631183584428,
          -3.109039519063864,
          2.094547626078831,
          1.517531344367295,
          2.0495717520694807,
          2.2991233708459737,
          1.4143060526241458,
          1.7105942833274008,
          1.0661110260541513,
          1.7055683970696338,
          -2.9727239951019793,
          1.5907036271536725,
          2.033207909382411,
          1.9332965464217575,
          1.973448892844387,
          2.3150266784917446,
          0.5251231539153706,
          1.6755006119932399,
          1.6523028932185395,
          2.4131423677441735,
          2.11835402718842,
          1.8054741446282185,
          1.3952906446219173,
          1.7177599447741188,
          1.410951934283878,
          1.9949186958049216,
          1.0484462151923062,
          1.9320333466426791,
          2.9211718866582257,
          1.7721839124266392,
          0.7946615933986634,
          0.789301450493723,
          1.400187796664136,
          1.8798878606097917,
          1.777259064033705,
          2.027562042104101,
          1.3231169548380368,
          1.8003183553881514,
          1.117652326092644,
          1.0650310469242918,
          1.4745402071442726,
          2.755196049501582,
          1.5348127928491526,
          2.134358890541252,
          2.3212806314945658
         ],
         "yaxis": "y2"
        }
       ],
       "layout": {
        "annotations": [
         {
          "font": {
           "size": 16
          },
          "showarrow": false,
          "text": "MSR (V)",
          "x": 0.225,
          "xanchor": "center",
          "xref": "paper",
          "y": 1,
          "yanchor": "bottom",
          "yref": "paper"
         },
         {
          "font": {
           "size": 16
          },
          "showarrow": false,
          "text": "phase (rad)",
          "x": 0.775,
          "xanchor": "center",
          "xref": "paper",
          "y": 1,
          "yanchor": "bottom",
          "yref": "paper"
         }
        ],
        "showlegend": true,
        "template": {
         "data": {
          "bar": [
           {
            "error_x": {
             "color": "#2a3f5f"
            },
            "error_y": {
             "color": "#2a3f5f"
            },
            "marker": {
             "line": {
              "color": "#E5ECF6",
              "width": 0.5
             },
             "pattern": {
              "fillmode": "overlay",
              "size": 10,
              "solidity": 0.2
             }
            },
            "type": "bar"
           }
          ],
          "barpolar": [
           {
            "marker": {
             "line": {
              "color": "#E5ECF6",
              "width": 0.5
             },
             "pattern": {
              "fillmode": "overlay",
              "size": 10,
              "solidity": 0.2
             }
            },
            "type": "barpolar"
           }
          ],
          "carpet": [
           {
            "aaxis": {
             "endlinecolor": "#2a3f5f",
             "gridcolor": "white",
             "linecolor": "white",
             "minorgridcolor": "white",
             "startlinecolor": "#2a3f5f"
            },
            "baxis": {
             "endlinecolor": "#2a3f5f",
             "gridcolor": "white",
             "linecolor": "white",
             "minorgridcolor": "white",
             "startlinecolor": "#2a3f5f"
            },
            "type": "carpet"
           }
          ],
          "choropleth": [
           {
            "colorbar": {
             "outlinewidth": 0,
             "ticks": ""
            },
            "type": "choropleth"
           }
          ],
          "contour": [
           {
            "colorbar": {
             "outlinewidth": 0,
             "ticks": ""
            },
            "colorscale": [
             [
              0,
              "#0d0887"
             ],
             [
              0.1111111111111111,
              "#46039f"
             ],
             [
              0.2222222222222222,
              "#7201a8"
             ],
             [
              0.3333333333333333,
              "#9c179e"
             ],
             [
              0.4444444444444444,
              "#bd3786"
             ],
             [
              0.5555555555555556,
              "#d8576b"
             ],
             [
              0.6666666666666666,
              "#ed7953"
             ],
             [
              0.7777777777777778,
              "#fb9f3a"
             ],
             [
              0.8888888888888888,
              "#fdca26"
             ],
             [
              1,
              "#f0f921"
             ]
            ],
            "type": "contour"
           }
          ],
          "contourcarpet": [
           {
            "colorbar": {
             "outlinewidth": 0,
             "ticks": ""
            },
            "type": "contourcarpet"
           }
          ],
          "heatmap": [
           {
            "colorbar": {
             "outlinewidth": 0,
             "ticks": ""
            },
            "colorscale": [
             [
              0,
              "#0d0887"
             ],
             [
              0.1111111111111111,
              "#46039f"
             ],
             [
              0.2222222222222222,
              "#7201a8"
             ],
             [
              0.3333333333333333,
              "#9c179e"
             ],
             [
              0.4444444444444444,
              "#bd3786"
             ],
             [
              0.5555555555555556,
              "#d8576b"
             ],
             [
              0.6666666666666666,
              "#ed7953"
             ],
             [
              0.7777777777777778,
              "#fb9f3a"
             ],
             [
              0.8888888888888888,
              "#fdca26"
             ],
             [
              1,
              "#f0f921"
             ]
            ],
            "type": "heatmap"
           }
          ],
          "heatmapgl": [
           {
            "colorbar": {
             "outlinewidth": 0,
             "ticks": ""
            },
            "colorscale": [
             [
              0,
              "#0d0887"
             ],
             [
              0.1111111111111111,
              "#46039f"
             ],
             [
              0.2222222222222222,
              "#7201a8"
             ],
             [
              0.3333333333333333,
              "#9c179e"
             ],
             [
              0.4444444444444444,
              "#bd3786"
             ],
             [
              0.5555555555555556,
              "#d8576b"
             ],
             [
              0.6666666666666666,
              "#ed7953"
             ],
             [
              0.7777777777777778,
              "#fb9f3a"
             ],
             [
              0.8888888888888888,
              "#fdca26"
             ],
             [
              1,
              "#f0f921"
             ]
            ],
            "type": "heatmapgl"
           }
          ],
          "histogram": [
           {
            "marker": {
             "pattern": {
              "fillmode": "overlay",
              "size": 10,
              "solidity": 0.2
             }
            },
            "type": "histogram"
           }
          ],
          "histogram2d": [
           {
            "colorbar": {
             "outlinewidth": 0,
             "ticks": ""
            },
            "colorscale": [
             [
              0,
              "#0d0887"
             ],
             [
              0.1111111111111111,
              "#46039f"
             ],
             [
              0.2222222222222222,
              "#7201a8"
             ],
             [
              0.3333333333333333,
              "#9c179e"
             ],
             [
              0.4444444444444444,
              "#bd3786"
             ],
             [
              0.5555555555555556,
              "#d8576b"
             ],
             [
              0.6666666666666666,
              "#ed7953"
             ],
             [
              0.7777777777777778,
              "#fb9f3a"
             ],
             [
              0.8888888888888888,
              "#fdca26"
             ],
             [
              1,
              "#f0f921"
             ]
            ],
            "type": "histogram2d"
           }
          ],
          "histogram2dcontour": [
           {
            "colorbar": {
             "outlinewidth": 0,
             "ticks": ""
            },
            "colorscale": [
             [
              0,
              "#0d0887"
             ],
             [
              0.1111111111111111,
              "#46039f"
             ],
             [
              0.2222222222222222,
              "#7201a8"
             ],
             [
              0.3333333333333333,
              "#9c179e"
             ],
             [
              0.4444444444444444,
              "#bd3786"
             ],
             [
              0.5555555555555556,
              "#d8576b"
             ],
             [
              0.6666666666666666,
              "#ed7953"
             ],
             [
              0.7777777777777778,
              "#fb9f3a"
             ],
             [
              0.8888888888888888,
              "#fdca26"
             ],
             [
              1,
              "#f0f921"
             ]
            ],
            "type": "histogram2dcontour"
           }
          ],
          "mesh3d": [
           {
            "colorbar": {
             "outlinewidth": 0,
             "ticks": ""
            },
            "type": "mesh3d"
           }
          ],
          "parcoords": [
           {
            "line": {
             "colorbar": {
              "outlinewidth": 0,
              "ticks": ""
             }
            },
            "type": "parcoords"
           }
          ],
          "pie": [
           {
            "automargin": true,
            "type": "pie"
           }
          ],
          "scatter": [
           {
            "fillpattern": {
             "fillmode": "overlay",
             "size": 10,
             "solidity": 0.2
            },
            "type": "scatter"
           }
          ],
          "scatter3d": [
           {
            "line": {
             "colorbar": {
              "outlinewidth": 0,
              "ticks": ""
             }
            },
            "marker": {
             "colorbar": {
              "outlinewidth": 0,
              "ticks": ""
             }
            },
            "type": "scatter3d"
           }
          ],
          "scattercarpet": [
           {
            "marker": {
             "colorbar": {
              "outlinewidth": 0,
              "ticks": ""
             }
            },
            "type": "scattercarpet"
           }
          ],
          "scattergeo": [
           {
            "marker": {
             "colorbar": {
              "outlinewidth": 0,
              "ticks": ""
             }
            },
            "type": "scattergeo"
           }
          ],
          "scattergl": [
           {
            "marker": {
             "colorbar": {
              "outlinewidth": 0,
              "ticks": ""
             }
            },
            "type": "scattergl"
           }
          ],
          "scattermapbox": [
           {
            "marker": {
             "colorbar": {
              "outlinewidth": 0,
              "ticks": ""
             }
            },
            "type": "scattermapbox"
           }
          ],
          "scatterpolar": [
           {
            "marker": {
             "colorbar": {
              "outlinewidth": 0,
              "ticks": ""
             }
            },
            "type": "scatterpolar"
           }
          ],
          "scatterpolargl": [
           {
            "marker": {
             "colorbar": {
              "outlinewidth": 0,
              "ticks": ""
             }
            },
            "type": "scatterpolargl"
           }
          ],
          "scatterternary": [
           {
            "marker": {
             "colorbar": {
              "outlinewidth": 0,
              "ticks": ""
             }
            },
            "type": "scatterternary"
           }
          ],
          "surface": [
           {
            "colorbar": {
             "outlinewidth": 0,
             "ticks": ""
            },
            "colorscale": [
             [
              0,
              "#0d0887"
             ],
             [
              0.1111111111111111,
              "#46039f"
             ],
             [
              0.2222222222222222,
              "#7201a8"
             ],
             [
              0.3333333333333333,
              "#9c179e"
             ],
             [
              0.4444444444444444,
              "#bd3786"
             ],
             [
              0.5555555555555556,
              "#d8576b"
             ],
             [
              0.6666666666666666,
              "#ed7953"
             ],
             [
              0.7777777777777778,
              "#fb9f3a"
             ],
             [
              0.8888888888888888,
              "#fdca26"
             ],
             [
              1,
              "#f0f921"
             ]
            ],
            "type": "surface"
           }
          ],
          "table": [
           {
            "cells": {
             "fill": {
              "color": "#EBF0F8"
             },
             "line": {
              "color": "white"
             }
            },
            "header": {
             "fill": {
              "color": "#C8D4E3"
             },
             "line": {
              "color": "white"
             }
            },
            "type": "table"
           }
          ]
         },
         "layout": {
          "annotationdefaults": {
           "arrowcolor": "#2a3f5f",
           "arrowhead": 0,
           "arrowwidth": 1
          },
          "autotypenumbers": "strict",
          "coloraxis": {
           "colorbar": {
            "outlinewidth": 0,
            "ticks": ""
           }
          },
          "colorscale": {
           "diverging": [
            [
             0,
             "#8e0152"
            ],
            [
             0.1,
             "#c51b7d"
            ],
            [
             0.2,
             "#de77ae"
            ],
            [
             0.3,
             "#f1b6da"
            ],
            [
             0.4,
             "#fde0ef"
            ],
            [
             0.5,
             "#f7f7f7"
            ],
            [
             0.6,
             "#e6f5d0"
            ],
            [
             0.7,
             "#b8e186"
            ],
            [
             0.8,
             "#7fbc41"
            ],
            [
             0.9,
             "#4d9221"
            ],
            [
             1,
             "#276419"
            ]
           ],
           "sequential": [
            [
             0,
             "#0d0887"
            ],
            [
             0.1111111111111111,
             "#46039f"
            ],
            [
             0.2222222222222222,
             "#7201a8"
            ],
            [
             0.3333333333333333,
             "#9c179e"
            ],
            [
             0.4444444444444444,
             "#bd3786"
            ],
            [
             0.5555555555555556,
             "#d8576b"
            ],
            [
             0.6666666666666666,
             "#ed7953"
            ],
            [
             0.7777777777777778,
             "#fb9f3a"
            ],
            [
             0.8888888888888888,
             "#fdca26"
            ],
            [
             1,
             "#f0f921"
            ]
           ],
           "sequentialminus": [
            [
             0,
             "#0d0887"
            ],
            [
             0.1111111111111111,
             "#46039f"
            ],
            [
             0.2222222222222222,
             "#7201a8"
            ],
            [
             0.3333333333333333,
             "#9c179e"
            ],
            [
             0.4444444444444444,
             "#bd3786"
            ],
            [
             0.5555555555555556,
             "#d8576b"
            ],
            [
             0.6666666666666666,
             "#ed7953"
            ],
            [
             0.7777777777777778,
             "#fb9f3a"
            ],
            [
             0.8888888888888888,
             "#fdca26"
            ],
            [
             1,
             "#f0f921"
            ]
           ]
          },
          "colorway": [
           "#636efa",
           "#EF553B",
           "#00cc96",
           "#ab63fa",
           "#FFA15A",
           "#19d3f3",
           "#FF6692",
           "#B6E880",
           "#FF97FF",
           "#FECB52"
          ],
          "font": {
           "color": "#2a3f5f"
          },
          "geo": {
           "bgcolor": "white",
           "lakecolor": "white",
           "landcolor": "#E5ECF6",
           "showlakes": true,
           "showland": true,
           "subunitcolor": "white"
          },
          "hoverlabel": {
           "align": "left"
          },
          "hovermode": "closest",
          "mapbox": {
           "style": "light"
          },
          "paper_bgcolor": "white",
          "plot_bgcolor": "#E5ECF6",
          "polar": {
           "angularaxis": {
            "gridcolor": "white",
            "linecolor": "white",
            "ticks": ""
           },
           "bgcolor": "#E5ECF6",
           "radialaxis": {
            "gridcolor": "white",
            "linecolor": "white",
            "ticks": ""
           }
          },
          "scene": {
           "xaxis": {
            "backgroundcolor": "#E5ECF6",
            "gridcolor": "white",
            "gridwidth": 2,
            "linecolor": "white",
            "showbackground": true,
            "ticks": "",
            "zerolinecolor": "white"
           },
           "yaxis": {
            "backgroundcolor": "#E5ECF6",
            "gridcolor": "white",
            "gridwidth": 2,
            "linecolor": "white",
            "showbackground": true,
            "ticks": "",
            "zerolinecolor": "white"
           },
           "zaxis": {
            "backgroundcolor": "#E5ECF6",
            "gridcolor": "white",
            "gridwidth": 2,
            "linecolor": "white",
            "showbackground": true,
            "ticks": "",
            "zerolinecolor": "white"
           }
          },
          "shapedefaults": {
           "line": {
            "color": "#2a3f5f"
           }
          },
          "ternary": {
           "aaxis": {
            "gridcolor": "white",
            "linecolor": "white",
            "ticks": ""
           },
           "baxis": {
            "gridcolor": "white",
            "linecolor": "white",
            "ticks": ""
           },
           "bgcolor": "#E5ECF6",
           "caxis": {
            "gridcolor": "white",
            "linecolor": "white",
            "ticks": ""
           }
          },
          "title": {
           "x": 0.05
          },
          "xaxis": {
           "automargin": true,
           "gridcolor": "white",
           "linecolor": "white",
           "ticks": "",
           "title": {
            "standoff": 15
           },
           "zerolinecolor": "white",
           "zerolinewidth": 2
          },
          "yaxis": {
           "automargin": true,
           "gridcolor": "white",
           "linecolor": "white",
           "ticks": "",
           "title": {
            "standoff": 15
           },
           "zerolinecolor": "white",
           "zerolinewidth": 2
          }
         }
        },
        "uirevision": "0",
        "xaxis": {
         "anchor": "y",
         "domain": [
          0,
          0.45
         ],
         "title": {
          "text": "Time (ns)"
         }
        },
        "xaxis2": {
         "anchor": "y2",
         "domain": [
          0.55,
          1
         ],
         "title": {
          "text": "Time (ns)"
         }
        },
        "yaxis": {
         "anchor": "x",
         "domain": [
          0,
          1
         ],
         "title": {
          "text": "MSR (uV)"
         }
        },
        "yaxis2": {
         "anchor": "x2",
         "domain": [
          0,
          1
         ],
         "title": {
          "text": "Phase (rad)"
         }
        }
       }
      },
      "text/html": [
       "<div>                            <div id=\"83cf1ae7-e59c-452f-9f29-d8426c311bb8\" class=\"plotly-graph-div\" style=\"height:525px; width:100%;\"></div>            <script type=\"text/javascript\">                require([\"plotly\"], function(Plotly) {                    window.PLOTLYENV=window.PLOTLYENV || {};                                    if (document.getElementById(\"83cf1ae7-e59c-452f-9f29-d8426c311bb8\")) {                    Plotly.newPlot(                        \"83cf1ae7-e59c-452f-9f29-d8426c311bb8\",                        [{\"name\":\"Rabi Oscillations\",\"x\":[20.0,25.0,30.0,35.0,40.0,45.0,50.0,55.0,60.0,65.0,70.0,75.0,80.0,85.0,90.0,95.0,100.0,105.0,110.0,115.0,120.0,125.0,130.0,135.0,140.0,145.0,150.0,155.0,160.0,165.0,170.0,175.0,180.0,185.0,190.0,195.0,200.0,205.0,210.0,215.0,220.0,225.0,230.0,235.0,240.0,245.0,250.0,255.0,260.0,265.0,270.0,275.0,280.0,285.0,290.0,295.0,300.0,305.0,310.0,315.0],\"y\":[1.39224720725459,3.2926724923489776,5.375287699537456,3.37298985510667,3.5258038074734683,1.5069647751458348,3.5163201880823247,1.4337779571682068,2.478655804638477,2.4413076822211712,2.7341269871542133,1.9321054355383878,4.392632693032867,5.037319436954795,6.578396296346806,4.666156269422205,1.1502313434634472,3.315983683414294,3.269176178549359,3.581474674201485,3.2263984751293324,3.584536693503728,4.946101176729684,0.4949152391692296,3.877253963906295,2.5274987291293405,5.970449036962861,1.6405593014218691,3.4437215972323734,4.764718439855052,3.7245799722324535,0.8929727351220852,3.0889205621518605,5.018875518627165,3.811537625119167,3.619148576371406,3.0317190352666064,2.552992760307492,4.468954591498923,3.4839026191077247,3.7961929307570075,3.1520808805962286,4.214171884662823,2.5088409306318806,2.6187867321274436,1.5340180004320945,2.6131281689562917,1.3960845587238366,3.018364858692115,1.1987954610384697,5.86137164294933,3.304438164260146,4.398408824878634,3.7846026848888568,2.785888538634342,3.0131110811358193,1.1822023029161353,3.583707102680467,4.298363181629936,4.052324018544687],\"type\":\"scatter\",\"xaxis\":\"x\",\"yaxis\":\"y\"},{\"name\":\"Rabi Oscillations\",\"x\":[20.0,25.0,30.0,35.0,40.0,45.0,50.0,55.0,60.0,65.0,70.0,75.0,80.0,85.0,90.0,95.0,100.0,105.0,110.0,115.0,120.0,125.0,130.0,135.0,140.0,145.0,150.0,155.0,160.0,165.0,170.0,175.0,180.0,185.0,190.0,195.0,200.0,205.0,210.0,215.0,220.0,225.0,230.0,235.0,240.0,245.0,250.0,255.0,260.0,265.0,270.0,275.0,280.0,285.0,290.0,295.0,300.0,305.0,310.0,315.0],\"y\":[-3.0892736109497916,2.0430290588053825,1.5092804923925522,1.2996804095501682,2.0230577320991756,1.5560618616754651,2.0522333567989413,0.30822398674349766,0.8966355476204774,0.8226526753939413,0.4597321999538209,2.6812965000502875,1.908286572142297,2.4225944544470064,1.539210012220436,2.093631183584428,-3.109039519063864,2.094547626078831,1.517531344367295,2.0495717520694807,2.2991233708459737,1.4143060526241458,1.7105942833274008,1.0661110260541513,1.7055683970696338,-2.9727239951019793,1.5907036271536725,2.033207909382411,1.9332965464217575,1.973448892844387,2.3150266784917446,0.5251231539153706,1.6755006119932399,1.6523028932185395,2.4131423677441735,2.11835402718842,1.8054741446282185,1.3952906446219173,1.7177599447741188,1.410951934283878,1.9949186958049216,1.0484462151923062,1.9320333466426791,2.9211718866582257,1.7721839124266392,0.7946615933986634,0.789301450493723,1.400187796664136,1.8798878606097917,1.777259064033705,2.027562042104101,1.3231169548380368,1.8003183553881514,1.117652326092644,1.0650310469242918,1.4745402071442726,2.755196049501582,1.5348127928491526,2.134358890541252,2.3212806314945658],\"type\":\"scatter\",\"xaxis\":\"x2\",\"yaxis\":\"y2\"}],                        {\"template\":{\"data\":{\"histogram2dcontour\":[{\"type\":\"histogram2dcontour\",\"colorbar\":{\"outlinewidth\":0,\"ticks\":\"\"},\"colorscale\":[[0.0,\"#0d0887\"],[0.1111111111111111,\"#46039f\"],[0.2222222222222222,\"#7201a8\"],[0.3333333333333333,\"#9c179e\"],[0.4444444444444444,\"#bd3786\"],[0.5555555555555556,\"#d8576b\"],[0.6666666666666666,\"#ed7953\"],[0.7777777777777778,\"#fb9f3a\"],[0.8888888888888888,\"#fdca26\"],[1.0,\"#f0f921\"]]}],\"choropleth\":[{\"type\":\"choropleth\",\"colorbar\":{\"outlinewidth\":0,\"ticks\":\"\"}}],\"histogram2d\":[{\"type\":\"histogram2d\",\"colorbar\":{\"outlinewidth\":0,\"ticks\":\"\"},\"colorscale\":[[0.0,\"#0d0887\"],[0.1111111111111111,\"#46039f\"],[0.2222222222222222,\"#7201a8\"],[0.3333333333333333,\"#9c179e\"],[0.4444444444444444,\"#bd3786\"],[0.5555555555555556,\"#d8576b\"],[0.6666666666666666,\"#ed7953\"],[0.7777777777777778,\"#fb9f3a\"],[0.8888888888888888,\"#fdca26\"],[1.0,\"#f0f921\"]]}],\"heatmap\":[{\"type\":\"heatmap\",\"colorbar\":{\"outlinewidth\":0,\"ticks\":\"\"},\"colorscale\":[[0.0,\"#0d0887\"],[0.1111111111111111,\"#46039f\"],[0.2222222222222222,\"#7201a8\"],[0.3333333333333333,\"#9c179e\"],[0.4444444444444444,\"#bd3786\"],[0.5555555555555556,\"#d8576b\"],[0.6666666666666666,\"#ed7953\"],[0.7777777777777778,\"#fb9f3a\"],[0.8888888888888888,\"#fdca26\"],[1.0,\"#f0f921\"]]}],\"heatmapgl\":[{\"type\":\"heatmapgl\",\"colorbar\":{\"outlinewidth\":0,\"ticks\":\"\"},\"colorscale\":[[0.0,\"#0d0887\"],[0.1111111111111111,\"#46039f\"],[0.2222222222222222,\"#7201a8\"],[0.3333333333333333,\"#9c179e\"],[0.4444444444444444,\"#bd3786\"],[0.5555555555555556,\"#d8576b\"],[0.6666666666666666,\"#ed7953\"],[0.7777777777777778,\"#fb9f3a\"],[0.8888888888888888,\"#fdca26\"],[1.0,\"#f0f921\"]]}],\"contourcarpet\":[{\"type\":\"contourcarpet\",\"colorbar\":{\"outlinewidth\":0,\"ticks\":\"\"}}],\"contour\":[{\"type\":\"contour\",\"colorbar\":{\"outlinewidth\":0,\"ticks\":\"\"},\"colorscale\":[[0.0,\"#0d0887\"],[0.1111111111111111,\"#46039f\"],[0.2222222222222222,\"#7201a8\"],[0.3333333333333333,\"#9c179e\"],[0.4444444444444444,\"#bd3786\"],[0.5555555555555556,\"#d8576b\"],[0.6666666666666666,\"#ed7953\"],[0.7777777777777778,\"#fb9f3a\"],[0.8888888888888888,\"#fdca26\"],[1.0,\"#f0f921\"]]}],\"surface\":[{\"type\":\"surface\",\"colorbar\":{\"outlinewidth\":0,\"ticks\":\"\"},\"colorscale\":[[0.0,\"#0d0887\"],[0.1111111111111111,\"#46039f\"],[0.2222222222222222,\"#7201a8\"],[0.3333333333333333,\"#9c179e\"],[0.4444444444444444,\"#bd3786\"],[0.5555555555555556,\"#d8576b\"],[0.6666666666666666,\"#ed7953\"],[0.7777777777777778,\"#fb9f3a\"],[0.8888888888888888,\"#fdca26\"],[1.0,\"#f0f921\"]]}],\"mesh3d\":[{\"type\":\"mesh3d\",\"colorbar\":{\"outlinewidth\":0,\"ticks\":\"\"}}],\"scatter\":[{\"fillpattern\":{\"fillmode\":\"overlay\",\"size\":10,\"solidity\":0.2},\"type\":\"scatter\"}],\"parcoords\":[{\"type\":\"parcoords\",\"line\":{\"colorbar\":{\"outlinewidth\":0,\"ticks\":\"\"}}}],\"scatterpolargl\":[{\"type\":\"scatterpolargl\",\"marker\":{\"colorbar\":{\"outlinewidth\":0,\"ticks\":\"\"}}}],\"bar\":[{\"error_x\":{\"color\":\"#2a3f5f\"},\"error_y\":{\"color\":\"#2a3f5f\"},\"marker\":{\"line\":{\"color\":\"#E5ECF6\",\"width\":0.5},\"pattern\":{\"fillmode\":\"overlay\",\"size\":10,\"solidity\":0.2}},\"type\":\"bar\"}],\"scattergeo\":[{\"type\":\"scattergeo\",\"marker\":{\"colorbar\":{\"outlinewidth\":0,\"ticks\":\"\"}}}],\"scatterpolar\":[{\"type\":\"scatterpolar\",\"marker\":{\"colorbar\":{\"outlinewidth\":0,\"ticks\":\"\"}}}],\"histogram\":[{\"marker\":{\"pattern\":{\"fillmode\":\"overlay\",\"size\":10,\"solidity\":0.2}},\"type\":\"histogram\"}],\"scattergl\":[{\"type\":\"scattergl\",\"marker\":{\"colorbar\":{\"outlinewidth\":0,\"ticks\":\"\"}}}],\"scatter3d\":[{\"type\":\"scatter3d\",\"line\":{\"colorbar\":{\"outlinewidth\":0,\"ticks\":\"\"}},\"marker\":{\"colorbar\":{\"outlinewidth\":0,\"ticks\":\"\"}}}],\"scattermapbox\":[{\"type\":\"scattermapbox\",\"marker\":{\"colorbar\":{\"outlinewidth\":0,\"ticks\":\"\"}}}],\"scatterternary\":[{\"type\":\"scatterternary\",\"marker\":{\"colorbar\":{\"outlinewidth\":0,\"ticks\":\"\"}}}],\"scattercarpet\":[{\"type\":\"scattercarpet\",\"marker\":{\"colorbar\":{\"outlinewidth\":0,\"ticks\":\"\"}}}],\"carpet\":[{\"aaxis\":{\"endlinecolor\":\"#2a3f5f\",\"gridcolor\":\"white\",\"linecolor\":\"white\",\"minorgridcolor\":\"white\",\"startlinecolor\":\"#2a3f5f\"},\"baxis\":{\"endlinecolor\":\"#2a3f5f\",\"gridcolor\":\"white\",\"linecolor\":\"white\",\"minorgridcolor\":\"white\",\"startlinecolor\":\"#2a3f5f\"},\"type\":\"carpet\"}],\"table\":[{\"cells\":{\"fill\":{\"color\":\"#EBF0F8\"},\"line\":{\"color\":\"white\"}},\"header\":{\"fill\":{\"color\":\"#C8D4E3\"},\"line\":{\"color\":\"white\"}},\"type\":\"table\"}],\"barpolar\":[{\"marker\":{\"line\":{\"color\":\"#E5ECF6\",\"width\":0.5},\"pattern\":{\"fillmode\":\"overlay\",\"size\":10,\"solidity\":0.2}},\"type\":\"barpolar\"}],\"pie\":[{\"automargin\":true,\"type\":\"pie\"}]},\"layout\":{\"autotypenumbers\":\"strict\",\"colorway\":[\"#636efa\",\"#EF553B\",\"#00cc96\",\"#ab63fa\",\"#FFA15A\",\"#19d3f3\",\"#FF6692\",\"#B6E880\",\"#FF97FF\",\"#FECB52\"],\"font\":{\"color\":\"#2a3f5f\"},\"hovermode\":\"closest\",\"hoverlabel\":{\"align\":\"left\"},\"paper_bgcolor\":\"white\",\"plot_bgcolor\":\"#E5ECF6\",\"polar\":{\"bgcolor\":\"#E5ECF6\",\"angularaxis\":{\"gridcolor\":\"white\",\"linecolor\":\"white\",\"ticks\":\"\"},\"radialaxis\":{\"gridcolor\":\"white\",\"linecolor\":\"white\",\"ticks\":\"\"}},\"ternary\":{\"bgcolor\":\"#E5ECF6\",\"aaxis\":{\"gridcolor\":\"white\",\"linecolor\":\"white\",\"ticks\":\"\"},\"baxis\":{\"gridcolor\":\"white\",\"linecolor\":\"white\",\"ticks\":\"\"},\"caxis\":{\"gridcolor\":\"white\",\"linecolor\":\"white\",\"ticks\":\"\"}},\"coloraxis\":{\"colorbar\":{\"outlinewidth\":0,\"ticks\":\"\"}},\"colorscale\":{\"sequential\":[[0.0,\"#0d0887\"],[0.1111111111111111,\"#46039f\"],[0.2222222222222222,\"#7201a8\"],[0.3333333333333333,\"#9c179e\"],[0.4444444444444444,\"#bd3786\"],[0.5555555555555556,\"#d8576b\"],[0.6666666666666666,\"#ed7953\"],[0.7777777777777778,\"#fb9f3a\"],[0.8888888888888888,\"#fdca26\"],[1.0,\"#f0f921\"]],\"sequentialminus\":[[0.0,\"#0d0887\"],[0.1111111111111111,\"#46039f\"],[0.2222222222222222,\"#7201a8\"],[0.3333333333333333,\"#9c179e\"],[0.4444444444444444,\"#bd3786\"],[0.5555555555555556,\"#d8576b\"],[0.6666666666666666,\"#ed7953\"],[0.7777777777777778,\"#fb9f3a\"],[0.8888888888888888,\"#fdca26\"],[1.0,\"#f0f921\"]],\"diverging\":[[0,\"#8e0152\"],[0.1,\"#c51b7d\"],[0.2,\"#de77ae\"],[0.3,\"#f1b6da\"],[0.4,\"#fde0ef\"],[0.5,\"#f7f7f7\"],[0.6,\"#e6f5d0\"],[0.7,\"#b8e186\"],[0.8,\"#7fbc41\"],[0.9,\"#4d9221\"],[1,\"#276419\"]]},\"xaxis\":{\"gridcolor\":\"white\",\"linecolor\":\"white\",\"ticks\":\"\",\"title\":{\"standoff\":15},\"zerolinecolor\":\"white\",\"automargin\":true,\"zerolinewidth\":2},\"yaxis\":{\"gridcolor\":\"white\",\"linecolor\":\"white\",\"ticks\":\"\",\"title\":{\"standoff\":15},\"zerolinecolor\":\"white\",\"automargin\":true,\"zerolinewidth\":2},\"scene\":{\"xaxis\":{\"backgroundcolor\":\"#E5ECF6\",\"gridcolor\":\"white\",\"linecolor\":\"white\",\"showbackground\":true,\"ticks\":\"\",\"zerolinecolor\":\"white\",\"gridwidth\":2},\"yaxis\":{\"backgroundcolor\":\"#E5ECF6\",\"gridcolor\":\"white\",\"linecolor\":\"white\",\"showbackground\":true,\"ticks\":\"\",\"zerolinecolor\":\"white\",\"gridwidth\":2},\"zaxis\":{\"backgroundcolor\":\"#E5ECF6\",\"gridcolor\":\"white\",\"linecolor\":\"white\",\"showbackground\":true,\"ticks\":\"\",\"zerolinecolor\":\"white\",\"gridwidth\":2}},\"shapedefaults\":{\"line\":{\"color\":\"#2a3f5f\"}},\"annotationdefaults\":{\"arrowcolor\":\"#2a3f5f\",\"arrowhead\":0,\"arrowwidth\":1},\"geo\":{\"bgcolor\":\"white\",\"landcolor\":\"#E5ECF6\",\"subunitcolor\":\"white\",\"showland\":true,\"showlakes\":true,\"lakecolor\":\"white\"},\"title\":{\"x\":0.05},\"mapbox\":{\"style\":\"light\"}}},\"xaxis\":{\"anchor\":\"y\",\"domain\":[0.0,0.45],\"title\":{\"text\":\"Time (ns)\"}},\"yaxis\":{\"anchor\":\"x\",\"domain\":[0.0,1.0],\"title\":{\"text\":\"MSR (uV)\"}},\"xaxis2\":{\"anchor\":\"y2\",\"domain\":[0.55,1.0],\"title\":{\"text\":\"Time (ns)\"}},\"yaxis2\":{\"anchor\":\"x2\",\"domain\":[0.0,1.0],\"title\":{\"text\":\"Phase (rad)\"}},\"annotations\":[{\"font\":{\"size\":16},\"showarrow\":false,\"text\":\"MSR (V)\",\"x\":0.225,\"xanchor\":\"center\",\"xref\":\"paper\",\"y\":1.0,\"yanchor\":\"bottom\",\"yref\":\"paper\"},{\"font\":{\"size\":16},\"showarrow\":false,\"text\":\"phase (rad)\",\"x\":0.775,\"xanchor\":\"center\",\"xref\":\"paper\",\"y\":1.0,\"yanchor\":\"bottom\",\"yref\":\"paper\"}],\"showlegend\":true,\"uirevision\":\"0\"},                        {\"responsive\": true}                    ).then(function(){\n",
       "                            \n",
       "var gd = document.getElementById('83cf1ae7-e59c-452f-9f29-d8426c311bb8');\n",
       "var x = new MutationObserver(function (mutations, observer) {{\n",
       "        var display = window.getComputedStyle(gd).display;\n",
       "        if (!display || display === 'none') {{\n",
       "            console.log([gd, 'removed!']);\n",
       "            Plotly.purge(gd);\n",
       "            observer.disconnect();\n",
       "        }}\n",
       "}});\n",
       "\n",
       "// Listen for the removal of the full notebook cells\n",
       "var notebookContainer = gd.closest('#notebook-container');\n",
       "if (notebookContainer) {{\n",
       "    x.observe(notebookContainer, {childList: true});\n",
       "}}\n",
       "\n",
       "// Listen for the clearing of the current output cell\n",
       "var outputEl = gd.closest('.output');\n",
       "if (outputEl) {{\n",
       "    x.observe(outputEl, {childList: true});\n",
       "}}\n",
       "\n",
       "                        })                };                });            </script>        </div>"
      ]
     },
     "metadata": {},
     "output_type": "display_data"
    }
   ],
   "source": [
    "sequences, durations = rabi_pulse_length_sequences(Device,\n",
    "    qubit = 0,\n",
    "    pulse_duration_start = 20,\n",
    "    pulse_duration_end = 320,\n",
    "    pulse_duration_step = 10,\n",
    ")\n",
    "\n",
    "msr, phase, i , q = Device.execute_pulse_sequences_np(sequences)\n",
    "qubit = 0\n",
    "\n",
    "data = DataUnits(name=f\"data_q{qubit}\", quantities={\"Time\": \"ns\"})\n",
    "\n",
    "results = {\n",
    "    \"MSR[V]\": msr,\n",
    "    \"i[V]\": i,\n",
    "    \"q[V]\": q,\n",
    "    \"phase[rad]\": phase,\n",
    "    \"Time[ns]\": durations,\n",
    "}\n",
    "                   \n",
    "data.set(results)\n",
    "\n",
    "time_msr_phase(data)"
   ]
  },
  {
   "cell_type": "markdown",
   "metadata": {},
   "source": [
    "Con sequences entre 100 y 75 rabis"
   ]
  },
  {
   "cell_type": "code",
   "execution_count": null,
   "metadata": {},
   "outputs": [],
   "source": [
    "class Sweep:\n",
    "    \n",
    "    def __init__(self, qubit, pulse, param, start, stop, count):\n",
    "        "
   ]
  },
  {
   "cell_type": "code",
   "execution_count": 19,
   "metadata": {},
   "outputs": [],
   "source": [
    "def rabi_pulse_length_sequenceSweep(\n",
    "    platform,\n",
    "    qubit: int,\n",
    "    pulse_duration_start,\n",
    "    pulse_duration_end,\n",
    "    count,\n",
    "    parameter,\n",
    "):\n",
    "\n",
    "\n",
    "    sequence = PulseSequence()\n",
    "    qd_pulse = platform.create_qubit_drive_pulse(qubit, start=0, duration=pulse_duration_start)\n",
    "    ro_pulse = platform.create_qubit_readout_pulse(qubit, qd_pulse.finish)\n",
    "    sequence.add(qd_pulse)\n",
    "    sequence.add(ro_pulse)\n",
    "\n",
    "    qd_pulse_duration_range = np.linspace(\n",
    "            pulse_duration_start, pulse_duration_end, count\n",
    "        )\n",
    "\n",
    "    durations = []\n",
    "    for duration in qd_pulse_duration_range:\n",
    "\n",
    "        durations.append(duration)\n",
    "        \n",
    "    return sequence, durations, pulse_duration_start, pulse_duration_end, count, parameter"
   ]
  },
  {
   "cell_type": "code",
   "execution_count": 20,
   "metadata": {},
   "outputs": [],
   "source": [
    "Device.reload_settings()\n",
    "Device.apply_settings()"
   ]
  },
  {
   "cell_type": "code",
   "execution_count": 21,
   "metadata": {},
   "outputs": [
    {
     "name": "stdout",
     "output_type": "stream",
     "text": [
      "2023.01.10 12:06:05.946 laboneq.compiler.workflow.compiler INFO   Starting LabOne Q Compiler run...\n",
      "2023.01.10 12:06:06.070 laboneq.compiler.workflow.compiler INFO   Total seqC lines generated: 608\n",
      "2023.01.10 12:06:06.070 laboneq.compiler.workflow.compiler INFO   Total sample points generated: 63440\n",
      "2023.01.10 12:06:06.070 laboneq.compiler.workflow.compiler INFO   Finished LabOne Q Compiler run.\n",
      "2023.01.10 12:06:06.955 laboneq.controller.controller  INFO   Starting near-time execution...\n",
      "2023.01.10 12:06:08.909 laboneq.controller.controller  INFO   Finished near-time execution.\n"
     ]
    },
    {
     "name": "stderr",
     "output_type": "stream",
     "text": [
      "/opt/anaconda3/envs/JQibo/lib/python3.9/site-packages/pandas/core/construction.py:617: UnitStrippedWarning:\n",
      "\n",
      "The unit of the quantity is stripped when downcasting to ndarray.\n",
      "\n"
     ]
    },
    {
     "data": {
      "application/vnd.plotly.v1+json": {
       "config": {
        "plotlyServerURL": "https://plot.ly"
       },
       "data": [
        {
         "name": "Rabi Oscillations",
         "type": "scatter",
         "x": [
          20,
          30.344827586206897,
          40.689655172413794,
          51.03448275862069,
          61.37931034482759,
          71.72413793103448,
          82.06896551724138,
          92.41379310344828,
          102.75862068965517,
          113.10344827586206,
          123.44827586206897,
          133.79310344827587,
          144.13793103448276,
          154.48275862068965,
          164.82758620689657,
          175.17241379310346,
          185.51724137931035,
          195.86206896551724,
          206.20689655172413,
          216.55172413793105,
          226.89655172413794,
          237.24137931034483,
          247.58620689655174,
          257.9310344827586,
          268.2758620689655,
          278.62068965517244,
          288.9655172413793,
          299.3103448275862,
          309.65517241379314,
          320
         ],
         "xaxis": "x",
         "y": [
          2.180728383853882,
          1.696887681415433,
          3.0305985472113375,
          4.939072154667789,
          1.1716123825492328,
          6.0662979333157185,
          1.0337203072179757,
          0.5790485734293119,
          1.3896217981593009,
          4.234857895877441,
          6.641425565705882,
          4.673342804137681,
          3.8193946851822673,
          2.9568793605795114,
          3.7839526900142024,
          6.586132655684447,
          2.6368103654210486,
          1.8662799318265673,
          3.285557959157701,
          1.9815728780876196,
          3.2807135348437053,
          1.661354735481751,
          3.9660774569814636,
          3.2447207047372024,
          0.4616821622549006,
          1.1470953085407734,
          2.0784129270724874,
          4.0845293044374875,
          2.436368066835919,
          1.927957850220114
         ],
         "yaxis": "y"
        },
        {
         "name": "Rabi Oscillations",
         "type": "scatter",
         "x": [
          20,
          30.344827586206897,
          40.689655172413794,
          51.03448275862069,
          61.37931034482759,
          71.72413793103448,
          82.06896551724138,
          92.41379310344828,
          102.75862068965517,
          113.10344827586206,
          123.44827586206897,
          133.79310344827587,
          144.13793103448276,
          154.48275862068965,
          164.82758620689657,
          175.17241379310346,
          185.51724137931035,
          195.86206896551724,
          206.20689655172413,
          216.55172413793105,
          226.89655172413794,
          237.24137931034483,
          247.58620689655174,
          257.9310344827586,
          268.2758620689655,
          278.62068965517244,
          288.9655172413793,
          299.3103448275862,
          309.65517241379314,
          320
         ],
         "xaxis": "x2",
         "y": [
          -1.2482005151872193,
          -1.3662511539403108,
          0.05132428232759432,
          -0.09370134423757964,
          -2.100429521526924,
          -1.4192066105753611,
          2.2469141116519187,
          -0.24440432080777108,
          -2.4121500609051973,
          -2.638783471593334,
          -0.10104070889522605,
          -1.855543983158894,
          -0.8427911659792193,
          -3.077321495951805,
          -0.9508212606481886,
          -1.4185411481665418,
          0.5689823636555112,
          -2.3977614138757524,
          -0.5421904085224328,
          -0.11917681536061912,
          -0.93719296132898,
          -1.9567495964690882,
          1.2790791590016994,
          -1.2642833059659657,
          1.7114015332912687,
          0.26051998123168907,
          0.5391807876828775,
          -1.5484123881232177,
          -1.6968589595809898,
          -0.12876166981829665
         ],
         "yaxis": "y2"
        }
       ],
       "layout": {
        "annotations": [
         {
          "font": {
           "size": 16
          },
          "showarrow": false,
          "text": "MSR (V)",
          "x": 0.225,
          "xanchor": "center",
          "xref": "paper",
          "y": 1,
          "yanchor": "bottom",
          "yref": "paper"
         },
         {
          "font": {
           "size": 16
          },
          "showarrow": false,
          "text": "phase (rad)",
          "x": 0.775,
          "xanchor": "center",
          "xref": "paper",
          "y": 1,
          "yanchor": "bottom",
          "yref": "paper"
         }
        ],
        "showlegend": true,
        "template": {
         "data": {
          "bar": [
           {
            "error_x": {
             "color": "#2a3f5f"
            },
            "error_y": {
             "color": "#2a3f5f"
            },
            "marker": {
             "line": {
              "color": "#E5ECF6",
              "width": 0.5
             },
             "pattern": {
              "fillmode": "overlay",
              "size": 10,
              "solidity": 0.2
             }
            },
            "type": "bar"
           }
          ],
          "barpolar": [
           {
            "marker": {
             "line": {
              "color": "#E5ECF6",
              "width": 0.5
             },
             "pattern": {
              "fillmode": "overlay",
              "size": 10,
              "solidity": 0.2
             }
            },
            "type": "barpolar"
           }
          ],
          "carpet": [
           {
            "aaxis": {
             "endlinecolor": "#2a3f5f",
             "gridcolor": "white",
             "linecolor": "white",
             "minorgridcolor": "white",
             "startlinecolor": "#2a3f5f"
            },
            "baxis": {
             "endlinecolor": "#2a3f5f",
             "gridcolor": "white",
             "linecolor": "white",
             "minorgridcolor": "white",
             "startlinecolor": "#2a3f5f"
            },
            "type": "carpet"
           }
          ],
          "choropleth": [
           {
            "colorbar": {
             "outlinewidth": 0,
             "ticks": ""
            },
            "type": "choropleth"
           }
          ],
          "contour": [
           {
            "colorbar": {
             "outlinewidth": 0,
             "ticks": ""
            },
            "colorscale": [
             [
              0,
              "#0d0887"
             ],
             [
              0.1111111111111111,
              "#46039f"
             ],
             [
              0.2222222222222222,
              "#7201a8"
             ],
             [
              0.3333333333333333,
              "#9c179e"
             ],
             [
              0.4444444444444444,
              "#bd3786"
             ],
             [
              0.5555555555555556,
              "#d8576b"
             ],
             [
              0.6666666666666666,
              "#ed7953"
             ],
             [
              0.7777777777777778,
              "#fb9f3a"
             ],
             [
              0.8888888888888888,
              "#fdca26"
             ],
             [
              1,
              "#f0f921"
             ]
            ],
            "type": "contour"
           }
          ],
          "contourcarpet": [
           {
            "colorbar": {
             "outlinewidth": 0,
             "ticks": ""
            },
            "type": "contourcarpet"
           }
          ],
          "heatmap": [
           {
            "colorbar": {
             "outlinewidth": 0,
             "ticks": ""
            },
            "colorscale": [
             [
              0,
              "#0d0887"
             ],
             [
              0.1111111111111111,
              "#46039f"
             ],
             [
              0.2222222222222222,
              "#7201a8"
             ],
             [
              0.3333333333333333,
              "#9c179e"
             ],
             [
              0.4444444444444444,
              "#bd3786"
             ],
             [
              0.5555555555555556,
              "#d8576b"
             ],
             [
              0.6666666666666666,
              "#ed7953"
             ],
             [
              0.7777777777777778,
              "#fb9f3a"
             ],
             [
              0.8888888888888888,
              "#fdca26"
             ],
             [
              1,
              "#f0f921"
             ]
            ],
            "type": "heatmap"
           }
          ],
          "heatmapgl": [
           {
            "colorbar": {
             "outlinewidth": 0,
             "ticks": ""
            },
            "colorscale": [
             [
              0,
              "#0d0887"
             ],
             [
              0.1111111111111111,
              "#46039f"
             ],
             [
              0.2222222222222222,
              "#7201a8"
             ],
             [
              0.3333333333333333,
              "#9c179e"
             ],
             [
              0.4444444444444444,
              "#bd3786"
             ],
             [
              0.5555555555555556,
              "#d8576b"
             ],
             [
              0.6666666666666666,
              "#ed7953"
             ],
             [
              0.7777777777777778,
              "#fb9f3a"
             ],
             [
              0.8888888888888888,
              "#fdca26"
             ],
             [
              1,
              "#f0f921"
             ]
            ],
            "type": "heatmapgl"
           }
          ],
          "histogram": [
           {
            "marker": {
             "pattern": {
              "fillmode": "overlay",
              "size": 10,
              "solidity": 0.2
             }
            },
            "type": "histogram"
           }
          ],
          "histogram2d": [
           {
            "colorbar": {
             "outlinewidth": 0,
             "ticks": ""
            },
            "colorscale": [
             [
              0,
              "#0d0887"
             ],
             [
              0.1111111111111111,
              "#46039f"
             ],
             [
              0.2222222222222222,
              "#7201a8"
             ],
             [
              0.3333333333333333,
              "#9c179e"
             ],
             [
              0.4444444444444444,
              "#bd3786"
             ],
             [
              0.5555555555555556,
              "#d8576b"
             ],
             [
              0.6666666666666666,
              "#ed7953"
             ],
             [
              0.7777777777777778,
              "#fb9f3a"
             ],
             [
              0.8888888888888888,
              "#fdca26"
             ],
             [
              1,
              "#f0f921"
             ]
            ],
            "type": "histogram2d"
           }
          ],
          "histogram2dcontour": [
           {
            "colorbar": {
             "outlinewidth": 0,
             "ticks": ""
            },
            "colorscale": [
             [
              0,
              "#0d0887"
             ],
             [
              0.1111111111111111,
              "#46039f"
             ],
             [
              0.2222222222222222,
              "#7201a8"
             ],
             [
              0.3333333333333333,
              "#9c179e"
             ],
             [
              0.4444444444444444,
              "#bd3786"
             ],
             [
              0.5555555555555556,
              "#d8576b"
             ],
             [
              0.6666666666666666,
              "#ed7953"
             ],
             [
              0.7777777777777778,
              "#fb9f3a"
             ],
             [
              0.8888888888888888,
              "#fdca26"
             ],
             [
              1,
              "#f0f921"
             ]
            ],
            "type": "histogram2dcontour"
           }
          ],
          "mesh3d": [
           {
            "colorbar": {
             "outlinewidth": 0,
             "ticks": ""
            },
            "type": "mesh3d"
           }
          ],
          "parcoords": [
           {
            "line": {
             "colorbar": {
              "outlinewidth": 0,
              "ticks": ""
             }
            },
            "type": "parcoords"
           }
          ],
          "pie": [
           {
            "automargin": true,
            "type": "pie"
           }
          ],
          "scatter": [
           {
            "fillpattern": {
             "fillmode": "overlay",
             "size": 10,
             "solidity": 0.2
            },
            "type": "scatter"
           }
          ],
          "scatter3d": [
           {
            "line": {
             "colorbar": {
              "outlinewidth": 0,
              "ticks": ""
             }
            },
            "marker": {
             "colorbar": {
              "outlinewidth": 0,
              "ticks": ""
             }
            },
            "type": "scatter3d"
           }
          ],
          "scattercarpet": [
           {
            "marker": {
             "colorbar": {
              "outlinewidth": 0,
              "ticks": ""
             }
            },
            "type": "scattercarpet"
           }
          ],
          "scattergeo": [
           {
            "marker": {
             "colorbar": {
              "outlinewidth": 0,
              "ticks": ""
             }
            },
            "type": "scattergeo"
           }
          ],
          "scattergl": [
           {
            "marker": {
             "colorbar": {
              "outlinewidth": 0,
              "ticks": ""
             }
            },
            "type": "scattergl"
           }
          ],
          "scattermapbox": [
           {
            "marker": {
             "colorbar": {
              "outlinewidth": 0,
              "ticks": ""
             }
            },
            "type": "scattermapbox"
           }
          ],
          "scatterpolar": [
           {
            "marker": {
             "colorbar": {
              "outlinewidth": 0,
              "ticks": ""
             }
            },
            "type": "scatterpolar"
           }
          ],
          "scatterpolargl": [
           {
            "marker": {
             "colorbar": {
              "outlinewidth": 0,
              "ticks": ""
             }
            },
            "type": "scatterpolargl"
           }
          ],
          "scatterternary": [
           {
            "marker": {
             "colorbar": {
              "outlinewidth": 0,
              "ticks": ""
             }
            },
            "type": "scatterternary"
           }
          ],
          "surface": [
           {
            "colorbar": {
             "outlinewidth": 0,
             "ticks": ""
            },
            "colorscale": [
             [
              0,
              "#0d0887"
             ],
             [
              0.1111111111111111,
              "#46039f"
             ],
             [
              0.2222222222222222,
              "#7201a8"
             ],
             [
              0.3333333333333333,
              "#9c179e"
             ],
             [
              0.4444444444444444,
              "#bd3786"
             ],
             [
              0.5555555555555556,
              "#d8576b"
             ],
             [
              0.6666666666666666,
              "#ed7953"
             ],
             [
              0.7777777777777778,
              "#fb9f3a"
             ],
             [
              0.8888888888888888,
              "#fdca26"
             ],
             [
              1,
              "#f0f921"
             ]
            ],
            "type": "surface"
           }
          ],
          "table": [
           {
            "cells": {
             "fill": {
              "color": "#EBF0F8"
             },
             "line": {
              "color": "white"
             }
            },
            "header": {
             "fill": {
              "color": "#C8D4E3"
             },
             "line": {
              "color": "white"
             }
            },
            "type": "table"
           }
          ]
         },
         "layout": {
          "annotationdefaults": {
           "arrowcolor": "#2a3f5f",
           "arrowhead": 0,
           "arrowwidth": 1
          },
          "autotypenumbers": "strict",
          "coloraxis": {
           "colorbar": {
            "outlinewidth": 0,
            "ticks": ""
           }
          },
          "colorscale": {
           "diverging": [
            [
             0,
             "#8e0152"
            ],
            [
             0.1,
             "#c51b7d"
            ],
            [
             0.2,
             "#de77ae"
            ],
            [
             0.3,
             "#f1b6da"
            ],
            [
             0.4,
             "#fde0ef"
            ],
            [
             0.5,
             "#f7f7f7"
            ],
            [
             0.6,
             "#e6f5d0"
            ],
            [
             0.7,
             "#b8e186"
            ],
            [
             0.8,
             "#7fbc41"
            ],
            [
             0.9,
             "#4d9221"
            ],
            [
             1,
             "#276419"
            ]
           ],
           "sequential": [
            [
             0,
             "#0d0887"
            ],
            [
             0.1111111111111111,
             "#46039f"
            ],
            [
             0.2222222222222222,
             "#7201a8"
            ],
            [
             0.3333333333333333,
             "#9c179e"
            ],
            [
             0.4444444444444444,
             "#bd3786"
            ],
            [
             0.5555555555555556,
             "#d8576b"
            ],
            [
             0.6666666666666666,
             "#ed7953"
            ],
            [
             0.7777777777777778,
             "#fb9f3a"
            ],
            [
             0.8888888888888888,
             "#fdca26"
            ],
            [
             1,
             "#f0f921"
            ]
           ],
           "sequentialminus": [
            [
             0,
             "#0d0887"
            ],
            [
             0.1111111111111111,
             "#46039f"
            ],
            [
             0.2222222222222222,
             "#7201a8"
            ],
            [
             0.3333333333333333,
             "#9c179e"
            ],
            [
             0.4444444444444444,
             "#bd3786"
            ],
            [
             0.5555555555555556,
             "#d8576b"
            ],
            [
             0.6666666666666666,
             "#ed7953"
            ],
            [
             0.7777777777777778,
             "#fb9f3a"
            ],
            [
             0.8888888888888888,
             "#fdca26"
            ],
            [
             1,
             "#f0f921"
            ]
           ]
          },
          "colorway": [
           "#636efa",
           "#EF553B",
           "#00cc96",
           "#ab63fa",
           "#FFA15A",
           "#19d3f3",
           "#FF6692",
           "#B6E880",
           "#FF97FF",
           "#FECB52"
          ],
          "font": {
           "color": "#2a3f5f"
          },
          "geo": {
           "bgcolor": "white",
           "lakecolor": "white",
           "landcolor": "#E5ECF6",
           "showlakes": true,
           "showland": true,
           "subunitcolor": "white"
          },
          "hoverlabel": {
           "align": "left"
          },
          "hovermode": "closest",
          "mapbox": {
           "style": "light"
          },
          "paper_bgcolor": "white",
          "plot_bgcolor": "#E5ECF6",
          "polar": {
           "angularaxis": {
            "gridcolor": "white",
            "linecolor": "white",
            "ticks": ""
           },
           "bgcolor": "#E5ECF6",
           "radialaxis": {
            "gridcolor": "white",
            "linecolor": "white",
            "ticks": ""
           }
          },
          "scene": {
           "xaxis": {
            "backgroundcolor": "#E5ECF6",
            "gridcolor": "white",
            "gridwidth": 2,
            "linecolor": "white",
            "showbackground": true,
            "ticks": "",
            "zerolinecolor": "white"
           },
           "yaxis": {
            "backgroundcolor": "#E5ECF6",
            "gridcolor": "white",
            "gridwidth": 2,
            "linecolor": "white",
            "showbackground": true,
            "ticks": "",
            "zerolinecolor": "white"
           },
           "zaxis": {
            "backgroundcolor": "#E5ECF6",
            "gridcolor": "white",
            "gridwidth": 2,
            "linecolor": "white",
            "showbackground": true,
            "ticks": "",
            "zerolinecolor": "white"
           }
          },
          "shapedefaults": {
           "line": {
            "color": "#2a3f5f"
           }
          },
          "ternary": {
           "aaxis": {
            "gridcolor": "white",
            "linecolor": "white",
            "ticks": ""
           },
           "baxis": {
            "gridcolor": "white",
            "linecolor": "white",
            "ticks": ""
           },
           "bgcolor": "#E5ECF6",
           "caxis": {
            "gridcolor": "white",
            "linecolor": "white",
            "ticks": ""
           }
          },
          "title": {
           "x": 0.05
          },
          "xaxis": {
           "automargin": true,
           "gridcolor": "white",
           "linecolor": "white",
           "ticks": "",
           "title": {
            "standoff": 15
           },
           "zerolinecolor": "white",
           "zerolinewidth": 2
          },
          "yaxis": {
           "automargin": true,
           "gridcolor": "white",
           "linecolor": "white",
           "ticks": "",
           "title": {
            "standoff": 15
           },
           "zerolinecolor": "white",
           "zerolinewidth": 2
          }
         }
        },
        "uirevision": "0",
        "xaxis": {
         "anchor": "y",
         "domain": [
          0,
          0.45
         ],
         "title": {
          "text": "Time (ns)"
         }
        },
        "xaxis2": {
         "anchor": "y2",
         "domain": [
          0.55,
          1
         ],
         "title": {
          "text": "Time (ns)"
         }
        },
        "yaxis": {
         "anchor": "x",
         "domain": [
          0,
          1
         ],
         "title": {
          "text": "MSR (uV)"
         }
        },
        "yaxis2": {
         "anchor": "x2",
         "domain": [
          0,
          1
         ],
         "title": {
          "text": "Phase (rad)"
         }
        }
       }
      },
      "text/html": [
       "<div>                            <div id=\"994bfba7-e7dd-4b67-beed-046476daf170\" class=\"plotly-graph-div\" style=\"height:525px; width:100%;\"></div>            <script type=\"text/javascript\">                require([\"plotly\"], function(Plotly) {                    window.PLOTLYENV=window.PLOTLYENV || {};                                    if (document.getElementById(\"994bfba7-e7dd-4b67-beed-046476daf170\")) {                    Plotly.newPlot(                        \"994bfba7-e7dd-4b67-beed-046476daf170\",                        [{\"name\":\"Rabi Oscillations\",\"x\":[20.0,30.344827586206897,40.689655172413794,51.03448275862069,61.37931034482759,71.72413793103448,82.06896551724138,92.41379310344828,102.75862068965517,113.10344827586206,123.44827586206897,133.79310344827587,144.13793103448276,154.48275862068965,164.82758620689657,175.17241379310346,185.51724137931035,195.86206896551724,206.20689655172413,216.55172413793105,226.89655172413794,237.24137931034483,247.58620689655174,257.9310344827586,268.2758620689655,278.62068965517244,288.9655172413793,299.3103448275862,309.65517241379314,320.0],\"y\":[2.180728383853882,1.696887681415433,3.0305985472113375,4.939072154667789,1.1716123825492328,6.0662979333157185,1.0337203072179757,0.5790485734293119,1.3896217981593009,4.234857895877441,6.641425565705882,4.673342804137681,3.8193946851822673,2.9568793605795114,3.7839526900142024,6.586132655684447,2.6368103654210486,1.8662799318265673,3.285557959157701,1.9815728780876196,3.2807135348437053,1.661354735481751,3.9660774569814636,3.2447207047372024,0.4616821622549006,1.1470953085407734,2.0784129270724874,4.0845293044374875,2.436368066835919,1.927957850220114],\"type\":\"scatter\",\"xaxis\":\"x\",\"yaxis\":\"y\"},{\"name\":\"Rabi Oscillations\",\"x\":[20.0,30.344827586206897,40.689655172413794,51.03448275862069,61.37931034482759,71.72413793103448,82.06896551724138,92.41379310344828,102.75862068965517,113.10344827586206,123.44827586206897,133.79310344827587,144.13793103448276,154.48275862068965,164.82758620689657,175.17241379310346,185.51724137931035,195.86206896551724,206.20689655172413,216.55172413793105,226.89655172413794,237.24137931034483,247.58620689655174,257.9310344827586,268.2758620689655,278.62068965517244,288.9655172413793,299.3103448275862,309.65517241379314,320.0],\"y\":[-1.2482005151872193,-1.3662511539403108,0.05132428232759432,-0.09370134423757964,-2.100429521526924,-1.4192066105753611,2.2469141116519187,-0.24440432080777108,-2.4121500609051973,-2.638783471593334,-0.10104070889522605,-1.855543983158894,-0.8427911659792193,-3.077321495951805,-0.9508212606481886,-1.4185411481665418,0.5689823636555112,-2.3977614138757524,-0.5421904085224328,-0.11917681536061912,-0.93719296132898,-1.9567495964690882,1.2790791590016994,-1.2642833059659657,1.7114015332912687,0.26051998123168907,0.5391807876828775,-1.5484123881232177,-1.6968589595809898,-0.12876166981829665],\"type\":\"scatter\",\"xaxis\":\"x2\",\"yaxis\":\"y2\"}],                        {\"template\":{\"data\":{\"histogram2dcontour\":[{\"type\":\"histogram2dcontour\",\"colorbar\":{\"outlinewidth\":0,\"ticks\":\"\"},\"colorscale\":[[0.0,\"#0d0887\"],[0.1111111111111111,\"#46039f\"],[0.2222222222222222,\"#7201a8\"],[0.3333333333333333,\"#9c179e\"],[0.4444444444444444,\"#bd3786\"],[0.5555555555555556,\"#d8576b\"],[0.6666666666666666,\"#ed7953\"],[0.7777777777777778,\"#fb9f3a\"],[0.8888888888888888,\"#fdca26\"],[1.0,\"#f0f921\"]]}],\"choropleth\":[{\"type\":\"choropleth\",\"colorbar\":{\"outlinewidth\":0,\"ticks\":\"\"}}],\"histogram2d\":[{\"type\":\"histogram2d\",\"colorbar\":{\"outlinewidth\":0,\"ticks\":\"\"},\"colorscale\":[[0.0,\"#0d0887\"],[0.1111111111111111,\"#46039f\"],[0.2222222222222222,\"#7201a8\"],[0.3333333333333333,\"#9c179e\"],[0.4444444444444444,\"#bd3786\"],[0.5555555555555556,\"#d8576b\"],[0.6666666666666666,\"#ed7953\"],[0.7777777777777778,\"#fb9f3a\"],[0.8888888888888888,\"#fdca26\"],[1.0,\"#f0f921\"]]}],\"heatmap\":[{\"type\":\"heatmap\",\"colorbar\":{\"outlinewidth\":0,\"ticks\":\"\"},\"colorscale\":[[0.0,\"#0d0887\"],[0.1111111111111111,\"#46039f\"],[0.2222222222222222,\"#7201a8\"],[0.3333333333333333,\"#9c179e\"],[0.4444444444444444,\"#bd3786\"],[0.5555555555555556,\"#d8576b\"],[0.6666666666666666,\"#ed7953\"],[0.7777777777777778,\"#fb9f3a\"],[0.8888888888888888,\"#fdca26\"],[1.0,\"#f0f921\"]]}],\"heatmapgl\":[{\"type\":\"heatmapgl\",\"colorbar\":{\"outlinewidth\":0,\"ticks\":\"\"},\"colorscale\":[[0.0,\"#0d0887\"],[0.1111111111111111,\"#46039f\"],[0.2222222222222222,\"#7201a8\"],[0.3333333333333333,\"#9c179e\"],[0.4444444444444444,\"#bd3786\"],[0.5555555555555556,\"#d8576b\"],[0.6666666666666666,\"#ed7953\"],[0.7777777777777778,\"#fb9f3a\"],[0.8888888888888888,\"#fdca26\"],[1.0,\"#f0f921\"]]}],\"contourcarpet\":[{\"type\":\"contourcarpet\",\"colorbar\":{\"outlinewidth\":0,\"ticks\":\"\"}}],\"contour\":[{\"type\":\"contour\",\"colorbar\":{\"outlinewidth\":0,\"ticks\":\"\"},\"colorscale\":[[0.0,\"#0d0887\"],[0.1111111111111111,\"#46039f\"],[0.2222222222222222,\"#7201a8\"],[0.3333333333333333,\"#9c179e\"],[0.4444444444444444,\"#bd3786\"],[0.5555555555555556,\"#d8576b\"],[0.6666666666666666,\"#ed7953\"],[0.7777777777777778,\"#fb9f3a\"],[0.8888888888888888,\"#fdca26\"],[1.0,\"#f0f921\"]]}],\"surface\":[{\"type\":\"surface\",\"colorbar\":{\"outlinewidth\":0,\"ticks\":\"\"},\"colorscale\":[[0.0,\"#0d0887\"],[0.1111111111111111,\"#46039f\"],[0.2222222222222222,\"#7201a8\"],[0.3333333333333333,\"#9c179e\"],[0.4444444444444444,\"#bd3786\"],[0.5555555555555556,\"#d8576b\"],[0.6666666666666666,\"#ed7953\"],[0.7777777777777778,\"#fb9f3a\"],[0.8888888888888888,\"#fdca26\"],[1.0,\"#f0f921\"]]}],\"mesh3d\":[{\"type\":\"mesh3d\",\"colorbar\":{\"outlinewidth\":0,\"ticks\":\"\"}}],\"scatter\":[{\"fillpattern\":{\"fillmode\":\"overlay\",\"size\":10,\"solidity\":0.2},\"type\":\"scatter\"}],\"parcoords\":[{\"type\":\"parcoords\",\"line\":{\"colorbar\":{\"outlinewidth\":0,\"ticks\":\"\"}}}],\"scatterpolargl\":[{\"type\":\"scatterpolargl\",\"marker\":{\"colorbar\":{\"outlinewidth\":0,\"ticks\":\"\"}}}],\"bar\":[{\"error_x\":{\"color\":\"#2a3f5f\"},\"error_y\":{\"color\":\"#2a3f5f\"},\"marker\":{\"line\":{\"color\":\"#E5ECF6\",\"width\":0.5},\"pattern\":{\"fillmode\":\"overlay\",\"size\":10,\"solidity\":0.2}},\"type\":\"bar\"}],\"scattergeo\":[{\"type\":\"scattergeo\",\"marker\":{\"colorbar\":{\"outlinewidth\":0,\"ticks\":\"\"}}}],\"scatterpolar\":[{\"type\":\"scatterpolar\",\"marker\":{\"colorbar\":{\"outlinewidth\":0,\"ticks\":\"\"}}}],\"histogram\":[{\"marker\":{\"pattern\":{\"fillmode\":\"overlay\",\"size\":10,\"solidity\":0.2}},\"type\":\"histogram\"}],\"scattergl\":[{\"type\":\"scattergl\",\"marker\":{\"colorbar\":{\"outlinewidth\":0,\"ticks\":\"\"}}}],\"scatter3d\":[{\"type\":\"scatter3d\",\"line\":{\"colorbar\":{\"outlinewidth\":0,\"ticks\":\"\"}},\"marker\":{\"colorbar\":{\"outlinewidth\":0,\"ticks\":\"\"}}}],\"scattermapbox\":[{\"type\":\"scattermapbox\",\"marker\":{\"colorbar\":{\"outlinewidth\":0,\"ticks\":\"\"}}}],\"scatterternary\":[{\"type\":\"scatterternary\",\"marker\":{\"colorbar\":{\"outlinewidth\":0,\"ticks\":\"\"}}}],\"scattercarpet\":[{\"type\":\"scattercarpet\",\"marker\":{\"colorbar\":{\"outlinewidth\":0,\"ticks\":\"\"}}}],\"carpet\":[{\"aaxis\":{\"endlinecolor\":\"#2a3f5f\",\"gridcolor\":\"white\",\"linecolor\":\"white\",\"minorgridcolor\":\"white\",\"startlinecolor\":\"#2a3f5f\"},\"baxis\":{\"endlinecolor\":\"#2a3f5f\",\"gridcolor\":\"white\",\"linecolor\":\"white\",\"minorgridcolor\":\"white\",\"startlinecolor\":\"#2a3f5f\"},\"type\":\"carpet\"}],\"table\":[{\"cells\":{\"fill\":{\"color\":\"#EBF0F8\"},\"line\":{\"color\":\"white\"}},\"header\":{\"fill\":{\"color\":\"#C8D4E3\"},\"line\":{\"color\":\"white\"}},\"type\":\"table\"}],\"barpolar\":[{\"marker\":{\"line\":{\"color\":\"#E5ECF6\",\"width\":0.5},\"pattern\":{\"fillmode\":\"overlay\",\"size\":10,\"solidity\":0.2}},\"type\":\"barpolar\"}],\"pie\":[{\"automargin\":true,\"type\":\"pie\"}]},\"layout\":{\"autotypenumbers\":\"strict\",\"colorway\":[\"#636efa\",\"#EF553B\",\"#00cc96\",\"#ab63fa\",\"#FFA15A\",\"#19d3f3\",\"#FF6692\",\"#B6E880\",\"#FF97FF\",\"#FECB52\"],\"font\":{\"color\":\"#2a3f5f\"},\"hovermode\":\"closest\",\"hoverlabel\":{\"align\":\"left\"},\"paper_bgcolor\":\"white\",\"plot_bgcolor\":\"#E5ECF6\",\"polar\":{\"bgcolor\":\"#E5ECF6\",\"angularaxis\":{\"gridcolor\":\"white\",\"linecolor\":\"white\",\"ticks\":\"\"},\"radialaxis\":{\"gridcolor\":\"white\",\"linecolor\":\"white\",\"ticks\":\"\"}},\"ternary\":{\"bgcolor\":\"#E5ECF6\",\"aaxis\":{\"gridcolor\":\"white\",\"linecolor\":\"white\",\"ticks\":\"\"},\"baxis\":{\"gridcolor\":\"white\",\"linecolor\":\"white\",\"ticks\":\"\"},\"caxis\":{\"gridcolor\":\"white\",\"linecolor\":\"white\",\"ticks\":\"\"}},\"coloraxis\":{\"colorbar\":{\"outlinewidth\":0,\"ticks\":\"\"}},\"colorscale\":{\"sequential\":[[0.0,\"#0d0887\"],[0.1111111111111111,\"#46039f\"],[0.2222222222222222,\"#7201a8\"],[0.3333333333333333,\"#9c179e\"],[0.4444444444444444,\"#bd3786\"],[0.5555555555555556,\"#d8576b\"],[0.6666666666666666,\"#ed7953\"],[0.7777777777777778,\"#fb9f3a\"],[0.8888888888888888,\"#fdca26\"],[1.0,\"#f0f921\"]],\"sequentialminus\":[[0.0,\"#0d0887\"],[0.1111111111111111,\"#46039f\"],[0.2222222222222222,\"#7201a8\"],[0.3333333333333333,\"#9c179e\"],[0.4444444444444444,\"#bd3786\"],[0.5555555555555556,\"#d8576b\"],[0.6666666666666666,\"#ed7953\"],[0.7777777777777778,\"#fb9f3a\"],[0.8888888888888888,\"#fdca26\"],[1.0,\"#f0f921\"]],\"diverging\":[[0,\"#8e0152\"],[0.1,\"#c51b7d\"],[0.2,\"#de77ae\"],[0.3,\"#f1b6da\"],[0.4,\"#fde0ef\"],[0.5,\"#f7f7f7\"],[0.6,\"#e6f5d0\"],[0.7,\"#b8e186\"],[0.8,\"#7fbc41\"],[0.9,\"#4d9221\"],[1,\"#276419\"]]},\"xaxis\":{\"gridcolor\":\"white\",\"linecolor\":\"white\",\"ticks\":\"\",\"title\":{\"standoff\":15},\"zerolinecolor\":\"white\",\"automargin\":true,\"zerolinewidth\":2},\"yaxis\":{\"gridcolor\":\"white\",\"linecolor\":\"white\",\"ticks\":\"\",\"title\":{\"standoff\":15},\"zerolinecolor\":\"white\",\"automargin\":true,\"zerolinewidth\":2},\"scene\":{\"xaxis\":{\"backgroundcolor\":\"#E5ECF6\",\"gridcolor\":\"white\",\"linecolor\":\"white\",\"showbackground\":true,\"ticks\":\"\",\"zerolinecolor\":\"white\",\"gridwidth\":2},\"yaxis\":{\"backgroundcolor\":\"#E5ECF6\",\"gridcolor\":\"white\",\"linecolor\":\"white\",\"showbackground\":true,\"ticks\":\"\",\"zerolinecolor\":\"white\",\"gridwidth\":2},\"zaxis\":{\"backgroundcolor\":\"#E5ECF6\",\"gridcolor\":\"white\",\"linecolor\":\"white\",\"showbackground\":true,\"ticks\":\"\",\"zerolinecolor\":\"white\",\"gridwidth\":2}},\"shapedefaults\":{\"line\":{\"color\":\"#2a3f5f\"}},\"annotationdefaults\":{\"arrowcolor\":\"#2a3f5f\",\"arrowhead\":0,\"arrowwidth\":1},\"geo\":{\"bgcolor\":\"white\",\"landcolor\":\"#E5ECF6\",\"subunitcolor\":\"white\",\"showland\":true,\"showlakes\":true,\"lakecolor\":\"white\"},\"title\":{\"x\":0.05},\"mapbox\":{\"style\":\"light\"}}},\"xaxis\":{\"anchor\":\"y\",\"domain\":[0.0,0.45],\"title\":{\"text\":\"Time (ns)\"}},\"yaxis\":{\"anchor\":\"x\",\"domain\":[0.0,1.0],\"title\":{\"text\":\"MSR (uV)\"}},\"xaxis2\":{\"anchor\":\"y2\",\"domain\":[0.55,1.0],\"title\":{\"text\":\"Time (ns)\"}},\"yaxis2\":{\"anchor\":\"x2\",\"domain\":[0.0,1.0],\"title\":{\"text\":\"Phase (rad)\"}},\"annotations\":[{\"font\":{\"size\":16},\"showarrow\":false,\"text\":\"MSR (V)\",\"x\":0.225,\"xanchor\":\"center\",\"xref\":\"paper\",\"y\":1.0,\"yanchor\":\"bottom\",\"yref\":\"paper\"},{\"font\":{\"size\":16},\"showarrow\":false,\"text\":\"phase (rad)\",\"x\":0.775,\"xanchor\":\"center\",\"xref\":\"paper\",\"y\":1.0,\"yanchor\":\"bottom\",\"yref\":\"paper\"}],\"showlegend\":true,\"uirevision\":\"0\"},                        {\"responsive\": true}                    ).then(function(){\n",
       "                            \n",
       "var gd = document.getElementById('994bfba7-e7dd-4b67-beed-046476daf170');\n",
       "var x = new MutationObserver(function (mutations, observer) {{\n",
       "        var display = window.getComputedStyle(gd).display;\n",
       "        if (!display || display === 'none') {{\n",
       "            console.log([gd, 'removed!']);\n",
       "            Plotly.purge(gd);\n",
       "            observer.disconnect();\n",
       "        }}\n",
       "}});\n",
       "\n",
       "// Listen for the removal of the full notebook cells\n",
       "var notebookContainer = gd.closest('#notebook-container');\n",
       "if (notebookContainer) {{\n",
       "    x.observe(notebookContainer, {childList: true});\n",
       "}}\n",
       "\n",
       "// Listen for the clearing of the current output cell\n",
       "var outputEl = gd.closest('.output');\n",
       "if (outputEl) {{\n",
       "    x.observe(outputEl, {childList: true});\n",
       "}}\n",
       "\n",
       "                        })                };                });            </script>        </div>"
      ]
     },
     "metadata": {},
     "output_type": "display_data"
    }
   ],
   "source": [
    "sequence, durations, start, stop, count, parameter = rabi_pulse_length_sequenceSweep(Device,\n",
    "    qubit = 0,\n",
    "    pulse_duration_start = 20,\n",
    "    pulse_duration_end = 320,\n",
    "    count = 30,\n",
    "    parameter= \"Lenght\",\n",
    ")\n",
    "\n",
    "msr, phase, i , q = Device.execute_pulse_sequence_Sweep(sequence, start, stop, count, parameter)\n",
    "qubit = 0\n",
    "\n",
    "data = DataUnits(name=f\"data_q{qubit}\", quantities={\"Time\": \"ns\"})\n",
    "\n",
    "results = {\n",
    "    \"MSR[V]\": msr,\n",
    "    \"i[V]\": i,\n",
    "    \"q[V]\": q,\n",
    "    \"phase[rad]\": phase,\n",
    "    \"Time[ns]\": durations,\n",
    "}\n",
    "                   \n",
    "data.set(results)\n",
    "\n",
    "time_msr_phase(data)"
   ]
  },
  {
   "cell_type": "markdown",
   "metadata": {},
   "source": [
    "Con sweeper tambien entre 100 y 75 Rabis"
   ]
  },
  {
   "cell_type": "code",
   "execution_count": 21,
   "metadata": {},
   "outputs": [
    {
     "name": "stdout",
     "output_type": "stream",
     "text": [
      "2022.12.15 11:32:25.402 laboneq.pulse_sheet_viewer.pulse_sheet_viewer INFO   Writing html file to /home/admin/Juan/qibolab/examples/Pulse_sheet_2022-12-15-11-32-25.html\n"
     ]
    },
    {
     "data": {
      "text/html": [
       "<a href='Pulse_sheet_2022-12-15-11-32-25.html' target='_blank'>Pulse_sheet_2022-12-15-11-32-25.html</a><br>"
      ],
      "text/plain": [
       "/home/admin/Juan/qibolab/examples/Pulse_sheet_2022-12-15-11-32-25.html"
      ]
     },
     "execution_count": 21,
     "metadata": {},
     "output_type": "execute_result"
    }
   ],
   "source": [
    "lo.show_pulse_sheet(\"Pulse_sheet\",Device.exp)"
   ]
  },
  {
   "cell_type": "code",
   "execution_count": 16,
   "metadata": {},
   "outputs": [],
   "source": [
    "Device.reload_settings()\n",
    "Device.apply_settings()"
   ]
  },
  {
   "cell_type": "code",
   "execution_count": 17,
   "metadata": {},
   "outputs": [
    {
     "name": "stdout",
     "output_type": "stream",
     "text": [
      "2023.01.10 12:03:23.900 laboneq.compiler.workflow.compiler INFO   Starting LabOne Q Compiler run...\n",
      "2023.01.10 12:03:23.925 laboneq.compiler.workflow.compiler INFO   Total seqC lines generated: 28\n",
      "2023.01.10 12:03:23.926 laboneq.compiler.workflow.compiler INFO   Total sample points generated: 4048\n",
      "2023.01.10 12:03:23.926 laboneq.compiler.workflow.compiler INFO   Finished LabOne Q Compiler run.\n",
      "2023.01.10 12:03:24.809 laboneq.controller.controller  INFO   Starting near-time execution...\n",
      "2023.01.10 12:03:25.392 laboneq.controller.controller  INFO   Finished near-time execution.\n",
      "2023.01.10 12:03:25.859 laboneq.compiler.workflow.compiler INFO   Starting LabOne Q Compiler run...\n",
      "2023.01.10 12:03:25.884 laboneq.compiler.workflow.compiler INFO   Total seqC lines generated: 28\n",
      "2023.01.10 12:03:25.884 laboneq.compiler.workflow.compiler INFO   Total sample points generated: 4048\n",
      "2023.01.10 12:03:25.884 laboneq.compiler.workflow.compiler INFO   Finished LabOne Q Compiler run.\n",
      "2023.01.10 12:03:26.777 laboneq.controller.controller  INFO   Starting near-time execution...\n",
      "2023.01.10 12:03:27.381 laboneq.controller.controller  INFO   Finished near-time execution.\n",
      "2023.01.10 12:03:27.824 laboneq.compiler.workflow.compiler INFO   Starting LabOne Q Compiler run...\n",
      "2023.01.10 12:03:27.849 laboneq.compiler.workflow.compiler INFO   Total seqC lines generated: 28\n",
      "2023.01.10 12:03:27.850 laboneq.compiler.workflow.compiler INFO   Total sample points generated: 4048\n",
      "2023.01.10 12:03:27.850 laboneq.compiler.workflow.compiler INFO   Finished LabOne Q Compiler run.\n",
      "2023.01.10 12:03:28.777 laboneq.controller.controller  INFO   Starting near-time execution...\n",
      "2023.01.10 12:03:29.384 laboneq.controller.controller  INFO   Finished near-time execution.\n",
      "2023.01.10 12:03:29.921 laboneq.compiler.workflow.compiler INFO   Starting LabOne Q Compiler run...\n",
      "2023.01.10 12:03:29.946 laboneq.compiler.workflow.compiler INFO   Total seqC lines generated: 28\n",
      "2023.01.10 12:03:29.946 laboneq.compiler.workflow.compiler INFO   Total sample points generated: 4048\n",
      "2023.01.10 12:03:29.947 laboneq.compiler.workflow.compiler INFO   Finished LabOne Q Compiler run.\n",
      "2023.01.10 12:03:30.833 laboneq.controller.controller  INFO   Starting near-time execution...\n",
      "2023.01.10 12:03:31.412 laboneq.controller.controller  INFO   Finished near-time execution.\n",
      "2023.01.10 12:03:31.839 laboneq.compiler.workflow.compiler INFO   Starting LabOne Q Compiler run...\n",
      "2023.01.10 12:03:31.864 laboneq.compiler.workflow.compiler INFO   Total seqC lines generated: 28\n",
      "2023.01.10 12:03:31.864 laboneq.compiler.workflow.compiler INFO   Total sample points generated: 4048\n",
      "2023.01.10 12:03:31.865 laboneq.compiler.workflow.compiler INFO   Finished LabOne Q Compiler run.\n",
      "2023.01.10 12:03:32.641 laboneq.controller.controller  INFO   Starting near-time execution...\n",
      "2023.01.10 12:03:33.185 laboneq.controller.controller  INFO   Finished near-time execution.\n",
      "2023.01.10 12:03:33.619 laboneq.compiler.workflow.compiler INFO   Starting LabOne Q Compiler run...\n",
      "2023.01.10 12:03:33.644 laboneq.compiler.workflow.compiler INFO   Total seqC lines generated: 28\n",
      "2023.01.10 12:03:33.644 laboneq.compiler.workflow.compiler INFO   Total sample points generated: 4048\n",
      "2023.01.10 12:03:33.645 laboneq.compiler.workflow.compiler INFO   Finished LabOne Q Compiler run.\n",
      "2023.01.10 12:03:34.489 laboneq.controller.controller  INFO   Starting near-time execution...\n",
      "2023.01.10 12:03:35.136 laboneq.controller.controller  INFO   Finished near-time execution.\n",
      "2023.01.10 12:03:35.683 laboneq.compiler.workflow.compiler INFO   Starting LabOne Q Compiler run...\n",
      "2023.01.10 12:03:35.708 laboneq.compiler.workflow.compiler INFO   Total seqC lines generated: 28\n",
      "2023.01.10 12:03:35.709 laboneq.compiler.workflow.compiler INFO   Total sample points generated: 4048\n",
      "2023.01.10 12:03:35.709 laboneq.compiler.workflow.compiler INFO   Finished LabOne Q Compiler run.\n",
      "2023.01.10 12:03:36.549 laboneq.controller.controller  INFO   Starting near-time execution...\n",
      "2023.01.10 12:03:37.153 laboneq.controller.controller  INFO   Finished near-time execution.\n",
      "2023.01.10 12:03:37.579 laboneq.compiler.workflow.compiler INFO   Starting LabOne Q Compiler run...\n",
      "2023.01.10 12:03:37.603 laboneq.compiler.workflow.compiler INFO   Total seqC lines generated: 28\n",
      "2023.01.10 12:03:37.604 laboneq.compiler.workflow.compiler INFO   Total sample points generated: 4048\n",
      "2023.01.10 12:03:37.604 laboneq.compiler.workflow.compiler INFO   Finished LabOne Q Compiler run.\n",
      "2023.01.10 12:03:38.521 laboneq.controller.controller  INFO   Starting near-time execution...\n",
      "2023.01.10 12:03:39.005 laboneq.controller.controller  INFO   Finished near-time execution.\n",
      "2023.01.10 12:03:39.419 laboneq.compiler.workflow.compiler INFO   Starting LabOne Q Compiler run...\n",
      "2023.01.10 12:03:39.444 laboneq.compiler.workflow.compiler INFO   Total seqC lines generated: 28\n",
      "2023.01.10 12:03:39.444 laboneq.compiler.workflow.compiler INFO   Total sample points generated: 4048\n",
      "2023.01.10 12:03:39.445 laboneq.compiler.workflow.compiler INFO   Finished LabOne Q Compiler run.\n",
      "2023.01.10 12:03:40.277 laboneq.controller.controller  INFO   Starting near-time execution...\n",
      "2023.01.10 12:03:40.872 laboneq.controller.controller  INFO   Finished near-time execution.\n",
      "2023.01.10 12:03:41.364 laboneq.compiler.workflow.compiler INFO   Starting LabOne Q Compiler run...\n",
      "2023.01.10 12:03:41.389 laboneq.compiler.workflow.compiler INFO   Total seqC lines generated: 28\n",
      "2023.01.10 12:03:41.389 laboneq.compiler.workflow.compiler INFO   Total sample points generated: 4048\n",
      "2023.01.10 12:03:41.390 laboneq.compiler.workflow.compiler INFO   Finished LabOne Q Compiler run.\n",
      "2023.01.10 12:03:42.233 laboneq.controller.controller  INFO   Starting near-time execution...\n",
      "2023.01.10 12:03:42.812 laboneq.controller.controller  INFO   Finished near-time execution.\n",
      "2023.01.10 12:03:43.277 laboneq.compiler.workflow.compiler INFO   Starting LabOne Q Compiler run...\n",
      "2023.01.10 12:03:43.302 laboneq.compiler.workflow.compiler INFO   Total seqC lines generated: 28\n",
      "2023.01.10 12:03:43.302 laboneq.compiler.workflow.compiler INFO   Total sample points generated: 4048\n",
      "2023.01.10 12:03:43.303 laboneq.compiler.workflow.compiler INFO   Finished LabOne Q Compiler run.\n",
      "2023.01.10 12:03:44.108 laboneq.controller.controller  INFO   Starting near-time execution...\n",
      "2023.01.10 12:03:44.704 laboneq.controller.controller  INFO   Finished near-time execution.\n",
      "2023.01.10 12:03:45.138 laboneq.compiler.workflow.compiler INFO   Starting LabOne Q Compiler run...\n",
      "2023.01.10 12:03:45.163 laboneq.compiler.workflow.compiler INFO   Total seqC lines generated: 28\n",
      "2023.01.10 12:03:45.163 laboneq.compiler.workflow.compiler INFO   Total sample points generated: 4048\n",
      "2023.01.10 12:03:45.163 laboneq.compiler.workflow.compiler INFO   Finished LabOne Q Compiler run.\n",
      "2023.01.10 12:03:46.049 laboneq.controller.controller  INFO   Starting near-time execution...\n",
      "2023.01.10 12:03:46.709 laboneq.controller.controller  INFO   Finished near-time execution.\n",
      "2023.01.10 12:03:47.139 laboneq.compiler.workflow.compiler INFO   Starting LabOne Q Compiler run...\n",
      "2023.01.10 12:03:47.164 laboneq.compiler.workflow.compiler INFO   Total seqC lines generated: 28\n",
      "2023.01.10 12:03:47.165 laboneq.compiler.workflow.compiler INFO   Total sample points generated: 4048\n",
      "2023.01.10 12:03:47.165 laboneq.compiler.workflow.compiler INFO   Finished LabOne Q Compiler run.\n",
      "2023.01.10 12:03:48.037 laboneq.controller.controller  INFO   Starting near-time execution...\n",
      "2023.01.10 12:03:48.628 laboneq.controller.controller  INFO   Finished near-time execution.\n",
      "2023.01.10 12:03:49.023 laboneq.compiler.workflow.compiler INFO   Starting LabOne Q Compiler run...\n",
      "2023.01.10 12:03:49.048 laboneq.compiler.workflow.compiler INFO   Total seqC lines generated: 28\n",
      "2023.01.10 12:03:49.049 laboneq.compiler.workflow.compiler INFO   Total sample points generated: 4048\n",
      "2023.01.10 12:03:49.049 laboneq.compiler.workflow.compiler INFO   Finished LabOne Q Compiler run.\n",
      "2023.01.10 12:03:49.893 laboneq.controller.controller  INFO   Starting near-time execution...\n",
      "2023.01.10 12:03:50.473 laboneq.controller.controller  INFO   Finished near-time execution.\n",
      "2023.01.10 12:03:51.013 laboneq.compiler.workflow.compiler INFO   Starting LabOne Q Compiler run...\n",
      "2023.01.10 12:03:51.038 laboneq.compiler.workflow.compiler INFO   Total seqC lines generated: 28\n",
      "2023.01.10 12:03:51.039 laboneq.compiler.workflow.compiler INFO   Total sample points generated: 4048\n",
      "2023.01.10 12:03:51.039 laboneq.compiler.workflow.compiler INFO   Finished LabOne Q Compiler run.\n",
      "2023.01.10 12:03:51.809 laboneq.controller.controller  INFO   Starting near-time execution...\n",
      "2023.01.10 12:03:52.405 laboneq.controller.controller  INFO   Finished near-time execution.\n",
      "2023.01.10 12:03:52.844 laboneq.compiler.workflow.compiler INFO   Starting LabOne Q Compiler run...\n",
      "2023.01.10 12:03:52.869 laboneq.compiler.workflow.compiler INFO   Total seqC lines generated: 28\n",
      "2023.01.10 12:03:52.869 laboneq.compiler.workflow.compiler INFO   Total sample points generated: 4048\n",
      "2023.01.10 12:03:52.870 laboneq.compiler.workflow.compiler INFO   Finished LabOne Q Compiler run.\n",
      "2023.01.10 12:03:53.605 laboneq.controller.controller  INFO   Starting near-time execution...\n",
      "2023.01.10 12:03:54.100 laboneq.controller.controller  INFO   Finished near-time execution.\n",
      "2023.01.10 12:03:54.541 laboneq.compiler.workflow.compiler INFO   Starting LabOne Q Compiler run...\n",
      "2023.01.10 12:03:54.565 laboneq.compiler.workflow.compiler INFO   Total seqC lines generated: 28\n",
      "2023.01.10 12:03:54.566 laboneq.compiler.workflow.compiler INFO   Total sample points generated: 4048\n",
      "2023.01.10 12:03:54.566 laboneq.compiler.workflow.compiler INFO   Finished LabOne Q Compiler run.\n",
      "2023.01.10 12:03:55.288 laboneq.controller.controller  INFO   Starting near-time execution...\n",
      "2023.01.10 12:03:55.908 laboneq.controller.controller  INFO   Finished near-time execution.\n",
      "2023.01.10 12:03:56.509 laboneq.compiler.workflow.compiler INFO   Starting LabOne Q Compiler run...\n",
      "2023.01.10 12:03:56.533 laboneq.compiler.workflow.compiler INFO   Total seqC lines generated: 28\n",
      "2023.01.10 12:03:56.533 laboneq.compiler.workflow.compiler INFO   Total sample points generated: 4048\n",
      "2023.01.10 12:03:56.534 laboneq.compiler.workflow.compiler INFO   Finished LabOne Q Compiler run.\n",
      "2023.01.10 12:03:57.423 laboneq.controller.controller  INFO   Starting near-time execution...\n",
      "2023.01.10 12:03:58.043 laboneq.controller.controller  INFO   Finished near-time execution.\n",
      "2023.01.10 12:03:58.523 laboneq.compiler.workflow.compiler INFO   Starting LabOne Q Compiler run...\n",
      "2023.01.10 12:03:58.548 laboneq.compiler.workflow.compiler INFO   Total seqC lines generated: 28\n",
      "2023.01.10 12:03:58.548 laboneq.compiler.workflow.compiler INFO   Total sample points generated: 4048\n",
      "2023.01.10 12:03:58.549 laboneq.compiler.workflow.compiler INFO   Finished LabOne Q Compiler run.\n",
      "2023.01.10 12:03:59.268 laboneq.controller.controller  INFO   Starting near-time execution...\n",
      "2023.01.10 12:03:59.896 laboneq.controller.controller  INFO   Finished near-time execution.\n",
      "2023.01.10 12:04:00.325 laboneq.compiler.workflow.compiler INFO   Starting LabOne Q Compiler run...\n",
      "2023.01.10 12:04:00.350 laboneq.compiler.workflow.compiler INFO   Total seqC lines generated: 28\n",
      "2023.01.10 12:04:00.350 laboneq.compiler.workflow.compiler INFO   Total sample points generated: 4048\n",
      "2023.01.10 12:04:00.351 laboneq.compiler.workflow.compiler INFO   Finished LabOne Q Compiler run.\n",
      "2023.01.10 12:04:01.079 laboneq.controller.controller  INFO   Starting near-time execution...\n",
      "2023.01.10 12:04:01.628 laboneq.controller.controller  INFO   Finished near-time execution.\n",
      "2023.01.10 12:04:02.071 laboneq.compiler.workflow.compiler INFO   Starting LabOne Q Compiler run...\n",
      "2023.01.10 12:04:02.097 laboneq.compiler.workflow.compiler INFO   Total seqC lines generated: 28\n",
      "2023.01.10 12:04:02.097 laboneq.compiler.workflow.compiler INFO   Total sample points generated: 4048\n",
      "2023.01.10 12:04:02.098 laboneq.compiler.workflow.compiler INFO   Finished LabOne Q Compiler run.\n",
      "2023.01.10 12:04:02.859 laboneq.controller.controller  INFO   Starting near-time execution...\n",
      "2023.01.10 12:04:03.448 laboneq.controller.controller  INFO   Finished near-time execution.\n",
      "2023.01.10 12:04:03.939 laboneq.compiler.workflow.compiler INFO   Starting LabOne Q Compiler run...\n",
      "2023.01.10 12:04:03.964 laboneq.compiler.workflow.compiler INFO   Total seqC lines generated: 28\n",
      "2023.01.10 12:04:03.964 laboneq.compiler.workflow.compiler INFO   Total sample points generated: 4048\n",
      "2023.01.10 12:04:03.965 laboneq.compiler.workflow.compiler INFO   Finished LabOne Q Compiler run.\n",
      "2023.01.10 12:04:04.824 laboneq.controller.controller  INFO   Starting near-time execution...\n",
      "2023.01.10 12:04:05.404 laboneq.controller.controller  INFO   Finished near-time execution.\n",
      "2023.01.10 12:04:05.838 laboneq.compiler.workflow.compiler INFO   Starting LabOne Q Compiler run...\n",
      "2023.01.10 12:04:05.863 laboneq.compiler.workflow.compiler INFO   Total seqC lines generated: 28\n",
      "2023.01.10 12:04:05.863 laboneq.compiler.workflow.compiler INFO   Total sample points generated: 4048\n",
      "2023.01.10 12:04:05.864 laboneq.compiler.workflow.compiler INFO   Finished LabOne Q Compiler run.\n",
      "2023.01.10 12:04:06.599 laboneq.controller.controller  INFO   Starting near-time execution...\n",
      "2023.01.10 12:04:07.136 laboneq.controller.controller  INFO   Finished near-time execution.\n",
      "2023.01.10 12:04:07.572 laboneq.compiler.workflow.compiler INFO   Starting LabOne Q Compiler run...\n",
      "2023.01.10 12:04:07.598 laboneq.compiler.workflow.compiler INFO   Total seqC lines generated: 28\n",
      "2023.01.10 12:04:07.599 laboneq.compiler.workflow.compiler INFO   Total sample points generated: 4048\n",
      "2023.01.10 12:04:07.599 laboneq.compiler.workflow.compiler INFO   Finished LabOne Q Compiler run.\n",
      "2023.01.10 12:04:08.392 laboneq.controller.controller  INFO   Starting near-time execution...\n",
      "2023.01.10 12:04:08.939 laboneq.controller.controller  INFO   Finished near-time execution.\n",
      "2023.01.10 12:04:09.395 laboneq.compiler.workflow.compiler INFO   Starting LabOne Q Compiler run...\n",
      "2023.01.10 12:04:09.420 laboneq.compiler.workflow.compiler INFO   Total seqC lines generated: 28\n",
      "2023.01.10 12:04:09.420 laboneq.compiler.workflow.compiler INFO   Total sample points generated: 4048\n",
      "2023.01.10 12:04:09.421 laboneq.compiler.workflow.compiler INFO   Finished LabOne Q Compiler run.\n",
      "2023.01.10 12:04:10.164 laboneq.controller.controller  INFO   Starting near-time execution...\n",
      "2023.01.10 12:04:10.711 laboneq.controller.controller  INFO   Finished near-time execution.\n",
      "2023.01.10 12:04:11.168 laboneq.compiler.workflow.compiler INFO   Starting LabOne Q Compiler run...\n",
      "2023.01.10 12:04:11.193 laboneq.compiler.workflow.compiler INFO   Total seqC lines generated: 28\n",
      "2023.01.10 12:04:11.193 laboneq.compiler.workflow.compiler INFO   Total sample points generated: 4048\n",
      "2023.01.10 12:04:11.194 laboneq.compiler.workflow.compiler INFO   Finished LabOne Q Compiler run.\n",
      "2023.01.10 12:04:11.975 laboneq.controller.controller  INFO   Starting near-time execution...\n",
      "2023.01.10 12:04:12.555 laboneq.controller.controller  INFO   Finished near-time execution.\n",
      "2023.01.10 12:04:12.999 laboneq.compiler.workflow.compiler INFO   Starting LabOne Q Compiler run...\n",
      "2023.01.10 12:04:13.023 laboneq.compiler.workflow.compiler INFO   Total seqC lines generated: 28\n",
      "2023.01.10 12:04:13.024 laboneq.compiler.workflow.compiler INFO   Total sample points generated: 4048\n",
      "2023.01.10 12:04:13.024 laboneq.compiler.workflow.compiler INFO   Finished LabOne Q Compiler run.\n",
      "2023.01.10 12:04:13.799 laboneq.controller.controller  INFO   Starting near-time execution...\n",
      "2023.01.10 12:04:14.348 laboneq.controller.controller  INFO   Finished near-time execution.\n",
      "2023.01.10 12:04:14.788 laboneq.compiler.workflow.compiler INFO   Starting LabOne Q Compiler run...\n",
      "2023.01.10 12:04:14.814 laboneq.compiler.workflow.compiler INFO   Total seqC lines generated: 28\n",
      "2023.01.10 12:04:14.815 laboneq.compiler.workflow.compiler INFO   Total sample points generated: 4048\n",
      "2023.01.10 12:04:14.815 laboneq.compiler.workflow.compiler INFO   Finished LabOne Q Compiler run.\n",
      "2023.01.10 12:04:15.652 laboneq.controller.controller  INFO   Starting near-time execution...\n",
      "2023.01.10 12:04:16.287 laboneq.controller.controller  INFO   Finished near-time execution.\n",
      "2023.01.10 12:04:16.735 laboneq.compiler.workflow.compiler INFO   Starting LabOne Q Compiler run...\n",
      "2023.01.10 12:04:16.761 laboneq.compiler.workflow.compiler INFO   Total seqC lines generated: 28\n",
      "2023.01.10 12:04:16.761 laboneq.compiler.workflow.compiler INFO   Total sample points generated: 4048\n",
      "2023.01.10 12:04:16.762 laboneq.compiler.workflow.compiler INFO   Finished LabOne Q Compiler run.\n",
      "2023.01.10 12:04:17.591 laboneq.controller.controller  INFO   Starting near-time execution...\n",
      "2023.01.10 12:04:18.171 laboneq.controller.controller  INFO   Finished near-time execution.\n",
      "2023.01.10 12:04:18.610 laboneq.compiler.workflow.compiler INFO   Starting LabOne Q Compiler run...\n",
      "2023.01.10 12:04:18.635 laboneq.compiler.workflow.compiler INFO   Total seqC lines generated: 28\n",
      "2023.01.10 12:04:18.635 laboneq.compiler.workflow.compiler INFO   Total sample points generated: 4048\n",
      "2023.01.10 12:04:18.636 laboneq.compiler.workflow.compiler INFO   Finished LabOne Q Compiler run.\n",
      "2023.01.10 12:04:19.475 laboneq.controller.controller  INFO   Starting near-time execution...\n",
      "2023.01.10 12:04:20.071 laboneq.controller.controller  INFO   Finished near-time execution.\n",
      "2023.01.10 12:04:20.513 laboneq.pulse_sheet_viewer.pulse_sheet_viewer INFO   Writing html file to /home/admin/Juan/qibolab/examples/Pulse_sheet_2023-01-10-12-04-20.html\n"
     ]
    },
    {
     "data": {
      "application/vnd.plotly.v1+json": {
       "config": {
        "plotlyServerURL": "https://plot.ly"
       },
       "data": [
        {
         "name": "Rabi Oscillations",
         "type": "scatter",
         "x": [
          20,
          30,
          40,
          50,
          60,
          70,
          80,
          90,
          100,
          110,
          120,
          130,
          140,
          150,
          160,
          170,
          180,
          190,
          200,
          210,
          220,
          230,
          240,
          250,
          260,
          270,
          280,
          290,
          300,
          310
         ],
         "xaxis": "x",
         "y": [
          4.874375010731333,
          2.9728273542937784,
          3.763721892164716,
          4.610734164671536,
          3.6092116538113594,
          3.6673072509936455,
          2.8727720560847163,
          4.828535318751248,
          0.44570934292938996,
          6.2257268930066925,
          2.8854050589995746,
          8.733885941471943,
          5.086614912951657,
          4.803875636008593,
          2.0448894294325237,
          1.6097993853986152,
          3.6345371933469726,
          1.0339671302160836,
          4.001659591111544,
          2.21053937535263,
          1.575019589655097,
          4.700832037854829,
          1.800803283026483,
          1.6756882922577008,
          2.2783764910732835,
          1.8918743292691047,
          4.431706187126668,
          6.119209412517144,
          2.3909013682156672,
          3.262034735777292
         ],
         "yaxis": "y"
        },
        {
         "name": "Rabi Oscillations",
         "type": "scatter",
         "x": [
          20,
          30,
          40,
          50,
          60,
          70,
          80,
          90,
          100,
          110,
          120,
          130,
          140,
          150,
          160,
          170,
          180,
          190,
          200,
          210,
          220,
          230,
          240,
          250,
          260,
          270,
          280,
          290,
          300,
          310
         ],
         "xaxis": "x2",
         "y": [
          -2.672910666557224,
          -0.28609541398340216,
          2.6502124634328017,
          2.8114681598018443,
          1.3918336690368687,
          -0.050820736443207275,
          1.556676721492988,
          -2.961916427127502,
          -1.312981076712013,
          0.6146341024681383,
          -2.6177260994994316,
          -1.937025330104787,
          2.250451406933918,
          -2.298240119291838,
          0.056851163699527314,
          -1.6695433934006958,
          2.98922848235618,
          1.362121932812083,
          3.071380994880925,
          0.9707547341073398,
          -2.6692627959501336,
          -1.903889965990631,
          -0.9657577013059595,
          -0.75309061621388,
          2.4527495835728375,
          -2.408762335624112,
          2.1835574995530957,
          2.32160498523536,
          2.6714121634562034,
          -0.1934981521918818
         ],
         "yaxis": "y2"
        }
       ],
       "layout": {
        "annotations": [
         {
          "font": {
           "size": 16
          },
          "showarrow": false,
          "text": "MSR (V)",
          "x": 0.225,
          "xanchor": "center",
          "xref": "paper",
          "y": 1,
          "yanchor": "bottom",
          "yref": "paper"
         },
         {
          "font": {
           "size": 16
          },
          "showarrow": false,
          "text": "phase (rad)",
          "x": 0.775,
          "xanchor": "center",
          "xref": "paper",
          "y": 1,
          "yanchor": "bottom",
          "yref": "paper"
         }
        ],
        "showlegend": true,
        "template": {
         "data": {
          "bar": [
           {
            "error_x": {
             "color": "#2a3f5f"
            },
            "error_y": {
             "color": "#2a3f5f"
            },
            "marker": {
             "line": {
              "color": "#E5ECF6",
              "width": 0.5
             },
             "pattern": {
              "fillmode": "overlay",
              "size": 10,
              "solidity": 0.2
             }
            },
            "type": "bar"
           }
          ],
          "barpolar": [
           {
            "marker": {
             "line": {
              "color": "#E5ECF6",
              "width": 0.5
             },
             "pattern": {
              "fillmode": "overlay",
              "size": 10,
              "solidity": 0.2
             }
            },
            "type": "barpolar"
           }
          ],
          "carpet": [
           {
            "aaxis": {
             "endlinecolor": "#2a3f5f",
             "gridcolor": "white",
             "linecolor": "white",
             "minorgridcolor": "white",
             "startlinecolor": "#2a3f5f"
            },
            "baxis": {
             "endlinecolor": "#2a3f5f",
             "gridcolor": "white",
             "linecolor": "white",
             "minorgridcolor": "white",
             "startlinecolor": "#2a3f5f"
            },
            "type": "carpet"
           }
          ],
          "choropleth": [
           {
            "colorbar": {
             "outlinewidth": 0,
             "ticks": ""
            },
            "type": "choropleth"
           }
          ],
          "contour": [
           {
            "colorbar": {
             "outlinewidth": 0,
             "ticks": ""
            },
            "colorscale": [
             [
              0,
              "#0d0887"
             ],
             [
              0.1111111111111111,
              "#46039f"
             ],
             [
              0.2222222222222222,
              "#7201a8"
             ],
             [
              0.3333333333333333,
              "#9c179e"
             ],
             [
              0.4444444444444444,
              "#bd3786"
             ],
             [
              0.5555555555555556,
              "#d8576b"
             ],
             [
              0.6666666666666666,
              "#ed7953"
             ],
             [
              0.7777777777777778,
              "#fb9f3a"
             ],
             [
              0.8888888888888888,
              "#fdca26"
             ],
             [
              1,
              "#f0f921"
             ]
            ],
            "type": "contour"
           }
          ],
          "contourcarpet": [
           {
            "colorbar": {
             "outlinewidth": 0,
             "ticks": ""
            },
            "type": "contourcarpet"
           }
          ],
          "heatmap": [
           {
            "colorbar": {
             "outlinewidth": 0,
             "ticks": ""
            },
            "colorscale": [
             [
              0,
              "#0d0887"
             ],
             [
              0.1111111111111111,
              "#46039f"
             ],
             [
              0.2222222222222222,
              "#7201a8"
             ],
             [
              0.3333333333333333,
              "#9c179e"
             ],
             [
              0.4444444444444444,
              "#bd3786"
             ],
             [
              0.5555555555555556,
              "#d8576b"
             ],
             [
              0.6666666666666666,
              "#ed7953"
             ],
             [
              0.7777777777777778,
              "#fb9f3a"
             ],
             [
              0.8888888888888888,
              "#fdca26"
             ],
             [
              1,
              "#f0f921"
             ]
            ],
            "type": "heatmap"
           }
          ],
          "heatmapgl": [
           {
            "colorbar": {
             "outlinewidth": 0,
             "ticks": ""
            },
            "colorscale": [
             [
              0,
              "#0d0887"
             ],
             [
              0.1111111111111111,
              "#46039f"
             ],
             [
              0.2222222222222222,
              "#7201a8"
             ],
             [
              0.3333333333333333,
              "#9c179e"
             ],
             [
              0.4444444444444444,
              "#bd3786"
             ],
             [
              0.5555555555555556,
              "#d8576b"
             ],
             [
              0.6666666666666666,
              "#ed7953"
             ],
             [
              0.7777777777777778,
              "#fb9f3a"
             ],
             [
              0.8888888888888888,
              "#fdca26"
             ],
             [
              1,
              "#f0f921"
             ]
            ],
            "type": "heatmapgl"
           }
          ],
          "histogram": [
           {
            "marker": {
             "pattern": {
              "fillmode": "overlay",
              "size": 10,
              "solidity": 0.2
             }
            },
            "type": "histogram"
           }
          ],
          "histogram2d": [
           {
            "colorbar": {
             "outlinewidth": 0,
             "ticks": ""
            },
            "colorscale": [
             [
              0,
              "#0d0887"
             ],
             [
              0.1111111111111111,
              "#46039f"
             ],
             [
              0.2222222222222222,
              "#7201a8"
             ],
             [
              0.3333333333333333,
              "#9c179e"
             ],
             [
              0.4444444444444444,
              "#bd3786"
             ],
             [
              0.5555555555555556,
              "#d8576b"
             ],
             [
              0.6666666666666666,
              "#ed7953"
             ],
             [
              0.7777777777777778,
              "#fb9f3a"
             ],
             [
              0.8888888888888888,
              "#fdca26"
             ],
             [
              1,
              "#f0f921"
             ]
            ],
            "type": "histogram2d"
           }
          ],
          "histogram2dcontour": [
           {
            "colorbar": {
             "outlinewidth": 0,
             "ticks": ""
            },
            "colorscale": [
             [
              0,
              "#0d0887"
             ],
             [
              0.1111111111111111,
              "#46039f"
             ],
             [
              0.2222222222222222,
              "#7201a8"
             ],
             [
              0.3333333333333333,
              "#9c179e"
             ],
             [
              0.4444444444444444,
              "#bd3786"
             ],
             [
              0.5555555555555556,
              "#d8576b"
             ],
             [
              0.6666666666666666,
              "#ed7953"
             ],
             [
              0.7777777777777778,
              "#fb9f3a"
             ],
             [
              0.8888888888888888,
              "#fdca26"
             ],
             [
              1,
              "#f0f921"
             ]
            ],
            "type": "histogram2dcontour"
           }
          ],
          "mesh3d": [
           {
            "colorbar": {
             "outlinewidth": 0,
             "ticks": ""
            },
            "type": "mesh3d"
           }
          ],
          "parcoords": [
           {
            "line": {
             "colorbar": {
              "outlinewidth": 0,
              "ticks": ""
             }
            },
            "type": "parcoords"
           }
          ],
          "pie": [
           {
            "automargin": true,
            "type": "pie"
           }
          ],
          "scatter": [
           {
            "fillpattern": {
             "fillmode": "overlay",
             "size": 10,
             "solidity": 0.2
            },
            "type": "scatter"
           }
          ],
          "scatter3d": [
           {
            "line": {
             "colorbar": {
              "outlinewidth": 0,
              "ticks": ""
             }
            },
            "marker": {
             "colorbar": {
              "outlinewidth": 0,
              "ticks": ""
             }
            },
            "type": "scatter3d"
           }
          ],
          "scattercarpet": [
           {
            "marker": {
             "colorbar": {
              "outlinewidth": 0,
              "ticks": ""
             }
            },
            "type": "scattercarpet"
           }
          ],
          "scattergeo": [
           {
            "marker": {
             "colorbar": {
              "outlinewidth": 0,
              "ticks": ""
             }
            },
            "type": "scattergeo"
           }
          ],
          "scattergl": [
           {
            "marker": {
             "colorbar": {
              "outlinewidth": 0,
              "ticks": ""
             }
            },
            "type": "scattergl"
           }
          ],
          "scattermapbox": [
           {
            "marker": {
             "colorbar": {
              "outlinewidth": 0,
              "ticks": ""
             }
            },
            "type": "scattermapbox"
           }
          ],
          "scatterpolar": [
           {
            "marker": {
             "colorbar": {
              "outlinewidth": 0,
              "ticks": ""
             }
            },
            "type": "scatterpolar"
           }
          ],
          "scatterpolargl": [
           {
            "marker": {
             "colorbar": {
              "outlinewidth": 0,
              "ticks": ""
             }
            },
            "type": "scatterpolargl"
           }
          ],
          "scatterternary": [
           {
            "marker": {
             "colorbar": {
              "outlinewidth": 0,
              "ticks": ""
             }
            },
            "type": "scatterternary"
           }
          ],
          "surface": [
           {
            "colorbar": {
             "outlinewidth": 0,
             "ticks": ""
            },
            "colorscale": [
             [
              0,
              "#0d0887"
             ],
             [
              0.1111111111111111,
              "#46039f"
             ],
             [
              0.2222222222222222,
              "#7201a8"
             ],
             [
              0.3333333333333333,
              "#9c179e"
             ],
             [
              0.4444444444444444,
              "#bd3786"
             ],
             [
              0.5555555555555556,
              "#d8576b"
             ],
             [
              0.6666666666666666,
              "#ed7953"
             ],
             [
              0.7777777777777778,
              "#fb9f3a"
             ],
             [
              0.8888888888888888,
              "#fdca26"
             ],
             [
              1,
              "#f0f921"
             ]
            ],
            "type": "surface"
           }
          ],
          "table": [
           {
            "cells": {
             "fill": {
              "color": "#EBF0F8"
             },
             "line": {
              "color": "white"
             }
            },
            "header": {
             "fill": {
              "color": "#C8D4E3"
             },
             "line": {
              "color": "white"
             }
            },
            "type": "table"
           }
          ]
         },
         "layout": {
          "annotationdefaults": {
           "arrowcolor": "#2a3f5f",
           "arrowhead": 0,
           "arrowwidth": 1
          },
          "autotypenumbers": "strict",
          "coloraxis": {
           "colorbar": {
            "outlinewidth": 0,
            "ticks": ""
           }
          },
          "colorscale": {
           "diverging": [
            [
             0,
             "#8e0152"
            ],
            [
             0.1,
             "#c51b7d"
            ],
            [
             0.2,
             "#de77ae"
            ],
            [
             0.3,
             "#f1b6da"
            ],
            [
             0.4,
             "#fde0ef"
            ],
            [
             0.5,
             "#f7f7f7"
            ],
            [
             0.6,
             "#e6f5d0"
            ],
            [
             0.7,
             "#b8e186"
            ],
            [
             0.8,
             "#7fbc41"
            ],
            [
             0.9,
             "#4d9221"
            ],
            [
             1,
             "#276419"
            ]
           ],
           "sequential": [
            [
             0,
             "#0d0887"
            ],
            [
             0.1111111111111111,
             "#46039f"
            ],
            [
             0.2222222222222222,
             "#7201a8"
            ],
            [
             0.3333333333333333,
             "#9c179e"
            ],
            [
             0.4444444444444444,
             "#bd3786"
            ],
            [
             0.5555555555555556,
             "#d8576b"
            ],
            [
             0.6666666666666666,
             "#ed7953"
            ],
            [
             0.7777777777777778,
             "#fb9f3a"
            ],
            [
             0.8888888888888888,
             "#fdca26"
            ],
            [
             1,
             "#f0f921"
            ]
           ],
           "sequentialminus": [
            [
             0,
             "#0d0887"
            ],
            [
             0.1111111111111111,
             "#46039f"
            ],
            [
             0.2222222222222222,
             "#7201a8"
            ],
            [
             0.3333333333333333,
             "#9c179e"
            ],
            [
             0.4444444444444444,
             "#bd3786"
            ],
            [
             0.5555555555555556,
             "#d8576b"
            ],
            [
             0.6666666666666666,
             "#ed7953"
            ],
            [
             0.7777777777777778,
             "#fb9f3a"
            ],
            [
             0.8888888888888888,
             "#fdca26"
            ],
            [
             1,
             "#f0f921"
            ]
           ]
          },
          "colorway": [
           "#636efa",
           "#EF553B",
           "#00cc96",
           "#ab63fa",
           "#FFA15A",
           "#19d3f3",
           "#FF6692",
           "#B6E880",
           "#FF97FF",
           "#FECB52"
          ],
          "font": {
           "color": "#2a3f5f"
          },
          "geo": {
           "bgcolor": "white",
           "lakecolor": "white",
           "landcolor": "#E5ECF6",
           "showlakes": true,
           "showland": true,
           "subunitcolor": "white"
          },
          "hoverlabel": {
           "align": "left"
          },
          "hovermode": "closest",
          "mapbox": {
           "style": "light"
          },
          "paper_bgcolor": "white",
          "plot_bgcolor": "#E5ECF6",
          "polar": {
           "angularaxis": {
            "gridcolor": "white",
            "linecolor": "white",
            "ticks": ""
           },
           "bgcolor": "#E5ECF6",
           "radialaxis": {
            "gridcolor": "white",
            "linecolor": "white",
            "ticks": ""
           }
          },
          "scene": {
           "xaxis": {
            "backgroundcolor": "#E5ECF6",
            "gridcolor": "white",
            "gridwidth": 2,
            "linecolor": "white",
            "showbackground": true,
            "ticks": "",
            "zerolinecolor": "white"
           },
           "yaxis": {
            "backgroundcolor": "#E5ECF6",
            "gridcolor": "white",
            "gridwidth": 2,
            "linecolor": "white",
            "showbackground": true,
            "ticks": "",
            "zerolinecolor": "white"
           },
           "zaxis": {
            "backgroundcolor": "#E5ECF6",
            "gridcolor": "white",
            "gridwidth": 2,
            "linecolor": "white",
            "showbackground": true,
            "ticks": "",
            "zerolinecolor": "white"
           }
          },
          "shapedefaults": {
           "line": {
            "color": "#2a3f5f"
           }
          },
          "ternary": {
           "aaxis": {
            "gridcolor": "white",
            "linecolor": "white",
            "ticks": ""
           },
           "baxis": {
            "gridcolor": "white",
            "linecolor": "white",
            "ticks": ""
           },
           "bgcolor": "#E5ECF6",
           "caxis": {
            "gridcolor": "white",
            "linecolor": "white",
            "ticks": ""
           }
          },
          "title": {
           "x": 0.05
          },
          "xaxis": {
           "automargin": true,
           "gridcolor": "white",
           "linecolor": "white",
           "ticks": "",
           "title": {
            "standoff": 15
           },
           "zerolinecolor": "white",
           "zerolinewidth": 2
          },
          "yaxis": {
           "automargin": true,
           "gridcolor": "white",
           "linecolor": "white",
           "ticks": "",
           "title": {
            "standoff": 15
           },
           "zerolinecolor": "white",
           "zerolinewidth": 2
          }
         }
        },
        "uirevision": "0",
        "xaxis": {
         "anchor": "y",
         "domain": [
          0,
          0.45
         ],
         "title": {
          "text": "Time (ns)"
         }
        },
        "xaxis2": {
         "anchor": "y2",
         "domain": [
          0.55,
          1
         ],
         "title": {
          "text": "Time (ns)"
         }
        },
        "yaxis": {
         "anchor": "x",
         "domain": [
          0,
          1
         ],
         "title": {
          "text": "MSR (uV)"
         }
        },
        "yaxis2": {
         "anchor": "x2",
         "domain": [
          0,
          1
         ],
         "title": {
          "text": "Phase (rad)"
         }
        }
       }
      },
      "text/html": [
       "<div>                            <div id=\"b686d9fc-9848-453f-95b7-f3fa56afeb1c\" class=\"plotly-graph-div\" style=\"height:525px; width:100%;\"></div>            <script type=\"text/javascript\">                require([\"plotly\"], function(Plotly) {                    window.PLOTLYENV=window.PLOTLYENV || {};                                    if (document.getElementById(\"b686d9fc-9848-453f-95b7-f3fa56afeb1c\")) {                    Plotly.newPlot(                        \"b686d9fc-9848-453f-95b7-f3fa56afeb1c\",                        [{\"name\":\"Rabi Oscillations\",\"x\":[20.0,30.0,40.0,50.0,60.0,70.0,80.0,90.0,100.0,110.0,120.0,130.0,140.0,150.0,160.0,170.0,180.0,190.0,200.0,210.0,220.0,230.0,240.0,250.0,260.0,270.0,280.0,290.0,300.0,310.0],\"y\":[4.874375010731333,2.9728273542937784,3.763721892164716,4.610734164671536,3.6092116538113594,3.6673072509936455,2.8727720560847163,4.828535318751248,0.44570934292938996,6.2257268930066925,2.8854050589995746,8.733885941471943,5.086614912951657,4.803875636008593,2.0448894294325237,1.6097993853986152,3.6345371933469726,1.0339671302160836,4.001659591111544,2.21053937535263,1.575019589655097,4.700832037854829,1.800803283026483,1.6756882922577008,2.2783764910732835,1.8918743292691047,4.431706187126668,6.119209412517144,2.3909013682156672,3.262034735777292],\"type\":\"scatter\",\"xaxis\":\"x\",\"yaxis\":\"y\"},{\"name\":\"Rabi Oscillations\",\"x\":[20.0,30.0,40.0,50.0,60.0,70.0,80.0,90.0,100.0,110.0,120.0,130.0,140.0,150.0,160.0,170.0,180.0,190.0,200.0,210.0,220.0,230.0,240.0,250.0,260.0,270.0,280.0,290.0,300.0,310.0],\"y\":[-2.672910666557224,-0.28609541398340216,2.6502124634328017,2.8114681598018443,1.3918336690368687,-0.050820736443207275,1.556676721492988,-2.961916427127502,-1.312981076712013,0.6146341024681383,-2.6177260994994316,-1.937025330104787,2.250451406933918,-2.298240119291838,0.056851163699527314,-1.6695433934006958,2.98922848235618,1.362121932812083,3.071380994880925,0.9707547341073398,-2.6692627959501336,-1.903889965990631,-0.9657577013059595,-0.75309061621388,2.4527495835728375,-2.408762335624112,2.1835574995530957,2.32160498523536,2.6714121634562034,-0.1934981521918818],\"type\":\"scatter\",\"xaxis\":\"x2\",\"yaxis\":\"y2\"}],                        {\"template\":{\"data\":{\"histogram2dcontour\":[{\"type\":\"histogram2dcontour\",\"colorbar\":{\"outlinewidth\":0,\"ticks\":\"\"},\"colorscale\":[[0.0,\"#0d0887\"],[0.1111111111111111,\"#46039f\"],[0.2222222222222222,\"#7201a8\"],[0.3333333333333333,\"#9c179e\"],[0.4444444444444444,\"#bd3786\"],[0.5555555555555556,\"#d8576b\"],[0.6666666666666666,\"#ed7953\"],[0.7777777777777778,\"#fb9f3a\"],[0.8888888888888888,\"#fdca26\"],[1.0,\"#f0f921\"]]}],\"choropleth\":[{\"type\":\"choropleth\",\"colorbar\":{\"outlinewidth\":0,\"ticks\":\"\"}}],\"histogram2d\":[{\"type\":\"histogram2d\",\"colorbar\":{\"outlinewidth\":0,\"ticks\":\"\"},\"colorscale\":[[0.0,\"#0d0887\"],[0.1111111111111111,\"#46039f\"],[0.2222222222222222,\"#7201a8\"],[0.3333333333333333,\"#9c179e\"],[0.4444444444444444,\"#bd3786\"],[0.5555555555555556,\"#d8576b\"],[0.6666666666666666,\"#ed7953\"],[0.7777777777777778,\"#fb9f3a\"],[0.8888888888888888,\"#fdca26\"],[1.0,\"#f0f921\"]]}],\"heatmap\":[{\"type\":\"heatmap\",\"colorbar\":{\"outlinewidth\":0,\"ticks\":\"\"},\"colorscale\":[[0.0,\"#0d0887\"],[0.1111111111111111,\"#46039f\"],[0.2222222222222222,\"#7201a8\"],[0.3333333333333333,\"#9c179e\"],[0.4444444444444444,\"#bd3786\"],[0.5555555555555556,\"#d8576b\"],[0.6666666666666666,\"#ed7953\"],[0.7777777777777778,\"#fb9f3a\"],[0.8888888888888888,\"#fdca26\"],[1.0,\"#f0f921\"]]}],\"heatmapgl\":[{\"type\":\"heatmapgl\",\"colorbar\":{\"outlinewidth\":0,\"ticks\":\"\"},\"colorscale\":[[0.0,\"#0d0887\"],[0.1111111111111111,\"#46039f\"],[0.2222222222222222,\"#7201a8\"],[0.3333333333333333,\"#9c179e\"],[0.4444444444444444,\"#bd3786\"],[0.5555555555555556,\"#d8576b\"],[0.6666666666666666,\"#ed7953\"],[0.7777777777777778,\"#fb9f3a\"],[0.8888888888888888,\"#fdca26\"],[1.0,\"#f0f921\"]]}],\"contourcarpet\":[{\"type\":\"contourcarpet\",\"colorbar\":{\"outlinewidth\":0,\"ticks\":\"\"}}],\"contour\":[{\"type\":\"contour\",\"colorbar\":{\"outlinewidth\":0,\"ticks\":\"\"},\"colorscale\":[[0.0,\"#0d0887\"],[0.1111111111111111,\"#46039f\"],[0.2222222222222222,\"#7201a8\"],[0.3333333333333333,\"#9c179e\"],[0.4444444444444444,\"#bd3786\"],[0.5555555555555556,\"#d8576b\"],[0.6666666666666666,\"#ed7953\"],[0.7777777777777778,\"#fb9f3a\"],[0.8888888888888888,\"#fdca26\"],[1.0,\"#f0f921\"]]}],\"surface\":[{\"type\":\"surface\",\"colorbar\":{\"outlinewidth\":0,\"ticks\":\"\"},\"colorscale\":[[0.0,\"#0d0887\"],[0.1111111111111111,\"#46039f\"],[0.2222222222222222,\"#7201a8\"],[0.3333333333333333,\"#9c179e\"],[0.4444444444444444,\"#bd3786\"],[0.5555555555555556,\"#d8576b\"],[0.6666666666666666,\"#ed7953\"],[0.7777777777777778,\"#fb9f3a\"],[0.8888888888888888,\"#fdca26\"],[1.0,\"#f0f921\"]]}],\"mesh3d\":[{\"type\":\"mesh3d\",\"colorbar\":{\"outlinewidth\":0,\"ticks\":\"\"}}],\"scatter\":[{\"fillpattern\":{\"fillmode\":\"overlay\",\"size\":10,\"solidity\":0.2},\"type\":\"scatter\"}],\"parcoords\":[{\"type\":\"parcoords\",\"line\":{\"colorbar\":{\"outlinewidth\":0,\"ticks\":\"\"}}}],\"scatterpolargl\":[{\"type\":\"scatterpolargl\",\"marker\":{\"colorbar\":{\"outlinewidth\":0,\"ticks\":\"\"}}}],\"bar\":[{\"error_x\":{\"color\":\"#2a3f5f\"},\"error_y\":{\"color\":\"#2a3f5f\"},\"marker\":{\"line\":{\"color\":\"#E5ECF6\",\"width\":0.5},\"pattern\":{\"fillmode\":\"overlay\",\"size\":10,\"solidity\":0.2}},\"type\":\"bar\"}],\"scattergeo\":[{\"type\":\"scattergeo\",\"marker\":{\"colorbar\":{\"outlinewidth\":0,\"ticks\":\"\"}}}],\"scatterpolar\":[{\"type\":\"scatterpolar\",\"marker\":{\"colorbar\":{\"outlinewidth\":0,\"ticks\":\"\"}}}],\"histogram\":[{\"marker\":{\"pattern\":{\"fillmode\":\"overlay\",\"size\":10,\"solidity\":0.2}},\"type\":\"histogram\"}],\"scattergl\":[{\"type\":\"scattergl\",\"marker\":{\"colorbar\":{\"outlinewidth\":0,\"ticks\":\"\"}}}],\"scatter3d\":[{\"type\":\"scatter3d\",\"line\":{\"colorbar\":{\"outlinewidth\":0,\"ticks\":\"\"}},\"marker\":{\"colorbar\":{\"outlinewidth\":0,\"ticks\":\"\"}}}],\"scattermapbox\":[{\"type\":\"scattermapbox\",\"marker\":{\"colorbar\":{\"outlinewidth\":0,\"ticks\":\"\"}}}],\"scatterternary\":[{\"type\":\"scatterternary\",\"marker\":{\"colorbar\":{\"outlinewidth\":0,\"ticks\":\"\"}}}],\"scattercarpet\":[{\"type\":\"scattercarpet\",\"marker\":{\"colorbar\":{\"outlinewidth\":0,\"ticks\":\"\"}}}],\"carpet\":[{\"aaxis\":{\"endlinecolor\":\"#2a3f5f\",\"gridcolor\":\"white\",\"linecolor\":\"white\",\"minorgridcolor\":\"white\",\"startlinecolor\":\"#2a3f5f\"},\"baxis\":{\"endlinecolor\":\"#2a3f5f\",\"gridcolor\":\"white\",\"linecolor\":\"white\",\"minorgridcolor\":\"white\",\"startlinecolor\":\"#2a3f5f\"},\"type\":\"carpet\"}],\"table\":[{\"cells\":{\"fill\":{\"color\":\"#EBF0F8\"},\"line\":{\"color\":\"white\"}},\"header\":{\"fill\":{\"color\":\"#C8D4E3\"},\"line\":{\"color\":\"white\"}},\"type\":\"table\"}],\"barpolar\":[{\"marker\":{\"line\":{\"color\":\"#E5ECF6\",\"width\":0.5},\"pattern\":{\"fillmode\":\"overlay\",\"size\":10,\"solidity\":0.2}},\"type\":\"barpolar\"}],\"pie\":[{\"automargin\":true,\"type\":\"pie\"}]},\"layout\":{\"autotypenumbers\":\"strict\",\"colorway\":[\"#636efa\",\"#EF553B\",\"#00cc96\",\"#ab63fa\",\"#FFA15A\",\"#19d3f3\",\"#FF6692\",\"#B6E880\",\"#FF97FF\",\"#FECB52\"],\"font\":{\"color\":\"#2a3f5f\"},\"hovermode\":\"closest\",\"hoverlabel\":{\"align\":\"left\"},\"paper_bgcolor\":\"white\",\"plot_bgcolor\":\"#E5ECF6\",\"polar\":{\"bgcolor\":\"#E5ECF6\",\"angularaxis\":{\"gridcolor\":\"white\",\"linecolor\":\"white\",\"ticks\":\"\"},\"radialaxis\":{\"gridcolor\":\"white\",\"linecolor\":\"white\",\"ticks\":\"\"}},\"ternary\":{\"bgcolor\":\"#E5ECF6\",\"aaxis\":{\"gridcolor\":\"white\",\"linecolor\":\"white\",\"ticks\":\"\"},\"baxis\":{\"gridcolor\":\"white\",\"linecolor\":\"white\",\"ticks\":\"\"},\"caxis\":{\"gridcolor\":\"white\",\"linecolor\":\"white\",\"ticks\":\"\"}},\"coloraxis\":{\"colorbar\":{\"outlinewidth\":0,\"ticks\":\"\"}},\"colorscale\":{\"sequential\":[[0.0,\"#0d0887\"],[0.1111111111111111,\"#46039f\"],[0.2222222222222222,\"#7201a8\"],[0.3333333333333333,\"#9c179e\"],[0.4444444444444444,\"#bd3786\"],[0.5555555555555556,\"#d8576b\"],[0.6666666666666666,\"#ed7953\"],[0.7777777777777778,\"#fb9f3a\"],[0.8888888888888888,\"#fdca26\"],[1.0,\"#f0f921\"]],\"sequentialminus\":[[0.0,\"#0d0887\"],[0.1111111111111111,\"#46039f\"],[0.2222222222222222,\"#7201a8\"],[0.3333333333333333,\"#9c179e\"],[0.4444444444444444,\"#bd3786\"],[0.5555555555555556,\"#d8576b\"],[0.6666666666666666,\"#ed7953\"],[0.7777777777777778,\"#fb9f3a\"],[0.8888888888888888,\"#fdca26\"],[1.0,\"#f0f921\"]],\"diverging\":[[0,\"#8e0152\"],[0.1,\"#c51b7d\"],[0.2,\"#de77ae\"],[0.3,\"#f1b6da\"],[0.4,\"#fde0ef\"],[0.5,\"#f7f7f7\"],[0.6,\"#e6f5d0\"],[0.7,\"#b8e186\"],[0.8,\"#7fbc41\"],[0.9,\"#4d9221\"],[1,\"#276419\"]]},\"xaxis\":{\"gridcolor\":\"white\",\"linecolor\":\"white\",\"ticks\":\"\",\"title\":{\"standoff\":15},\"zerolinecolor\":\"white\",\"automargin\":true,\"zerolinewidth\":2},\"yaxis\":{\"gridcolor\":\"white\",\"linecolor\":\"white\",\"ticks\":\"\",\"title\":{\"standoff\":15},\"zerolinecolor\":\"white\",\"automargin\":true,\"zerolinewidth\":2},\"scene\":{\"xaxis\":{\"backgroundcolor\":\"#E5ECF6\",\"gridcolor\":\"white\",\"linecolor\":\"white\",\"showbackground\":true,\"ticks\":\"\",\"zerolinecolor\":\"white\",\"gridwidth\":2},\"yaxis\":{\"backgroundcolor\":\"#E5ECF6\",\"gridcolor\":\"white\",\"linecolor\":\"white\",\"showbackground\":true,\"ticks\":\"\",\"zerolinecolor\":\"white\",\"gridwidth\":2},\"zaxis\":{\"backgroundcolor\":\"#E5ECF6\",\"gridcolor\":\"white\",\"linecolor\":\"white\",\"showbackground\":true,\"ticks\":\"\",\"zerolinecolor\":\"white\",\"gridwidth\":2}},\"shapedefaults\":{\"line\":{\"color\":\"#2a3f5f\"}},\"annotationdefaults\":{\"arrowcolor\":\"#2a3f5f\",\"arrowhead\":0,\"arrowwidth\":1},\"geo\":{\"bgcolor\":\"white\",\"landcolor\":\"#E5ECF6\",\"subunitcolor\":\"white\",\"showland\":true,\"showlakes\":true,\"lakecolor\":\"white\"},\"title\":{\"x\":0.05},\"mapbox\":{\"style\":\"light\"}}},\"xaxis\":{\"anchor\":\"y\",\"domain\":[0.0,0.45],\"title\":{\"text\":\"Time (ns)\"}},\"yaxis\":{\"anchor\":\"x\",\"domain\":[0.0,1.0],\"title\":{\"text\":\"MSR (uV)\"}},\"xaxis2\":{\"anchor\":\"y2\",\"domain\":[0.55,1.0],\"title\":{\"text\":\"Time (ns)\"}},\"yaxis2\":{\"anchor\":\"x2\",\"domain\":[0.0,1.0],\"title\":{\"text\":\"Phase (rad)\"}},\"annotations\":[{\"font\":{\"size\":16},\"showarrow\":false,\"text\":\"MSR (V)\",\"x\":0.225,\"xanchor\":\"center\",\"xref\":\"paper\",\"y\":1.0,\"yanchor\":\"bottom\",\"yref\":\"paper\"},{\"font\":{\"size\":16},\"showarrow\":false,\"text\":\"phase (rad)\",\"x\":0.775,\"xanchor\":\"center\",\"xref\":\"paper\",\"y\":1.0,\"yanchor\":\"bottom\",\"yref\":\"paper\"}],\"showlegend\":true,\"uirevision\":\"0\"},                        {\"responsive\": true}                    ).then(function(){\n",
       "                            \n",
       "var gd = document.getElementById('b686d9fc-9848-453f-95b7-f3fa56afeb1c');\n",
       "var x = new MutationObserver(function (mutations, observer) {{\n",
       "        var display = window.getComputedStyle(gd).display;\n",
       "        if (!display || display === 'none') {{\n",
       "            console.log([gd, 'removed!']);\n",
       "            Plotly.purge(gd);\n",
       "            observer.disconnect();\n",
       "        }}\n",
       "}});\n",
       "\n",
       "// Listen for the removal of the full notebook cells\n",
       "var notebookContainer = gd.closest('#notebook-container');\n",
       "if (notebookContainer) {{\n",
       "    x.observe(notebookContainer, {childList: true});\n",
       "}}\n",
       "\n",
       "// Listen for the clearing of the current output cell\n",
       "var outputEl = gd.closest('.output');\n",
       "if (outputEl) {{\n",
       "    x.observe(outputEl, {childList: true});\n",
       "}}\n",
       "\n",
       "                        })                };                });            </script>        </div>"
      ]
     },
     "metadata": {},
     "output_type": "display_data"
    }
   ],
   "source": [
    "data = rabi_pulse_length(Device,\n",
    "    qubit = 0,\n",
    "    pulse_duration_start = 20,\n",
    "    pulse_duration_end = 320,\n",
    "    pulse_duration_step = 10,\n",
    "    software_averages = 1,\n",
    ")\n",
    "\n",
    "time_msr_phase(data)"
   ]
  },
  {
   "cell_type": "code",
   "execution_count": 17,
   "metadata": {},
   "outputs": [
    {
     "name": "stdout",
     "output_type": "stream",
     "text": [
      "2022.12.08 15:56:08.457 laboneq.pulse_sheet_viewer.pulse_sheet_viewer INFO   Writing html file to /home/admin/Juan/qibolab/examples/Pulse_sheet_2022-12-08-15-56-08.html\n"
     ]
    },
    {
     "data": {
      "text/html": [
       "<a href='Pulse_sheet_2022-12-08-15-56-08.html' target='_blank'>Pulse_sheet_2022-12-08-15-56-08.html</a><br>"
      ],
      "text/plain": [
       "/home/admin/Juan/qibolab/examples/Pulse_sheet_2022-12-08-15-56-08.html"
      ]
     },
     "execution_count": 17,
     "metadata": {},
     "output_type": "execute_result"
    }
   ],
   "source": [
    "lo.show_pulse_sheet(\"Pulse_sheet\",Device.exp)"
   ]
  },
  {
   "cell_type": "markdown",
   "metadata": {},
   "source": [
    "Check Pi-pulse"
   ]
  },
  {
   "cell_type": "code",
   "execution_count": 1,
   "metadata": {},
   "outputs": [
    {
     "name": "stdout",
     "output_type": "stream",
     "text": [
      "2022.12.09 11:35:39.776 laboneq.controller.laboneq_logging INFO   Logging initialized from [Default inline config in laboneq.controller.laboneq_logging] logdir is /home/admin/Juan/qibolab/examples/laboneq_output/log\n",
      "2022.12.09 11:35:39.777 laboneq.controller.controller  INFO   VERSION: laboneq 1.4.0\n",
      "2022.12.09 11:35:39.777 laboneq.controller.devices.device_collection INFO   Connecting to data server at localhost:8004\n",
      "2022.12.09 11:35:39.884 laboneq.controller.communication INFO   Connected to Zurich Instrument's Data Server version 22.08 at localhost:8004\n",
      "2022.12.09 11:35:40.403 laboneq.controller.devices.device_collection INFO   Configuring clock sources\n",
      "2022.12.09 11:35:40.549 laboneq.controller.devices.device_collection INFO   Clock sources configured\n"
     ]
    }
   ],
   "source": [
    "from qibolab.paths import qibolab_folder\n",
    "from qibolab.instruments.zhinst import SHFQC_QA\n",
    "from qibolab.pulses import PulseSequence\n",
    "\n",
    "# runcard = \"/home/admin/Juan/qibolab/src/qibolab/runcards/zhinst.yml\"\n",
    "runcard = qibolab_folder / \"runcards\" / \"zhinst.yml\"\n",
    "use_emulation = False\n",
    "Device = SHFQC_QA('EL_ZURO', \"DEV12146\", runcard, use_emulation=use_emulation)"
   ]
  },
  {
   "cell_type": "code",
   "execution_count": 2,
   "metadata": {},
   "outputs": [],
   "source": [
    "Device.reload_settings()\n",
    "Device.native_gates[\"single_qubit\"][0][\"RX\"][\"duration\"] = 80\n",
    "Device.apply_settings()"
   ]
  },
  {
   "cell_type": "code",
   "execution_count": 3,
   "metadata": {},
   "outputs": [
    {
     "name": "stdout",
     "output_type": "stream",
     "text": [
      "2022.12.09 10:18:50.881 laboneq.compiler.workflow.compiler INFO   Starting LabOne Q Compiler run...\n",
      "2022.12.09 10:18:50.907 laboneq.compiler.workflow.compiler INFO   Total seqC lines generated: 40\n",
      "2022.12.09 10:18:50.908 laboneq.compiler.workflow.compiler INFO   Total sample points generated: 4048\n",
      "2022.12.09 10:18:50.908 laboneq.compiler.workflow.compiler INFO   Finished LabOne Q Compiler run.\n",
      "2022.12.09 10:18:51.840 laboneq.controller.controller  INFO   Starting near-time execution...\n",
      "2022.12.09 10:18:52.876 laboneq.controller.controller  INFO   Finished near-time execution.\n",
      "4.870261681736926e-05 -2.417817375168851 -3.649340732320096e-05 -3.225176129767863e-05\n"
     ]
    }
   ],
   "source": [
    "sequence = PulseSequence()\n",
    "qd_pulse = Device.create_RX_pulse(0, start=0) \n",
    "ro_pulse = Device.create_qubit_readout_pulse(0, start=qd_pulse.finish)\n",
    "sequence.add(qd_pulse)\n",
    "sequence.add(ro_pulse)\n",
    "    \n",
    "msr, phase, i, q = Device.execute_pulse_sequence_NoSamples(sequence)\n",
    "print(msr, phase, i , q)"
   ]
  },
  {
   "cell_type": "code",
   "execution_count": 2,
   "metadata": {},
   "outputs": [
    {
     "name": "stdout",
     "output_type": "stream",
     "text": [
      "2022.12.09 11:35:41.957 laboneq.compiler.workflow.compiler INFO   Starting LabOne Q Compiler run...\n",
      "2022.12.09 11:35:41.985 laboneq.compiler.workflow.compiler INFO   Total seqC lines generated: 40\n",
      "2022.12.09 11:35:41.985 laboneq.compiler.workflow.compiler INFO   Total sample points generated: 4048\n",
      "2022.12.09 11:35:41.985 laboneq.compiler.workflow.compiler INFO   Finished LabOne Q Compiler run.\n",
      "2022.12.09 11:35:42.935 laboneq.controller.controller  INFO   Starting near-time execution...\n",
      "2022.12.09 11:35:43.963 laboneq.controller.controller  INFO   Finished near-time execution.\n",
      "4.448650383460387e-05 -2.4250207764165754 -3.354557132185204e-05 -2.921889231502047e-05\n",
      "2022.12.09 11:35:44.329 laboneq.compiler.workflow.compiler INFO   Starting LabOne Q Compiler run...\n",
      "2022.12.09 11:35:44.354 laboneq.compiler.workflow.compiler INFO   Total seqC lines generated: 40\n",
      "2022.12.09 11:35:44.354 laboneq.compiler.workflow.compiler INFO   Total sample points generated: 4048\n",
      "2022.12.09 11:35:44.355 laboneq.compiler.workflow.compiler INFO   Finished LabOne Q Compiler run.\n",
      "2022.12.09 11:35:45.120 laboneq.controller.controller  INFO   Starting near-time execution...\n",
      "2022.12.09 11:35:46.124 laboneq.controller.controller  INFO   Finished near-time execution.\n",
      "6.257583020229533e-05 -1.4861836031324689 5.288395940606734e-06 -6.235196383340199e-05\n",
      "PulseFunctional(function='gaussian', uid='drive0_0', amplitude=0.8, length=7.800000000000001e-08, pulse_parameters={'sigma': 0.4})\n",
      "PulseFunctional(function='gaussian', uid='drive1_0', amplitude=0.8, length=3.9000000000000005e-08, pulse_parameters={'sigma': 0.4})\n",
      "2022.12.09 11:35:46.481 laboneq.compiler.workflow.compiler INFO   Starting LabOne Q Compiler run...\n",
      "2022.12.09 11:35:46.509 laboneq.compiler.workflow.compiler INFO   Total seqC lines generated: 59\n",
      "2022.12.09 11:35:46.509 laboneq.compiler.workflow.compiler INFO   Total sample points generated: 8096\n",
      "2022.12.09 11:35:46.509 laboneq.compiler.workflow.compiler INFO   Finished LabOne Q Compiler run.\n",
      "2022.12.09 11:35:47.240 laboneq.controller.controller  INFO   Starting near-time execution...\n",
      "2022.12.09 11:35:48.817 laboneq.controller.controller  INFO   Finished near-time execution.\n",
      "[4.576303153347623e-05, 5.1025745066711114e-05] [-1.909929837464211, -1.884191943149191] [-1.522399137008094e-05, -1.5730759142857724e-05] [-4.315651911238487e-05, -4.854039427530839e-05]\n"
     ]
    }
   ],
   "source": [
    "sequence = PulseSequence()\n",
    "qd_pulse = Device.create_RX_pulse(0, start=0) \n",
    "ro_pulse = Device.create_qubit_readout_pulse(0, start=qd_pulse.finish)\n",
    "sequence.add(qd_pulse)\n",
    "sequence.add(ro_pulse)\n",
    "\n",
    "msr, phase, i, q = Device.execute_pulse_sequence_NoSamples(sequence)\n",
    "print(msr, phase, i , q)\n",
    "\n",
    "sequence2 = PulseSequence()\n",
    "qd2_pulse = Device.create_RX90_pulse(0, start=0) \n",
    "ro2_pulse = Device.create_qubit_readout_pulse(0, start=qd2_pulse.finish)\n",
    "sequence2.add(qd2_pulse)\n",
    "sequence2.add(ro2_pulse)\n",
    "\n",
    "msr, phase, i, q = Device.execute_pulse_sequence_NoSamples(sequence2)\n",
    "print(msr, phase, i , q)\n",
    "\n",
    "sequences = [ sequence, sequence2]\n",
    "\n",
    "msr, phase, i, q = Device.execute_pulse_sequences(sequences)\n",
    "print(msr, phase, i , q)"
   ]
  },
  {
   "cell_type": "code",
   "execution_count": 3,
   "metadata": {},
   "outputs": [
    {
     "name": "stdout",
     "output_type": "stream",
     "text": [
      "2022.12.09 11:36:00.913 laboneq.pulse_sheet_viewer.pulse_sheet_viewer INFO   Writing html file to /home/admin/Juan/qibolab/examples/Resonator Spectroscopy_2022-12-09-11-36-00.html\n"
     ]
    },
    {
     "data": {
      "text/html": [
       "<a href='Resonator Spectroscopy_2022-12-09-11-36-00.html' target='_blank'>Resonator Spectroscopy_2022-12-09-11-36-00.html</a><br>"
      ],
      "text/plain": [
       "/home/admin/Juan/qibolab/examples/Resonator Spectroscopy_2022-12-09-11-36-00.html"
      ]
     },
     "execution_count": 3,
     "metadata": {},
     "output_type": "execute_result"
    }
   ],
   "source": [
    "import laboneq.simple as lo\n",
    "lo.show_pulse_sheet(\"Resonator Spectroscopy\", Device.exp)"
   ]
  },
  {
   "cell_type": "code",
   "execution_count": 20,
   "metadata": {},
   "outputs": [
    {
     "data": {
      "text/plain": [
       "[[PulseFunctional(function='gaussian', uid='drive0', amplitude=0.8, length=8e-08, pulse_parameters={'sigma': 0.4})],\n",
       " [PulseFunctional(function='gaussian', uid='drive0', amplitude=0.8, length=4e-08, pulse_parameters={'sigma': 0.4})]]"
      ]
     },
     "execution_count": 20,
     "metadata": {},
     "output_type": "execute_result"
    }
   ],
   "source": [
    "Device.sequence_drive"
   ]
  },
  {
   "cell_type": "code",
   "execution_count": 21,
   "metadata": {},
   "outputs": [
    {
     "data": {
      "text/plain": [
       "[[PulseFunctional(function='const', uid='readout_0_1', amplitude=0.1, length=1.0000000000000002e-06, pulse_parameters=None)],\n",
       " [PulseFunctional(function='const', uid='readout_1_1', amplitude=0.1, length=1.0000000000000002e-06, pulse_parameters=None)]]"
      ]
     },
     "execution_count": 21,
     "metadata": {},
     "output_type": "execute_result"
    }
   ],
   "source": [
    "Device.sequence_readout"
   ]
  },
  {
   "cell_type": "markdown",
   "metadata": {},
   "source": [
    "------------------------------------"
   ]
  },
  {
   "cell_type": "markdown",
   "metadata": {},
   "source": [
    "# Rabi Amplitude"
   ]
  },
  {
   "cell_type": "markdown",
   "metadata": {},
   "source": [
    "Something wrong"
   ]
  },
  {
   "cell_type": "code",
   "execution_count": null,
   "metadata": {},
   "outputs": [],
   "source": [
    "def rabi_pulse_amp(\n",
    "    platform,\n",
    "    qubit: int,\n",
    "    Amp_start,\n",
    "    Amp_end,\n",
    "    Amp_step,\n",
    "    software_averages,\n",
    "):\n",
    "    platform.reload_settings()\n",
    "    platform.apply_settings()\n",
    "\n",
    "    data = DataUnits(name=f\"data_q{qubit}\", quantities={\"Amp\": \"A\"})\n",
    "\n",
    "    sequence = PulseSequence()\n",
    "    qd_pulse = platform.create_RX_pulse(qubit, start=0)\n",
    "    ro_pulse = platform.create_qubit_readout_pulse(qubit, start=qd_pulse.finish)\n",
    "    sequence.add(qd_pulse)\n",
    "    sequence.add(ro_pulse)\n",
    "\n",
    "    qd_amp_range = np.arange(\n",
    "        Amp_start, Amp_end, Amp_step\n",
    "    )\n",
    "\n",
    "    for _ in range(software_averages):\n",
    "        for Amp in qd_amp_range:\n",
    "\n",
    "            qd_pulse.amplitude = Amp\n",
    "\n",
    "            # platform.reload_settings()\n",
    "            \n",
    "            # platform.native_gates[\"single_qubit\"][qubit][\"RX\"][\"amplitude\"] = Amp \n",
    "\n",
    "            # platform.apply_settings()\n",
    "\n",
    "            # sequence = PulseSequence()\n",
    "            # qd_pulse = platform.create_RX_pulse(qubit, start=0)\n",
    "            # ro_pulse = platform.create_qubit_readout_pulse(qubit, start=qd_pulse.finish)\n",
    "            # sequence.add(qd_pulse)\n",
    "            # sequence.add(ro_pulse)\n",
    "            \n",
    "            # msr, phase, i, q = platform.execute_pulse_sequence(sequence)\n",
    "            msr, phase, i, q = platform.execute_pulse_sequence_NoSamples(sequence)\n",
    "\n",
    "            \n",
    "            results = {\n",
    "                \"MSR[V]\": msr,\n",
    "                \"i[V]\": i,\n",
    "                \"q[V]\": q,\n",
    "                \"phase[rad]\": phase,\n",
    "                \"Amp[A]\": Amp,\n",
    "            }\n",
    "            \n",
    "            \n",
    "            data.add(results)\n",
    "            \n",
    "        # Plot simulated output signals\n",
    "    if use_emulation == True:\n",
    "        Device.plot_output_signals()\n",
    "    else:\n",
    "        lo.show_pulse_sheet(\"Pulse_sheet\",Device.exp)\n",
    "            \n",
    "    return data"
   ]
  },
  {
   "cell_type": "code",
   "execution_count": null,
   "metadata": {},
   "outputs": [],
   "source": [
    "import plotly.graph_objects as go\n",
    "from plotly.subplots import make_subplots\n",
    "\n",
    "def amplitude_msr_phase(data):\n",
    "\n",
    "    # try:\n",
    "    #     data_fit = Data.load_data(folder, routine, format, f\"fit_q{qubit}\")\n",
    "    # except:\n",
    "    #     data_fit = DataUnits()\n",
    "\n",
    "    fig = make_subplots(\n",
    "        rows=1,\n",
    "        cols=2,\n",
    "        horizontal_spacing=0.1,\n",
    "        vertical_spacing=0.1,\n",
    "        subplot_titles=(\n",
    "            \"MSR (V)\",\n",
    "            \"phase (rad)\",\n",
    "        ),\n",
    "    )\n",
    "\n",
    "    fig.add_trace(\n",
    "        go.Scatter(\n",
    "            x=data.get_values(\"amplitude\", \"dimensionless\"),\n",
    "            y=data.get_values(\"MSR\", \"uV\"),\n",
    "            name=\"Rabi Oscillations\",\n",
    "        ),\n",
    "        row=1,\n",
    "        col=1,\n",
    "    )\n",
    "    fig.add_trace(\n",
    "        go.Scatter(\n",
    "            x=data.get_values(\"amplitude\", \"dimensionless\"),\n",
    "            y=data.get_values(\"phase\", \"rad\"),\n",
    "            name=\"Rabi Oscillations\",\n",
    "        ),\n",
    "        row=1,\n",
    "        col=2,\n",
    "    )\n",
    "\n",
    "    # # add fitting trace\n",
    "    # if len(data) > 0 and len(data_fit) > 0:\n",
    "    #     amplituderange = np.linspace(\n",
    "    #         min(data.get_values(\"amplitude\", \"dimensionless\")),\n",
    "    #         max(data.get_values(\"amplitude\", \"dimensionless\")),\n",
    "    #         2 * len(data),\n",
    "    #     )\n",
    "    #     params = [i for i in list(data_fit.df.keys()) if \"popt\" not in i]\n",
    "    #     fig.add_trace(\n",
    "    #         go.Scatter(\n",
    "    #             x=amplituderange,\n",
    "    #             y=rabi(\n",
    "    #                 amplituderange,\n",
    "    #                 data_fit.get_values(\"popt0\"),\n",
    "    #                 data_fit.get_values(\"popt1\"),\n",
    "    #                 data_fit.get_values(\"popt2\"),\n",
    "    #                 data_fit.get_values(\"popt3\"),\n",
    "    #                 data_fit.get_values(\"popt4\"),\n",
    "    #             ),\n",
    "    #             name=\"Fit\",\n",
    "    #             line=go.scatter.Line(dash=\"dot\"),\n",
    "    #         ),\n",
    "    #         row=1,\n",
    "    #         col=1,\n",
    "    #     )\n",
    "\n",
    "    #     fig.add_annotation(\n",
    "    #         dict(\n",
    "    #             font=dict(color=\"black\", size=12),\n",
    "    #             x=0,\n",
    "    #             y=-0.30,\n",
    "    #             showarrow=False,\n",
    "    #             text=f\"Estimated {params[0]} is {data_fit.df[params[0]][0]:.3f} uV.\",\n",
    "    #             textangle=0,\n",
    "    #             xanchor=\"left\",\n",
    "    #             xref=\"paper\",\n",
    "    #             yref=\"paper\",\n",
    "    #         )\n",
    "    #     )\n",
    "\n",
    "    #     fig.add_annotation(\n",
    "    #         dict(\n",
    "    #             font=dict(color=\"black\", size=12),\n",
    "    #             x=0,\n",
    "    #             y=-0.25,\n",
    "    #             showarrow=False,\n",
    "    #             text=f\"Estimated {params[1]} is {data_fit.df[params[1]][0]:.4f}\",\n",
    "    #             textangle=0,\n",
    "    #             xanchor=\"left\",\n",
    "    #             xref=\"paper\",\n",
    "    #             yref=\"paper\",\n",
    "    #         )\n",
    "    #     )\n",
    "\n",
    "    fig.update_layout(\n",
    "        showlegend=True,\n",
    "        uirevision=\"0\",  # ``uirevision`` allows zooming while live plotting\n",
    "        xaxis_title=\"Amplitude (dimensionless)\",\n",
    "        yaxis_title=\"MSR (uV)\",\n",
    "    )\n",
    "    return fig"
   ]
  },
  {
   "cell_type": "code",
   "execution_count": null,
   "metadata": {},
   "outputs": [],
   "source": [
    "def rabi_pulse_Amp_sequenceSweep(\n",
    "    platform,\n",
    "    qubit: int,\n",
    "    start,\n",
    "    end,\n",
    "    count,\n",
    "    parameter,\n",
    "):\n",
    "\n",
    "\n",
    "    sequence = PulseSequence()\n",
    "    qd_pulse = platform.create_qubit_drive_pulse(qubit, start=0, duration=pulse_duration_start)\n",
    "    ro_pulse = platform.create_qubit_readout_pulse(qubit, qd_pulse.finish)\n",
    "    sequence.add(qd_pulse)\n",
    "    sequence.add(ro_pulse)\n",
    "\n",
    "    qd_pulse_duration_range = np.linspace(\n",
    "            pulse_duration_start, pulse_duration_end, count\n",
    "        )\n",
    "\n",
    "    durations = []\n",
    "    for duration in qd_pulse_duration_range:\n",
    "\n",
    "        durations.append(duration)\n",
    "        \n",
    "    return sequence, durations, pulse_duration_start, pulse_duration_end, count, parameter"
   ]
  },
  {
   "cell_type": "code",
   "execution_count": null,
   "metadata": {},
   "outputs": [],
   "source": [
    "sequence, Amps, start, stop, count, parameter = rabi_pulse_length_sequenceSweep(Device,\n",
    "    qubit = 0,\n",
    "    pulse_duration_start = .5,\n",
    "    pulse_duration_end = .9,\n",
    "    count = 5,\n",
    "    parameter= \"Amp\",\n",
    ")\n",
    "\n",
    "msr, phase, i , q = Device.execute_pulse_sequence_Sweep(sequence, start, stop, count, parameter)\n",
    "qubit = 0\n",
    "\n",
    "data = DataUnits(name=f\"data_q{qubit}\", quantities={\"Time\": \"ns\"})\n",
    "\n",
    "results = {\n",
    "    \"MSR[V]\": msr,\n",
    "    \"i[V]\": i,\n",
    "    \"q[V]\": q,\n",
    "    \"phase[rad]\": phase,\n",
    "    \"Time[ns]\": Amps,\n",
    "}\n",
    "                   \n",
    "data.set(results)\n",
    "\n",
    "time_msr_phase(data)"
   ]
  },
  {
   "cell_type": "code",
   "execution_count": null,
   "metadata": {},
   "outputs": [],
   "source": [
    "data = rabi_pulse_amp(Device,\n",
    "    qubit = 0,\n",
    "    Amp_start = 0.8,\n",
    "    Amp_end = 1,\n",
    "    Amp_step = 0.3,\n",
    "    software_averages = 1,\n",
    ")\n",
    "\n",
    "amplitude_msr_phase(data)"
   ]
  },
  {
   "cell_type": "markdown",
   "metadata": {},
   "source": [
    "---------------------------------------------------"
   ]
  },
  {
   "cell_type": "markdown",
   "metadata": {},
   "source": [
    "# Rabi Power"
   ]
  },
  {
   "cell_type": "markdown",
   "metadata": {},
   "source": [
    "Already at max drive_range"
   ]
  },
  {
   "cell_type": "code",
   "execution_count": null,
   "metadata": {},
   "outputs": [],
   "source": [
    "from qibocal.data import DataUnits\n",
    "from qibolab.pulses import Pulse, PulseSequence\n",
    "import laboneq.simple as lo\n",
    "import numpy as np\n",
    "\n",
    "def rabi_pulse_drive_range(\n",
    "    platform,\n",
    "    qubit: int,\n",
    "    drive_range_start,\n",
    "    drive_range_end,\n",
    "    drive_range_step,\n",
    "    software_averages,\n",
    "):\n",
    "    platform.reload_settings()\n",
    "    platform.apply_settings()\n",
    "\n",
    "    data = DataUnits(name=f\"data_q{qubit}\", quantities={\"Drive_range\": \"dimensionless\"})\n",
    "\n",
    "    sequence = PulseSequence()\n",
    "    qd_pulse = platform.create_qubit_RX_pulse(qubit, start=0)\n",
    "    ro_pulse = platform.create_qubit_readout_pulse(qubit, start=qd_pulse.finish)\n",
    "    sequence.add(qd_pulse)\n",
    "    sequence.add(ro_pulse)\n",
    "\n",
    "    qd_pulse_drive_range_range = np.arange(\n",
    "        drive_range_start, drive_range_end,drive_range_step\n",
    "    )\n",
    "\n",
    "    # platform.instruments[\"shfqc_qa\"][\"settings\"][\"lo_frequency\"] = (\n",
    "    #     platform.characterization[\"single_qubit\"][qubit][\"resonator_freq\"]\n",
    "    #     - ro_pulse.frequency\n",
    "    # )\n",
    "    # platform.instruments[\"shfqc_qc\"][\"settings\"][\"lo_frequency\"] = (\n",
    "    #     platform.characterization[\"single_qubit\"][qubit][\"qubit_freq\"]\n",
    "    #     - qd_pulse.frequency\n",
    "    # )\n",
    "\n",
    "    for _ in range(software_averages):\n",
    "        for drive_range in qd_pulse_drive_range_range:\n",
    "            \n",
    "            platform.reload_settings()\n",
    "            \n",
    "            platform.instruments[\"shfqc_qc\"][\"settings\"][\"drive_range\"] = drive_range\n",
    "            \n",
    "            platform.apply_settings()\n",
    "    \n",
    "            # msr, phase, i, q = platform.execute_pulse_sequence(sequence)\n",
    "            msr, phase, i, q = platform.execute_pulse_sequence_NoSamples(sequence)\n",
    "\n",
    "            \n",
    "            results = {\n",
    "                \"MSR[V]\": msr,\n",
    "                \"i[V]\": i,\n",
    "                \"q[V]\": q,\n",
    "                \"phase[rad]\": phase,\n",
    "                \"Drive_range[dimensionless]\": drive_range,\n",
    "            }\n",
    "            \n",
    "            \n",
    "            data.add(results)\n",
    "            \n",
    "        # Plot simulated output signals\n",
    "    if use_emulation == True:\n",
    "        Device.plot_output_signals()\n",
    "    else:\n",
    "        lo.show_pulse_sheet(\"Pulse_sheet\",Device.exp)\n",
    "            \n",
    "    return data"
   ]
  },
  {
   "cell_type": "code",
   "execution_count": null,
   "metadata": {},
   "outputs": [],
   "source": [
    "def gain_msr_phase(data):\n",
    "\n",
    "    # try:\n",
    "    #     data_fit = Data.load_data(folder, routine, format, f\"fit_q{qubit}\")\n",
    "    # except:\n",
    "    #     data_fit = Data(\n",
    "    #         quantities=[\n",
    "    #             \"popt0\",\n",
    "    #             \"popt1\",\n",
    "    #             \"popt2\",\n",
    "    #             \"popt3\",\n",
    "    #             \"popt4\",\n",
    "    #             \"label1\",\n",
    "    #             \"label2\",\n",
    "    #         ]\n",
    "    #     )\n",
    "\n",
    "    fig = make_subplots(\n",
    "        rows=1,\n",
    "        cols=2,\n",
    "        horizontal_spacing=0.1,\n",
    "        vertical_spacing=0.1,\n",
    "        subplot_titles=(\n",
    "            \"MSR (V)\",\n",
    "            \"phase (rad)\",\n",
    "        ),\n",
    "    )\n",
    "\n",
    "    fig.add_trace(\n",
    "        go.Scatter(\n",
    "            x=data.get_values(\"gain\", \"dimensionless\"),\n",
    "            y=data.get_values(\"MSR\", \"uV\"),\n",
    "            name=\"Rabi Oscillations\",\n",
    "        ),\n",
    "        row=1,\n",
    "        col=1,\n",
    "    )\n",
    "    fig.add_trace(\n",
    "        go.Scatter(\n",
    "            x=data.get_values(\"gain\", \"dimensionless\"),\n",
    "            y=data.get_values(\"phase\", \"rad\"),\n",
    "            name=\"Rabi Oscillations\",\n",
    "        ),\n",
    "        row=1,\n",
    "        col=2,\n",
    "    )\n",
    "\n",
    "    # # add fitting trace\n",
    "    # if len(data) > 0 and len(data_fit) > 0:\n",
    "    #     gainrange = np.linspace(\n",
    "    #         min(data.get_values(\"gain\", \"dimensionless\")),\n",
    "    #         max(data.get_values(\"gain\", \"dimensionless\")),\n",
    "    #         2 * len(data),\n",
    "    #     )\n",
    "    #     params = [i for i in list(data_fit.df.keys()) if \"popt\" not in i]\n",
    "    #     fig.add_trace(\n",
    "    #         go.Scatter(\n",
    "    #             x=gainrange,\n",
    "    #             y=rabi(\n",
    "    #                 gainrange,\n",
    "    #                 data_fit.get_values(\"popt0\"),\n",
    "    #                 data_fit.get_values(\"popt1\"),\n",
    "    #                 data_fit.get_values(\"popt2\"),\n",
    "    #                 data_fit.get_values(\"popt3\"),\n",
    "    #                 data_fit.get_values(\"popt4\"),\n",
    "    #             ),\n",
    "    #             name=\"Fit\",\n",
    "    #             line=go.scatter.Line(dash=\"dot\"),\n",
    "    #         ),\n",
    "    #         row=1,\n",
    "    #         col=1,\n",
    "    #     )\n",
    "\n",
    "    #     fig.add_annotation(\n",
    "    #         dict(\n",
    "    #             font=dict(color=\"black\", size=12),\n",
    "    #             x=0,\n",
    "    #             y=-0.20,\n",
    "    #             showarrow=False,\n",
    "    #             text=f\"Estimated {params[1]} is {data_fit.df[params[1]][0]:.3f}\",\n",
    "    #             textangle=0,\n",
    "    #             xanchor=\"left\",\n",
    "    #             xref=\"paper\",\n",
    "    #             yref=\"paper\",\n",
    "    #         )\n",
    "    #     )\n",
    "\n",
    "    #     fig.add_annotation(\n",
    "    #         dict(\n",
    "    #             font=dict(color=\"black\", size=12),\n",
    "    #             x=0,\n",
    "    #             y=-0.25,\n",
    "    #             showarrow=False,\n",
    "    #             text=f\"Estimated {params[0]} is {data_fit.df[params[0]][0]:.4f} uV\",\n",
    "    #             textangle=0,\n",
    "    #             xanchor=\"left\",\n",
    "    #             xref=\"paper\",\n",
    "    #             yref=\"paper\",\n",
    "    #         )\n",
    "    #     )\n",
    "\n",
    "    fig.update_layout(\n",
    "        showlegend=True,\n",
    "        uirevision=\"0\",  # ``uirevision`` allows zooming while live plotting\n",
    "        xaxis_title=\"Gain (dimensionless)\",\n",
    "        yaxis_title=\"MSR (uV)\",\n",
    "    )\n",
    "    return fig\n"
   ]
  }
 ],
 "metadata": {
  "kernelspec": {
   "display_name": "JQibo",
   "language": "python",
   "name": "python3"
  },
  "language_info": {
   "codemirror_mode": {
    "name": "ipython",
    "version": 3
   },
   "file_extension": ".py",
   "mimetype": "text/x-python",
   "name": "python",
   "nbconvert_exporter": "python",
   "pygments_lexer": "ipython3",
   "version": "3.9.13 (main, Aug 25 2022, 23:26:10) \n[GCC 11.2.0]"
  },
  "orig_nbformat": 4,
  "vscode": {
   "interpreter": {
    "hash": "f353bd5fd81425b5652546a01bae5f32b1385e41b0e8c3de3b348335c6a3ea5c"
   }
  }
 },
 "nbformat": 4,
 "nbformat_minor": 2
}
