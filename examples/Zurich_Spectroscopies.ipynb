{
 "cells": [
  {
   "cell_type": "markdown",
   "metadata": {},
   "source": [
    "# Resonator Sprectoscopy"
   ]
  },
  {
   "cell_type": "code",
   "execution_count": 41,
   "metadata": {},
   "outputs": [
    {
     "name": "stdout",
     "output_type": "stream",
     "text": [
      "2023.01.18 19:22:10.408 laboneq.controller.laboneq_logging INFO   Logging initialized from [Default inline config in laboneq.controller.laboneq_logging] logdir is /home/admin/Juan/qibolab/examples/laboneq_output/log\n",
      "2023.01.18 19:22:10.409 laboneq.controller.controller  INFO   VERSION: laboneq 1.4.0\n",
      "2023.01.18 19:22:10.410 laboneq.controller.devices.device_collection INFO   Connecting to data server at localhost:8004\n",
      "2023.01.18 19:22:10.524 laboneq.controller.communication INFO   Connected to Zurich Instrument's Data Server version 22.08 at localhost:8004\n",
      "2023.01.18 19:22:12.399 laboneq.controller.devices.device_collection INFO   Configuring clock sources\n",
      "2023.01.18 19:22:12.545 laboneq.controller.devices.device_collection INFO   Clock sources configured\n"
     ]
    }
   ],
   "source": [
    "from qibolab.paths import qibolab_folder\n",
    "from qibolab.instruments.zhinst import Zurich\n",
    "\n",
    "# runcard = \"/home/admin/Juan/qibolab/src/qibolab/runcards/zhinst.yml\"\n",
    "runcard = qibolab_folder / \"runcards\" / \"zhinst.yml\"\n",
    "use_emulation = False\n",
    "Device = Zurich('EL_ZURO', \"DEV12146\", runcard, use_emulation=use_emulation)"
   ]
  },
  {
   "cell_type": "code",
   "execution_count": 42,
   "metadata": {},
   "outputs": [],
   "source": [
    "from qibocal.calibrations.characterization.utils import variable_resolution_scanrange\n",
    "from qibocal.data import DataUnits\n",
    "from qibolab.pulses import Pulse, PulseSequence\n",
    "import laboneq.simple as lo\n",
    "import numpy as np\n",
    "\n",
    "\n",
    "def resonator_spectroscopy(\n",
    "    Device,\n",
    "    qubit: int,\n",
    "    start,\n",
    "    stop,\n",
    "    step,\n",
    "    software_averages,\n",
    "):\n",
    "    \n",
    "    sequence = PulseSequence() \n",
    "    ro_pulse = Device.create_qubit_readout_pulse(qubit, start=0)\n",
    "    # ro_pulse = Device.create_qubit_readout_pulse2(7.82e9 ,qubit, start=0)\n",
    "    sequence.add(ro_pulse)\n",
    "\n",
    "    # Base_if = Device.instruments[\"shfqc_qa\"][\"settings\"][\"if_frequency\"]\n",
    "    Base_lo = Device.instruments[\"shfqc_qa\"][\"settings\"][\"lo_frequency\"]\n",
    "\n",
    "    # frequency_range = (\n",
    "    #     variable_resolution_scanrange(\n",
    "    #         lowres_width, lowres_step, highres_width, highres_step\n",
    "    #     )\n",
    "    # )\n",
    "    \n",
    "    frequency_range = np.arange(start, stop, step)\n",
    "    \n",
    "    fast_sweep_data = DataUnits(\n",
    "        name=f\"sweep_q{qubit}\", quantities={\"frequency\": \"Hz\"}\n",
    "    )\n",
    "    \n",
    "    for _ in range(software_averages):\n",
    "        for freq in frequency_range:\n",
    "\n",
    "            Device.reload_settings()\n",
    "            # Device.instruments[\"shfqc_qa\"][\"settings\"][\"lo_frequency\"] = freq + Base_lo\n",
    "            Device.instruments[\"shfqc_qa\"][\"settings\"][\"if_frequency_0\"] = freq\n",
    "            # Device.native_gates[\"single_qubit\"][qubit][\"MZ\"][\"frequency\"] = freq\n",
    "            Device.apply_settings()\n",
    "            \n",
    "            # msr, phase, i, q = Device.execute_pulse_sequence(sequence)\n",
    "            msr, phase, i, q = Device.execute_pulse_sequence(sequence)\n",
    "            print(msr, phase, i , q)\n",
    "            \n",
    "            results = {\n",
    "                \"MSR[V]\": msr,\n",
    "                \"i[V]\": i,\n",
    "                \"q[V]\": q,\n",
    "                \"phase[rad]\": phase,\n",
    "                \"frequency[Hz]\": freq + Base_lo,\n",
    "            }\n",
    "            \n",
    "            # print(Device.calib[f\"/logical_signal_groups/q{0}/measure_line\"])\n",
    "            \n",
    "            fast_sweep_data.add(results)\n",
    "\n",
    "    # Plot simulated output signals\n",
    "    # if use_emulation == True:\n",
    "    #     Device.plot_output_signals()\n",
    "    # else:\n",
    "    #     lo.show_pulse_sheet(\"Pulse_sheet\",Device.exp)\n",
    "            \n",
    "    return fast_sweep_data"
   ]
  },
  {
   "cell_type": "code",
   "execution_count": 43,
   "metadata": {},
   "outputs": [],
   "source": [
    "import plotly.graph_objects as go\n",
    "from plotly.subplots import make_subplots\n",
    "\n",
    "def frequency_msr_phase__fast_precision(data):\n",
    "        \n",
    "    data_fast = data\n",
    "\n",
    "    # try:\n",
    "    #     data_fit = Data.load_data(folder, routine, format, f\"fit_q{qubit}\")\n",
    "    # except:\n",
    "    #     data_fit = Data(\n",
    "    #         quantities=[\n",
    "    #             \"popt0\",\n",
    "    #             \"popt1\",\n",
    "    #             \"popt2\",\n",
    "    #             \"popt3\",\n",
    "    #             \"label1\",\n",
    "    #             \"label2\",\n",
    "    #         ]\n",
    "    #     )\n",
    "\n",
    "    fig = make_subplots(\n",
    "        rows=1,\n",
    "        cols=2,\n",
    "        horizontal_spacing=0.1,\n",
    "        vertical_spacing=0.1,\n",
    "        subplot_titles=(\n",
    "            \"MSR (V)\",\n",
    "            \"phase (rad)\",\n",
    "        ),\n",
    "    )\n",
    "\n",
    "    fig.add_trace(\n",
    "        go.Scatter(\n",
    "            x=data_fast.get_values(\"frequency\", \"GHz\"),\n",
    "            y=data_fast.get_values(\"MSR\", \"uV\"),\n",
    "            name=\"Fast\",\n",
    "        ),\n",
    "        row=1,\n",
    "        col=1,\n",
    "    )\n",
    "    fig.add_trace(\n",
    "        go.Scatter(\n",
    "            x=data_fast.get_values(\"frequency\", \"GHz\"),\n",
    "            y=data_fast.get_values(\"phase\", \"rad\"),\n",
    "            name=\"Fast\",\n",
    "        ),\n",
    "        row=1,\n",
    "        col=2,\n",
    "    )\n",
    "    \n",
    "    # if len(data_fast) > 0 and len(data_fit) > 0:\n",
    "    #     freqrange = np.linspace(\n",
    "    #         min(data_fast.get_values(\"frequency\", \"GHz\")),\n",
    "    #         max(data_fast.get_values(\"frequency\", \"GHz\")),\n",
    "    #         2 * len(data_fast),\n",
    "    #     )\n",
    "    #     params = [i for i in list(data_fit.df.keys()) if \"popt\" not in i]\n",
    "    #     fig.add_trace(\n",
    "    #         go.Scatter(\n",
    "    #             x=freqrange,\n",
    "    #             y=lorenzian(\n",
    "    #                 freqrange,\n",
    "    #                 data_fit.get_values(\"popt0\"),\n",
    "    #                 data_fit.get_values(\"popt1\"),\n",
    "    #                 data_fit.get_values(\"popt2\"),\n",
    "    #                 data_fit.get_values(\"popt3\"),\n",
    "    #             ),\n",
    "    #             name=\"Fit\",\n",
    "    #             line=go.scatter.Line(dash=\"dot\"),\n",
    "    #         ),\n",
    "    #         row=1,\n",
    "    #         col=1,\n",
    "    #     )\n",
    "    #     fig.add_annotation(\n",
    "    #         dict(\n",
    "    #             font=dict(color=\"black\", size=12),\n",
    "    #             x=0,\n",
    "    #             y=-0.25,\n",
    "    #             showarrow=False,\n",
    "    #             text=f\"The estimated {params[0]} is {data_fit.df[params[0]][0]:.1f} Hz.\",\n",
    "    #             textangle=0,\n",
    "    #             xanchor=\"left\",\n",
    "    #             xref=\"paper\",\n",
    "    #             yref=\"paper\",\n",
    "    #         )\n",
    "    #     )\n",
    "    #     fig.add_annotation(\n",
    "    #         dict(\n",
    "    #             font=dict(color=\"black\", size=12),\n",
    "    #             x=0,\n",
    "    #             y=-0.30,\n",
    "    #             showarrow=False,\n",
    "    #             text=f\"The estimated {params[1]} is {data_fit.df[params[1]][0]:.3f} uV.\",\n",
    "    #             textangle=0,\n",
    "    #             xanchor=\"left\",\n",
    "    #             xref=\"paper\",\n",
    "    #             yref=\"paper\",\n",
    "    #         )\n",
    "    #     )\n",
    "    fig.update_layout(\n",
    "        showlegend=True,\n",
    "        uirevision=\"0\",  # ``uirevision`` allows zooming while live plotting\n",
    "        xaxis_title=\"Frequency (GHz)\",\n",
    "        yaxis_title=\"MSR (uV)\",\n",
    "        xaxis2_title=\"Frequency (GHz)\",\n",
    "        yaxis2_title=\"Phase (rad)\",\n",
    "    )\n",
    "    return fig"
   ]
  },
  {
   "cell_type": "code",
   "execution_count": 48,
   "metadata": {},
   "outputs": [
    {
     "name": "stdout",
     "output_type": "stream",
     "text": [
      "2023.01.18 19:26:47.033 laboneq.compiler.workflow.compiler INFO   Starting LabOne Q Compiler run...\n",
      "2023.01.18 19:26:47.056 laboneq.compiler.workflow.compiler INFO   Total seqC lines generated: 13\n",
      "2023.01.18 19:26:47.056 laboneq.compiler.workflow.compiler INFO   Total sample points generated: 2000\n",
      "2023.01.18 19:26:47.057 laboneq.compiler.workflow.compiler INFO   Finished LabOne Q Compiler run.\n",
      "2023.01.18 19:26:49.200 laboneq.controller.controller  INFO   Starting near-time execution...\n",
      "2023.01.18 19:26:49.777 laboneq.controller.controller  INFO   Finished near-time execution.\n",
      "3.4505845120343597e-06 -0.3390580505513369 3.254137129344656e-06 -1.1476606720245854e-06\n",
      "2023.01.18 19:26:51.040 laboneq.compiler.workflow.compiler INFO   Starting LabOne Q Compiler run...\n",
      "2023.01.18 19:26:51.062 laboneq.compiler.workflow.compiler INFO   Total seqC lines generated: 13\n",
      "2023.01.18 19:26:51.062 laboneq.compiler.workflow.compiler INFO   Total sample points generated: 2000\n",
      "2023.01.18 19:26:51.063 laboneq.compiler.workflow.compiler INFO   Finished LabOne Q Compiler run.\n",
      "2023.01.18 19:26:53.170 laboneq.controller.controller  INFO   Starting near-time execution...\n",
      "2023.01.18 19:26:53.705 laboneq.controller.controller  INFO   Finished near-time execution.\n",
      "1.608279771326074e-05 2.854365716838298 -1.5423936211507622e-05 4.556157814322148e-06\n",
      "2023.01.18 19:26:55.008 laboneq.compiler.workflow.compiler INFO   Starting LabOne Q Compiler run...\n",
      "2023.01.18 19:26:55.029 laboneq.compiler.workflow.compiler INFO   Total seqC lines generated: 13\n",
      "2023.01.18 19:26:55.030 laboneq.compiler.workflow.compiler INFO   Total sample points generated: 2000\n",
      "2023.01.18 19:26:55.030 laboneq.compiler.workflow.compiler INFO   Finished LabOne Q Compiler run.\n",
      "2023.01.18 19:26:57.211 laboneq.controller.controller  INFO   Starting near-time execution...\n",
      "2023.01.18 19:26:57.825 laboneq.controller.controller  INFO   Finished near-time execution.\n",
      "2.30090264491819e-05 2.0184040965616705 -9.958541679391146e-06 2.0742293647496695e-05\n",
      "2023.01.18 19:26:59.136 laboneq.compiler.workflow.compiler INFO   Starting LabOne Q Compiler run...\n",
      "2023.01.18 19:26:59.159 laboneq.compiler.workflow.compiler INFO   Total seqC lines generated: 13\n",
      "2023.01.18 19:26:59.159 laboneq.compiler.workflow.compiler INFO   Total sample points generated: 2000\n",
      "2023.01.18 19:26:59.159 laboneq.compiler.workflow.compiler INFO   Finished LabOne Q Compiler run.\n",
      "2023.01.18 19:27:01.310 laboneq.controller.controller  INFO   Starting near-time execution...\n",
      "2023.01.18 19:27:01.914 laboneq.controller.controller  INFO   Finished near-time execution.\n",
      "3.221867992788685e-05 1.4971387543986532 2.3710044352189355e-06 3.2131319211383015e-05\n",
      "2023.01.18 19:27:03.212 laboneq.compiler.workflow.compiler INFO   Starting LabOne Q Compiler run...\n",
      "2023.01.18 19:27:03.234 laboneq.compiler.workflow.compiler INFO   Total seqC lines generated: 13\n",
      "2023.01.18 19:27:03.235 laboneq.compiler.workflow.compiler INFO   Total sample points generated: 2000\n",
      "2023.01.18 19:27:03.235 laboneq.compiler.workflow.compiler INFO   Finished LabOne Q Compiler run.\n",
      "2023.01.18 19:27:05.430 laboneq.controller.controller  INFO   Starting near-time execution...\n",
      "2023.01.18 19:27:06.009 laboneq.controller.controller  INFO   Finished near-time execution.\n",
      "2.105852955228575e-05 0.7508851982459984 1.5395579223124743e-05 1.4367943739066561e-05\n",
      "2023.01.18 19:27:07.297 laboneq.compiler.workflow.compiler INFO   Starting LabOne Q Compiler run...\n",
      "2023.01.18 19:27:07.319 laboneq.compiler.workflow.compiler INFO   Total seqC lines generated: 13\n",
      "2023.01.18 19:27:07.320 laboneq.compiler.workflow.compiler INFO   Total sample points generated: 2000\n",
      "2023.01.18 19:27:07.320 laboneq.compiler.workflow.compiler INFO   Finished LabOne Q Compiler run.\n",
      "2023.01.18 19:27:09.381 laboneq.controller.controller  INFO   Starting near-time execution...\n",
      "2023.01.18 19:27:09.972 laboneq.controller.controller  INFO   Finished near-time execution.\n",
      "7.106118392967682e-06 -1.1399754352589957 2.9676345955101624e-06 -6.4567843019884776e-06\n",
      "2023.01.18 19:27:11.368 laboneq.compiler.workflow.compiler INFO   Starting LabOne Q Compiler run...\n",
      "2023.01.18 19:27:11.390 laboneq.compiler.workflow.compiler INFO   Total seqC lines generated: 13\n",
      "2023.01.18 19:27:11.390 laboneq.compiler.workflow.compiler INFO   Total sample points generated: 2000\n",
      "2023.01.18 19:27:11.391 laboneq.compiler.workflow.compiler INFO   Finished LabOne Q Compiler run.\n",
      "2023.01.18 19:27:13.590 laboneq.controller.controller  INFO   Starting near-time execution...\n",
      "2023.01.18 19:27:14.220 laboneq.controller.controller  INFO   Finished near-time execution.\n",
      "7.543777924433434e-06 2.5289755248035353 -6.171911315872989e-06 4.337752422876178e-06\n",
      "2023.01.18 19:27:15.577 laboneq.compiler.workflow.compiler INFO   Starting LabOne Q Compiler run...\n",
      "2023.01.18 19:27:15.599 laboneq.compiler.workflow.compiler INFO   Total seqC lines generated: 13\n",
      "2023.01.18 19:27:15.599 laboneq.compiler.workflow.compiler INFO   Total sample points generated: 2000\n",
      "2023.01.18 19:27:15.599 laboneq.compiler.workflow.compiler INFO   Finished LabOne Q Compiler run.\n",
      "2023.01.18 19:27:17.800 laboneq.controller.controller  INFO   Starting near-time execution...\n",
      "2023.01.18 19:27:18.433 laboneq.controller.controller  INFO   Finished near-time execution.\n",
      "3.421141062298835e-05 2.0006775249954596 -1.425804371838791e-05 3.1098694605067575e-05\n",
      "2023.01.18 19:27:19.781 laboneq.compiler.workflow.compiler INFO   Starting LabOne Q Compiler run...\n",
      "2023.01.18 19:27:19.803 laboneq.compiler.workflow.compiler INFO   Total seqC lines generated: 13\n",
      "2023.01.18 19:27:19.803 laboneq.compiler.workflow.compiler INFO   Total sample points generated: 2000\n",
      "2023.01.18 19:27:19.803 laboneq.compiler.workflow.compiler INFO   Finished LabOne Q Compiler run.\n",
      "2023.01.18 19:27:21.881 laboneq.controller.controller  INFO   Starting near-time execution...\n",
      "2023.01.18 19:27:22.469 laboneq.controller.controller  INFO   Finished near-time execution.\n",
      "3.2392706017246135e-05 1.7482465269559968 -5.717973088841006e-06 3.188404282513471e-05\n",
      "2023.01.18 19:27:23.818 laboneq.compiler.workflow.compiler INFO   Starting LabOne Q Compiler run...\n",
      "2023.01.18 19:27:23.840 laboneq.compiler.workflow.compiler INFO   Total seqC lines generated: 13\n",
      "2023.01.18 19:27:23.840 laboneq.compiler.workflow.compiler INFO   Total sample points generated: 2000\n",
      "2023.01.18 19:27:23.841 laboneq.compiler.workflow.compiler INFO   Finished LabOne Q Compiler run.\n",
      "2023.01.18 19:27:26.041 laboneq.controller.controller  INFO   Starting near-time execution...\n",
      "2023.01.18 19:27:26.622 laboneq.controller.controller  INFO   Finished near-time execution.\n",
      "3.043134547116689e-05 0.932317500118894 1.8136309681603732e-05 2.443646984158056e-05\n",
      "2023.01.18 19:27:27.971 laboneq.compiler.workflow.compiler INFO   Starting LabOne Q Compiler run...\n",
      "2023.01.18 19:27:27.993 laboneq.compiler.workflow.compiler INFO   Total seqC lines generated: 13\n",
      "2023.01.18 19:27:27.993 laboneq.compiler.workflow.compiler INFO   Total sample points generated: 2000\n",
      "2023.01.18 19:27:27.993 laboneq.compiler.workflow.compiler INFO   Finished LabOne Q Compiler run.\n",
      "2023.01.18 19:27:30.031 laboneq.controller.controller  INFO   Starting near-time execution...\n",
      "2023.01.18 19:27:30.648 laboneq.controller.controller  INFO   Finished near-time execution.\n",
      "1.106590389739139e-05 0.11086730324016314 1.099796492491572e-05 1.2243351569833861e-06\n",
      "2023.01.18 19:27:31.959 laboneq.compiler.workflow.compiler INFO   Starting LabOne Q Compiler run...\n",
      "2023.01.18 19:27:31.981 laboneq.compiler.workflow.compiler INFO   Total seqC lines generated: 13\n",
      "2023.01.18 19:27:31.981 laboneq.compiler.workflow.compiler INFO   Total sample points generated: 2000\n",
      "2023.01.18 19:27:31.982 laboneq.compiler.workflow.compiler INFO   Finished LabOne Q Compiler run.\n",
      "2023.01.18 19:27:33.900 laboneq.controller.controller  INFO   Starting near-time execution...\n",
      "2023.01.18 19:27:34.484 laboneq.controller.controller  INFO   Finished near-time execution.\n",
      "6.413469754751435e-06 -2.7519135887857806 -5.932658520709196e-06 -2.436423028081947e-06\n",
      "2023.01.18 19:27:35.837 laboneq.compiler.workflow.compiler INFO   Starting LabOne Q Compiler run...\n",
      "2023.01.18 19:27:35.860 laboneq.compiler.workflow.compiler INFO   Total seqC lines generated: 13\n",
      "2023.01.18 19:27:35.860 laboneq.compiler.workflow.compiler INFO   Total sample points generated: 2000\n",
      "2023.01.18 19:27:35.861 laboneq.compiler.workflow.compiler INFO   Finished LabOne Q Compiler run.\n",
      "2023.01.18 19:27:38.051 laboneq.controller.controller  INFO   Starting near-time execution...\n",
      "2023.01.18 19:27:38.693 laboneq.controller.controller  INFO   Finished near-time execution.\n",
      "2.5965113067953647e-05 2.5810039561112283 -2.1990951445344875e-05 1.3805258098279125e-05\n",
      "2023.01.18 19:27:40.009 laboneq.compiler.workflow.compiler INFO   Starting LabOne Q Compiler run...\n",
      "2023.01.18 19:27:40.031 laboneq.compiler.workflow.compiler INFO   Total seqC lines generated: 13\n",
      "2023.01.18 19:27:40.032 laboneq.compiler.workflow.compiler INFO   Total sample points generated: 2000\n",
      "2023.01.18 19:27:40.032 laboneq.compiler.workflow.compiler INFO   Finished LabOne Q Compiler run.\n",
      "2023.01.18 19:27:42.231 laboneq.controller.controller  INFO   Starting near-time execution...\n",
      "2023.01.18 19:27:42.824 laboneq.controller.controller  INFO   Finished near-time execution.\n",
      "2.9273104030186286e-05 1.7980949588502477 -6.596590475488824e-06 2.8520161529360222e-05\n",
      "2023.01.18 19:27:44.079 laboneq.compiler.workflow.compiler INFO   Starting LabOne Q Compiler run...\n",
      "2023.01.18 19:27:44.101 laboneq.compiler.workflow.compiler INFO   Total seqC lines generated: 13\n",
      "2023.01.18 19:27:44.101 laboneq.compiler.workflow.compiler INFO   Total sample points generated: 2000\n",
      "2023.01.18 19:27:44.102 laboneq.compiler.workflow.compiler INFO   Finished LabOne Q Compiler run.\n",
      "2023.01.18 19:27:46.130 laboneq.controller.controller  INFO   Starting near-time execution...\n",
      "2023.01.18 19:27:46.704 laboneq.controller.controller  INFO   Finished near-time execution.\n",
      "2.743825966026454e-05 1.3233580618231895 6.72020745635848e-06 2.6602573276425802e-05\n"
     ]
    },
    {
     "data": {
      "application/vnd.plotly.v1+json": {
       "config": {
        "plotlyServerURL": "https://plot.ly"
       },
       "data": [
        {
         "name": "Fast",
         "type": "scatter",
         "x": [
          5.21,
          5.212000000000001,
          5.214,
          5.216,
          5.218,
          5.220000000000001,
          5.222,
          5.224,
          5.226,
          5.228000000000001,
          5.23,
          5.232,
          5.234,
          5.236000000000001,
          5.238
         ],
         "xaxis": "x",
         "y": [
          3.4505845120343595,
          16.08279771326074,
          23.009026449181903,
          32.218679927886846,
          21.05852955228575,
          7.106118392967682,
          7.543777924433434,
          34.21141062298835,
          32.392706017246134,
          30.43134547116689,
          11.06590389739139,
          6.413469754751435,
          25.96511306795365,
          29.273104030186285,
          27.43825966026454
         ],
         "yaxis": "y"
        },
        {
         "name": "Fast",
         "type": "scatter",
         "x": [
          5.21,
          5.212000000000001,
          5.214,
          5.216,
          5.218,
          5.220000000000001,
          5.222,
          5.224,
          5.226,
          5.228000000000001,
          5.23,
          5.232,
          5.234,
          5.236000000000001,
          5.238
         ],
         "xaxis": "x2",
         "y": [
          -0.3390580505513369,
          2.854365716838298,
          2.0184040965616705,
          1.4971387543986534,
          0.7508851982459984,
          -1.1399754352589957,
          2.5289755248035353,
          2.0006775249954596,
          1.7482465269559968,
          0.932317500118894,
          0.11086730324016314,
          -2.7519135887857806,
          2.5810039561112283,
          1.7980949588502477,
          1.3233580618231897
         ],
         "yaxis": "y2"
        }
       ],
       "layout": {
        "annotations": [
         {
          "font": {
           "size": 16
          },
          "showarrow": false,
          "text": "MSR (V)",
          "x": 0.225,
          "xanchor": "center",
          "xref": "paper",
          "y": 1,
          "yanchor": "bottom",
          "yref": "paper"
         },
         {
          "font": {
           "size": 16
          },
          "showarrow": false,
          "text": "phase (rad)",
          "x": 0.775,
          "xanchor": "center",
          "xref": "paper",
          "y": 1,
          "yanchor": "bottom",
          "yref": "paper"
         }
        ],
        "showlegend": true,
        "template": {
         "data": {
          "bar": [
           {
            "error_x": {
             "color": "#2a3f5f"
            },
            "error_y": {
             "color": "#2a3f5f"
            },
            "marker": {
             "line": {
              "color": "#E5ECF6",
              "width": 0.5
             },
             "pattern": {
              "fillmode": "overlay",
              "size": 10,
              "solidity": 0.2
             }
            },
            "type": "bar"
           }
          ],
          "barpolar": [
           {
            "marker": {
             "line": {
              "color": "#E5ECF6",
              "width": 0.5
             },
             "pattern": {
              "fillmode": "overlay",
              "size": 10,
              "solidity": 0.2
             }
            },
            "type": "barpolar"
           }
          ],
          "carpet": [
           {
            "aaxis": {
             "endlinecolor": "#2a3f5f",
             "gridcolor": "white",
             "linecolor": "white",
             "minorgridcolor": "white",
             "startlinecolor": "#2a3f5f"
            },
            "baxis": {
             "endlinecolor": "#2a3f5f",
             "gridcolor": "white",
             "linecolor": "white",
             "minorgridcolor": "white",
             "startlinecolor": "#2a3f5f"
            },
            "type": "carpet"
           }
          ],
          "choropleth": [
           {
            "colorbar": {
             "outlinewidth": 0,
             "ticks": ""
            },
            "type": "choropleth"
           }
          ],
          "contour": [
           {
            "colorbar": {
             "outlinewidth": 0,
             "ticks": ""
            },
            "colorscale": [
             [
              0,
              "#0d0887"
             ],
             [
              0.1111111111111111,
              "#46039f"
             ],
             [
              0.2222222222222222,
              "#7201a8"
             ],
             [
              0.3333333333333333,
              "#9c179e"
             ],
             [
              0.4444444444444444,
              "#bd3786"
             ],
             [
              0.5555555555555556,
              "#d8576b"
             ],
             [
              0.6666666666666666,
              "#ed7953"
             ],
             [
              0.7777777777777778,
              "#fb9f3a"
             ],
             [
              0.8888888888888888,
              "#fdca26"
             ],
             [
              1,
              "#f0f921"
             ]
            ],
            "type": "contour"
           }
          ],
          "contourcarpet": [
           {
            "colorbar": {
             "outlinewidth": 0,
             "ticks": ""
            },
            "type": "contourcarpet"
           }
          ],
          "heatmap": [
           {
            "colorbar": {
             "outlinewidth": 0,
             "ticks": ""
            },
            "colorscale": [
             [
              0,
              "#0d0887"
             ],
             [
              0.1111111111111111,
              "#46039f"
             ],
             [
              0.2222222222222222,
              "#7201a8"
             ],
             [
              0.3333333333333333,
              "#9c179e"
             ],
             [
              0.4444444444444444,
              "#bd3786"
             ],
             [
              0.5555555555555556,
              "#d8576b"
             ],
             [
              0.6666666666666666,
              "#ed7953"
             ],
             [
              0.7777777777777778,
              "#fb9f3a"
             ],
             [
              0.8888888888888888,
              "#fdca26"
             ],
             [
              1,
              "#f0f921"
             ]
            ],
            "type": "heatmap"
           }
          ],
          "heatmapgl": [
           {
            "colorbar": {
             "outlinewidth": 0,
             "ticks": ""
            },
            "colorscale": [
             [
              0,
              "#0d0887"
             ],
             [
              0.1111111111111111,
              "#46039f"
             ],
             [
              0.2222222222222222,
              "#7201a8"
             ],
             [
              0.3333333333333333,
              "#9c179e"
             ],
             [
              0.4444444444444444,
              "#bd3786"
             ],
             [
              0.5555555555555556,
              "#d8576b"
             ],
             [
              0.6666666666666666,
              "#ed7953"
             ],
             [
              0.7777777777777778,
              "#fb9f3a"
             ],
             [
              0.8888888888888888,
              "#fdca26"
             ],
             [
              1,
              "#f0f921"
             ]
            ],
            "type": "heatmapgl"
           }
          ],
          "histogram": [
           {
            "marker": {
             "pattern": {
              "fillmode": "overlay",
              "size": 10,
              "solidity": 0.2
             }
            },
            "type": "histogram"
           }
          ],
          "histogram2d": [
           {
            "colorbar": {
             "outlinewidth": 0,
             "ticks": ""
            },
            "colorscale": [
             [
              0,
              "#0d0887"
             ],
             [
              0.1111111111111111,
              "#46039f"
             ],
             [
              0.2222222222222222,
              "#7201a8"
             ],
             [
              0.3333333333333333,
              "#9c179e"
             ],
             [
              0.4444444444444444,
              "#bd3786"
             ],
             [
              0.5555555555555556,
              "#d8576b"
             ],
             [
              0.6666666666666666,
              "#ed7953"
             ],
             [
              0.7777777777777778,
              "#fb9f3a"
             ],
             [
              0.8888888888888888,
              "#fdca26"
             ],
             [
              1,
              "#f0f921"
             ]
            ],
            "type": "histogram2d"
           }
          ],
          "histogram2dcontour": [
           {
            "colorbar": {
             "outlinewidth": 0,
             "ticks": ""
            },
            "colorscale": [
             [
              0,
              "#0d0887"
             ],
             [
              0.1111111111111111,
              "#46039f"
             ],
             [
              0.2222222222222222,
              "#7201a8"
             ],
             [
              0.3333333333333333,
              "#9c179e"
             ],
             [
              0.4444444444444444,
              "#bd3786"
             ],
             [
              0.5555555555555556,
              "#d8576b"
             ],
             [
              0.6666666666666666,
              "#ed7953"
             ],
             [
              0.7777777777777778,
              "#fb9f3a"
             ],
             [
              0.8888888888888888,
              "#fdca26"
             ],
             [
              1,
              "#f0f921"
             ]
            ],
            "type": "histogram2dcontour"
           }
          ],
          "mesh3d": [
           {
            "colorbar": {
             "outlinewidth": 0,
             "ticks": ""
            },
            "type": "mesh3d"
           }
          ],
          "parcoords": [
           {
            "line": {
             "colorbar": {
              "outlinewidth": 0,
              "ticks": ""
             }
            },
            "type": "parcoords"
           }
          ],
          "pie": [
           {
            "automargin": true,
            "type": "pie"
           }
          ],
          "scatter": [
           {
            "fillpattern": {
             "fillmode": "overlay",
             "size": 10,
             "solidity": 0.2
            },
            "type": "scatter"
           }
          ],
          "scatter3d": [
           {
            "line": {
             "colorbar": {
              "outlinewidth": 0,
              "ticks": ""
             }
            },
            "marker": {
             "colorbar": {
              "outlinewidth": 0,
              "ticks": ""
             }
            },
            "type": "scatter3d"
           }
          ],
          "scattercarpet": [
           {
            "marker": {
             "colorbar": {
              "outlinewidth": 0,
              "ticks": ""
             }
            },
            "type": "scattercarpet"
           }
          ],
          "scattergeo": [
           {
            "marker": {
             "colorbar": {
              "outlinewidth": 0,
              "ticks": ""
             }
            },
            "type": "scattergeo"
           }
          ],
          "scattergl": [
           {
            "marker": {
             "colorbar": {
              "outlinewidth": 0,
              "ticks": ""
             }
            },
            "type": "scattergl"
           }
          ],
          "scattermapbox": [
           {
            "marker": {
             "colorbar": {
              "outlinewidth": 0,
              "ticks": ""
             }
            },
            "type": "scattermapbox"
           }
          ],
          "scatterpolar": [
           {
            "marker": {
             "colorbar": {
              "outlinewidth": 0,
              "ticks": ""
             }
            },
            "type": "scatterpolar"
           }
          ],
          "scatterpolargl": [
           {
            "marker": {
             "colorbar": {
              "outlinewidth": 0,
              "ticks": ""
             }
            },
            "type": "scatterpolargl"
           }
          ],
          "scatterternary": [
           {
            "marker": {
             "colorbar": {
              "outlinewidth": 0,
              "ticks": ""
             }
            },
            "type": "scatterternary"
           }
          ],
          "surface": [
           {
            "colorbar": {
             "outlinewidth": 0,
             "ticks": ""
            },
            "colorscale": [
             [
              0,
              "#0d0887"
             ],
             [
              0.1111111111111111,
              "#46039f"
             ],
             [
              0.2222222222222222,
              "#7201a8"
             ],
             [
              0.3333333333333333,
              "#9c179e"
             ],
             [
              0.4444444444444444,
              "#bd3786"
             ],
             [
              0.5555555555555556,
              "#d8576b"
             ],
             [
              0.6666666666666666,
              "#ed7953"
             ],
             [
              0.7777777777777778,
              "#fb9f3a"
             ],
             [
              0.8888888888888888,
              "#fdca26"
             ],
             [
              1,
              "#f0f921"
             ]
            ],
            "type": "surface"
           }
          ],
          "table": [
           {
            "cells": {
             "fill": {
              "color": "#EBF0F8"
             },
             "line": {
              "color": "white"
             }
            },
            "header": {
             "fill": {
              "color": "#C8D4E3"
             },
             "line": {
              "color": "white"
             }
            },
            "type": "table"
           }
          ]
         },
         "layout": {
          "annotationdefaults": {
           "arrowcolor": "#2a3f5f",
           "arrowhead": 0,
           "arrowwidth": 1
          },
          "autotypenumbers": "strict",
          "coloraxis": {
           "colorbar": {
            "outlinewidth": 0,
            "ticks": ""
           }
          },
          "colorscale": {
           "diverging": [
            [
             0,
             "#8e0152"
            ],
            [
             0.1,
             "#c51b7d"
            ],
            [
             0.2,
             "#de77ae"
            ],
            [
             0.3,
             "#f1b6da"
            ],
            [
             0.4,
             "#fde0ef"
            ],
            [
             0.5,
             "#f7f7f7"
            ],
            [
             0.6,
             "#e6f5d0"
            ],
            [
             0.7,
             "#b8e186"
            ],
            [
             0.8,
             "#7fbc41"
            ],
            [
             0.9,
             "#4d9221"
            ],
            [
             1,
             "#276419"
            ]
           ],
           "sequential": [
            [
             0,
             "#0d0887"
            ],
            [
             0.1111111111111111,
             "#46039f"
            ],
            [
             0.2222222222222222,
             "#7201a8"
            ],
            [
             0.3333333333333333,
             "#9c179e"
            ],
            [
             0.4444444444444444,
             "#bd3786"
            ],
            [
             0.5555555555555556,
             "#d8576b"
            ],
            [
             0.6666666666666666,
             "#ed7953"
            ],
            [
             0.7777777777777778,
             "#fb9f3a"
            ],
            [
             0.8888888888888888,
             "#fdca26"
            ],
            [
             1,
             "#f0f921"
            ]
           ],
           "sequentialminus": [
            [
             0,
             "#0d0887"
            ],
            [
             0.1111111111111111,
             "#46039f"
            ],
            [
             0.2222222222222222,
             "#7201a8"
            ],
            [
             0.3333333333333333,
             "#9c179e"
            ],
            [
             0.4444444444444444,
             "#bd3786"
            ],
            [
             0.5555555555555556,
             "#d8576b"
            ],
            [
             0.6666666666666666,
             "#ed7953"
            ],
            [
             0.7777777777777778,
             "#fb9f3a"
            ],
            [
             0.8888888888888888,
             "#fdca26"
            ],
            [
             1,
             "#f0f921"
            ]
           ]
          },
          "colorway": [
           "#636efa",
           "#EF553B",
           "#00cc96",
           "#ab63fa",
           "#FFA15A",
           "#19d3f3",
           "#FF6692",
           "#B6E880",
           "#FF97FF",
           "#FECB52"
          ],
          "font": {
           "color": "#2a3f5f"
          },
          "geo": {
           "bgcolor": "white",
           "lakecolor": "white",
           "landcolor": "#E5ECF6",
           "showlakes": true,
           "showland": true,
           "subunitcolor": "white"
          },
          "hoverlabel": {
           "align": "left"
          },
          "hovermode": "closest",
          "mapbox": {
           "style": "light"
          },
          "paper_bgcolor": "white",
          "plot_bgcolor": "#E5ECF6",
          "polar": {
           "angularaxis": {
            "gridcolor": "white",
            "linecolor": "white",
            "ticks": ""
           },
           "bgcolor": "#E5ECF6",
           "radialaxis": {
            "gridcolor": "white",
            "linecolor": "white",
            "ticks": ""
           }
          },
          "scene": {
           "xaxis": {
            "backgroundcolor": "#E5ECF6",
            "gridcolor": "white",
            "gridwidth": 2,
            "linecolor": "white",
            "showbackground": true,
            "ticks": "",
            "zerolinecolor": "white"
           },
           "yaxis": {
            "backgroundcolor": "#E5ECF6",
            "gridcolor": "white",
            "gridwidth": 2,
            "linecolor": "white",
            "showbackground": true,
            "ticks": "",
            "zerolinecolor": "white"
           },
           "zaxis": {
            "backgroundcolor": "#E5ECF6",
            "gridcolor": "white",
            "gridwidth": 2,
            "linecolor": "white",
            "showbackground": true,
            "ticks": "",
            "zerolinecolor": "white"
           }
          },
          "shapedefaults": {
           "line": {
            "color": "#2a3f5f"
           }
          },
          "ternary": {
           "aaxis": {
            "gridcolor": "white",
            "linecolor": "white",
            "ticks": ""
           },
           "baxis": {
            "gridcolor": "white",
            "linecolor": "white",
            "ticks": ""
           },
           "bgcolor": "#E5ECF6",
           "caxis": {
            "gridcolor": "white",
            "linecolor": "white",
            "ticks": ""
           }
          },
          "title": {
           "x": 0.05
          },
          "xaxis": {
           "automargin": true,
           "gridcolor": "white",
           "linecolor": "white",
           "ticks": "",
           "title": {
            "standoff": 15
           },
           "zerolinecolor": "white",
           "zerolinewidth": 2
          },
          "yaxis": {
           "automargin": true,
           "gridcolor": "white",
           "linecolor": "white",
           "ticks": "",
           "title": {
            "standoff": 15
           },
           "zerolinecolor": "white",
           "zerolinewidth": 2
          }
         }
        },
        "uirevision": "0",
        "xaxis": {
         "anchor": "y",
         "domain": [
          0,
          0.45
         ],
         "title": {
          "text": "Frequency (GHz)"
         }
        },
        "xaxis2": {
         "anchor": "y2",
         "domain": [
          0.55,
          1
         ],
         "title": {
          "text": "Frequency (GHz)"
         }
        },
        "yaxis": {
         "anchor": "x",
         "domain": [
          0,
          1
         ],
         "title": {
          "text": "MSR (uV)"
         }
        },
        "yaxis2": {
         "anchor": "x2",
         "domain": [
          0,
          1
         ],
         "title": {
          "text": "Phase (rad)"
         }
        }
       }
      },
      "text/html": [
       "<div>                            <div id=\"d19fc272-f1e9-4b63-aff8-04198f96d5b1\" class=\"plotly-graph-div\" style=\"height:525px; width:100%;\"></div>            <script type=\"text/javascript\">                require([\"plotly\"], function(Plotly) {                    window.PLOTLYENV=window.PLOTLYENV || {};                                    if (document.getElementById(\"d19fc272-f1e9-4b63-aff8-04198f96d5b1\")) {                    Plotly.newPlot(                        \"d19fc272-f1e9-4b63-aff8-04198f96d5b1\",                        [{\"name\":\"Fast\",\"x\":[5.21,5.212000000000001,5.214,5.216,5.218,5.220000000000001,5.222,5.224,5.226,5.228000000000001,5.23,5.232,5.234,5.236000000000001,5.238],\"y\":[3.4505845120343595,16.08279771326074,23.009026449181903,32.218679927886846,21.05852955228575,7.106118392967682,7.543777924433434,34.21141062298835,32.392706017246134,30.43134547116689,11.06590389739139,6.413469754751435,25.96511306795365,29.273104030186285,27.43825966026454],\"type\":\"scatter\",\"xaxis\":\"x\",\"yaxis\":\"y\"},{\"name\":\"Fast\",\"x\":[5.21,5.212000000000001,5.214,5.216,5.218,5.220000000000001,5.222,5.224,5.226,5.228000000000001,5.23,5.232,5.234,5.236000000000001,5.238],\"y\":[-0.3390580505513369,2.854365716838298,2.0184040965616705,1.4971387543986534,0.7508851982459984,-1.1399754352589957,2.5289755248035353,2.0006775249954596,1.7482465269559968,0.932317500118894,0.11086730324016314,-2.7519135887857806,2.5810039561112283,1.7980949588502477,1.3233580618231897],\"type\":\"scatter\",\"xaxis\":\"x2\",\"yaxis\":\"y2\"}],                        {\"template\":{\"data\":{\"histogram2dcontour\":[{\"type\":\"histogram2dcontour\",\"colorbar\":{\"outlinewidth\":0,\"ticks\":\"\"},\"colorscale\":[[0.0,\"#0d0887\"],[0.1111111111111111,\"#46039f\"],[0.2222222222222222,\"#7201a8\"],[0.3333333333333333,\"#9c179e\"],[0.4444444444444444,\"#bd3786\"],[0.5555555555555556,\"#d8576b\"],[0.6666666666666666,\"#ed7953\"],[0.7777777777777778,\"#fb9f3a\"],[0.8888888888888888,\"#fdca26\"],[1.0,\"#f0f921\"]]}],\"choropleth\":[{\"type\":\"choropleth\",\"colorbar\":{\"outlinewidth\":0,\"ticks\":\"\"}}],\"histogram2d\":[{\"type\":\"histogram2d\",\"colorbar\":{\"outlinewidth\":0,\"ticks\":\"\"},\"colorscale\":[[0.0,\"#0d0887\"],[0.1111111111111111,\"#46039f\"],[0.2222222222222222,\"#7201a8\"],[0.3333333333333333,\"#9c179e\"],[0.4444444444444444,\"#bd3786\"],[0.5555555555555556,\"#d8576b\"],[0.6666666666666666,\"#ed7953\"],[0.7777777777777778,\"#fb9f3a\"],[0.8888888888888888,\"#fdca26\"],[1.0,\"#f0f921\"]]}],\"heatmap\":[{\"type\":\"heatmap\",\"colorbar\":{\"outlinewidth\":0,\"ticks\":\"\"},\"colorscale\":[[0.0,\"#0d0887\"],[0.1111111111111111,\"#46039f\"],[0.2222222222222222,\"#7201a8\"],[0.3333333333333333,\"#9c179e\"],[0.4444444444444444,\"#bd3786\"],[0.5555555555555556,\"#d8576b\"],[0.6666666666666666,\"#ed7953\"],[0.7777777777777778,\"#fb9f3a\"],[0.8888888888888888,\"#fdca26\"],[1.0,\"#f0f921\"]]}],\"heatmapgl\":[{\"type\":\"heatmapgl\",\"colorbar\":{\"outlinewidth\":0,\"ticks\":\"\"},\"colorscale\":[[0.0,\"#0d0887\"],[0.1111111111111111,\"#46039f\"],[0.2222222222222222,\"#7201a8\"],[0.3333333333333333,\"#9c179e\"],[0.4444444444444444,\"#bd3786\"],[0.5555555555555556,\"#d8576b\"],[0.6666666666666666,\"#ed7953\"],[0.7777777777777778,\"#fb9f3a\"],[0.8888888888888888,\"#fdca26\"],[1.0,\"#f0f921\"]]}],\"contourcarpet\":[{\"type\":\"contourcarpet\",\"colorbar\":{\"outlinewidth\":0,\"ticks\":\"\"}}],\"contour\":[{\"type\":\"contour\",\"colorbar\":{\"outlinewidth\":0,\"ticks\":\"\"},\"colorscale\":[[0.0,\"#0d0887\"],[0.1111111111111111,\"#46039f\"],[0.2222222222222222,\"#7201a8\"],[0.3333333333333333,\"#9c179e\"],[0.4444444444444444,\"#bd3786\"],[0.5555555555555556,\"#d8576b\"],[0.6666666666666666,\"#ed7953\"],[0.7777777777777778,\"#fb9f3a\"],[0.8888888888888888,\"#fdca26\"],[1.0,\"#f0f921\"]]}],\"surface\":[{\"type\":\"surface\",\"colorbar\":{\"outlinewidth\":0,\"ticks\":\"\"},\"colorscale\":[[0.0,\"#0d0887\"],[0.1111111111111111,\"#46039f\"],[0.2222222222222222,\"#7201a8\"],[0.3333333333333333,\"#9c179e\"],[0.4444444444444444,\"#bd3786\"],[0.5555555555555556,\"#d8576b\"],[0.6666666666666666,\"#ed7953\"],[0.7777777777777778,\"#fb9f3a\"],[0.8888888888888888,\"#fdca26\"],[1.0,\"#f0f921\"]]}],\"mesh3d\":[{\"type\":\"mesh3d\",\"colorbar\":{\"outlinewidth\":0,\"ticks\":\"\"}}],\"scatter\":[{\"fillpattern\":{\"fillmode\":\"overlay\",\"size\":10,\"solidity\":0.2},\"type\":\"scatter\"}],\"parcoords\":[{\"type\":\"parcoords\",\"line\":{\"colorbar\":{\"outlinewidth\":0,\"ticks\":\"\"}}}],\"scatterpolargl\":[{\"type\":\"scatterpolargl\",\"marker\":{\"colorbar\":{\"outlinewidth\":0,\"ticks\":\"\"}}}],\"bar\":[{\"error_x\":{\"color\":\"#2a3f5f\"},\"error_y\":{\"color\":\"#2a3f5f\"},\"marker\":{\"line\":{\"color\":\"#E5ECF6\",\"width\":0.5},\"pattern\":{\"fillmode\":\"overlay\",\"size\":10,\"solidity\":0.2}},\"type\":\"bar\"}],\"scattergeo\":[{\"type\":\"scattergeo\",\"marker\":{\"colorbar\":{\"outlinewidth\":0,\"ticks\":\"\"}}}],\"scatterpolar\":[{\"type\":\"scatterpolar\",\"marker\":{\"colorbar\":{\"outlinewidth\":0,\"ticks\":\"\"}}}],\"histogram\":[{\"marker\":{\"pattern\":{\"fillmode\":\"overlay\",\"size\":10,\"solidity\":0.2}},\"type\":\"histogram\"}],\"scattergl\":[{\"type\":\"scattergl\",\"marker\":{\"colorbar\":{\"outlinewidth\":0,\"ticks\":\"\"}}}],\"scatter3d\":[{\"type\":\"scatter3d\",\"line\":{\"colorbar\":{\"outlinewidth\":0,\"ticks\":\"\"}},\"marker\":{\"colorbar\":{\"outlinewidth\":0,\"ticks\":\"\"}}}],\"scattermapbox\":[{\"type\":\"scattermapbox\",\"marker\":{\"colorbar\":{\"outlinewidth\":0,\"ticks\":\"\"}}}],\"scatterternary\":[{\"type\":\"scatterternary\",\"marker\":{\"colorbar\":{\"outlinewidth\":0,\"ticks\":\"\"}}}],\"scattercarpet\":[{\"type\":\"scattercarpet\",\"marker\":{\"colorbar\":{\"outlinewidth\":0,\"ticks\":\"\"}}}],\"carpet\":[{\"aaxis\":{\"endlinecolor\":\"#2a3f5f\",\"gridcolor\":\"white\",\"linecolor\":\"white\",\"minorgridcolor\":\"white\",\"startlinecolor\":\"#2a3f5f\"},\"baxis\":{\"endlinecolor\":\"#2a3f5f\",\"gridcolor\":\"white\",\"linecolor\":\"white\",\"minorgridcolor\":\"white\",\"startlinecolor\":\"#2a3f5f\"},\"type\":\"carpet\"}],\"table\":[{\"cells\":{\"fill\":{\"color\":\"#EBF0F8\"},\"line\":{\"color\":\"white\"}},\"header\":{\"fill\":{\"color\":\"#C8D4E3\"},\"line\":{\"color\":\"white\"}},\"type\":\"table\"}],\"barpolar\":[{\"marker\":{\"line\":{\"color\":\"#E5ECF6\",\"width\":0.5},\"pattern\":{\"fillmode\":\"overlay\",\"size\":10,\"solidity\":0.2}},\"type\":\"barpolar\"}],\"pie\":[{\"automargin\":true,\"type\":\"pie\"}]},\"layout\":{\"autotypenumbers\":\"strict\",\"colorway\":[\"#636efa\",\"#EF553B\",\"#00cc96\",\"#ab63fa\",\"#FFA15A\",\"#19d3f3\",\"#FF6692\",\"#B6E880\",\"#FF97FF\",\"#FECB52\"],\"font\":{\"color\":\"#2a3f5f\"},\"hovermode\":\"closest\",\"hoverlabel\":{\"align\":\"left\"},\"paper_bgcolor\":\"white\",\"plot_bgcolor\":\"#E5ECF6\",\"polar\":{\"bgcolor\":\"#E5ECF6\",\"angularaxis\":{\"gridcolor\":\"white\",\"linecolor\":\"white\",\"ticks\":\"\"},\"radialaxis\":{\"gridcolor\":\"white\",\"linecolor\":\"white\",\"ticks\":\"\"}},\"ternary\":{\"bgcolor\":\"#E5ECF6\",\"aaxis\":{\"gridcolor\":\"white\",\"linecolor\":\"white\",\"ticks\":\"\"},\"baxis\":{\"gridcolor\":\"white\",\"linecolor\":\"white\",\"ticks\":\"\"},\"caxis\":{\"gridcolor\":\"white\",\"linecolor\":\"white\",\"ticks\":\"\"}},\"coloraxis\":{\"colorbar\":{\"outlinewidth\":0,\"ticks\":\"\"}},\"colorscale\":{\"sequential\":[[0.0,\"#0d0887\"],[0.1111111111111111,\"#46039f\"],[0.2222222222222222,\"#7201a8\"],[0.3333333333333333,\"#9c179e\"],[0.4444444444444444,\"#bd3786\"],[0.5555555555555556,\"#d8576b\"],[0.6666666666666666,\"#ed7953\"],[0.7777777777777778,\"#fb9f3a\"],[0.8888888888888888,\"#fdca26\"],[1.0,\"#f0f921\"]],\"sequentialminus\":[[0.0,\"#0d0887\"],[0.1111111111111111,\"#46039f\"],[0.2222222222222222,\"#7201a8\"],[0.3333333333333333,\"#9c179e\"],[0.4444444444444444,\"#bd3786\"],[0.5555555555555556,\"#d8576b\"],[0.6666666666666666,\"#ed7953\"],[0.7777777777777778,\"#fb9f3a\"],[0.8888888888888888,\"#fdca26\"],[1.0,\"#f0f921\"]],\"diverging\":[[0,\"#8e0152\"],[0.1,\"#c51b7d\"],[0.2,\"#de77ae\"],[0.3,\"#f1b6da\"],[0.4,\"#fde0ef\"],[0.5,\"#f7f7f7\"],[0.6,\"#e6f5d0\"],[0.7,\"#b8e186\"],[0.8,\"#7fbc41\"],[0.9,\"#4d9221\"],[1,\"#276419\"]]},\"xaxis\":{\"gridcolor\":\"white\",\"linecolor\":\"white\",\"ticks\":\"\",\"title\":{\"standoff\":15},\"zerolinecolor\":\"white\",\"automargin\":true,\"zerolinewidth\":2},\"yaxis\":{\"gridcolor\":\"white\",\"linecolor\":\"white\",\"ticks\":\"\",\"title\":{\"standoff\":15},\"zerolinecolor\":\"white\",\"automargin\":true,\"zerolinewidth\":2},\"scene\":{\"xaxis\":{\"backgroundcolor\":\"#E5ECF6\",\"gridcolor\":\"white\",\"linecolor\":\"white\",\"showbackground\":true,\"ticks\":\"\",\"zerolinecolor\":\"white\",\"gridwidth\":2},\"yaxis\":{\"backgroundcolor\":\"#E5ECF6\",\"gridcolor\":\"white\",\"linecolor\":\"white\",\"showbackground\":true,\"ticks\":\"\",\"zerolinecolor\":\"white\",\"gridwidth\":2},\"zaxis\":{\"backgroundcolor\":\"#E5ECF6\",\"gridcolor\":\"white\",\"linecolor\":\"white\",\"showbackground\":true,\"ticks\":\"\",\"zerolinecolor\":\"white\",\"gridwidth\":2}},\"shapedefaults\":{\"line\":{\"color\":\"#2a3f5f\"}},\"annotationdefaults\":{\"arrowcolor\":\"#2a3f5f\",\"arrowhead\":0,\"arrowwidth\":1},\"geo\":{\"bgcolor\":\"white\",\"landcolor\":\"#E5ECF6\",\"subunitcolor\":\"white\",\"showland\":true,\"showlakes\":true,\"lakecolor\":\"white\"},\"title\":{\"x\":0.05},\"mapbox\":{\"style\":\"light\"}}},\"xaxis\":{\"anchor\":\"y\",\"domain\":[0.0,0.45],\"title\":{\"text\":\"Frequency (GHz)\"}},\"yaxis\":{\"anchor\":\"x\",\"domain\":[0.0,1.0],\"title\":{\"text\":\"MSR (uV)\"}},\"xaxis2\":{\"anchor\":\"y2\",\"domain\":[0.55,1.0],\"title\":{\"text\":\"Frequency (GHz)\"}},\"yaxis2\":{\"anchor\":\"x2\",\"domain\":[0.0,1.0],\"title\":{\"text\":\"Phase (rad)\"}},\"annotations\":[{\"font\":{\"size\":16},\"showarrow\":false,\"text\":\"MSR (V)\",\"x\":0.225,\"xanchor\":\"center\",\"xref\":\"paper\",\"y\":1.0,\"yanchor\":\"bottom\",\"yref\":\"paper\"},{\"font\":{\"size\":16},\"showarrow\":false,\"text\":\"phase (rad)\",\"x\":0.775,\"xanchor\":\"center\",\"xref\":\"paper\",\"y\":1.0,\"yanchor\":\"bottom\",\"yref\":\"paper\"}],\"showlegend\":true,\"uirevision\":\"0\"},                        {\"responsive\": true}                    ).then(function(){\n",
       "                            \n",
       "var gd = document.getElementById('d19fc272-f1e9-4b63-aff8-04198f96d5b1');\n",
       "var x = new MutationObserver(function (mutations, observer) {{\n",
       "        var display = window.getComputedStyle(gd).display;\n",
       "        if (!display || display === 'none') {{\n",
       "            console.log([gd, 'removed!']);\n",
       "            Plotly.purge(gd);\n",
       "            observer.disconnect();\n",
       "        }}\n",
       "}});\n",
       "\n",
       "// Listen for the removal of the full notebook cells\n",
       "var notebookContainer = gd.closest('#notebook-container');\n",
       "if (notebookContainer) {{\n",
       "    x.observe(notebookContainer, {childList: true});\n",
       "}}\n",
       "\n",
       "// Listen for the clearing of the current output cell\n",
       "var outputEl = gd.closest('.output');\n",
       "if (outputEl) {{\n",
       "    x.observe(outputEl, {childList: true});\n",
       "}}\n",
       "\n",
       "                        })                };                });            </script>        </div>"
      ]
     },
     "metadata": {},
     "output_type": "display_data"
    }
   ],
   "source": [
    "data = resonator_spectroscopy(\n",
    "    Device,\n",
    "    qubit = 0,\n",
    "    start = -290e6,\n",
    "    stop = -260e6,\n",
    "    step = 2e6,\n",
    "    software_averages=1,\n",
    "    )\n",
    "\n",
    "frequency_msr_phase__fast_precision(data)"
   ]
  },
  {
   "cell_type": "code",
   "execution_count": 47,
   "metadata": {},
   "outputs": [
    {
     "data": {
      "text/plain": [
       "Calibration(calibration_items={'/logical_signal_groups/q0/measure_line': SignalCalibration(amplitude=None, delay_signal=None, local_oscillator=Oscillator(uid='osc_8296', carrier_type=CarrierType.RF, frequency=5500000000, modulation_type=ModulationType.AUTO), mixer_calibration=None, precompensation=None, oscillator=Oscillator(uid='osc_8275', carrier_type=CarrierType.RF, frequency=-262000000.0, modulation_type=ModulationType.SOFTWARE), port_delay=None, port_mode=None, range=0, threshold=None), '/logical_signal_groups/q0/acquire_line': SignalCalibration(amplitude=None, delay_signal=None, local_oscillator=Oscillator(uid='osc_8297', carrier_type=CarrierType.RF, frequency=5500000000, modulation_type=ModulationType.AUTO), mixer_calibration=None, precompensation=None, oscillator=None, port_delay=1e-08, port_mode=None, range=10, threshold=None), '/logical_signal_groups/q0/flux_line': SignalCalibration(amplitude=None, delay_signal=0, local_oscillator=None, mixer_calibration=None, precompensation=None, oscillator=None, port_delay=0, port_mode=None, range=5, threshold=None), '/logical_signal_groups/q0/drive_line': SignalCalibration(amplitude=None, delay_signal=None, local_oscillator=Oscillator(uid='osc_8279', carrier_type=CarrierType.RF, frequency=4100000000, modulation_type=ModulationType.AUTO), mixer_calibration=None, precompensation=None, oscillator=Oscillator(uid='osc_8278', carrier_type=CarrierType.RF, frequency=-19058000, modulation_type=ModulationType.HARDWARE), port_delay=None, port_mode=None, range=-10, threshold=None), '/logical_signal_groups/q1/measure_line': SignalCalibration(amplitude=None, delay_signal=None, local_oscillator=Oscillator(uid='osc_8296', carrier_type=CarrierType.RF, frequency=5500000000, modulation_type=ModulationType.AUTO), mixer_calibration=None, precompensation=None, oscillator=Oscillator(uid='osc_8280', carrier_type=CarrierType.RF, frequency=-500000000, modulation_type=ModulationType.SOFTWARE), port_delay=None, port_mode=None, range=0, threshold=None), '/logical_signal_groups/q1/acquire_line': SignalCalibration(amplitude=None, delay_signal=None, local_oscillator=Oscillator(uid='osc_8297', carrier_type=CarrierType.RF, frequency=5500000000, modulation_type=ModulationType.AUTO), mixer_calibration=None, precompensation=None, oscillator=None, port_delay=1e-08, port_mode=None, range=10, threshold=None), '/logical_signal_groups/q1/flux_line': SignalCalibration(amplitude=None, delay_signal=0, local_oscillator=None, mixer_calibration=None, precompensation=None, oscillator=None, port_delay=0, port_mode=None, range=5, threshold=None), '/logical_signal_groups/q1/drive_line': SignalCalibration(amplitude=None, delay_signal=None, local_oscillator=Oscillator(uid='osc_8284', carrier_type=CarrierType.RF, frequency=4100000000, modulation_type=ModulationType.AUTO), mixer_calibration=None, precompensation=None, oscillator=Oscillator(uid='osc_8283', carrier_type=CarrierType.RF, frequency=-19058000, modulation_type=ModulationType.HARDWARE), port_delay=None, port_mode=None, range=-10, threshold=None), '/logical_signal_groups/q2/measure_line': SignalCalibration(amplitude=None, delay_signal=None, local_oscillator=Oscillator(uid='osc_8296', carrier_type=CarrierType.RF, frequency=5500000000, modulation_type=ModulationType.AUTO), mixer_calibration=None, precompensation=None, oscillator=Oscillator(uid='osc_8285', carrier_type=CarrierType.RF, frequency=500000000, modulation_type=ModulationType.SOFTWARE), port_delay=None, port_mode=None, range=0, threshold=None), '/logical_signal_groups/q2/acquire_line': SignalCalibration(amplitude=None, delay_signal=None, local_oscillator=Oscillator(uid='osc_8297', carrier_type=CarrierType.RF, frequency=5500000000, modulation_type=ModulationType.AUTO), mixer_calibration=None, precompensation=None, oscillator=None, port_delay=1e-08, port_mode=None, range=10, threshold=None), '/logical_signal_groups/q2/flux_line': SignalCalibration(amplitude=None, delay_signal=0, local_oscillator=None, mixer_calibration=None, precompensation=None, oscillator=None, port_delay=0, port_mode=None, range=5, threshold=None), '/logical_signal_groups/q2/drive_line': SignalCalibration(amplitude=None, delay_signal=None, local_oscillator=Oscillator(uid='osc_8289', carrier_type=CarrierType.RF, frequency=4100000000, modulation_type=ModulationType.AUTO), mixer_calibration=None, precompensation=None, oscillator=Oscillator(uid='osc_8288', carrier_type=CarrierType.RF, frequency=-19058000, modulation_type=ModulationType.HARDWARE), port_delay=None, port_mode=None, range=-10, threshold=None), '/logical_signal_groups/q3/measure_line': SignalCalibration(amplitude=None, delay_signal=None, local_oscillator=Oscillator(uid='osc_8296', carrier_type=CarrierType.RF, frequency=5500000000, modulation_type=ModulationType.AUTO), mixer_calibration=None, precompensation=None, oscillator=Oscillator(uid='osc_8290', carrier_type=CarrierType.RF, frequency=250000000, modulation_type=ModulationType.SOFTWARE), port_delay=None, port_mode=None, range=0, threshold=None), '/logical_signal_groups/q3/acquire_line': SignalCalibration(amplitude=None, delay_signal=None, local_oscillator=Oscillator(uid='osc_8297', carrier_type=CarrierType.RF, frequency=5500000000, modulation_type=ModulationType.AUTO), mixer_calibration=None, precompensation=None, oscillator=None, port_delay=1e-08, port_mode=None, range=10, threshold=None), '/logical_signal_groups/q3/flux_line': SignalCalibration(amplitude=None, delay_signal=0, local_oscillator=None, mixer_calibration=None, precompensation=None, oscillator=None, port_delay=0, port_mode=None, range=5, threshold=None), '/logical_signal_groups/q3/drive_line': SignalCalibration(amplitude=None, delay_signal=None, local_oscillator=Oscillator(uid='osc_8294', carrier_type=CarrierType.RF, frequency=4100000000, modulation_type=ModulationType.AUTO), mixer_calibration=None, precompensation=None, oscillator=Oscillator(uid='osc_8293', carrier_type=CarrierType.RF, frequency=-19058000, modulation_type=ModulationType.HARDWARE), port_delay=None, port_mode=None, range=-10, threshold=None), '/logical_signal_groups/q4/measure_line': SignalCalibration(amplitude=None, delay_signal=None, local_oscillator=Oscillator(uid='osc_8296', carrier_type=CarrierType.RF, frequency=5500000000, modulation_type=ModulationType.AUTO), mixer_calibration=None, precompensation=None, oscillator=Oscillator(uid='osc_8295', carrier_type=CarrierType.RF, frequency=0, modulation_type=ModulationType.SOFTWARE), port_delay=None, port_mode=None, range=0, threshold=None), '/logical_signal_groups/q4/acquire_line': SignalCalibration(amplitude=None, delay_signal=None, local_oscillator=Oscillator(uid='osc_8297', carrier_type=CarrierType.RF, frequency=5500000000, modulation_type=ModulationType.AUTO), mixer_calibration=None, precompensation=None, oscillator=None, port_delay=1e-08, port_mode=None, range=10, threshold=None), '/logical_signal_groups/q4/flux_line': SignalCalibration(amplitude=None, delay_signal=0, local_oscillator=None, mixer_calibration=None, precompensation=None, oscillator=None, port_delay=0, port_mode=None, range=5, threshold=None), '/logical_signal_groups/q4/drive_line': SignalCalibration(amplitude=None, delay_signal=None, local_oscillator=Oscillator(uid='osc_8299', carrier_type=CarrierType.RF, frequency=4100000000, modulation_type=ModulationType.AUTO), mixer_calibration=None, precompensation=None, oscillator=Oscillator(uid='osc_8298', carrier_type=CarrierType.RF, frequency=-19058000, modulation_type=ModulationType.HARDWARE), port_delay=None, port_mode=None, range=-10, threshold=None)})"
      ]
     },
     "execution_count": 47,
     "metadata": {},
     "output_type": "execute_result"
    }
   ],
   "source": [
    "Device.calib"
   ]
  },
  {
   "cell_type": "code",
   "execution_count": 30,
   "metadata": {},
   "outputs": [
    {
     "name": "stdout",
     "output_type": "stream",
     "text": [
      "2023.01.18 17:46:17.762 laboneq.pulse_sheet_viewer.pulse_sheet_viewer INFO   Writing html file to /home/admin/Juan/qibolab/examples/Pulse_sheet_2023-01-18-17-46-17.html\n"
     ]
    },
    {
     "data": {
      "text/html": [
       "<a href='Pulse_sheet_2023-01-18-17-46-17.html' target='_blank'>Pulse_sheet_2023-01-18-17-46-17.html</a><br>"
      ],
      "text/plain": [
       "/home/admin/Juan/qibolab/examples/Pulse_sheet_2023-01-18-17-46-17.html"
      ]
     },
     "execution_count": 30,
     "metadata": {},
     "output_type": "execute_result"
    }
   ],
   "source": [
    "lo.show_pulse_sheet(\"Pulse_sheet\",Device.exp)"
   ]
  },
  {
   "cell_type": "markdown",
   "metadata": {},
   "source": [
    "Sequences"
   ]
  },
  {
   "cell_type": "code",
   "execution_count": 5,
   "metadata": {},
   "outputs": [],
   "source": [
    "def resonator_spectroscopy_sequence(\n",
    "    Device,\n",
    "    qubit: int,\n",
    "    start,\n",
    "    stop,\n",
    "    points,\n",
    "):\n",
    "    \n",
    "    sequence = PulseSequence() \n",
    "    ro_pulse = Device.create_qubit_readout_pulse(qubit, start=0)\n",
    "    sequence.add(ro_pulse)\n",
    "    \n",
    "    freqs = np.linspace(start, stop, points)\n",
    "    \n",
    "    return sequence, freqs"
   ]
  },
  {
   "cell_type": "code",
   "execution_count": 6,
   "metadata": {},
   "outputs": [],
   "source": [
    "Device.reload_settings()"
   ]
  },
  {
   "cell_type": "code",
   "execution_count": 39,
   "metadata": {},
   "outputs": [
    {
     "name": "stdout",
     "output_type": "stream",
     "text": [
      "2023.01.11 13:46:41.714 laboneq.compiler.workflow.compiler INFO   Starting LabOne Q Compiler run...\n",
      "2023.01.11 13:46:41.913 laboneq.compiler.workflow.compiler INFO   Total seqC lines generated: 35\n",
      "2023.01.11 13:46:41.914 laboneq.compiler.workflow.compiler INFO   Total sample points generated: 2000\n",
      "2023.01.11 13:46:41.914 laboneq.compiler.workflow.compiler INFO   Finished LabOne Q Compiler run.\n",
      "2023.01.11 13:46:43.043 laboneq.controller.controller  INFO   Starting near-time execution...\n",
      "2023.01.11 13:46:43.323 laboneq.controller.controller  INFO   Estimated RT execution time: 5.10 s.\n",
      "2023.01.11 13:46:48.596 laboneq.controller.controller  INFO   Finished near-time execution.\n"
     ]
    },
    {
     "name": "stderr",
     "output_type": "stream",
     "text": [
      "/opt/anaconda3/envs/JQibo/lib/python3.9/site-packages/pandas/core/construction.py:617: UnitStrippedWarning:\n",
      "\n",
      "The unit of the quantity is stripped when downcasting to ndarray.\n",
      "\n"
     ]
    },
    {
     "data": {
      "application/vnd.plotly.v1+json": {
       "config": {
        "plotlyServerURL": "https://plot.ly"
       },
       "data": [
        {
         "name": "Fast",
         "type": "scatter",
         "x": [
          6.050000000000001,
          6.0504040404040405,
          6.050808080808081,
          6.051212121212122,
          6.0516161616161614,
          6.052020202020202,
          6.052424242424243,
          6.0528282828282824,
          6.053232323232324,
          6.053636363636365,
          6.054040404040404,
          6.054444444444445,
          6.054848484848486,
          6.055252525252525,
          6.055656565656566,
          6.056060606060607,
          6.056464646464646,
          6.056868686868687,
          6.057272727272728,
          6.057676767676767,
          6.058080808080808,
          6.058484848484849,
          6.05888888888889,
          6.05929292929293,
          6.0596969696969705,
          6.060101010101011,
          6.060505050505051,
          6.0609090909090915,
          6.061313131313132,
          6.061717171717172,
          6.0621212121212125,
          6.062525252525253,
          6.062929292929293,
          6.0633333333333335,
          6.063737373737374,
          6.064141414141414,
          6.064545454545455,
          6.064949494949496,
          6.065353535353536,
          6.065757575757576,
          6.066161616161617,
          6.066565656565657,
          6.066969696969697,
          6.067373737373738,
          6.067777777777778,
          6.068181818181818,
          6.068585858585859,
          6.068989898989899,
          6.069393939393939,
          6.06979797979798,
          6.070202020202021,
          6.070606060606061,
          6.071010101010102,
          6.071414141414142,
          6.071818181818182,
          6.072222222222223,
          6.0726262626262635,
          6.073030303030303,
          6.073434343434344,
          6.0738383838383845,
          6.074242424242424,
          6.074646464646465,
          6.0750505050505055,
          6.075454545454545,
          6.075858585858587,
          6.076262626262627,
          6.076666666666667,
          6.077070707070708,
          6.077474747474748,
          6.077878787878788,
          6.078282828282829,
          6.078686868686869,
          6.079090909090909,
          6.07949494949495,
          6.07989898989899,
          6.08030303030303,
          6.080707070707071,
          6.081111111111111,
          6.081515151515152,
          6.081919191919193,
          6.082323232323233,
          6.082727272727273,
          6.083131313131314,
          6.083535353535354,
          6.083939393939394,
          6.084343434343435,
          6.084747474747475,
          6.085151515151515,
          6.085555555555556,
          6.085959595959596,
          6.086363636363636,
          6.086767676767677,
          6.087171717171717,
          6.087575757575759,
          6.0879797979797985,
          6.088383838383839,
          6.08878787878788,
          6.0891919191919195,
          6.08959595959596,
          6.090000000000001
         ],
         "xaxis": "x",
         "y": [
          937.8365934402677,
          945.8346816004758,
          937.3711749769254,
          931.72955897843,
          917.4063975294342,
          905.422798998076,
          897.748040125749,
          880.3609911500578,
          891.6058449932762,
          891.7121718417551,
          870.7026505530389,
          839.596011821152,
          849.2167556633577,
          839.1807172302422,
          838.5740342289847,
          819.8863085841115,
          818.4290524797193,
          818.5968475963875,
          813.0792672447674,
          773.7395418343468,
          781.8185431092859,
          773.8565058754508,
          779.7141995297483,
          753.5423804357072,
          753.3116644874282,
          727.8125402655268,
          726.553198503592,
          703.7031975555687,
          709.9328824300417,
          709.9477306895935,
          718.1282546527041,
          673.2035480712487,
          693.869503972261,
          679.7799284011958,
          661.3062403421824,
          647.7874288195916,
          626.2199695820609,
          613.665549255976,
          604.8573546217746,
          606.4124056866395,
          605.8106550651275,
          598.5178690904092,
          542.4613629960572,
          576.6935343894863,
          553.3977757109246,
          534.7630705079129,
          541.5520327530687,
          540.87682871869,
          518.7529584016362,
          519.7617235378589,
          486.60217658330026,
          482.80062994778194,
          436.2833003774444,
          461.6002315692274,
          447.1947986080933,
          434.1264205442489,
          435.96700615513004,
          392.2914084305287,
          377.19286131382864,
          385.8498310169093,
          379.78165978010105,
          358.1284165385225,
          322.3899677434877,
          316.4372563377891,
          309.20772721347754,
          309.2246560772509,
          296.0037857948196,
          250.0580026655254,
          275.6240266095005,
          250.33009539776384,
          235.81915200601793,
          217.13014803360025,
          204.12768486205297,
          179.2149012157816,
          164.6570370524176,
          167.11697414886595,
          127.0859192883276,
          127.62182967112317,
          89.71298113702353,
          94.56105455196196,
          80.65778556626017,
          42.94423222614212,
          44.479005328433175,
          23.805826453455463,
          16.967478251217074,
          45.398989616126215,
          50.114274919056584,
          60.85783724812019,
          73.32918011220191,
          95.52708539775138,
          101.87580169900832,
          174.0914269268503,
          160.33752521938615,
          197.37083821617003,
          219.26660866494316,
          225.38829850465822,
          261.8083408453452,
          275.0912769140175,
          321.7266460402142,
          341.73184142366364
         ],
         "yaxis": "y"
        },
        {
         "name": "Fast",
         "type": "scatter",
         "x": [
          6.050000000000001,
          6.0504040404040405,
          6.050808080808081,
          6.051212121212122,
          6.0516161616161614,
          6.052020202020202,
          6.052424242424243,
          6.0528282828282824,
          6.053232323232324,
          6.053636363636365,
          6.054040404040404,
          6.054444444444445,
          6.054848484848486,
          6.055252525252525,
          6.055656565656566,
          6.056060606060607,
          6.056464646464646,
          6.056868686868687,
          6.057272727272728,
          6.057676767676767,
          6.058080808080808,
          6.058484848484849,
          6.05888888888889,
          6.05929292929293,
          6.0596969696969705,
          6.060101010101011,
          6.060505050505051,
          6.0609090909090915,
          6.061313131313132,
          6.061717171717172,
          6.0621212121212125,
          6.062525252525253,
          6.062929292929293,
          6.0633333333333335,
          6.063737373737374,
          6.064141414141414,
          6.064545454545455,
          6.064949494949496,
          6.065353535353536,
          6.065757575757576,
          6.066161616161617,
          6.066565656565657,
          6.066969696969697,
          6.067373737373738,
          6.067777777777778,
          6.068181818181818,
          6.068585858585859,
          6.068989898989899,
          6.069393939393939,
          6.06979797979798,
          6.070202020202021,
          6.070606060606061,
          6.071010101010102,
          6.071414141414142,
          6.071818181818182,
          6.072222222222223,
          6.0726262626262635,
          6.073030303030303,
          6.073434343434344,
          6.0738383838383845,
          6.074242424242424,
          6.074646464646465,
          6.0750505050505055,
          6.075454545454545,
          6.075858585858587,
          6.076262626262627,
          6.076666666666667,
          6.077070707070708,
          6.077474747474748,
          6.077878787878788,
          6.078282828282829,
          6.078686868686869,
          6.079090909090909,
          6.07949494949495,
          6.07989898989899,
          6.08030303030303,
          6.080707070707071,
          6.081111111111111,
          6.081515151515152,
          6.081919191919193,
          6.082323232323233,
          6.082727272727273,
          6.083131313131314,
          6.083535353535354,
          6.083939393939394,
          6.084343434343435,
          6.084747474747475,
          6.085151515151515,
          6.085555555555556,
          6.085959595959596,
          6.086363636363636,
          6.086767676767677,
          6.087171717171717,
          6.087575757575759,
          6.0879797979797985,
          6.088383838383839,
          6.08878787878788,
          6.0891919191919195,
          6.08959595959596,
          6.090000000000001
         ],
         "xaxis": "x2",
         "y": [
          3.040723763631124,
          2.851771582601458,
          2.697729428661013,
          2.5597741243950853,
          2.3882821114571677,
          2.1982667297022225,
          2.0556989169170365,
          1.9140120793320523,
          1.7419521133015234,
          1.553045345632721,
          1.446676013734613,
          1.2669268110235954,
          1.0892997646140965,
          0.9067602651705501,
          0.7275708051184854,
          0.5858858626218574,
          0.4324748544764379,
          0.26133664376733723,
          0.09159640201109114,
          -0.07236495385618405,
          -0.23743160088892973,
          -0.39799325444696243,
          -0.5808827575746076,
          -0.7115253206463344,
          -0.9097653383623444,
          -1.0392691957351774,
          -1.202643192713264,
          -1.3761283733710183,
          -1.5561013797477687,
          -1.7185161983841268,
          -1.8739877661570037,
          -2.0296938352618272,
          -2.21619110289872,
          -2.36807165533693,
          -2.542295507485465,
          -2.706910000894383,
          -2.8721373489958495,
          -3.0023013341169102,
          3.0605780783990135,
          2.9236688750561384,
          2.7876416634511014,
          2.609773678068661,
          2.40591921645103,
          2.259068645796365,
          2.1114910998645477,
          1.9442245394205022,
          1.7636035501612202,
          1.6105607022404496,
          1.433953925228987,
          1.3065160060912724,
          1.1620212726160883,
          0.9292569078122689,
          0.8098639833475103,
          0.6419172949014105,
          0.4809587830565929,
          0.3277455962788447,
          0.13217518342046322,
          -0.014783062696020954,
          -0.17879226479006566,
          -0.34767693744917777,
          -0.5456964582321348,
          -0.6822516866882482,
          -0.8447371923445447,
          -1.0169316572610694,
          -1.192985561504879,
          -1.3142519357862315,
          -1.4783642573973559,
          -1.7377573072058194,
          -1.7997196967707771,
          -2.0493697941946265,
          -2.167684067226245,
          -2.3101408594935915,
          -2.515891698844346,
          -2.550343386198108,
          -2.7381326735875664,
          -3.073884687284439,
          3.0430966529425074,
          3.0838079722558294,
          3.0424373815999406,
          2.939394378840129,
          2.3753630595463644,
          2.3088029606334985,
          1.6301485986752697,
          3.1281707823731772,
          0.5982078133515603,
          -1.8811953718167118,
          -1.8809717171115947,
          -1.8458839738788146,
          -1.848653632026424,
          -2.416996956345282,
          -2.4006372674959535,
          -2.5033723807534223,
          -2.7948627605001812,
          -2.9154089731005075,
          3.116393390080328,
          2.9851450323873845,
          2.807729707414168,
          2.6187178010373247,
          2.467306043402008,
          2.343969388061159
         ],
         "yaxis": "y2"
        }
       ],
       "layout": {
        "annotations": [
         {
          "font": {
           "size": 16
          },
          "showarrow": false,
          "text": "MSR (V)",
          "x": 0.225,
          "xanchor": "center",
          "xref": "paper",
          "y": 1,
          "yanchor": "bottom",
          "yref": "paper"
         },
         {
          "font": {
           "size": 16
          },
          "showarrow": false,
          "text": "phase (rad)",
          "x": 0.775,
          "xanchor": "center",
          "xref": "paper",
          "y": 1,
          "yanchor": "bottom",
          "yref": "paper"
         }
        ],
        "showlegend": true,
        "template": {
         "data": {
          "bar": [
           {
            "error_x": {
             "color": "#2a3f5f"
            },
            "error_y": {
             "color": "#2a3f5f"
            },
            "marker": {
             "line": {
              "color": "#E5ECF6",
              "width": 0.5
             },
             "pattern": {
              "fillmode": "overlay",
              "size": 10,
              "solidity": 0.2
             }
            },
            "type": "bar"
           }
          ],
          "barpolar": [
           {
            "marker": {
             "line": {
              "color": "#E5ECF6",
              "width": 0.5
             },
             "pattern": {
              "fillmode": "overlay",
              "size": 10,
              "solidity": 0.2
             }
            },
            "type": "barpolar"
           }
          ],
          "carpet": [
           {
            "aaxis": {
             "endlinecolor": "#2a3f5f",
             "gridcolor": "white",
             "linecolor": "white",
             "minorgridcolor": "white",
             "startlinecolor": "#2a3f5f"
            },
            "baxis": {
             "endlinecolor": "#2a3f5f",
             "gridcolor": "white",
             "linecolor": "white",
             "minorgridcolor": "white",
             "startlinecolor": "#2a3f5f"
            },
            "type": "carpet"
           }
          ],
          "choropleth": [
           {
            "colorbar": {
             "outlinewidth": 0,
             "ticks": ""
            },
            "type": "choropleth"
           }
          ],
          "contour": [
           {
            "colorbar": {
             "outlinewidth": 0,
             "ticks": ""
            },
            "colorscale": [
             [
              0,
              "#0d0887"
             ],
             [
              0.1111111111111111,
              "#46039f"
             ],
             [
              0.2222222222222222,
              "#7201a8"
             ],
             [
              0.3333333333333333,
              "#9c179e"
             ],
             [
              0.4444444444444444,
              "#bd3786"
             ],
             [
              0.5555555555555556,
              "#d8576b"
             ],
             [
              0.6666666666666666,
              "#ed7953"
             ],
             [
              0.7777777777777778,
              "#fb9f3a"
             ],
             [
              0.8888888888888888,
              "#fdca26"
             ],
             [
              1,
              "#f0f921"
             ]
            ],
            "type": "contour"
           }
          ],
          "contourcarpet": [
           {
            "colorbar": {
             "outlinewidth": 0,
             "ticks": ""
            },
            "type": "contourcarpet"
           }
          ],
          "heatmap": [
           {
            "colorbar": {
             "outlinewidth": 0,
             "ticks": ""
            },
            "colorscale": [
             [
              0,
              "#0d0887"
             ],
             [
              0.1111111111111111,
              "#46039f"
             ],
             [
              0.2222222222222222,
              "#7201a8"
             ],
             [
              0.3333333333333333,
              "#9c179e"
             ],
             [
              0.4444444444444444,
              "#bd3786"
             ],
             [
              0.5555555555555556,
              "#d8576b"
             ],
             [
              0.6666666666666666,
              "#ed7953"
             ],
             [
              0.7777777777777778,
              "#fb9f3a"
             ],
             [
              0.8888888888888888,
              "#fdca26"
             ],
             [
              1,
              "#f0f921"
             ]
            ],
            "type": "heatmap"
           }
          ],
          "heatmapgl": [
           {
            "colorbar": {
             "outlinewidth": 0,
             "ticks": ""
            },
            "colorscale": [
             [
              0,
              "#0d0887"
             ],
             [
              0.1111111111111111,
              "#46039f"
             ],
             [
              0.2222222222222222,
              "#7201a8"
             ],
             [
              0.3333333333333333,
              "#9c179e"
             ],
             [
              0.4444444444444444,
              "#bd3786"
             ],
             [
              0.5555555555555556,
              "#d8576b"
             ],
             [
              0.6666666666666666,
              "#ed7953"
             ],
             [
              0.7777777777777778,
              "#fb9f3a"
             ],
             [
              0.8888888888888888,
              "#fdca26"
             ],
             [
              1,
              "#f0f921"
             ]
            ],
            "type": "heatmapgl"
           }
          ],
          "histogram": [
           {
            "marker": {
             "pattern": {
              "fillmode": "overlay",
              "size": 10,
              "solidity": 0.2
             }
            },
            "type": "histogram"
           }
          ],
          "histogram2d": [
           {
            "colorbar": {
             "outlinewidth": 0,
             "ticks": ""
            },
            "colorscale": [
             [
              0,
              "#0d0887"
             ],
             [
              0.1111111111111111,
              "#46039f"
             ],
             [
              0.2222222222222222,
              "#7201a8"
             ],
             [
              0.3333333333333333,
              "#9c179e"
             ],
             [
              0.4444444444444444,
              "#bd3786"
             ],
             [
              0.5555555555555556,
              "#d8576b"
             ],
             [
              0.6666666666666666,
              "#ed7953"
             ],
             [
              0.7777777777777778,
              "#fb9f3a"
             ],
             [
              0.8888888888888888,
              "#fdca26"
             ],
             [
              1,
              "#f0f921"
             ]
            ],
            "type": "histogram2d"
           }
          ],
          "histogram2dcontour": [
           {
            "colorbar": {
             "outlinewidth": 0,
             "ticks": ""
            },
            "colorscale": [
             [
              0,
              "#0d0887"
             ],
             [
              0.1111111111111111,
              "#46039f"
             ],
             [
              0.2222222222222222,
              "#7201a8"
             ],
             [
              0.3333333333333333,
              "#9c179e"
             ],
             [
              0.4444444444444444,
              "#bd3786"
             ],
             [
              0.5555555555555556,
              "#d8576b"
             ],
             [
              0.6666666666666666,
              "#ed7953"
             ],
             [
              0.7777777777777778,
              "#fb9f3a"
             ],
             [
              0.8888888888888888,
              "#fdca26"
             ],
             [
              1,
              "#f0f921"
             ]
            ],
            "type": "histogram2dcontour"
           }
          ],
          "mesh3d": [
           {
            "colorbar": {
             "outlinewidth": 0,
             "ticks": ""
            },
            "type": "mesh3d"
           }
          ],
          "parcoords": [
           {
            "line": {
             "colorbar": {
              "outlinewidth": 0,
              "ticks": ""
             }
            },
            "type": "parcoords"
           }
          ],
          "pie": [
           {
            "automargin": true,
            "type": "pie"
           }
          ],
          "scatter": [
           {
            "fillpattern": {
             "fillmode": "overlay",
             "size": 10,
             "solidity": 0.2
            },
            "type": "scatter"
           }
          ],
          "scatter3d": [
           {
            "line": {
             "colorbar": {
              "outlinewidth": 0,
              "ticks": ""
             }
            },
            "marker": {
             "colorbar": {
              "outlinewidth": 0,
              "ticks": ""
             }
            },
            "type": "scatter3d"
           }
          ],
          "scattercarpet": [
           {
            "marker": {
             "colorbar": {
              "outlinewidth": 0,
              "ticks": ""
             }
            },
            "type": "scattercarpet"
           }
          ],
          "scattergeo": [
           {
            "marker": {
             "colorbar": {
              "outlinewidth": 0,
              "ticks": ""
             }
            },
            "type": "scattergeo"
           }
          ],
          "scattergl": [
           {
            "marker": {
             "colorbar": {
              "outlinewidth": 0,
              "ticks": ""
             }
            },
            "type": "scattergl"
           }
          ],
          "scattermapbox": [
           {
            "marker": {
             "colorbar": {
              "outlinewidth": 0,
              "ticks": ""
             }
            },
            "type": "scattermapbox"
           }
          ],
          "scatterpolar": [
           {
            "marker": {
             "colorbar": {
              "outlinewidth": 0,
              "ticks": ""
             }
            },
            "type": "scatterpolar"
           }
          ],
          "scatterpolargl": [
           {
            "marker": {
             "colorbar": {
              "outlinewidth": 0,
              "ticks": ""
             }
            },
            "type": "scatterpolargl"
           }
          ],
          "scatterternary": [
           {
            "marker": {
             "colorbar": {
              "outlinewidth": 0,
              "ticks": ""
             }
            },
            "type": "scatterternary"
           }
          ],
          "surface": [
           {
            "colorbar": {
             "outlinewidth": 0,
             "ticks": ""
            },
            "colorscale": [
             [
              0,
              "#0d0887"
             ],
             [
              0.1111111111111111,
              "#46039f"
             ],
             [
              0.2222222222222222,
              "#7201a8"
             ],
             [
              0.3333333333333333,
              "#9c179e"
             ],
             [
              0.4444444444444444,
              "#bd3786"
             ],
             [
              0.5555555555555556,
              "#d8576b"
             ],
             [
              0.6666666666666666,
              "#ed7953"
             ],
             [
              0.7777777777777778,
              "#fb9f3a"
             ],
             [
              0.8888888888888888,
              "#fdca26"
             ],
             [
              1,
              "#f0f921"
             ]
            ],
            "type": "surface"
           }
          ],
          "table": [
           {
            "cells": {
             "fill": {
              "color": "#EBF0F8"
             },
             "line": {
              "color": "white"
             }
            },
            "header": {
             "fill": {
              "color": "#C8D4E3"
             },
             "line": {
              "color": "white"
             }
            },
            "type": "table"
           }
          ]
         },
         "layout": {
          "annotationdefaults": {
           "arrowcolor": "#2a3f5f",
           "arrowhead": 0,
           "arrowwidth": 1
          },
          "autotypenumbers": "strict",
          "coloraxis": {
           "colorbar": {
            "outlinewidth": 0,
            "ticks": ""
           }
          },
          "colorscale": {
           "diverging": [
            [
             0,
             "#8e0152"
            ],
            [
             0.1,
             "#c51b7d"
            ],
            [
             0.2,
             "#de77ae"
            ],
            [
             0.3,
             "#f1b6da"
            ],
            [
             0.4,
             "#fde0ef"
            ],
            [
             0.5,
             "#f7f7f7"
            ],
            [
             0.6,
             "#e6f5d0"
            ],
            [
             0.7,
             "#b8e186"
            ],
            [
             0.8,
             "#7fbc41"
            ],
            [
             0.9,
             "#4d9221"
            ],
            [
             1,
             "#276419"
            ]
           ],
           "sequential": [
            [
             0,
             "#0d0887"
            ],
            [
             0.1111111111111111,
             "#46039f"
            ],
            [
             0.2222222222222222,
             "#7201a8"
            ],
            [
             0.3333333333333333,
             "#9c179e"
            ],
            [
             0.4444444444444444,
             "#bd3786"
            ],
            [
             0.5555555555555556,
             "#d8576b"
            ],
            [
             0.6666666666666666,
             "#ed7953"
            ],
            [
             0.7777777777777778,
             "#fb9f3a"
            ],
            [
             0.8888888888888888,
             "#fdca26"
            ],
            [
             1,
             "#f0f921"
            ]
           ],
           "sequentialminus": [
            [
             0,
             "#0d0887"
            ],
            [
             0.1111111111111111,
             "#46039f"
            ],
            [
             0.2222222222222222,
             "#7201a8"
            ],
            [
             0.3333333333333333,
             "#9c179e"
            ],
            [
             0.4444444444444444,
             "#bd3786"
            ],
            [
             0.5555555555555556,
             "#d8576b"
            ],
            [
             0.6666666666666666,
             "#ed7953"
            ],
            [
             0.7777777777777778,
             "#fb9f3a"
            ],
            [
             0.8888888888888888,
             "#fdca26"
            ],
            [
             1,
             "#f0f921"
            ]
           ]
          },
          "colorway": [
           "#636efa",
           "#EF553B",
           "#00cc96",
           "#ab63fa",
           "#FFA15A",
           "#19d3f3",
           "#FF6692",
           "#B6E880",
           "#FF97FF",
           "#FECB52"
          ],
          "font": {
           "color": "#2a3f5f"
          },
          "geo": {
           "bgcolor": "white",
           "lakecolor": "white",
           "landcolor": "#E5ECF6",
           "showlakes": true,
           "showland": true,
           "subunitcolor": "white"
          },
          "hoverlabel": {
           "align": "left"
          },
          "hovermode": "closest",
          "mapbox": {
           "style": "light"
          },
          "paper_bgcolor": "white",
          "plot_bgcolor": "#E5ECF6",
          "polar": {
           "angularaxis": {
            "gridcolor": "white",
            "linecolor": "white",
            "ticks": ""
           },
           "bgcolor": "#E5ECF6",
           "radialaxis": {
            "gridcolor": "white",
            "linecolor": "white",
            "ticks": ""
           }
          },
          "scene": {
           "xaxis": {
            "backgroundcolor": "#E5ECF6",
            "gridcolor": "white",
            "gridwidth": 2,
            "linecolor": "white",
            "showbackground": true,
            "ticks": "",
            "zerolinecolor": "white"
           },
           "yaxis": {
            "backgroundcolor": "#E5ECF6",
            "gridcolor": "white",
            "gridwidth": 2,
            "linecolor": "white",
            "showbackground": true,
            "ticks": "",
            "zerolinecolor": "white"
           },
           "zaxis": {
            "backgroundcolor": "#E5ECF6",
            "gridcolor": "white",
            "gridwidth": 2,
            "linecolor": "white",
            "showbackground": true,
            "ticks": "",
            "zerolinecolor": "white"
           }
          },
          "shapedefaults": {
           "line": {
            "color": "#2a3f5f"
           }
          },
          "ternary": {
           "aaxis": {
            "gridcolor": "white",
            "linecolor": "white",
            "ticks": ""
           },
           "baxis": {
            "gridcolor": "white",
            "linecolor": "white",
            "ticks": ""
           },
           "bgcolor": "#E5ECF6",
           "caxis": {
            "gridcolor": "white",
            "linecolor": "white",
            "ticks": ""
           }
          },
          "title": {
           "x": 0.05
          },
          "xaxis": {
           "automargin": true,
           "gridcolor": "white",
           "linecolor": "white",
           "ticks": "",
           "title": {
            "standoff": 15
           },
           "zerolinecolor": "white",
           "zerolinewidth": 2
          },
          "yaxis": {
           "automargin": true,
           "gridcolor": "white",
           "linecolor": "white",
           "ticks": "",
           "title": {
            "standoff": 15
           },
           "zerolinecolor": "white",
           "zerolinewidth": 2
          }
         }
        },
        "uirevision": "0",
        "xaxis": {
         "anchor": "y",
         "domain": [
          0,
          0.45
         ],
         "title": {
          "text": "Frequency (GHz)"
         }
        },
        "xaxis2": {
         "anchor": "y2",
         "domain": [
          0.55,
          1
         ],
         "title": {
          "text": "Frequency (GHz)"
         }
        },
        "yaxis": {
         "anchor": "x",
         "domain": [
          0,
          1
         ],
         "title": {
          "text": "MSR (uV)"
         }
        },
        "yaxis2": {
         "anchor": "x2",
         "domain": [
          0,
          1
         ],
         "title": {
          "text": "Phase (rad)"
         }
        }
       }
      },
      "text/html": [
       "<div>                            <div id=\"51b4a310-2c9f-47ab-941c-8a10fa466ee1\" class=\"plotly-graph-div\" style=\"height:525px; width:100%;\"></div>            <script type=\"text/javascript\">                require([\"plotly\"], function(Plotly) {                    window.PLOTLYENV=window.PLOTLYENV || {};                                    if (document.getElementById(\"51b4a310-2c9f-47ab-941c-8a10fa466ee1\")) {                    Plotly.newPlot(                        \"51b4a310-2c9f-47ab-941c-8a10fa466ee1\",                        [{\"name\":\"Fast\",\"x\":[6.050000000000001,6.0504040404040405,6.050808080808081,6.051212121212122,6.0516161616161614,6.052020202020202,6.052424242424243,6.0528282828282824,6.053232323232324,6.053636363636365,6.054040404040404,6.054444444444445,6.054848484848486,6.055252525252525,6.055656565656566,6.056060606060607,6.056464646464646,6.056868686868687,6.057272727272728,6.057676767676767,6.058080808080808,6.058484848484849,6.05888888888889,6.05929292929293,6.0596969696969705,6.060101010101011,6.060505050505051,6.0609090909090915,6.061313131313132,6.061717171717172,6.0621212121212125,6.062525252525253,6.062929292929293,6.0633333333333335,6.063737373737374,6.064141414141414,6.064545454545455,6.064949494949496,6.065353535353536,6.065757575757576,6.066161616161617,6.066565656565657,6.066969696969697,6.067373737373738,6.067777777777778,6.068181818181818,6.068585858585859,6.068989898989899,6.069393939393939,6.06979797979798,6.070202020202021,6.070606060606061,6.071010101010102,6.071414141414142,6.071818181818182,6.072222222222223,6.0726262626262635,6.073030303030303,6.073434343434344,6.0738383838383845,6.074242424242424,6.074646464646465,6.0750505050505055,6.075454545454545,6.075858585858587,6.076262626262627,6.076666666666667,6.077070707070708,6.077474747474748,6.077878787878788,6.078282828282829,6.078686868686869,6.079090909090909,6.07949494949495,6.07989898989899,6.08030303030303,6.080707070707071,6.081111111111111,6.081515151515152,6.081919191919193,6.082323232323233,6.082727272727273,6.083131313131314,6.083535353535354,6.083939393939394,6.084343434343435,6.084747474747475,6.085151515151515,6.085555555555556,6.085959595959596,6.086363636363636,6.086767676767677,6.087171717171717,6.087575757575759,6.0879797979797985,6.088383838383839,6.08878787878788,6.0891919191919195,6.08959595959596,6.090000000000001],\"y\":[937.8365934402677,945.8346816004758,937.3711749769254,931.72955897843,917.4063975294342,905.422798998076,897.748040125749,880.3609911500578,891.6058449932762,891.7121718417551,870.7026505530389,839.596011821152,849.2167556633577,839.1807172302422,838.5740342289847,819.8863085841115,818.4290524797193,818.5968475963875,813.0792672447674,773.7395418343468,781.8185431092859,773.8565058754508,779.7141995297483,753.5423804357072,753.3116644874282,727.8125402655268,726.553198503592,703.7031975555687,709.9328824300417,709.9477306895935,718.1282546527041,673.2035480712487,693.869503972261,679.7799284011958,661.3062403421824,647.7874288195916,626.2199695820609,613.665549255976,604.8573546217746,606.4124056866395,605.8106550651275,598.5178690904092,542.4613629960572,576.6935343894863,553.3977757109246,534.7630705079129,541.5520327530687,540.87682871869,518.7529584016362,519.7617235378589,486.60217658330026,482.80062994778194,436.2833003774444,461.6002315692274,447.1947986080933,434.1264205442489,435.96700615513004,392.2914084305287,377.19286131382864,385.8498310169093,379.78165978010105,358.1284165385225,322.3899677434877,316.4372563377891,309.20772721347754,309.2246560772509,296.0037857948196,250.0580026655254,275.6240266095005,250.33009539776384,235.81915200601793,217.13014803360025,204.12768486205297,179.2149012157816,164.6570370524176,167.11697414886595,127.0859192883276,127.62182967112317,89.71298113702353,94.56105455196196,80.65778556626017,42.94423222614212,44.479005328433175,23.805826453455463,16.967478251217074,45.398989616126215,50.114274919056584,60.85783724812019,73.32918011220191,95.52708539775138,101.87580169900832,174.0914269268503,160.33752521938615,197.37083821617003,219.26660866494316,225.38829850465822,261.8083408453452,275.0912769140175,321.7266460402142,341.73184142366364],\"type\":\"scatter\",\"xaxis\":\"x\",\"yaxis\":\"y\"},{\"name\":\"Fast\",\"x\":[6.050000000000001,6.0504040404040405,6.050808080808081,6.051212121212122,6.0516161616161614,6.052020202020202,6.052424242424243,6.0528282828282824,6.053232323232324,6.053636363636365,6.054040404040404,6.054444444444445,6.054848484848486,6.055252525252525,6.055656565656566,6.056060606060607,6.056464646464646,6.056868686868687,6.057272727272728,6.057676767676767,6.058080808080808,6.058484848484849,6.05888888888889,6.05929292929293,6.0596969696969705,6.060101010101011,6.060505050505051,6.0609090909090915,6.061313131313132,6.061717171717172,6.0621212121212125,6.062525252525253,6.062929292929293,6.0633333333333335,6.063737373737374,6.064141414141414,6.064545454545455,6.064949494949496,6.065353535353536,6.065757575757576,6.066161616161617,6.066565656565657,6.066969696969697,6.067373737373738,6.067777777777778,6.068181818181818,6.068585858585859,6.068989898989899,6.069393939393939,6.06979797979798,6.070202020202021,6.070606060606061,6.071010101010102,6.071414141414142,6.071818181818182,6.072222222222223,6.0726262626262635,6.073030303030303,6.073434343434344,6.0738383838383845,6.074242424242424,6.074646464646465,6.0750505050505055,6.075454545454545,6.075858585858587,6.076262626262627,6.076666666666667,6.077070707070708,6.077474747474748,6.077878787878788,6.078282828282829,6.078686868686869,6.079090909090909,6.07949494949495,6.07989898989899,6.08030303030303,6.080707070707071,6.081111111111111,6.081515151515152,6.081919191919193,6.082323232323233,6.082727272727273,6.083131313131314,6.083535353535354,6.083939393939394,6.084343434343435,6.084747474747475,6.085151515151515,6.085555555555556,6.085959595959596,6.086363636363636,6.086767676767677,6.087171717171717,6.087575757575759,6.0879797979797985,6.088383838383839,6.08878787878788,6.0891919191919195,6.08959595959596,6.090000000000001],\"y\":[3.040723763631124,2.851771582601458,2.697729428661013,2.5597741243950853,2.3882821114571677,2.1982667297022225,2.0556989169170365,1.9140120793320523,1.7419521133015234,1.553045345632721,1.446676013734613,1.2669268110235954,1.0892997646140965,0.9067602651705501,0.7275708051184854,0.5858858626218574,0.4324748544764379,0.26133664376733723,0.09159640201109114,-0.07236495385618405,-0.23743160088892973,-0.39799325444696243,-0.5808827575746076,-0.7115253206463344,-0.9097653383623444,-1.0392691957351774,-1.202643192713264,-1.3761283733710183,-1.5561013797477687,-1.7185161983841268,-1.8739877661570037,-2.0296938352618272,-2.21619110289872,-2.36807165533693,-2.542295507485465,-2.706910000894383,-2.8721373489958495,-3.0023013341169102,3.0605780783990135,2.9236688750561384,2.7876416634511014,2.609773678068661,2.40591921645103,2.259068645796365,2.1114910998645477,1.9442245394205022,1.7636035501612202,1.6105607022404496,1.433953925228987,1.3065160060912724,1.1620212726160883,0.9292569078122689,0.8098639833475103,0.6419172949014105,0.4809587830565929,0.3277455962788447,0.13217518342046322,-0.014783062696020954,-0.17879226479006566,-0.34767693744917777,-0.5456964582321348,-0.6822516866882482,-0.8447371923445447,-1.0169316572610694,-1.192985561504879,-1.3142519357862315,-1.4783642573973559,-1.7377573072058194,-1.7997196967707771,-2.0493697941946265,-2.167684067226245,-2.3101408594935915,-2.515891698844346,-2.550343386198108,-2.7381326735875664,-3.073884687284439,3.0430966529425074,3.0838079722558294,3.0424373815999406,2.939394378840129,2.3753630595463644,2.3088029606334985,1.6301485986752697,3.1281707823731772,0.5982078133515603,-1.8811953718167118,-1.8809717171115947,-1.8458839738788146,-1.848653632026424,-2.416996956345282,-2.4006372674959535,-2.5033723807534223,-2.7948627605001812,-2.9154089731005075,3.116393390080328,2.9851450323873845,2.807729707414168,2.6187178010373247,2.467306043402008,2.343969388061159],\"type\":\"scatter\",\"xaxis\":\"x2\",\"yaxis\":\"y2\"}],                        {\"template\":{\"data\":{\"histogram2dcontour\":[{\"type\":\"histogram2dcontour\",\"colorbar\":{\"outlinewidth\":0,\"ticks\":\"\"},\"colorscale\":[[0.0,\"#0d0887\"],[0.1111111111111111,\"#46039f\"],[0.2222222222222222,\"#7201a8\"],[0.3333333333333333,\"#9c179e\"],[0.4444444444444444,\"#bd3786\"],[0.5555555555555556,\"#d8576b\"],[0.6666666666666666,\"#ed7953\"],[0.7777777777777778,\"#fb9f3a\"],[0.8888888888888888,\"#fdca26\"],[1.0,\"#f0f921\"]]}],\"choropleth\":[{\"type\":\"choropleth\",\"colorbar\":{\"outlinewidth\":0,\"ticks\":\"\"}}],\"histogram2d\":[{\"type\":\"histogram2d\",\"colorbar\":{\"outlinewidth\":0,\"ticks\":\"\"},\"colorscale\":[[0.0,\"#0d0887\"],[0.1111111111111111,\"#46039f\"],[0.2222222222222222,\"#7201a8\"],[0.3333333333333333,\"#9c179e\"],[0.4444444444444444,\"#bd3786\"],[0.5555555555555556,\"#d8576b\"],[0.6666666666666666,\"#ed7953\"],[0.7777777777777778,\"#fb9f3a\"],[0.8888888888888888,\"#fdca26\"],[1.0,\"#f0f921\"]]}],\"heatmap\":[{\"type\":\"heatmap\",\"colorbar\":{\"outlinewidth\":0,\"ticks\":\"\"},\"colorscale\":[[0.0,\"#0d0887\"],[0.1111111111111111,\"#46039f\"],[0.2222222222222222,\"#7201a8\"],[0.3333333333333333,\"#9c179e\"],[0.4444444444444444,\"#bd3786\"],[0.5555555555555556,\"#d8576b\"],[0.6666666666666666,\"#ed7953\"],[0.7777777777777778,\"#fb9f3a\"],[0.8888888888888888,\"#fdca26\"],[1.0,\"#f0f921\"]]}],\"heatmapgl\":[{\"type\":\"heatmapgl\",\"colorbar\":{\"outlinewidth\":0,\"ticks\":\"\"},\"colorscale\":[[0.0,\"#0d0887\"],[0.1111111111111111,\"#46039f\"],[0.2222222222222222,\"#7201a8\"],[0.3333333333333333,\"#9c179e\"],[0.4444444444444444,\"#bd3786\"],[0.5555555555555556,\"#d8576b\"],[0.6666666666666666,\"#ed7953\"],[0.7777777777777778,\"#fb9f3a\"],[0.8888888888888888,\"#fdca26\"],[1.0,\"#f0f921\"]]}],\"contourcarpet\":[{\"type\":\"contourcarpet\",\"colorbar\":{\"outlinewidth\":0,\"ticks\":\"\"}}],\"contour\":[{\"type\":\"contour\",\"colorbar\":{\"outlinewidth\":0,\"ticks\":\"\"},\"colorscale\":[[0.0,\"#0d0887\"],[0.1111111111111111,\"#46039f\"],[0.2222222222222222,\"#7201a8\"],[0.3333333333333333,\"#9c179e\"],[0.4444444444444444,\"#bd3786\"],[0.5555555555555556,\"#d8576b\"],[0.6666666666666666,\"#ed7953\"],[0.7777777777777778,\"#fb9f3a\"],[0.8888888888888888,\"#fdca26\"],[1.0,\"#f0f921\"]]}],\"surface\":[{\"type\":\"surface\",\"colorbar\":{\"outlinewidth\":0,\"ticks\":\"\"},\"colorscale\":[[0.0,\"#0d0887\"],[0.1111111111111111,\"#46039f\"],[0.2222222222222222,\"#7201a8\"],[0.3333333333333333,\"#9c179e\"],[0.4444444444444444,\"#bd3786\"],[0.5555555555555556,\"#d8576b\"],[0.6666666666666666,\"#ed7953\"],[0.7777777777777778,\"#fb9f3a\"],[0.8888888888888888,\"#fdca26\"],[1.0,\"#f0f921\"]]}],\"mesh3d\":[{\"type\":\"mesh3d\",\"colorbar\":{\"outlinewidth\":0,\"ticks\":\"\"}}],\"scatter\":[{\"fillpattern\":{\"fillmode\":\"overlay\",\"size\":10,\"solidity\":0.2},\"type\":\"scatter\"}],\"parcoords\":[{\"type\":\"parcoords\",\"line\":{\"colorbar\":{\"outlinewidth\":0,\"ticks\":\"\"}}}],\"scatterpolargl\":[{\"type\":\"scatterpolargl\",\"marker\":{\"colorbar\":{\"outlinewidth\":0,\"ticks\":\"\"}}}],\"bar\":[{\"error_x\":{\"color\":\"#2a3f5f\"},\"error_y\":{\"color\":\"#2a3f5f\"},\"marker\":{\"line\":{\"color\":\"#E5ECF6\",\"width\":0.5},\"pattern\":{\"fillmode\":\"overlay\",\"size\":10,\"solidity\":0.2}},\"type\":\"bar\"}],\"scattergeo\":[{\"type\":\"scattergeo\",\"marker\":{\"colorbar\":{\"outlinewidth\":0,\"ticks\":\"\"}}}],\"scatterpolar\":[{\"type\":\"scatterpolar\",\"marker\":{\"colorbar\":{\"outlinewidth\":0,\"ticks\":\"\"}}}],\"histogram\":[{\"marker\":{\"pattern\":{\"fillmode\":\"overlay\",\"size\":10,\"solidity\":0.2}},\"type\":\"histogram\"}],\"scattergl\":[{\"type\":\"scattergl\",\"marker\":{\"colorbar\":{\"outlinewidth\":0,\"ticks\":\"\"}}}],\"scatter3d\":[{\"type\":\"scatter3d\",\"line\":{\"colorbar\":{\"outlinewidth\":0,\"ticks\":\"\"}},\"marker\":{\"colorbar\":{\"outlinewidth\":0,\"ticks\":\"\"}}}],\"scattermapbox\":[{\"type\":\"scattermapbox\",\"marker\":{\"colorbar\":{\"outlinewidth\":0,\"ticks\":\"\"}}}],\"scatterternary\":[{\"type\":\"scatterternary\",\"marker\":{\"colorbar\":{\"outlinewidth\":0,\"ticks\":\"\"}}}],\"scattercarpet\":[{\"type\":\"scattercarpet\",\"marker\":{\"colorbar\":{\"outlinewidth\":0,\"ticks\":\"\"}}}],\"carpet\":[{\"aaxis\":{\"endlinecolor\":\"#2a3f5f\",\"gridcolor\":\"white\",\"linecolor\":\"white\",\"minorgridcolor\":\"white\",\"startlinecolor\":\"#2a3f5f\"},\"baxis\":{\"endlinecolor\":\"#2a3f5f\",\"gridcolor\":\"white\",\"linecolor\":\"white\",\"minorgridcolor\":\"white\",\"startlinecolor\":\"#2a3f5f\"},\"type\":\"carpet\"}],\"table\":[{\"cells\":{\"fill\":{\"color\":\"#EBF0F8\"},\"line\":{\"color\":\"white\"}},\"header\":{\"fill\":{\"color\":\"#C8D4E3\"},\"line\":{\"color\":\"white\"}},\"type\":\"table\"}],\"barpolar\":[{\"marker\":{\"line\":{\"color\":\"#E5ECF6\",\"width\":0.5},\"pattern\":{\"fillmode\":\"overlay\",\"size\":10,\"solidity\":0.2}},\"type\":\"barpolar\"}],\"pie\":[{\"automargin\":true,\"type\":\"pie\"}]},\"layout\":{\"autotypenumbers\":\"strict\",\"colorway\":[\"#636efa\",\"#EF553B\",\"#00cc96\",\"#ab63fa\",\"#FFA15A\",\"#19d3f3\",\"#FF6692\",\"#B6E880\",\"#FF97FF\",\"#FECB52\"],\"font\":{\"color\":\"#2a3f5f\"},\"hovermode\":\"closest\",\"hoverlabel\":{\"align\":\"left\"},\"paper_bgcolor\":\"white\",\"plot_bgcolor\":\"#E5ECF6\",\"polar\":{\"bgcolor\":\"#E5ECF6\",\"angularaxis\":{\"gridcolor\":\"white\",\"linecolor\":\"white\",\"ticks\":\"\"},\"radialaxis\":{\"gridcolor\":\"white\",\"linecolor\":\"white\",\"ticks\":\"\"}},\"ternary\":{\"bgcolor\":\"#E5ECF6\",\"aaxis\":{\"gridcolor\":\"white\",\"linecolor\":\"white\",\"ticks\":\"\"},\"baxis\":{\"gridcolor\":\"white\",\"linecolor\":\"white\",\"ticks\":\"\"},\"caxis\":{\"gridcolor\":\"white\",\"linecolor\":\"white\",\"ticks\":\"\"}},\"coloraxis\":{\"colorbar\":{\"outlinewidth\":0,\"ticks\":\"\"}},\"colorscale\":{\"sequential\":[[0.0,\"#0d0887\"],[0.1111111111111111,\"#46039f\"],[0.2222222222222222,\"#7201a8\"],[0.3333333333333333,\"#9c179e\"],[0.4444444444444444,\"#bd3786\"],[0.5555555555555556,\"#d8576b\"],[0.6666666666666666,\"#ed7953\"],[0.7777777777777778,\"#fb9f3a\"],[0.8888888888888888,\"#fdca26\"],[1.0,\"#f0f921\"]],\"sequentialminus\":[[0.0,\"#0d0887\"],[0.1111111111111111,\"#46039f\"],[0.2222222222222222,\"#7201a8\"],[0.3333333333333333,\"#9c179e\"],[0.4444444444444444,\"#bd3786\"],[0.5555555555555556,\"#d8576b\"],[0.6666666666666666,\"#ed7953\"],[0.7777777777777778,\"#fb9f3a\"],[0.8888888888888888,\"#fdca26\"],[1.0,\"#f0f921\"]],\"diverging\":[[0,\"#8e0152\"],[0.1,\"#c51b7d\"],[0.2,\"#de77ae\"],[0.3,\"#f1b6da\"],[0.4,\"#fde0ef\"],[0.5,\"#f7f7f7\"],[0.6,\"#e6f5d0\"],[0.7,\"#b8e186\"],[0.8,\"#7fbc41\"],[0.9,\"#4d9221\"],[1,\"#276419\"]]},\"xaxis\":{\"gridcolor\":\"white\",\"linecolor\":\"white\",\"ticks\":\"\",\"title\":{\"standoff\":15},\"zerolinecolor\":\"white\",\"automargin\":true,\"zerolinewidth\":2},\"yaxis\":{\"gridcolor\":\"white\",\"linecolor\":\"white\",\"ticks\":\"\",\"title\":{\"standoff\":15},\"zerolinecolor\":\"white\",\"automargin\":true,\"zerolinewidth\":2},\"scene\":{\"xaxis\":{\"backgroundcolor\":\"#E5ECF6\",\"gridcolor\":\"white\",\"linecolor\":\"white\",\"showbackground\":true,\"ticks\":\"\",\"zerolinecolor\":\"white\",\"gridwidth\":2},\"yaxis\":{\"backgroundcolor\":\"#E5ECF6\",\"gridcolor\":\"white\",\"linecolor\":\"white\",\"showbackground\":true,\"ticks\":\"\",\"zerolinecolor\":\"white\",\"gridwidth\":2},\"zaxis\":{\"backgroundcolor\":\"#E5ECF6\",\"gridcolor\":\"white\",\"linecolor\":\"white\",\"showbackground\":true,\"ticks\":\"\",\"zerolinecolor\":\"white\",\"gridwidth\":2}},\"shapedefaults\":{\"line\":{\"color\":\"#2a3f5f\"}},\"annotationdefaults\":{\"arrowcolor\":\"#2a3f5f\",\"arrowhead\":0,\"arrowwidth\":1},\"geo\":{\"bgcolor\":\"white\",\"landcolor\":\"#E5ECF6\",\"subunitcolor\":\"white\",\"showland\":true,\"showlakes\":true,\"lakecolor\":\"white\"},\"title\":{\"x\":0.05},\"mapbox\":{\"style\":\"light\"}}},\"xaxis\":{\"anchor\":\"y\",\"domain\":[0.0,0.45],\"title\":{\"text\":\"Frequency (GHz)\"}},\"yaxis\":{\"anchor\":\"x\",\"domain\":[0.0,1.0],\"title\":{\"text\":\"MSR (uV)\"}},\"xaxis2\":{\"anchor\":\"y2\",\"domain\":[0.55,1.0],\"title\":{\"text\":\"Frequency (GHz)\"}},\"yaxis2\":{\"anchor\":\"x2\",\"domain\":[0.0,1.0],\"title\":{\"text\":\"Phase (rad)\"}},\"annotations\":[{\"font\":{\"size\":16},\"showarrow\":false,\"text\":\"MSR (V)\",\"x\":0.225,\"xanchor\":\"center\",\"xref\":\"paper\",\"y\":1.0,\"yanchor\":\"bottom\",\"yref\":\"paper\"},{\"font\":{\"size\":16},\"showarrow\":false,\"text\":\"phase (rad)\",\"x\":0.775,\"xanchor\":\"center\",\"xref\":\"paper\",\"y\":1.0,\"yanchor\":\"bottom\",\"yref\":\"paper\"}],\"showlegend\":true,\"uirevision\":\"0\"},                        {\"responsive\": true}                    ).then(function(){\n",
       "                            \n",
       "var gd = document.getElementById('51b4a310-2c9f-47ab-941c-8a10fa466ee1');\n",
       "var x = new MutationObserver(function (mutations, observer) {{\n",
       "        var display = window.getComputedStyle(gd).display;\n",
       "        if (!display || display === 'none') {{\n",
       "            console.log([gd, 'removed!']);\n",
       "            Plotly.purge(gd);\n",
       "            observer.disconnect();\n",
       "        }}\n",
       "}});\n",
       "\n",
       "// Listen for the removal of the full notebook cells\n",
       "var notebookContainer = gd.closest('#notebook-container');\n",
       "if (notebookContainer) {{\n",
       "    x.observe(notebookContainer, {childList: true});\n",
       "}}\n",
       "\n",
       "// Listen for the clearing of the current output cell\n",
       "var outputEl = gd.closest('.output');\n",
       "if (outputEl) {{\n",
       "    x.observe(outputEl, {childList: true});\n",
       "}}\n",
       "\n",
       "                        })                };                });            </script>        </div>"
      ]
     },
     "metadata": {},
     "output_type": "display_data"
    }
   ],
   "source": [
    "start = -50e6\n",
    "stop = -10e6\n",
    "points = 100\n",
    "\n",
    "sequence, freqs = resonator_spectroscopy_sequence(\n",
    "    Device,\n",
    "    qubit = 0,\n",
    "    start = start,\n",
    "    stop = stop,\n",
    "    points = points,\n",
    ")\n",
    "\n",
    "qubit = 0    \n",
    "Base_lo = Device.instruments[\"shfqc_qa\"][\"settings\"][\"lo_frequency\"]\n",
    "    \n",
    "Data = DataUnits(\n",
    "    name=f\"sweep_q{qubit}\", quantities={\"frequency\": \"Hz\"}\n",
    ")\n",
    "\n",
    "msr, phase, i, q = Device.execute_pulse_sequence_freq(sequence, start, stop, points)\n",
    "\n",
    "results = {\n",
    "    \"MSR[V]\": msr[0],\n",
    "    \"i[V]\": i[0],\n",
    "    \"q[V]\": q[0],\n",
    "    \"phase[rad]\": phase[0],\n",
    "    \"frequency[Hz]\": freqs + Base_lo,\n",
    "}\n",
    "\n",
    "Data.set(results)\n",
    "\n",
    "frequency_msr_phase__fast_precision(Data)"
   ]
  },
  {
   "cell_type": "markdown",
   "metadata": {},
   "source": [
    "Check RS"
   ]
  },
  {
   "cell_type": "code",
   "execution_count": 40,
   "metadata": {},
   "outputs": [
    {
     "data": {
      "text/plain": [
       "-16060606.060606003"
      ]
     },
     "execution_count": 40,
     "metadata": {},
     "output_type": "execute_result"
    }
   ],
   "source": [
    "# resonator_frequency = Data.get_values(\"frequency\", \"hertz\")[np.argmax(Data.df[\"MSR\"])]\n",
    "resonator_frequency = Data.get_values(\"frequency\", \"hertz\")[np.argmin(Data.df[\"MSR\"])]\n",
    "freq = resonator_frequency -  Device.instruments[\"shfqc_qa\"][\"settings\"][\"lo_frequency\"]\n",
    "freq"
   ]
  },
  {
   "cell_type": "code",
   "execution_count": 41,
   "metadata": {},
   "outputs": [],
   "source": [
    "Device.reload_settings()\n",
    "Device.instruments[\"shfqc_qa\"][\"settings\"][\"if_frequency\"] = freq\n",
    "Device.apply_settings()"
   ]
  },
  {
   "cell_type": "code",
   "execution_count": 42,
   "metadata": {},
   "outputs": [
    {
     "name": "stdout",
     "output_type": "stream",
     "text": [
      "2023.01.11 13:47:25.727 laboneq.compiler.workflow.compiler INFO   Starting LabOne Q Compiler run...\n",
      "2023.01.11 13:47:25.749 laboneq.compiler.workflow.compiler INFO   Total seqC lines generated: 13\n",
      "2023.01.11 13:47:25.750 laboneq.compiler.workflow.compiler INFO   Total sample points generated: 2000\n",
      "2023.01.11 13:47:25.750 laboneq.compiler.workflow.compiler INFO   Finished LabOne Q Compiler run.\n",
      "2023.01.11 13:47:26.843 laboneq.controller.controller  INFO   Starting near-time execution...\n",
      "2023.01.11 13:47:27.463 laboneq.controller.controller  INFO   Finished near-time execution.\n",
      "7.643473055476006e-06 -3.046977098201759 -7.609285990477132e-06 -7.221129170123958e-07\n"
     ]
    }
   ],
   "source": [
    "sequence = PulseSequence() \n",
    "ro_pulse = Device.create_qubit_readout_pulse(0, start=0)\n",
    "sequence.add(ro_pulse)\n",
    "    \n",
    "msr, phase, i, q = Device.execute_pulse_sequence_NoSamples(sequence)\n",
    "print(msr, phase, i , q)"
   ]
  },
  {
   "cell_type": "markdown",
   "metadata": {},
   "source": [
    "--------------------------------------------------"
   ]
  },
  {
   "cell_type": "markdown",
   "metadata": {},
   "source": [
    "# Qubit Spectroscopy"
   ]
  },
  {
   "cell_type": "code",
   "execution_count": 43,
   "metadata": {},
   "outputs": [
    {
     "name": "stdout",
     "output_type": "stream",
     "text": [
      "2023.01.11 13:47:35.160 laboneq.controller.laboneq_logging INFO   Logging initialized from [Default inline config in laboneq.controller.laboneq_logging] logdir is /home/admin/Juan/qibolab/examples/laboneq_output/log\n",
      "2023.01.11 13:47:35.161 laboneq.controller.controller  INFO   VERSION: laboneq 1.4.0\n",
      "2023.01.11 13:47:35.161 laboneq.controller.devices.device_collection INFO   Connecting to data server at localhost:8004\n",
      "2023.01.11 13:47:35.351 laboneq.controller.communication INFO   Connected to Zurich Instrument's Data Server version 22.08 at localhost:8004\n",
      "2023.01.11 13:47:36.286 laboneq.controller.devices.device_collection INFO   Configuring clock sources\n",
      "2023.01.11 13:47:36.428 laboneq.controller.devices.device_collection INFO   Clock sources configured\n"
     ]
    }
   ],
   "source": [
    "from qibolab.paths import qibolab_folder\n",
    "from qibolab.instruments.zhinst import SHFQC_QA\n",
    "\n",
    "import numpy as np\n",
    "from qibolab.pulses import Pulse, PulseSequence, ReadoutPulse, PulseShape\n",
    "from qibocal.data import DataUnits\n",
    "import laboneq.simple as lo\n",
    "\n",
    "# runcard = \"/home/admin/Juan/qibolab/src/qibolab/runcards/zhinst.yml\"\n",
    "runcard = qibolab_folder / \"runcards\" / \"zhinst.yml\"\n",
    "use_emulation = False\n",
    "Device = SHFQC_QA('EL_ZURO', \"DEV12146\", runcard, use_emulation=use_emulation)"
   ]
  },
  {
   "cell_type": "code",
   "execution_count": 44,
   "metadata": {},
   "outputs": [
    {
     "name": "stdout",
     "output_type": "stream",
     "text": [
      "2023.01.11 13:47:36.944 laboneq.compiler.workflow.compiler INFO   Starting LabOne Q Compiler run...\n",
      "2023.01.11 13:47:36.966 laboneq.compiler.workflow.compiler INFO   Total seqC lines generated: 13\n",
      "2023.01.11 13:47:36.967 laboneq.compiler.workflow.compiler INFO   Total sample points generated: 2000\n",
      "2023.01.11 13:47:36.967 laboneq.compiler.workflow.compiler INFO   Finished LabOne Q Compiler run.\n",
      "2023.01.11 13:47:38.343 laboneq.controller.controller  INFO   Starting near-time execution...\n",
      "2023.01.11 13:47:38.936 laboneq.controller.controller  INFO   Finished near-time execution.\n",
      "8.967973526160987e-06 -3.0689179014901673 -8.944301235574357e-06 -6.511716925875816e-07\n"
     ]
    }
   ],
   "source": [
    "sequence = PulseSequence() \n",
    "ro_pulse = Device.create_qubit_readout_pulse(0, start=0)\n",
    "sequence.add(ro_pulse)\n",
    "    \n",
    "msr, phase, i, q = Device.execute_pulse_sequence_NoSamples(sequence)\n",
    "print(msr, phase, i , q)"
   ]
  },
  {
   "cell_type": "code",
   "execution_count": 45,
   "metadata": {},
   "outputs": [],
   "source": [
    "def qubit_spectroscopy(\n",
    "    Device,\n",
    "    qubit: int,\n",
    "    start,\n",
    "    end,\n",
    "    step,\n",
    "    software_averages,\n",
    "):\n",
    "\n",
    "    # Device.reload_settings()\n",
    "\n",
    "    sequence = PulseSequence()\n",
    "    qd_pulse = Device.create_qubit_drive_pulse(qubit, start=0, duration=1000)\n",
    "    ro_pulse = Device.create_qubit_readout_pulse(qubit, start=1000)\n",
    "    sequence.add(qd_pulse)\n",
    "    sequence.add(ro_pulse)\n",
    "\n",
    "    center_frequency = Device.instruments[\"shfqc_qc\"][\"settings\"][\"lo_frequency\"]\n",
    "\n",
    "    freqrange = np.arange(start, end, step)\n",
    "\n",
    "    # platform.ro_port[qubit].lo_frequency = (\n",
    "    #     platform.characterization[\"single_qubit\"][qubit][\"resonator_freq\"]\n",
    "    #     - ro_pulse.frequency\n",
    "    # )\n",
    "\n",
    "    data = DataUnits(name=f\"sweep_q{qubit}\", quantities={\"frequency\": \"Hz\"})\n",
    "    \n",
    "    for _ in range(software_averages):\n",
    "        for freq in freqrange:\n",
    "            \n",
    "            \n",
    "            Device.reload_settings()\n",
    "            \n",
    "            # Device.instruments[\"shfqc_qa\"][\"settings\"][\"if_frequency\"] = 0\n",
    "            # Device.native_gates[\"single_qubit\"][0][\"MZ\"][\"frequency\"] = 0\n",
    "            \n",
    "            Device.instruments[\"shfqc_qc\"][\"settings\"][\"if_frequency\"] = freq\n",
    "            Device.apply_settings()\n",
    "            \n",
    "            # platform.qd_port[qubit].lo_frequency = freq - qd_pulse.frequency\n",
    "            # msr, phase, i, q = platform.execute_pulse_sequence(sequence)[\n",
    "            #     ro_pulse.serial\n",
    "            # ]\n",
    "            \n",
    "            # msr, phase, i, q = Device.execute_pulse_sequence(sequence)\n",
    "            msr, phase, i, q = Device.execute_pulse_sequence_NoSamples(sequence)\n",
    "            print(msr, phase, i , q)\n",
    "            \n",
    "            results = {\n",
    "                \"MSR[V]\": msr,\n",
    "                \"i[V]\": i,\n",
    "                \"q[V]\": q,\n",
    "                \"phase[rad]\": phase,\n",
    "                \"frequency[Hz]\": freq + center_frequency ,\n",
    "            }\n",
    "            \n",
    "            data.add(results)\n",
    "\n",
    "    # Plot output signals\n",
    "    if use_emulation == True:\n",
    "        Device.plot_output_signals()\n",
    "    else:\n",
    "        lo.show_pulse_sheet(\"Pulse_sheet\",Device.exp)\n",
    "\n",
    "    if Device.resonator_type == \"3D\":\n",
    "        qubit_frequency = data.get_values(\"frequency\", \"Hz\")[\n",
    "            np.argmin(data.get_values(\"MSR\", \"V\"))\n",
    "        ]\n",
    "    else:\n",
    "        qubit_frequency = data.get_values(\"frequency\", \"Hz\")[\n",
    "            np.argmax(data.get_values(\"MSR\", \"V\"))\n",
    "        ]\n",
    "\n",
    "    return data\n"
   ]
  },
  {
   "cell_type": "code",
   "execution_count": 46,
   "metadata": {},
   "outputs": [],
   "source": [
    "import plotly.graph_objects as go\n",
    "from plotly.subplots import make_subplots\n",
    "\n",
    "def frequency_msr_phase__fast_precision(data):\n",
    "        \n",
    "    data_fast = data\n",
    "\n",
    "    # try:\n",
    "    #     data_fit = Data.load_data(folder, routine, format, f\"fit_q{qubit}\")\n",
    "    # except:\n",
    "    #     data_fit = Data(\n",
    "    #         quantities=[\n",
    "    #             \"popt0\",\n",
    "    #             \"popt1\",\n",
    "    #             \"popt2\",\n",
    "    #             \"popt3\",\n",
    "    #             \"label1\",\n",
    "    #             \"label2\",\n",
    "    #         ]\n",
    "    #     )\n",
    "\n",
    "    fig = make_subplots(\n",
    "        rows=1,\n",
    "        cols=2,\n",
    "        horizontal_spacing=0.1,\n",
    "        vertical_spacing=0.1,\n",
    "        subplot_titles=(\n",
    "            \"MSR (V)\",\n",
    "            \"phase (rad)\",\n",
    "        ),\n",
    "    )\n",
    "\n",
    "    fig.add_trace(\n",
    "        go.Scatter(\n",
    "            x=data_fast.get_values(\"frequency\", \"GHz\"),\n",
    "            y=data_fast.get_values(\"MSR\", \"uV\"),\n",
    "            name=\"Fast\",\n",
    "        ),\n",
    "        row=1,\n",
    "        col=1,\n",
    "    )\n",
    "    fig.add_trace(\n",
    "        go.Scatter(\n",
    "            x=data_fast.get_values(\"frequency\", \"GHz\"),\n",
    "            y=data_fast.get_values(\"phase\", \"rad\"),\n",
    "            name=\"Fast\",\n",
    "        ),\n",
    "        row=1,\n",
    "        col=2,\n",
    "    )\n",
    "    \n",
    "    # if len(data_fast) > 0 and len(data_fit) > 0:\n",
    "    #     freqrange = np.linspace(\n",
    "    #         min(data_fast.get_values(\"frequency\", \"GHz\")),\n",
    "    #         max(data_fast.get_values(\"frequency\", \"GHz\")),\n",
    "    #         2 * len(data_fast),\n",
    "    #     )\n",
    "    #     params = [i for i in list(data_fit.df.keys()) if \"popt\" not in i]\n",
    "    #     fig.add_trace(\n",
    "    #         go.Scatter(\n",
    "    #             x=freqrange,\n",
    "    #             y=lorenzian(\n",
    "    #                 freqrange,\n",
    "    #                 data_fit.get_values(\"popt0\"),\n",
    "    #                 data_fit.get_values(\"popt1\"),\n",
    "    #                 data_fit.get_values(\"popt2\"),\n",
    "    #                 data_fit.get_values(\"popt3\"),\n",
    "    #             ),\n",
    "    #             name=\"Fit\",\n",
    "    #             line=go.scatter.Line(dash=\"dot\"),\n",
    "    #         ),\n",
    "    #         row=1,\n",
    "    #         col=1,\n",
    "    #     )\n",
    "    #     fig.add_annotation(\n",
    "    #         dict(\n",
    "    #             font=dict(color=\"black\", size=12),\n",
    "    #             x=0,\n",
    "    #             y=-0.25,\n",
    "    #             showarrow=False,\n",
    "    #             text=f\"The estimated {params[0]} is {data_fit.df[params[0]][0]:.1f} Hz.\",\n",
    "    #             textangle=0,\n",
    "    #             xanchor=\"left\",\n",
    "    #             xref=\"paper\",\n",
    "    #             yref=\"paper\",\n",
    "    #         )\n",
    "    #     )\n",
    "    #     fig.add_annotation(\n",
    "    #         dict(\n",
    "    #             font=dict(color=\"black\", size=12),\n",
    "    #             x=0,\n",
    "    #             y=-0.30,\n",
    "    #             showarrow=False,\n",
    "    #             text=f\"The estimated {params[1]} is {data_fit.df[params[1]][0]:.3f} uV.\",\n",
    "    #             textangle=0,\n",
    "    #             xanchor=\"left\",\n",
    "    #             xref=\"paper\",\n",
    "    #             yref=\"paper\",\n",
    "    #         )\n",
    "    #     )\n",
    "    fig.update_layout(\n",
    "        showlegend=True,\n",
    "        uirevision=\"0\",  # ``uirevision`` allows zooming while live plotting\n",
    "        xaxis_title=\"Frequency (GHz)\",\n",
    "        yaxis_title=\"MSR (uV)\",\n",
    "        xaxis2_title=\"Frequency (GHz)\",\n",
    "        yaxis2_title=\"Phase (rad)\",\n",
    "    )\n",
    "    return fig"
   ]
  },
  {
   "cell_type": "markdown",
   "metadata": {},
   "source": [
    "Pulse by pulse"
   ]
  },
  {
   "cell_type": "code",
   "execution_count": 47,
   "metadata": {},
   "outputs": [],
   "source": [
    "# # runcard = \"/home/admin/Juan/qibolab/src/qibolab/runcards/zhinst.yml\"\n",
    "# runcard = qibolab_folder / \"runcards\" / \"zhinst.yml\"\n",
    "\n",
    "# use_emulation = False\n",
    "# data = qubit_spectroscopy(\n",
    "#     Device = SHFQC_QA('EL_ZURO', \"DEV12146\", runcard, use_emulation=use_emulation),\n",
    "#     qubit = 0,\n",
    "#     start = -25_000_000,\n",
    "#     end = -15_000_000,\n",
    "#     step = 250_000,\n",
    "#     software_averages=1,\n",
    "#     )\n",
    "\n",
    "# frequency_msr_phase__fast_precision(data)"
   ]
  },
  {
   "cell_type": "markdown",
   "metadata": {},
   "source": [
    "Single sequence"
   ]
  },
  {
   "cell_type": "code",
   "execution_count": 56,
   "metadata": {},
   "outputs": [],
   "source": [
    "def qubit_spectroscopy_sequence(\n",
    "    Device,\n",
    "    qubit: int,\n",
    "):\n",
    "\n",
    "    sequence = PulseSequence()\n",
    "    qd_pulse = Device.create_qubit_drive_pulse(qubit, start=0, duration=1000)\n",
    "    ro_pulse = Device.create_qubit_readout_pulse(qubit, start=1000)\n",
    "    sequence.add(qd_pulse)\n",
    "    sequence.add(ro_pulse)\n",
    "\n",
    "    return sequence"
   ]
  },
  {
   "cell_type": "code",
   "execution_count": 57,
   "metadata": {},
   "outputs": [],
   "source": [
    "Device.reload_settings()\n",
    "Device.apply_settings()"
   ]
  },
  {
   "cell_type": "code",
   "execution_count": 58,
   "metadata": {},
   "outputs": [
    {
     "name": "stdout",
     "output_type": "stream",
     "text": [
      "2023.01.11 13:50:53.458 laboneq.compiler.workflow.compiler INFO   Starting LabOne Q Compiler run...\n",
      "2023.01.11 13:50:53.781 laboneq.compiler.workflow.compiler INFO   Total seqC lines generated: 64\n",
      "2023.01.11 13:50:53.782 laboneq.compiler.workflow.compiler INFO   Total sample points generated: 6000\n",
      "2023.01.11 13:50:53.782 laboneq.compiler.workflow.compiler INFO   Finished LabOne Q Compiler run.\n",
      "2023.01.11 13:50:54.783 laboneq.controller.controller  INFO   Starting near-time execution...\n",
      "2023.01.11 13:50:55.138 laboneq.controller.controller  INFO   Estimated RT execution time: 5.20 s.\n",
      "2023.01.11 13:51:00.523 laboneq.controller.controller  INFO   Finished near-time execution.\n"
     ]
    },
    {
     "name": "stderr",
     "output_type": "stream",
     "text": [
      "/opt/anaconda3/envs/JQibo/lib/python3.9/site-packages/pandas/core/construction.py:617: UnitStrippedWarning:\n",
      "\n",
      "The unit of the quantity is stripped when downcasting to ndarray.\n",
      "\n"
     ]
    },
    {
     "data": {
      "application/vnd.plotly.v1+json": {
       "config": {
        "plotlyServerURL": "https://plot.ly"
       },
       "data": [
        {
         "name": "Fast",
         "type": "scatter",
         "x": [
          4.25,
          4.250909090909091,
          4.251818181818182,
          4.252727272727273,
          4.253636363636364,
          4.254545454545455,
          4.255454545454546,
          4.256363636363637,
          4.257272727272728,
          4.258181818181818,
          4.25909090909091,
          4.260000000000001,
          4.260909090909092,
          4.261818181818183,
          4.262727272727273,
          4.263636363636364,
          4.264545454545455,
          4.265454545454546,
          4.266363636363637,
          4.2672727272727276,
          4.2681818181818185,
          4.2690909090909095,
          4.2700000000000005,
          4.270909090909091,
          4.271818181818182,
          4.2727272727272725,
          4.2736363636363635,
          4.274545454545454,
          4.275454545454545,
          4.276363636363636,
          4.277272727272727,
          4.278181818181818,
          4.279090909090909,
          4.28,
          4.280909090909091,
          4.281818181818182,
          4.282727272727273,
          4.283636363636364,
          4.284545454545455,
          4.285454545454546,
          4.286363636363637,
          4.287272727272728,
          4.288181818181818,
          4.289090909090909,
          4.29,
          4.290909090909091,
          4.291818181818182,
          4.292727272727273,
          4.293636363636364,
          4.294545454545455,
          4.295454545454545,
          4.296363636363636,
          4.297272727272727,
          4.298181818181818,
          4.299090909090909,
          4.300000000000001,
          4.300909090909092,
          4.301818181818183,
          4.302727272727274,
          4.303636363636365,
          4.304545454545456,
          4.305454545454546,
          4.306363636363637,
          4.307272727272728,
          4.308181818181819,
          4.3090909090909095,
          4.3100000000000005,
          4.3109090909090915,
          4.311818181818182,
          4.312727272727273,
          4.313636363636364,
          4.314545454545455,
          4.315454545454545,
          4.316363636363636,
          4.317272727272727,
          4.318181818181818,
          4.319090909090909,
          4.32,
          4.320909090909091,
          4.321818181818182,
          4.322727272727273,
          4.323636363636364,
          4.324545454545455,
          4.325454545454545,
          4.326363636363636,
          4.327272727272727,
          4.328181818181818,
          4.329090909090909,
          4.33,
          4.330909090909091,
          4.331818181818182,
          4.332727272727273,
          4.333636363636364,
          4.334545454545455,
          4.335454545454545,
          4.336363636363636,
          4.337272727272727,
          4.338181818181818,
          4.339090909090909,
          4.34
         ],
         "xaxis": "x",
         "y": [
          10.722503950726937,
          9.921814406054287,
          9.174610303214353,
          7.1648912065632535,
          14.469203418125542,
          17.603023836316446,
          13.608855706356357,
          13.55615500493022,
          4.0981162300875695,
          9.965431493007294,
          7.95684127776246,
          10.319719342848709,
          12.967551011924831,
          14.845054522004263,
          5.9897588476173595,
          8.789862616137778,
          9.949878051271874,
          14.891193744856174,
          7.088159141708468,
          5.787462062932902,
          14.374674500841461,
          9.817835789411262,
          3.1853709873926,
          9.903510220791313,
          7.740519003577024,
          12.144315397538165,
          12.903742227044884,
          6.568124771077477,
          14.184186562568534,
          7.994962867617596,
          10.858575340666285,
          9.579050176267069,
          13.741086626859959,
          6.27706085347322,
          5.003240783885832,
          9.041421385129375,
          15.74470117310495,
          14.40462214529542,
          5.330734782983006,
          2.343819718980714,
          12.817156006570935,
          10.636096407725844,
          11.069222920598769,
          6.756403814252832,
          15.756156766956478,
          7.894965621785254,
          15.518611769830656,
          13.279275736971831,
          12.384270175045728,
          9.597397401685802,
          12.199412753639741,
          7.735404075457102,
          10.058996896899007,
          7.824850861526111,
          12.517672386126597,
          12.473154308431534,
          8.901945820441183,
          9.230125175230443,
          6.1046481280402585,
          7.775893984421202,
          11.842602660579066,
          11.334484827062061,
          10.261122486821927,
          4.019777891852285,
          7.69645820652974,
          8.364203773373616,
          13.14105050301555,
          10.002962710181226,
          6.610760970564792,
          4.87540936149276,
          12.990134442628976,
          9.127803528208997,
          10.376693453287729,
          2.6611628632847153,
          9.822552126604917,
          9.773357816087314,
          11.14379582171233,
          8.34144885720069,
          9.810660458108739,
          12.54252698879155,
          9.541677007690303,
          6.628101534308807,
          9.538846999950293,
          8.981265468569124,
          4.8177498555168325,
          7.7029936337572105,
          8.101679172889623,
          12.493874686286754,
          7.750518522833223,
          10.377405947222059,
          13.176817951825221,
          8.716738288628457,
          7.425866283908328,
          5.748518651924668,
          9.47713325532686,
          11.654619543893052,
          13.86146392922666,
          7.204550560206639,
          11.41689762398864,
          7.551577461750298
         ],
         "yaxis": "y"
        },
        {
         "name": "Fast",
         "type": "scatter",
         "x": [
          4.25,
          4.250909090909091,
          4.251818181818182,
          4.252727272727273,
          4.253636363636364,
          4.254545454545455,
          4.255454545454546,
          4.256363636363637,
          4.257272727272728,
          4.258181818181818,
          4.25909090909091,
          4.260000000000001,
          4.260909090909092,
          4.261818181818183,
          4.262727272727273,
          4.263636363636364,
          4.264545454545455,
          4.265454545454546,
          4.266363636363637,
          4.2672727272727276,
          4.2681818181818185,
          4.2690909090909095,
          4.2700000000000005,
          4.270909090909091,
          4.271818181818182,
          4.2727272727272725,
          4.2736363636363635,
          4.274545454545454,
          4.275454545454545,
          4.276363636363636,
          4.277272727272727,
          4.278181818181818,
          4.279090909090909,
          4.28,
          4.280909090909091,
          4.281818181818182,
          4.282727272727273,
          4.283636363636364,
          4.284545454545455,
          4.285454545454546,
          4.286363636363637,
          4.287272727272728,
          4.288181818181818,
          4.289090909090909,
          4.29,
          4.290909090909091,
          4.291818181818182,
          4.292727272727273,
          4.293636363636364,
          4.294545454545455,
          4.295454545454545,
          4.296363636363636,
          4.297272727272727,
          4.298181818181818,
          4.299090909090909,
          4.300000000000001,
          4.300909090909092,
          4.301818181818183,
          4.302727272727274,
          4.303636363636365,
          4.304545454545456,
          4.305454545454546,
          4.306363636363637,
          4.307272727272728,
          4.308181818181819,
          4.3090909090909095,
          4.3100000000000005,
          4.3109090909090915,
          4.311818181818182,
          4.312727272727273,
          4.313636363636364,
          4.314545454545455,
          4.315454545454545,
          4.316363636363636,
          4.317272727272727,
          4.318181818181818,
          4.319090909090909,
          4.32,
          4.320909090909091,
          4.321818181818182,
          4.322727272727273,
          4.323636363636364,
          4.324545454545455,
          4.325454545454545,
          4.326363636363636,
          4.327272727272727,
          4.328181818181818,
          4.329090909090909,
          4.33,
          4.330909090909091,
          4.331818181818182,
          4.332727272727273,
          4.333636363636364,
          4.334545454545455,
          4.335454545454545,
          4.336363636363636,
          4.337272727272727,
          4.338181818181818,
          4.339090909090909,
          4.34
         ],
         "xaxis": "x2",
         "y": [
          3.0848554602871503,
          -2.7831424928557364,
          -3.0905480755470327,
          3.0427006737880493,
          2.812935537971364,
          -2.683080298422511,
          -2.9477593794164343,
          -2.759982808565651,
          -2.314938404910256,
          3.0674479556379475,
          2.546677217693796,
          -2.368253725566225,
          2.8735073693278093,
          -2.5580899088628524,
          -2.5152233502775476,
          -2.361814951203492,
          3.076291796474419,
          2.970472042166412,
          -2.9917816565143927,
          -2.715598225018326,
          -3.0130248465878644,
          -2.7996575791678397,
          2.98754588483696,
          -2.613656481095238,
          -1.7539923508395783,
          2.485646561584169,
          -2.822500245954619,
          2.6806104629346317,
          -2.5822859243148315,
          -3.079257508702884,
          -2.946165898229007,
          -3.016083233792493,
          -2.6919506195636815,
          -2.5890812750250407,
          -2.7640799094490163,
          3.039712582569352,
          -3.1005989079349825,
          3.0933214489928758,
          -2.7530986855025565,
          0.2780383051332994,
          -2.5639705046770254,
          -2.995306530318304,
          2.7562631874898225,
          -2.3544451249550034,
          -2.9609277034484434,
          -2.564158773388737,
          -2.4003055545444005,
          -3.0615590655622626,
          3.055927766725395,
          -2.9701245565165633,
          -3.0260109663714525,
          -2.589554956310355,
          -2.6133817429742776,
          3.0648543124920105,
          -2.9188554571246565,
          -2.3742430263212007,
          3.1235633401175664,
          -2.5854931541401696,
          -2.7667781191238445,
          -2.5016526983503895,
          -2.6597336905687823,
          -3.029746931895742,
          -2.625508011912763,
          -2.7652778357291945,
          -3.1376615768133114,
          -2.5025070147893547,
          -3.0094612547982313,
          2.987711643563425,
          -2.873106904011412,
          2.7732517658110303,
          3.056362334922369,
          -2.7217553209369094,
          2.7676704760399318,
          2.7726803444535824,
          3.021026574194878,
          2.9280767042031712,
          -3.127777968309813,
          -2.870330014367753,
          -2.9766715600359444,
          -3.0254439223387464,
          -2.716404727503924,
          -3.084515277516604,
          3.131412181109925,
          -2.959561166890344,
          2.784919237275777,
          -3.028167950016686,
          -2.613787241566494,
          -3.100710309970692,
          2.5729801229084255,
          -2.0221229329139137,
          -2.9220558219626414,
          2.6455689390106794,
          -2.751239146339203,
          -2.5813528702449666,
          2.5935031049438475,
          -2.843143766898465,
          2.5268351526947757,
          -2.1936566076638875,
          -3.1046349452253654,
          -2.796893853880623
         ],
         "yaxis": "y2"
        }
       ],
       "layout": {
        "annotations": [
         {
          "font": {
           "size": 16
          },
          "showarrow": false,
          "text": "MSR (V)",
          "x": 0.225,
          "xanchor": "center",
          "xref": "paper",
          "y": 1,
          "yanchor": "bottom",
          "yref": "paper"
         },
         {
          "font": {
           "size": 16
          },
          "showarrow": false,
          "text": "phase (rad)",
          "x": 0.775,
          "xanchor": "center",
          "xref": "paper",
          "y": 1,
          "yanchor": "bottom",
          "yref": "paper"
         }
        ],
        "showlegend": true,
        "template": {
         "data": {
          "bar": [
           {
            "error_x": {
             "color": "#2a3f5f"
            },
            "error_y": {
             "color": "#2a3f5f"
            },
            "marker": {
             "line": {
              "color": "#E5ECF6",
              "width": 0.5
             },
             "pattern": {
              "fillmode": "overlay",
              "size": 10,
              "solidity": 0.2
             }
            },
            "type": "bar"
           }
          ],
          "barpolar": [
           {
            "marker": {
             "line": {
              "color": "#E5ECF6",
              "width": 0.5
             },
             "pattern": {
              "fillmode": "overlay",
              "size": 10,
              "solidity": 0.2
             }
            },
            "type": "barpolar"
           }
          ],
          "carpet": [
           {
            "aaxis": {
             "endlinecolor": "#2a3f5f",
             "gridcolor": "white",
             "linecolor": "white",
             "minorgridcolor": "white",
             "startlinecolor": "#2a3f5f"
            },
            "baxis": {
             "endlinecolor": "#2a3f5f",
             "gridcolor": "white",
             "linecolor": "white",
             "minorgridcolor": "white",
             "startlinecolor": "#2a3f5f"
            },
            "type": "carpet"
           }
          ],
          "choropleth": [
           {
            "colorbar": {
             "outlinewidth": 0,
             "ticks": ""
            },
            "type": "choropleth"
           }
          ],
          "contour": [
           {
            "colorbar": {
             "outlinewidth": 0,
             "ticks": ""
            },
            "colorscale": [
             [
              0,
              "#0d0887"
             ],
             [
              0.1111111111111111,
              "#46039f"
             ],
             [
              0.2222222222222222,
              "#7201a8"
             ],
             [
              0.3333333333333333,
              "#9c179e"
             ],
             [
              0.4444444444444444,
              "#bd3786"
             ],
             [
              0.5555555555555556,
              "#d8576b"
             ],
             [
              0.6666666666666666,
              "#ed7953"
             ],
             [
              0.7777777777777778,
              "#fb9f3a"
             ],
             [
              0.8888888888888888,
              "#fdca26"
             ],
             [
              1,
              "#f0f921"
             ]
            ],
            "type": "contour"
           }
          ],
          "contourcarpet": [
           {
            "colorbar": {
             "outlinewidth": 0,
             "ticks": ""
            },
            "type": "contourcarpet"
           }
          ],
          "heatmap": [
           {
            "colorbar": {
             "outlinewidth": 0,
             "ticks": ""
            },
            "colorscale": [
             [
              0,
              "#0d0887"
             ],
             [
              0.1111111111111111,
              "#46039f"
             ],
             [
              0.2222222222222222,
              "#7201a8"
             ],
             [
              0.3333333333333333,
              "#9c179e"
             ],
             [
              0.4444444444444444,
              "#bd3786"
             ],
             [
              0.5555555555555556,
              "#d8576b"
             ],
             [
              0.6666666666666666,
              "#ed7953"
             ],
             [
              0.7777777777777778,
              "#fb9f3a"
             ],
             [
              0.8888888888888888,
              "#fdca26"
             ],
             [
              1,
              "#f0f921"
             ]
            ],
            "type": "heatmap"
           }
          ],
          "heatmapgl": [
           {
            "colorbar": {
             "outlinewidth": 0,
             "ticks": ""
            },
            "colorscale": [
             [
              0,
              "#0d0887"
             ],
             [
              0.1111111111111111,
              "#46039f"
             ],
             [
              0.2222222222222222,
              "#7201a8"
             ],
             [
              0.3333333333333333,
              "#9c179e"
             ],
             [
              0.4444444444444444,
              "#bd3786"
             ],
             [
              0.5555555555555556,
              "#d8576b"
             ],
             [
              0.6666666666666666,
              "#ed7953"
             ],
             [
              0.7777777777777778,
              "#fb9f3a"
             ],
             [
              0.8888888888888888,
              "#fdca26"
             ],
             [
              1,
              "#f0f921"
             ]
            ],
            "type": "heatmapgl"
           }
          ],
          "histogram": [
           {
            "marker": {
             "pattern": {
              "fillmode": "overlay",
              "size": 10,
              "solidity": 0.2
             }
            },
            "type": "histogram"
           }
          ],
          "histogram2d": [
           {
            "colorbar": {
             "outlinewidth": 0,
             "ticks": ""
            },
            "colorscale": [
             [
              0,
              "#0d0887"
             ],
             [
              0.1111111111111111,
              "#46039f"
             ],
             [
              0.2222222222222222,
              "#7201a8"
             ],
             [
              0.3333333333333333,
              "#9c179e"
             ],
             [
              0.4444444444444444,
              "#bd3786"
             ],
             [
              0.5555555555555556,
              "#d8576b"
             ],
             [
              0.6666666666666666,
              "#ed7953"
             ],
             [
              0.7777777777777778,
              "#fb9f3a"
             ],
             [
              0.8888888888888888,
              "#fdca26"
             ],
             [
              1,
              "#f0f921"
             ]
            ],
            "type": "histogram2d"
           }
          ],
          "histogram2dcontour": [
           {
            "colorbar": {
             "outlinewidth": 0,
             "ticks": ""
            },
            "colorscale": [
             [
              0,
              "#0d0887"
             ],
             [
              0.1111111111111111,
              "#46039f"
             ],
             [
              0.2222222222222222,
              "#7201a8"
             ],
             [
              0.3333333333333333,
              "#9c179e"
             ],
             [
              0.4444444444444444,
              "#bd3786"
             ],
             [
              0.5555555555555556,
              "#d8576b"
             ],
             [
              0.6666666666666666,
              "#ed7953"
             ],
             [
              0.7777777777777778,
              "#fb9f3a"
             ],
             [
              0.8888888888888888,
              "#fdca26"
             ],
             [
              1,
              "#f0f921"
             ]
            ],
            "type": "histogram2dcontour"
           }
          ],
          "mesh3d": [
           {
            "colorbar": {
             "outlinewidth": 0,
             "ticks": ""
            },
            "type": "mesh3d"
           }
          ],
          "parcoords": [
           {
            "line": {
             "colorbar": {
              "outlinewidth": 0,
              "ticks": ""
             }
            },
            "type": "parcoords"
           }
          ],
          "pie": [
           {
            "automargin": true,
            "type": "pie"
           }
          ],
          "scatter": [
           {
            "fillpattern": {
             "fillmode": "overlay",
             "size": 10,
             "solidity": 0.2
            },
            "type": "scatter"
           }
          ],
          "scatter3d": [
           {
            "line": {
             "colorbar": {
              "outlinewidth": 0,
              "ticks": ""
             }
            },
            "marker": {
             "colorbar": {
              "outlinewidth": 0,
              "ticks": ""
             }
            },
            "type": "scatter3d"
           }
          ],
          "scattercarpet": [
           {
            "marker": {
             "colorbar": {
              "outlinewidth": 0,
              "ticks": ""
             }
            },
            "type": "scattercarpet"
           }
          ],
          "scattergeo": [
           {
            "marker": {
             "colorbar": {
              "outlinewidth": 0,
              "ticks": ""
             }
            },
            "type": "scattergeo"
           }
          ],
          "scattergl": [
           {
            "marker": {
             "colorbar": {
              "outlinewidth": 0,
              "ticks": ""
             }
            },
            "type": "scattergl"
           }
          ],
          "scattermapbox": [
           {
            "marker": {
             "colorbar": {
              "outlinewidth": 0,
              "ticks": ""
             }
            },
            "type": "scattermapbox"
           }
          ],
          "scatterpolar": [
           {
            "marker": {
             "colorbar": {
              "outlinewidth": 0,
              "ticks": ""
             }
            },
            "type": "scatterpolar"
           }
          ],
          "scatterpolargl": [
           {
            "marker": {
             "colorbar": {
              "outlinewidth": 0,
              "ticks": ""
             }
            },
            "type": "scatterpolargl"
           }
          ],
          "scatterternary": [
           {
            "marker": {
             "colorbar": {
              "outlinewidth": 0,
              "ticks": ""
             }
            },
            "type": "scatterternary"
           }
          ],
          "surface": [
           {
            "colorbar": {
             "outlinewidth": 0,
             "ticks": ""
            },
            "colorscale": [
             [
              0,
              "#0d0887"
             ],
             [
              0.1111111111111111,
              "#46039f"
             ],
             [
              0.2222222222222222,
              "#7201a8"
             ],
             [
              0.3333333333333333,
              "#9c179e"
             ],
             [
              0.4444444444444444,
              "#bd3786"
             ],
             [
              0.5555555555555556,
              "#d8576b"
             ],
             [
              0.6666666666666666,
              "#ed7953"
             ],
             [
              0.7777777777777778,
              "#fb9f3a"
             ],
             [
              0.8888888888888888,
              "#fdca26"
             ],
             [
              1,
              "#f0f921"
             ]
            ],
            "type": "surface"
           }
          ],
          "table": [
           {
            "cells": {
             "fill": {
              "color": "#EBF0F8"
             },
             "line": {
              "color": "white"
             }
            },
            "header": {
             "fill": {
              "color": "#C8D4E3"
             },
             "line": {
              "color": "white"
             }
            },
            "type": "table"
           }
          ]
         },
         "layout": {
          "annotationdefaults": {
           "arrowcolor": "#2a3f5f",
           "arrowhead": 0,
           "arrowwidth": 1
          },
          "autotypenumbers": "strict",
          "coloraxis": {
           "colorbar": {
            "outlinewidth": 0,
            "ticks": ""
           }
          },
          "colorscale": {
           "diverging": [
            [
             0,
             "#8e0152"
            ],
            [
             0.1,
             "#c51b7d"
            ],
            [
             0.2,
             "#de77ae"
            ],
            [
             0.3,
             "#f1b6da"
            ],
            [
             0.4,
             "#fde0ef"
            ],
            [
             0.5,
             "#f7f7f7"
            ],
            [
             0.6,
             "#e6f5d0"
            ],
            [
             0.7,
             "#b8e186"
            ],
            [
             0.8,
             "#7fbc41"
            ],
            [
             0.9,
             "#4d9221"
            ],
            [
             1,
             "#276419"
            ]
           ],
           "sequential": [
            [
             0,
             "#0d0887"
            ],
            [
             0.1111111111111111,
             "#46039f"
            ],
            [
             0.2222222222222222,
             "#7201a8"
            ],
            [
             0.3333333333333333,
             "#9c179e"
            ],
            [
             0.4444444444444444,
             "#bd3786"
            ],
            [
             0.5555555555555556,
             "#d8576b"
            ],
            [
             0.6666666666666666,
             "#ed7953"
            ],
            [
             0.7777777777777778,
             "#fb9f3a"
            ],
            [
             0.8888888888888888,
             "#fdca26"
            ],
            [
             1,
             "#f0f921"
            ]
           ],
           "sequentialminus": [
            [
             0,
             "#0d0887"
            ],
            [
             0.1111111111111111,
             "#46039f"
            ],
            [
             0.2222222222222222,
             "#7201a8"
            ],
            [
             0.3333333333333333,
             "#9c179e"
            ],
            [
             0.4444444444444444,
             "#bd3786"
            ],
            [
             0.5555555555555556,
             "#d8576b"
            ],
            [
             0.6666666666666666,
             "#ed7953"
            ],
            [
             0.7777777777777778,
             "#fb9f3a"
            ],
            [
             0.8888888888888888,
             "#fdca26"
            ],
            [
             1,
             "#f0f921"
            ]
           ]
          },
          "colorway": [
           "#636efa",
           "#EF553B",
           "#00cc96",
           "#ab63fa",
           "#FFA15A",
           "#19d3f3",
           "#FF6692",
           "#B6E880",
           "#FF97FF",
           "#FECB52"
          ],
          "font": {
           "color": "#2a3f5f"
          },
          "geo": {
           "bgcolor": "white",
           "lakecolor": "white",
           "landcolor": "#E5ECF6",
           "showlakes": true,
           "showland": true,
           "subunitcolor": "white"
          },
          "hoverlabel": {
           "align": "left"
          },
          "hovermode": "closest",
          "mapbox": {
           "style": "light"
          },
          "paper_bgcolor": "white",
          "plot_bgcolor": "#E5ECF6",
          "polar": {
           "angularaxis": {
            "gridcolor": "white",
            "linecolor": "white",
            "ticks": ""
           },
           "bgcolor": "#E5ECF6",
           "radialaxis": {
            "gridcolor": "white",
            "linecolor": "white",
            "ticks": ""
           }
          },
          "scene": {
           "xaxis": {
            "backgroundcolor": "#E5ECF6",
            "gridcolor": "white",
            "gridwidth": 2,
            "linecolor": "white",
            "showbackground": true,
            "ticks": "",
            "zerolinecolor": "white"
           },
           "yaxis": {
            "backgroundcolor": "#E5ECF6",
            "gridcolor": "white",
            "gridwidth": 2,
            "linecolor": "white",
            "showbackground": true,
            "ticks": "",
            "zerolinecolor": "white"
           },
           "zaxis": {
            "backgroundcolor": "#E5ECF6",
            "gridcolor": "white",
            "gridwidth": 2,
            "linecolor": "white",
            "showbackground": true,
            "ticks": "",
            "zerolinecolor": "white"
           }
          },
          "shapedefaults": {
           "line": {
            "color": "#2a3f5f"
           }
          },
          "ternary": {
           "aaxis": {
            "gridcolor": "white",
            "linecolor": "white",
            "ticks": ""
           },
           "baxis": {
            "gridcolor": "white",
            "linecolor": "white",
            "ticks": ""
           },
           "bgcolor": "#E5ECF6",
           "caxis": {
            "gridcolor": "white",
            "linecolor": "white",
            "ticks": ""
           }
          },
          "title": {
           "x": 0.05
          },
          "xaxis": {
           "automargin": true,
           "gridcolor": "white",
           "linecolor": "white",
           "ticks": "",
           "title": {
            "standoff": 15
           },
           "zerolinecolor": "white",
           "zerolinewidth": 2
          },
          "yaxis": {
           "automargin": true,
           "gridcolor": "white",
           "linecolor": "white",
           "ticks": "",
           "title": {
            "standoff": 15
           },
           "zerolinecolor": "white",
           "zerolinewidth": 2
          }
         }
        },
        "uirevision": "0",
        "xaxis": {
         "anchor": "y",
         "domain": [
          0,
          0.45
         ],
         "title": {
          "text": "Frequency (GHz)"
         }
        },
        "xaxis2": {
         "anchor": "y2",
         "domain": [
          0.55,
          1
         ],
         "title": {
          "text": "Frequency (GHz)"
         }
        },
        "yaxis": {
         "anchor": "x",
         "domain": [
          0,
          1
         ],
         "title": {
          "text": "MSR (uV)"
         }
        },
        "yaxis2": {
         "anchor": "x2",
         "domain": [
          0,
          1
         ],
         "title": {
          "text": "Phase (rad)"
         }
        }
       }
      },
      "text/html": [
       "<div>                            <div id=\"e3c2cdf1-aef1-4ddd-b6bc-7a642beb9f07\" class=\"plotly-graph-div\" style=\"height:525px; width:100%;\"></div>            <script type=\"text/javascript\">                require([\"plotly\"], function(Plotly) {                    window.PLOTLYENV=window.PLOTLYENV || {};                                    if (document.getElementById(\"e3c2cdf1-aef1-4ddd-b6bc-7a642beb9f07\")) {                    Plotly.newPlot(                        \"e3c2cdf1-aef1-4ddd-b6bc-7a642beb9f07\",                        [{\"name\":\"Fast\",\"x\":[4.25,4.250909090909091,4.251818181818182,4.252727272727273,4.253636363636364,4.254545454545455,4.255454545454546,4.256363636363637,4.257272727272728,4.258181818181818,4.25909090909091,4.260000000000001,4.260909090909092,4.261818181818183,4.262727272727273,4.263636363636364,4.264545454545455,4.265454545454546,4.266363636363637,4.2672727272727276,4.2681818181818185,4.2690909090909095,4.2700000000000005,4.270909090909091,4.271818181818182,4.2727272727272725,4.2736363636363635,4.274545454545454,4.275454545454545,4.276363636363636,4.277272727272727,4.278181818181818,4.279090909090909,4.28,4.280909090909091,4.281818181818182,4.282727272727273,4.283636363636364,4.284545454545455,4.285454545454546,4.286363636363637,4.287272727272728,4.288181818181818,4.289090909090909,4.29,4.290909090909091,4.291818181818182,4.292727272727273,4.293636363636364,4.294545454545455,4.295454545454545,4.296363636363636,4.297272727272727,4.298181818181818,4.299090909090909,4.300000000000001,4.300909090909092,4.301818181818183,4.302727272727274,4.303636363636365,4.304545454545456,4.305454545454546,4.306363636363637,4.307272727272728,4.308181818181819,4.3090909090909095,4.3100000000000005,4.3109090909090915,4.311818181818182,4.312727272727273,4.313636363636364,4.314545454545455,4.315454545454545,4.316363636363636,4.317272727272727,4.318181818181818,4.319090909090909,4.32,4.320909090909091,4.321818181818182,4.322727272727273,4.323636363636364,4.324545454545455,4.325454545454545,4.326363636363636,4.327272727272727,4.328181818181818,4.329090909090909,4.33,4.330909090909091,4.331818181818182,4.332727272727273,4.333636363636364,4.334545454545455,4.335454545454545,4.336363636363636,4.337272727272727,4.338181818181818,4.339090909090909,4.34],\"y\":[10.722503950726937,9.921814406054287,9.174610303214353,7.1648912065632535,14.469203418125542,17.603023836316446,13.608855706356357,13.55615500493022,4.0981162300875695,9.965431493007294,7.95684127776246,10.319719342848709,12.967551011924831,14.845054522004263,5.9897588476173595,8.789862616137778,9.949878051271874,14.891193744856174,7.088159141708468,5.787462062932902,14.374674500841461,9.817835789411262,3.1853709873926,9.903510220791313,7.740519003577024,12.144315397538165,12.903742227044884,6.568124771077477,14.184186562568534,7.994962867617596,10.858575340666285,9.579050176267069,13.741086626859959,6.27706085347322,5.003240783885832,9.041421385129375,15.74470117310495,14.40462214529542,5.330734782983006,2.343819718980714,12.817156006570935,10.636096407725844,11.069222920598769,6.756403814252832,15.756156766956478,7.894965621785254,15.518611769830656,13.279275736971831,12.384270175045728,9.597397401685802,12.199412753639741,7.735404075457102,10.058996896899007,7.824850861526111,12.517672386126597,12.473154308431534,8.901945820441183,9.230125175230443,6.1046481280402585,7.775893984421202,11.842602660579066,11.334484827062061,10.261122486821927,4.019777891852285,7.69645820652974,8.364203773373616,13.14105050301555,10.002962710181226,6.610760970564792,4.87540936149276,12.990134442628976,9.127803528208997,10.376693453287729,2.6611628632847153,9.822552126604917,9.773357816087314,11.14379582171233,8.34144885720069,9.810660458108739,12.54252698879155,9.541677007690303,6.628101534308807,9.538846999950293,8.981265468569124,4.8177498555168325,7.7029936337572105,8.101679172889623,12.493874686286754,7.750518522833223,10.377405947222059,13.176817951825221,8.716738288628457,7.425866283908328,5.748518651924668,9.47713325532686,11.654619543893052,13.86146392922666,7.204550560206639,11.41689762398864,7.551577461750298],\"type\":\"scatter\",\"xaxis\":\"x\",\"yaxis\":\"y\"},{\"name\":\"Fast\",\"x\":[4.25,4.250909090909091,4.251818181818182,4.252727272727273,4.253636363636364,4.254545454545455,4.255454545454546,4.256363636363637,4.257272727272728,4.258181818181818,4.25909090909091,4.260000000000001,4.260909090909092,4.261818181818183,4.262727272727273,4.263636363636364,4.264545454545455,4.265454545454546,4.266363636363637,4.2672727272727276,4.2681818181818185,4.2690909090909095,4.2700000000000005,4.270909090909091,4.271818181818182,4.2727272727272725,4.2736363636363635,4.274545454545454,4.275454545454545,4.276363636363636,4.277272727272727,4.278181818181818,4.279090909090909,4.28,4.280909090909091,4.281818181818182,4.282727272727273,4.283636363636364,4.284545454545455,4.285454545454546,4.286363636363637,4.287272727272728,4.288181818181818,4.289090909090909,4.29,4.290909090909091,4.291818181818182,4.292727272727273,4.293636363636364,4.294545454545455,4.295454545454545,4.296363636363636,4.297272727272727,4.298181818181818,4.299090909090909,4.300000000000001,4.300909090909092,4.301818181818183,4.302727272727274,4.303636363636365,4.304545454545456,4.305454545454546,4.306363636363637,4.307272727272728,4.308181818181819,4.3090909090909095,4.3100000000000005,4.3109090909090915,4.311818181818182,4.312727272727273,4.313636363636364,4.314545454545455,4.315454545454545,4.316363636363636,4.317272727272727,4.318181818181818,4.319090909090909,4.32,4.320909090909091,4.321818181818182,4.322727272727273,4.323636363636364,4.324545454545455,4.325454545454545,4.326363636363636,4.327272727272727,4.328181818181818,4.329090909090909,4.33,4.330909090909091,4.331818181818182,4.332727272727273,4.333636363636364,4.334545454545455,4.335454545454545,4.336363636363636,4.337272727272727,4.338181818181818,4.339090909090909,4.34],\"y\":[3.0848554602871503,-2.7831424928557364,-3.0905480755470327,3.0427006737880493,2.812935537971364,-2.683080298422511,-2.9477593794164343,-2.759982808565651,-2.314938404910256,3.0674479556379475,2.546677217693796,-2.368253725566225,2.8735073693278093,-2.5580899088628524,-2.5152233502775476,-2.361814951203492,3.076291796474419,2.970472042166412,-2.9917816565143927,-2.715598225018326,-3.0130248465878644,-2.7996575791678397,2.98754588483696,-2.613656481095238,-1.7539923508395783,2.485646561584169,-2.822500245954619,2.6806104629346317,-2.5822859243148315,-3.079257508702884,-2.946165898229007,-3.016083233792493,-2.6919506195636815,-2.5890812750250407,-2.7640799094490163,3.039712582569352,-3.1005989079349825,3.0933214489928758,-2.7530986855025565,0.2780383051332994,-2.5639705046770254,-2.995306530318304,2.7562631874898225,-2.3544451249550034,-2.9609277034484434,-2.564158773388737,-2.4003055545444005,-3.0615590655622626,3.055927766725395,-2.9701245565165633,-3.0260109663714525,-2.589554956310355,-2.6133817429742776,3.0648543124920105,-2.9188554571246565,-2.3742430263212007,3.1235633401175664,-2.5854931541401696,-2.7667781191238445,-2.5016526983503895,-2.6597336905687823,-3.029746931895742,-2.625508011912763,-2.7652778357291945,-3.1376615768133114,-2.5025070147893547,-3.0094612547982313,2.987711643563425,-2.873106904011412,2.7732517658110303,3.056362334922369,-2.7217553209369094,2.7676704760399318,2.7726803444535824,3.021026574194878,2.9280767042031712,-3.127777968309813,-2.870330014367753,-2.9766715600359444,-3.0254439223387464,-2.716404727503924,-3.084515277516604,3.131412181109925,-2.959561166890344,2.784919237275777,-3.028167950016686,-2.613787241566494,-3.100710309970692,2.5729801229084255,-2.0221229329139137,-2.9220558219626414,2.6455689390106794,-2.751239146339203,-2.5813528702449666,2.5935031049438475,-2.843143766898465,2.5268351526947757,-2.1936566076638875,-3.1046349452253654,-2.796893853880623],\"type\":\"scatter\",\"xaxis\":\"x2\",\"yaxis\":\"y2\"}],                        {\"template\":{\"data\":{\"histogram2dcontour\":[{\"type\":\"histogram2dcontour\",\"colorbar\":{\"outlinewidth\":0,\"ticks\":\"\"},\"colorscale\":[[0.0,\"#0d0887\"],[0.1111111111111111,\"#46039f\"],[0.2222222222222222,\"#7201a8\"],[0.3333333333333333,\"#9c179e\"],[0.4444444444444444,\"#bd3786\"],[0.5555555555555556,\"#d8576b\"],[0.6666666666666666,\"#ed7953\"],[0.7777777777777778,\"#fb9f3a\"],[0.8888888888888888,\"#fdca26\"],[1.0,\"#f0f921\"]]}],\"choropleth\":[{\"type\":\"choropleth\",\"colorbar\":{\"outlinewidth\":0,\"ticks\":\"\"}}],\"histogram2d\":[{\"type\":\"histogram2d\",\"colorbar\":{\"outlinewidth\":0,\"ticks\":\"\"},\"colorscale\":[[0.0,\"#0d0887\"],[0.1111111111111111,\"#46039f\"],[0.2222222222222222,\"#7201a8\"],[0.3333333333333333,\"#9c179e\"],[0.4444444444444444,\"#bd3786\"],[0.5555555555555556,\"#d8576b\"],[0.6666666666666666,\"#ed7953\"],[0.7777777777777778,\"#fb9f3a\"],[0.8888888888888888,\"#fdca26\"],[1.0,\"#f0f921\"]]}],\"heatmap\":[{\"type\":\"heatmap\",\"colorbar\":{\"outlinewidth\":0,\"ticks\":\"\"},\"colorscale\":[[0.0,\"#0d0887\"],[0.1111111111111111,\"#46039f\"],[0.2222222222222222,\"#7201a8\"],[0.3333333333333333,\"#9c179e\"],[0.4444444444444444,\"#bd3786\"],[0.5555555555555556,\"#d8576b\"],[0.6666666666666666,\"#ed7953\"],[0.7777777777777778,\"#fb9f3a\"],[0.8888888888888888,\"#fdca26\"],[1.0,\"#f0f921\"]]}],\"heatmapgl\":[{\"type\":\"heatmapgl\",\"colorbar\":{\"outlinewidth\":0,\"ticks\":\"\"},\"colorscale\":[[0.0,\"#0d0887\"],[0.1111111111111111,\"#46039f\"],[0.2222222222222222,\"#7201a8\"],[0.3333333333333333,\"#9c179e\"],[0.4444444444444444,\"#bd3786\"],[0.5555555555555556,\"#d8576b\"],[0.6666666666666666,\"#ed7953\"],[0.7777777777777778,\"#fb9f3a\"],[0.8888888888888888,\"#fdca26\"],[1.0,\"#f0f921\"]]}],\"contourcarpet\":[{\"type\":\"contourcarpet\",\"colorbar\":{\"outlinewidth\":0,\"ticks\":\"\"}}],\"contour\":[{\"type\":\"contour\",\"colorbar\":{\"outlinewidth\":0,\"ticks\":\"\"},\"colorscale\":[[0.0,\"#0d0887\"],[0.1111111111111111,\"#46039f\"],[0.2222222222222222,\"#7201a8\"],[0.3333333333333333,\"#9c179e\"],[0.4444444444444444,\"#bd3786\"],[0.5555555555555556,\"#d8576b\"],[0.6666666666666666,\"#ed7953\"],[0.7777777777777778,\"#fb9f3a\"],[0.8888888888888888,\"#fdca26\"],[1.0,\"#f0f921\"]]}],\"surface\":[{\"type\":\"surface\",\"colorbar\":{\"outlinewidth\":0,\"ticks\":\"\"},\"colorscale\":[[0.0,\"#0d0887\"],[0.1111111111111111,\"#46039f\"],[0.2222222222222222,\"#7201a8\"],[0.3333333333333333,\"#9c179e\"],[0.4444444444444444,\"#bd3786\"],[0.5555555555555556,\"#d8576b\"],[0.6666666666666666,\"#ed7953\"],[0.7777777777777778,\"#fb9f3a\"],[0.8888888888888888,\"#fdca26\"],[1.0,\"#f0f921\"]]}],\"mesh3d\":[{\"type\":\"mesh3d\",\"colorbar\":{\"outlinewidth\":0,\"ticks\":\"\"}}],\"scatter\":[{\"fillpattern\":{\"fillmode\":\"overlay\",\"size\":10,\"solidity\":0.2},\"type\":\"scatter\"}],\"parcoords\":[{\"type\":\"parcoords\",\"line\":{\"colorbar\":{\"outlinewidth\":0,\"ticks\":\"\"}}}],\"scatterpolargl\":[{\"type\":\"scatterpolargl\",\"marker\":{\"colorbar\":{\"outlinewidth\":0,\"ticks\":\"\"}}}],\"bar\":[{\"error_x\":{\"color\":\"#2a3f5f\"},\"error_y\":{\"color\":\"#2a3f5f\"},\"marker\":{\"line\":{\"color\":\"#E5ECF6\",\"width\":0.5},\"pattern\":{\"fillmode\":\"overlay\",\"size\":10,\"solidity\":0.2}},\"type\":\"bar\"}],\"scattergeo\":[{\"type\":\"scattergeo\",\"marker\":{\"colorbar\":{\"outlinewidth\":0,\"ticks\":\"\"}}}],\"scatterpolar\":[{\"type\":\"scatterpolar\",\"marker\":{\"colorbar\":{\"outlinewidth\":0,\"ticks\":\"\"}}}],\"histogram\":[{\"marker\":{\"pattern\":{\"fillmode\":\"overlay\",\"size\":10,\"solidity\":0.2}},\"type\":\"histogram\"}],\"scattergl\":[{\"type\":\"scattergl\",\"marker\":{\"colorbar\":{\"outlinewidth\":0,\"ticks\":\"\"}}}],\"scatter3d\":[{\"type\":\"scatter3d\",\"line\":{\"colorbar\":{\"outlinewidth\":0,\"ticks\":\"\"}},\"marker\":{\"colorbar\":{\"outlinewidth\":0,\"ticks\":\"\"}}}],\"scattermapbox\":[{\"type\":\"scattermapbox\",\"marker\":{\"colorbar\":{\"outlinewidth\":0,\"ticks\":\"\"}}}],\"scatterternary\":[{\"type\":\"scatterternary\",\"marker\":{\"colorbar\":{\"outlinewidth\":0,\"ticks\":\"\"}}}],\"scattercarpet\":[{\"type\":\"scattercarpet\",\"marker\":{\"colorbar\":{\"outlinewidth\":0,\"ticks\":\"\"}}}],\"carpet\":[{\"aaxis\":{\"endlinecolor\":\"#2a3f5f\",\"gridcolor\":\"white\",\"linecolor\":\"white\",\"minorgridcolor\":\"white\",\"startlinecolor\":\"#2a3f5f\"},\"baxis\":{\"endlinecolor\":\"#2a3f5f\",\"gridcolor\":\"white\",\"linecolor\":\"white\",\"minorgridcolor\":\"white\",\"startlinecolor\":\"#2a3f5f\"},\"type\":\"carpet\"}],\"table\":[{\"cells\":{\"fill\":{\"color\":\"#EBF0F8\"},\"line\":{\"color\":\"white\"}},\"header\":{\"fill\":{\"color\":\"#C8D4E3\"},\"line\":{\"color\":\"white\"}},\"type\":\"table\"}],\"barpolar\":[{\"marker\":{\"line\":{\"color\":\"#E5ECF6\",\"width\":0.5},\"pattern\":{\"fillmode\":\"overlay\",\"size\":10,\"solidity\":0.2}},\"type\":\"barpolar\"}],\"pie\":[{\"automargin\":true,\"type\":\"pie\"}]},\"layout\":{\"autotypenumbers\":\"strict\",\"colorway\":[\"#636efa\",\"#EF553B\",\"#00cc96\",\"#ab63fa\",\"#FFA15A\",\"#19d3f3\",\"#FF6692\",\"#B6E880\",\"#FF97FF\",\"#FECB52\"],\"font\":{\"color\":\"#2a3f5f\"},\"hovermode\":\"closest\",\"hoverlabel\":{\"align\":\"left\"},\"paper_bgcolor\":\"white\",\"plot_bgcolor\":\"#E5ECF6\",\"polar\":{\"bgcolor\":\"#E5ECF6\",\"angularaxis\":{\"gridcolor\":\"white\",\"linecolor\":\"white\",\"ticks\":\"\"},\"radialaxis\":{\"gridcolor\":\"white\",\"linecolor\":\"white\",\"ticks\":\"\"}},\"ternary\":{\"bgcolor\":\"#E5ECF6\",\"aaxis\":{\"gridcolor\":\"white\",\"linecolor\":\"white\",\"ticks\":\"\"},\"baxis\":{\"gridcolor\":\"white\",\"linecolor\":\"white\",\"ticks\":\"\"},\"caxis\":{\"gridcolor\":\"white\",\"linecolor\":\"white\",\"ticks\":\"\"}},\"coloraxis\":{\"colorbar\":{\"outlinewidth\":0,\"ticks\":\"\"}},\"colorscale\":{\"sequential\":[[0.0,\"#0d0887\"],[0.1111111111111111,\"#46039f\"],[0.2222222222222222,\"#7201a8\"],[0.3333333333333333,\"#9c179e\"],[0.4444444444444444,\"#bd3786\"],[0.5555555555555556,\"#d8576b\"],[0.6666666666666666,\"#ed7953\"],[0.7777777777777778,\"#fb9f3a\"],[0.8888888888888888,\"#fdca26\"],[1.0,\"#f0f921\"]],\"sequentialminus\":[[0.0,\"#0d0887\"],[0.1111111111111111,\"#46039f\"],[0.2222222222222222,\"#7201a8\"],[0.3333333333333333,\"#9c179e\"],[0.4444444444444444,\"#bd3786\"],[0.5555555555555556,\"#d8576b\"],[0.6666666666666666,\"#ed7953\"],[0.7777777777777778,\"#fb9f3a\"],[0.8888888888888888,\"#fdca26\"],[1.0,\"#f0f921\"]],\"diverging\":[[0,\"#8e0152\"],[0.1,\"#c51b7d\"],[0.2,\"#de77ae\"],[0.3,\"#f1b6da\"],[0.4,\"#fde0ef\"],[0.5,\"#f7f7f7\"],[0.6,\"#e6f5d0\"],[0.7,\"#b8e186\"],[0.8,\"#7fbc41\"],[0.9,\"#4d9221\"],[1,\"#276419\"]]},\"xaxis\":{\"gridcolor\":\"white\",\"linecolor\":\"white\",\"ticks\":\"\",\"title\":{\"standoff\":15},\"zerolinecolor\":\"white\",\"automargin\":true,\"zerolinewidth\":2},\"yaxis\":{\"gridcolor\":\"white\",\"linecolor\":\"white\",\"ticks\":\"\",\"title\":{\"standoff\":15},\"zerolinecolor\":\"white\",\"automargin\":true,\"zerolinewidth\":2},\"scene\":{\"xaxis\":{\"backgroundcolor\":\"#E5ECF6\",\"gridcolor\":\"white\",\"linecolor\":\"white\",\"showbackground\":true,\"ticks\":\"\",\"zerolinecolor\":\"white\",\"gridwidth\":2},\"yaxis\":{\"backgroundcolor\":\"#E5ECF6\",\"gridcolor\":\"white\",\"linecolor\":\"white\",\"showbackground\":true,\"ticks\":\"\",\"zerolinecolor\":\"white\",\"gridwidth\":2},\"zaxis\":{\"backgroundcolor\":\"#E5ECF6\",\"gridcolor\":\"white\",\"linecolor\":\"white\",\"showbackground\":true,\"ticks\":\"\",\"zerolinecolor\":\"white\",\"gridwidth\":2}},\"shapedefaults\":{\"line\":{\"color\":\"#2a3f5f\"}},\"annotationdefaults\":{\"arrowcolor\":\"#2a3f5f\",\"arrowhead\":0,\"arrowwidth\":1},\"geo\":{\"bgcolor\":\"white\",\"landcolor\":\"#E5ECF6\",\"subunitcolor\":\"white\",\"showland\":true,\"showlakes\":true,\"lakecolor\":\"white\"},\"title\":{\"x\":0.05},\"mapbox\":{\"style\":\"light\"}}},\"xaxis\":{\"anchor\":\"y\",\"domain\":[0.0,0.45],\"title\":{\"text\":\"Frequency (GHz)\"}},\"yaxis\":{\"anchor\":\"x\",\"domain\":[0.0,1.0],\"title\":{\"text\":\"MSR (uV)\"}},\"xaxis2\":{\"anchor\":\"y2\",\"domain\":[0.55,1.0],\"title\":{\"text\":\"Frequency (GHz)\"}},\"yaxis2\":{\"anchor\":\"x2\",\"domain\":[0.0,1.0],\"title\":{\"text\":\"Phase (rad)\"}},\"annotations\":[{\"font\":{\"size\":16},\"showarrow\":false,\"text\":\"MSR (V)\",\"x\":0.225,\"xanchor\":\"center\",\"xref\":\"paper\",\"y\":1.0,\"yanchor\":\"bottom\",\"yref\":\"paper\"},{\"font\":{\"size\":16},\"showarrow\":false,\"text\":\"phase (rad)\",\"x\":0.775,\"xanchor\":\"center\",\"xref\":\"paper\",\"y\":1.0,\"yanchor\":\"bottom\",\"yref\":\"paper\"}],\"showlegend\":true,\"uirevision\":\"0\"},                        {\"responsive\": true}                    ).then(function(){\n",
       "                            \n",
       "var gd = document.getElementById('e3c2cdf1-aef1-4ddd-b6bc-7a642beb9f07');\n",
       "var x = new MutationObserver(function (mutations, observer) {{\n",
       "        var display = window.getComputedStyle(gd).display;\n",
       "        if (!display || display === 'none') {{\n",
       "            console.log([gd, 'removed!']);\n",
       "            Plotly.purge(gd);\n",
       "            observer.disconnect();\n",
       "        }}\n",
       "}});\n",
       "\n",
       "// Listen for the removal of the full notebook cells\n",
       "var notebookContainer = gd.closest('#notebook-container');\n",
       "if (notebookContainer) {{\n",
       "    x.observe(notebookContainer, {childList: true});\n",
       "}}\n",
       "\n",
       "// Listen for the clearing of the current output cell\n",
       "var outputEl = gd.closest('.output');\n",
       "if (outputEl) {{\n",
       "    x.observe(outputEl, {childList: true});\n",
       "}}\n",
       "\n",
       "                        })                };                });            </script>        </div>"
      ]
     },
     "metadata": {},
     "output_type": "display_data"
    }
   ],
   "source": [
    "start = -50e6\n",
    "stop = 40e6\n",
    "points = 100\n",
    "\n",
    "sequence = qubit_spectroscopy_sequence(\n",
    "    Device,\n",
    "    qubit = 0,\n",
    ")\n",
    "\n",
    "qubit = 0    \n",
    "Base_lo = Device.instruments[\"shfqc_qc\"][\"settings\"][\"lo_frequency\"]\n",
    "    \n",
    "Data = DataUnits(\n",
    "    name=f\"sweep_q{qubit}\", quantities={\"frequency\": \"Hz\"}\n",
    ")\n",
    "\n",
    "freqs = np.linspace(start, stop, points)\n",
    "\n",
    "msr, phase, i, q = Device.execute_pulse_sequence_freq(sequence, start, stop, points)\n",
    "\n",
    "results = {\n",
    "    \"MSR[V]\": msr[0],\n",
    "    \"i[V]\": i[0],\n",
    "    \"q[V]\": q[0],\n",
    "    \"phase[rad]\": phase[0],\n",
    "    \"frequency[Hz]\": freqs + Base_lo,\n",
    "}\n",
    "\n",
    "Data.set(results)\n",
    "\n",
    "frequency_msr_phase__fast_precision(Data)"
   ]
  },
  {
   "cell_type": "code",
   "execution_count": 9,
   "metadata": {},
   "outputs": [
    {
     "data": {
      "text/plain": [
       "-20707070.70707035"
      ]
     },
     "execution_count": 9,
     "metadata": {},
     "output_type": "execute_result"
    }
   ],
   "source": [
    "qubit_frequency = Data.get_values(\"frequency\", \"hertz\")[np.argmin(Data.df[\"MSR\"])]\n",
    "freq = qubit_frequency -  Device.instruments[\"shfqc_qc\"][\"settings\"][\"lo_frequency\"]\n",
    "freq"
   ]
  },
  {
   "cell_type": "markdown",
   "metadata": {},
   "source": [
    "Check QS"
   ]
  },
  {
   "cell_type": "code",
   "execution_count": 28,
   "metadata": {},
   "outputs": [],
   "source": [
    "Device.reload_settings()\n",
    "# Device.instruments[\"shfqc_qc\"][\"settings\"][\"if_frequency\"] = freq\n",
    "Device.apply_settings()"
   ]
  },
  {
   "cell_type": "code",
   "execution_count": 29,
   "metadata": {},
   "outputs": [
    {
     "name": "stdout",
     "output_type": "stream",
     "text": [
      "2022.12.09 13:10:06.449 laboneq.compiler.workflow.compiler INFO   Starting LabOne Q Compiler run...\n",
      "2022.12.09 13:10:06.475 laboneq.compiler.workflow.compiler INFO   Total seqC lines generated: 40\n",
      "2022.12.09 13:10:06.476 laboneq.compiler.workflow.compiler INFO   Total sample points generated: 6000\n",
      "2022.12.09 13:10:06.476 laboneq.compiler.workflow.compiler INFO   Finished LabOne Q Compiler run.\n",
      "2022.12.09 13:10:07.209 laboneq.controller.controller  INFO   Starting near-time execution...\n",
      "2022.12.09 13:10:08.236 laboneq.controller.controller  INFO   Finished near-time execution.\n",
      "4.457683753667133e-05 -2.230818304052491 -2.733158423175067e-05 -3.521475469392777e-05\n",
      "2022.12.09 13:10:08.584 laboneq.compiler.workflow.compiler INFO   Starting LabOne Q Compiler run...\n",
      "2022.12.09 13:10:08.609 laboneq.compiler.workflow.compiler INFO   Total seqC lines generated: 39\n",
      "2022.12.09 13:10:08.609 laboneq.compiler.workflow.compiler INFO   Total sample points generated: 6000\n",
      "2022.12.09 13:10:08.609 laboneq.compiler.workflow.compiler INFO   Finished LabOne Q Compiler run.\n",
      "2022.12.09 13:10:09.344 laboneq.controller.controller  INFO   Starting near-time execution...\n",
      "2022.12.09 13:10:10.416 laboneq.controller.controller  INFO   Finished near-time execution.\n",
      "0.01186107518110702 -0.4463028198310891 0.010699272079156694 -0.005119636845329062\n"
     ]
    }
   ],
   "source": [
    "sequence = PulseSequence()\n",
    "qd_pulse = Device.create_qubit_drive_pulse(0, start=0, duration=1000) \n",
    "ro_pulse = Device.create_qubit_readout_pulse(0, start=1000)\n",
    "sequence.add(qd_pulse)\n",
    "sequence.add(ro_pulse)\n",
    "    \n",
    "msr, phase, i, q = Device.execute_pulse_sequence_NoSamples(sequence)\n",
    "print(msr, phase, i , q)\n",
    "\n",
    "# msr, phase, i, q = Device.execute_pulse_sequence(sequence)\n",
    "# print(msr, phase, i , q)"
   ]
  },
  {
   "cell_type": "code",
   "execution_count": null,
   "metadata": {},
   "outputs": [],
   "source": []
  }
 ],
 "metadata": {
  "kernelspec": {
   "display_name": "JQibo",
   "language": "python",
   "name": "python3"
  },
  "language_info": {
   "codemirror_mode": {
    "name": "ipython",
    "version": 3
   },
   "file_extension": ".py",
   "mimetype": "text/x-python",
   "name": "python",
   "nbconvert_exporter": "python",
   "pygments_lexer": "ipython3",
   "version": "3.9.13"
  },
  "orig_nbformat": 4,
  "vscode": {
   "interpreter": {
    "hash": "f353bd5fd81425b5652546a01bae5f32b1385e41b0e8c3de3b348335c6a3ea5c"
   }
  }
 },
 "nbformat": 4,
 "nbformat_minor": 2
}
