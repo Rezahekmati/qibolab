{
 "cells": [
  {
   "cell_type": "code",
   "execution_count": 1,
   "id": "e10c48c4",
   "metadata": {},
   "outputs": [
    {
     "name": "stderr",
     "output_type": "stream",
     "text": [
      "[Qibo 0.1.6|INFO|2022-02-07 10:44:36]: Using numpy backend on /CPU:0\n",
      "[Qibo 0.1.6|WARNING|2022-02-07 10:44:36]: numpy backend uses `np.einsum` and supports CPU only. Consider installing the qibojit or qibotf backends for increased performance and to enable GPU acceleration.\n"
     ]
    }
   ],
   "source": [
    "from qibolab.platforms.icplatform import ICPlatform\n",
    "from qibolab.circuit import PulseSequence\n",
    "from qibolab.pulses import Pulse, ReadoutPulse\n",
    "from qibolab.pulse_shapes import Rectangular\n",
    "import matplotlib.pyplot as plt\n",
    "import numpy as np"
   ]
  },
  {
   "cell_type": "markdown",
   "id": "2c8cb9c6",
   "metadata": {},
   "source": [
    "### Constants"
   ]
  },
  {
   "cell_type": "code",
   "execution_count": 2,
   "id": "33963001",
   "metadata": {},
   "outputs": [],
   "source": [
    "adc = \"alazar_adc\"\n",
    "dac = \"awg\"\n",
    "data_idx = 0\n",
    "ampl_idx = 3\n",
    "readout_lo_freq = 5e9\n",
    "qubit_lo_freq = 3.8e9\n",
    "readout_channels = (0, 1)\n",
    "qubit_channels = (2, 3)\n",
    "pulse_amplitude = 0.75 / 2\n",
    "readout_phase = (-6.2, 0.2)\n",
    "qubit_phase = (0, 0)\n",
    "shots = 2000\n",
    "readout_duration = 5e-6"
   ]
  },
  {
   "cell_type": "code",
   "execution_count": 7,
   "id": "8d6d5d35",
   "metadata": {},
   "outputs": [
    {
     "name": "stderr",
     "output_type": "stream",
     "text": [
      "[Qibo 0.1.6|INFO|2022-02-07 10:44:56]: Loading platform icarusq.\n",
      "[Qibo 0.1.6|INFO|2022-02-07 10:44:56]: Connecting to icarusq instruments.\n"
     ]
    }
   ],
   "source": [
    "icarusq = ICPlatform(\"icarusq\")\n",
    "icarusq.connect()"
   ]
  },
  {
   "cell_type": "markdown",
   "id": "159b5e87",
   "metadata": {},
   "source": [
    "## Resonator Spectroscopy"
   ]
  },
  {
   "cell_type": "code",
   "execution_count": 4,
   "id": "cbde230d",
   "metadata": {},
   "outputs": [],
   "source": [
    "readout_if = 100e6\n",
    "ro_pulse = ReadoutPulse(start=0, duration=readout_duration, amplitude=pulse_amplitude / 2, frequency=readout_if,\n",
    "                        phase=readout_phase, shape=Rectangular(), channel=readout_channels, device=dac, adc=adc)\n",
    "ps = PulseSequence()\n",
    "ps.add(ro_pulse)\n",
    "res = icarusq.execute(ps, shots)"
   ]
  },
  {
   "cell_type": "code",
   "execution_count": 5,
   "id": "acebc9eb",
   "metadata": {},
   "outputs": [
    {
     "name": "stdout",
     "output_type": "stream",
     "text": [
      "{'alazar_adc': array([[-5.50156435e-04, -9.48475793e-05, -1.70218299e+02,\n",
      "         5.58272484e-04],\n",
      "       [ 4.49144125e-04, -6.25249419e-05, -7.92516050e+00,\n",
      "         4.53475263e-04]])}\n"
     ]
    }
   ],
   "source": [
    "print(res)\n",
    "ampl = res[adc][data_idx][ampl_idx]\n",
    "print(ampl)"
   ]
  },
  {
   "cell_type": "code",
   "execution_count": null,
   "id": "3e80902c",
   "metadata": {},
   "outputs": [],
   "source": [
    "readout_if = 200e6\n",
    "ro_pulse = ReadoutPulse(start=0, duration=readout_duration, amplitude=pulse_amplitude / 2, frequency=readout_if,\n",
    "                        phase=readout_phase, shape=Rectangular(), channel=readout_channels, device=dac, adc=adc)\n",
    "ps.add(ro_pulse)\n",
    "res = icarusq.execute(ps, shots)"
   ]
  },
  {
   "cell_type": "code",
   "execution_count": null,
   "id": "09f809d0",
   "metadata": {},
   "outputs": [],
   "source": [
    "print(res)\n",
    "ampl = res[adc][data_idx][ampl_idx]\n",
    "print(ampl)"
   ]
  },
  {
   "cell_type": "code",
   "execution_count": 8,
   "id": "5eb0967f",
   "metadata": {},
   "outputs": [],
   "source": [
    "icarusq.stop()\n",
    "icarusq.disconnect()"
   ]
  }
 ],
 "metadata": {
  "kernelspec": {
   "display_name": "Python 3",
   "language": "python",
   "name": "python3"
  },
  "language_info": {
   "codemirror_mode": {
    "name": "ipython",
    "version": 3
   },
   "file_extension": ".py",
   "mimetype": "text/x-python",
   "name": "python",
   "nbconvert_exporter": "python",
   "pygments_lexer": "ipython3",
   "version": "3.8.5"
  }
 },
 "nbformat": 4,
 "nbformat_minor": 5
}
