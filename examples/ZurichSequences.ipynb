{
 "cells": [
  {
   "cell_type": "markdown",
   "metadata": {},
   "source": [
    "WARNING: It plays but the results correspond to the first sequence in a way"
   ]
  },
  {
   "cell_type": "code",
   "execution_count": 1,
   "metadata": {},
   "outputs": [
    {
     "name": "stdout",
     "output_type": "stream",
     "text": [
      "2023.01.20 17:52:52.633 laboneq.controller.laboneq_logging INFO   Logging initialized from [Default inline config in laboneq.controller.laboneq_logging] logdir is /home/admin/Juan/qibolab/examples/laboneq_output/log\n",
      "2023.01.20 17:52:52.635 laboneq.controller.controller  INFO   VERSION: laboneq 1.6.0\n",
      "2023.01.20 17:52:52.635 laboneq.controller.devices.device_collection INFO   Connecting to data server at localhost:8004\n",
      "2023.01.20 17:52:52.837 laboneq.controller.communication INFO   Connected to Zurich Instrument's Data Server version 22.08 at localhost:8004\n",
      "2023.01.20 17:52:54.162 laboneq.controller.devices.device_collection INFO   Configuring clock sources\n",
      "2023.01.20 17:52:54.386 laboneq.controller.devices.device_collection INFO   Clock sources configured\n"
     ]
    }
   ],
   "source": [
    "from qibolab.pulses import FluxPulse, PulseSequence, PulseShape, Pulse, ReadoutPulse\n",
    "import laboneq.simple as lo\n",
    "from qibolab.paths import qibolab_folder\n",
    "\n",
    "PulseShape.SAMPLING_RATE = 2e9\n",
    "\n",
    "sequences = []\n",
    "\n",
    "sequence1 = PulseSequence()\n",
    "\n",
    "sequence1.add(\n",
    "    Pulse(\n",
    "        start = 100,\n",
    "        amplitude=0.3,\n",
    "        duration=200,\n",
    "        frequency=200_000_000,\n",
    "        relative_phase=0,\n",
    "        shape=\"Gaussian(5)\",  # Gaussian shape with std = duration / int\n",
    "        channel=2,\n",
    "        qubit=0,\n",
    "    )\n",
    ")\n",
    "\n",
    "sequence1.add(\n",
    "    Pulse(\n",
    "        start = 350,\n",
    "        amplitude=1,\n",
    "        duration=100,\n",
    "        frequency=200_000_000,\n",
    "        relative_phase=0,\n",
    "        shape=\"Drag(5, 10)\", \n",
    "        channel=2,\n",
    "        qubit=0,\n",
    "    )\n",
    ")\n",
    "\n",
    "sequence1.add(\n",
    "    ReadoutPulse(\n",
    "        start = 500,\n",
    "        amplitude=0.9,\n",
    "        duration=200,\n",
    "        frequency=7_520_000_000,\n",
    "        relative_phase=0,\n",
    "        shape=\"Rectangular\",\n",
    "        channel=1,\n",
    "        qubit=0,\n",
    "    )\n",
    ")\n",
    "\n",
    "sequence1.add(\n",
    "    FluxPulse(\n",
    "        start = 0,\n",
    "        amplitude=0.9,\n",
    "        duration=800,\n",
    "        relative_phase=0,\n",
    "        shape=\"Rectangular\",\n",
    "        channel=0,\n",
    "        qubit=0,\n",
    "    )\n",
    ")\n",
    "\n",
    "\n",
    "# sequence1.plot()\n",
    "\n",
    "sequences.append(sequence1)\n",
    "\n",
    "sequence2 = PulseSequence()\n",
    "\n",
    "sequence2.add(\n",
    "    Pulse(\n",
    "        start=0,\n",
    "        amplitude=0.3,\n",
    "        duration=200,\n",
    "        frequency=200_000_000,\n",
    "        relative_phase=0,\n",
    "        shape=\"Gaussian(5)\",  # Gaussian shape with std = duration / int\n",
    "        channel=2,\n",
    "        qubit=0,\n",
    "    )\n",
    ")\n",
    "\n",
    "sequence2.add(\n",
    "    Pulse(\n",
    "        start=250,\n",
    "        amplitude=1,\n",
    "        duration=200,\n",
    "        frequency=200_000_000,\n",
    "        relative_phase=0.5,\n",
    "        shape=\"Drag(5, 0.1)\", \n",
    "        channel=2,\n",
    "        qubit=1,\n",
    "    )\n",
    ")\n",
    "\n",
    "sequence2.add(\n",
    "    Pulse(\n",
    "        start=200,\n",
    "        amplitude=1,\n",
    "        duration=200,\n",
    "        frequency=200_000_000,\n",
    "        relative_phase=0.5,\n",
    "        shape=\"Drag(5, 0.1)\", \n",
    "        channel=2,\n",
    "        qubit=0,\n",
    "    )\n",
    ")\n",
    "\n",
    "sequence2.add(\n",
    "    ReadoutPulse(\n",
    "        start=400,\n",
    "        amplitude=0.2,\n",
    "        duration=200,\n",
    "        frequency=7_520_000_000,\n",
    "        relative_phase=0,\n",
    "        shape=\"Rectangular\",\n",
    "        channel=1,\n",
    "        qubit=0,\n",
    "    )\n",
    ")\n",
    "\n",
    "sequence2.add(\n",
    "    FluxPulse(\n",
    "        start=00,\n",
    "        amplitude=0.9,\n",
    "        duration=600,\n",
    "        relative_phase=0,\n",
    "        shape=\"Rectangular\",\n",
    "        channel=0,\n",
    "        qubit=0,\n",
    "    )\n",
    ")\n",
    "\n",
    "\n",
    "# sequence2.plot()\n",
    "\n",
    "sequences.append(sequence2)\n",
    "\n",
    "from qibolab.pulses import Pulse, PulseSequence, ReadoutPulse, PulseShape\n",
    "from qibolab.instruments.zhinst import Zurich\n",
    "import laboneq.simple as lo\n",
    "from qibolab.paths import qibolab_folder\n",
    "\n",
    "# runcard = \"/home/admin/Juan/qibolab/src/qibolab/runcards/zhinst.yml\"\n",
    "runcard = qibolab_folder / \"runcards\" / \"zhinst.yml\"\n",
    "use_emulation = False\n",
    "Device = Zurich('ZUFLO', \"NoHaceFalta\", runcard, use_emulation = use_emulation)\n"
   ]
  },
  {
   "cell_type": "code",
   "execution_count": 2,
   "metadata": {},
   "outputs": [
    {
     "data": {
      "text/plain": [
       "800"
      ]
     },
     "execution_count": 2,
     "metadata": {},
     "output_type": "execute_result"
    }
   ],
   "source": [
    "sequence1[0].duration"
   ]
  },
  {
   "cell_type": "code",
   "execution_count": 4,
   "metadata": {},
   "outputs": [
    {
     "name": "stdout",
     "output_type": "stream",
     "text": [
      "2023.01.18 11:39:01.789 laboneq.compiler.workflow.compiler INFO   Starting LabOne Q Compiler run...\n",
      "2023.01.18 11:39:01.819 laboneq.compiler.workflow.compiler INFO   Total seqC lines generated: 40\n",
      "2023.01.18 11:39:01.820 laboneq.compiler.workflow.compiler INFO   Total sample points generated: 5472\n",
      "2023.01.18 11:39:01.820 laboneq.compiler.workflow.compiler INFO   Finished LabOne Q Compiler run.\n",
      "2023.01.18 11:39:04.329 laboneq.controller.controller  INFO   Starting near-time execution...\n",
      "2023.01.18 11:39:04.909 laboneq.controller.controller  INFO   Finished near-time execution.\n",
      "[0.0003758582899091574] [2.999275790598499] [-0.0003720583763386337] [5.3310587031994395e-05]\n"
     ]
    }
   ],
   "source": [
    "msr, phase, i, q = Device.execute_sequences([sequence1])\n",
    "print(msr, phase, i, q)"
   ]
  },
  {
   "cell_type": "code",
   "execution_count": 3,
   "metadata": {},
   "outputs": [
    {
     "data": {
      "text/plain": [
       "[[PulseFunctional(function='const', uid='readout_0_0_0', amplitude=0.9, length=2.0000000000000002e-07, pulse_parameters=None)],\n",
       " [PulseFunctional(function='const', uid='readout_0_1_0', amplitude=0.2, length=2.0000000000000002e-07, pulse_parameters=None)]]"
      ]
     },
     "execution_count": 3,
     "metadata": {},
     "output_type": "execute_result"
    }
   ],
   "source": [
    "Device.sequence_readout"
   ]
  },
  {
   "cell_type": "code",
   "execution_count": 2,
   "metadata": {},
   "outputs": [
    {
     "name": "stdout",
     "output_type": "stream",
     "text": [
      "2023.01.18 11:38:53.005 laboneq.compiler.workflow.compiler INFO   Starting LabOne Q Compiler run...\n",
      "2023.01.18 11:38:53.049 laboneq.compiler.workflow.compiler INFO   Total seqC lines generated: 65\n",
      "2023.01.18 11:38:53.049 laboneq.compiler.workflow.compiler INFO   Total sample points generated: 14880\n",
      "2023.01.18 11:38:53.050 laboneq.compiler.workflow.compiler INFO   Finished LabOne Q Compiler run.\n",
      "2023.01.18 11:38:55.679 laboneq.controller.controller  INFO   Starting near-time execution...\n",
      "2023.01.18 11:38:56.401 laboneq.controller.controller  INFO   Finished near-time execution.\n",
      "[7.736374969408773e-05, 7.096780961681983e-05] [2.981028804327076, -3.06353252487817] [-7.636864260364931e-05, -7.075170233866544e-05] [1.2368516224896952e-05, -5.534132090045177e-06]\n"
     ]
    }
   ],
   "source": [
    "msr, phase, i, q = Device.execute_sequences(sequences)\n",
    "print(msr, phase, i, q)"
   ]
  },
  {
   "cell_type": "code",
   "execution_count": 3,
   "metadata": {},
   "outputs": [
    {
     "name": "stdout",
     "output_type": "stream",
     "text": [
      "2023.01.18 11:06:46.523 laboneq.compiler.workflow.compiler INFO   Starting LabOne Q Compiler run...\n",
      "2023.01.18 11:06:46.547 laboneq.compiler.workflow.compiler INFO   Total seqC lines generated: 17\n",
      "2023.01.18 11:06:46.547 laboneq.compiler.workflow.compiler INFO   Total sample points generated: 3648\n",
      "2023.01.18 11:06:46.548 laboneq.compiler.workflow.compiler INFO   Finished LabOne Q Compiler run.\n",
      "2023.01.18 11:06:48.903 laboneq.controller.controller  INFO   Starting near-time execution...\n",
      "2023.01.18 11:06:49.573 laboneq.controller.controller  INFO   Finished near-time execution.\n",
      "[0.00014592025798954215, 0.0001478342357187665] [0.3883989065099184, 0.3805221661477341] [0.00013505161977487106, 0.00013725977507735026] [5.526103227336777e-05, 5.490642399817198e-05]\n"
     ]
    }
   ],
   "source": [
    "msr, phase, i, q = Device.Measure_sequences(sequences)\n",
    "print(msr, phase, i, q)"
   ]
  },
  {
   "cell_type": "code",
   "execution_count": 5,
   "metadata": {},
   "outputs": [
    {
     "name": "stdout",
     "output_type": "stream",
     "text": [
      "2023.01.18 11:30:07.095 laboneq.pulse_sheet_viewer.pulse_sheet_viewer INFO   Writing html file to /home/admin/Juan/qibolab/examples/Pulse_sheet_2023-01-18-11-30-07.html\n"
     ]
    },
    {
     "data": {
      "text/html": [
       "<a href='Pulse_sheet_2023-01-18-11-30-07.html' target='_blank'>Pulse_sheet_2023-01-18-11-30-07.html</a><br>"
      ],
      "text/plain": [
       "/home/admin/Juan/qibolab/examples/Pulse_sheet_2023-01-18-11-30-07.html"
      ]
     },
     "execution_count": 5,
     "metadata": {},
     "output_type": "execute_result"
    }
   ],
   "source": [
    "lo.show_pulse_sheet(\"Pulse_sheet\",Device.exp)"
   ]
  },
  {
   "cell_type": "code",
   "execution_count": 8,
   "metadata": {},
   "outputs": [
    {
     "data": {
      "text/plain": [
       "[[PulseFunctional(function='gaussian', uid='drive_0_0_0', amplitude=0.3, length=2.0000000000000002e-07, pulse_parameters={'sigma': 0.4}),\n",
       "  PulseFunctional(function='drag', uid='drive_0_0_1', amplitude=1.0, length=1.0000000000000001e-07, pulse_parameters={'sigma': 0.4, 'beta': 10.0})],\n",
       " [PulseFunctional(function='gaussian', uid='drive_0_1_0', amplitude=0.3, length=2.0000000000000002e-07, pulse_parameters={'sigma': 0.4}),\n",
       "  PulseFunctional(function='drag', uid='drive_0_1_1', amplitude=1.0, length=2.0000000000000002e-07, pulse_parameters={'sigma': 0.4, 'beta': 0.1}),\n",
       "  PulseFunctional(function='drag', uid='drive_1_1_2', amplitude=1.0, length=2.0000000000000002e-07, pulse_parameters={'sigma': 0.4, 'beta': 0.1})]]"
      ]
     },
     "execution_count": 8,
     "metadata": {},
     "output_type": "execute_result"
    }
   ],
   "source": [
    "Device.sequence_drive"
   ]
  },
  {
   "cell_type": "code",
   "execution_count": 6,
   "metadata": {},
   "outputs": [
    {
     "name": "stdout",
     "output_type": "stream",
     "text": [
      "2023.01.18 11:30:20.325 laboneq.compiler.workflow.compiler INFO   Starting LabOne Q Compiler run...\n",
      "2023.01.18 11:30:20.374 laboneq.compiler.workflow.compiler INFO   Total seqC lines generated: 71\n",
      "2023.01.18 11:30:20.375 laboneq.compiler.workflow.compiler INFO   Total sample points generated: 15392\n",
      "2023.01.18 11:30:20.375 laboneq.compiler.workflow.compiler INFO   Finished LabOne Q Compiler run.\n",
      "2023.01.18 11:30:22.875 laboneq.controller.controller  INFO   Starting near-time execution...\n",
      "2023.01.18 11:30:23.605 laboneq.controller.controller  INFO   Finished near-time execution.\n",
      "[7.436137121051178e-05, 7.845415074561169e-05] [-2.7154535813106584, -2.7413721685647277] [-6.771112066859545e-05, -7.225432016801421e-05] [-3.0737886493876517e-05, -3.0567417069050154e-05]\n"
     ]
    }
   ],
   "source": [
    "msr,phase, i , q = Device.execute_flux_sequences(sequences)\n",
    "print(msr, phase, i, q)"
   ]
  },
  {
   "cell_type": "code",
   "execution_count": 7,
   "metadata": {},
   "outputs": [
    {
     "name": "stdout",
     "output_type": "stream",
     "text": [
      "2023.01.18 11:30:26.345 laboneq.pulse_sheet_viewer.pulse_sheet_viewer INFO   Writing html file to /home/admin/Juan/qibolab/examples/Pulse_sheet_2023-01-18-11-30-26.html\n"
     ]
    },
    {
     "data": {
      "text/html": [
       "<a href='Pulse_sheet_2023-01-18-11-30-26.html' target='_blank'>Pulse_sheet_2023-01-18-11-30-26.html</a><br>"
      ],
      "text/plain": [
       "/home/admin/Juan/qibolab/examples/Pulse_sheet_2023-01-18-11-30-26.html"
      ]
     },
     "execution_count": 7,
     "metadata": {},
     "output_type": "execute_result"
    }
   ],
   "source": [
    "lo.show_pulse_sheet(\"Pulse_sheet\",Device.exp)"
   ]
  },
  {
   "cell_type": "code",
   "execution_count": 17,
   "metadata": {},
   "outputs": [
    {
     "ename": "TypeError",
     "evalue": "'PulseFunctional' object is not iterable",
     "output_type": "error",
     "traceback": [
      "\u001b[0;31m---------------------------------------------------------------------------\u001b[0m",
      "\u001b[0;31mTypeError\u001b[0m                                 Traceback (most recent call last)",
      "Cell \u001b[0;32mIn [17], line 1\u001b[0m\n\u001b[0;32m----> 1\u001b[0m msr,phase, i , q \u001b[39m=\u001b[39m Device\u001b[39m.\u001b[39mexecute_flux_sequences([sequence1])\n\u001b[1;32m      2\u001b[0m \u001b[39mprint\u001b[39m(msr, phase, i, q)\n",
      "File \u001b[0;32m~/Juan/qibolab/src/qibolab/instruments/zhinst.py:2656\u001b[0m, in \u001b[0;36mZurich.execute_flux_sequences\u001b[0;34m(self, sequences)\u001b[0m\n\u001b[1;32m   2646\u001b[0m \u001b[39mdef\u001b[39;00m \u001b[39mexecute_flux_sequences\u001b[39m(\u001b[39mself\u001b[39m, sequences):\n\u001b[1;32m   2647\u001b[0m \n\u001b[1;32m   2648\u001b[0m     \u001b[39m# if self.sequence == sequence:\u001b[39;00m\n\u001b[0;32m   (...)\u001b[0m\n\u001b[1;32m   2652\u001b[0m     \u001b[39m#     self.sequencePulses_to_exp()\u001b[39;00m\n\u001b[1;32m   2653\u001b[0m     \u001b[39m#     self.run_seq()\u001b[39;00m\n\u001b[1;32m   2655\u001b[0m     \u001b[39mself\u001b[39m\u001b[39m.\u001b[39msequences_to_ZurichPulses(sequences)\n\u001b[0;32m-> 2656\u001b[0m     \u001b[39mself\u001b[39;49m\u001b[39m.\u001b[39;49msequencesPulses_to_exp()\n\u001b[1;32m   2657\u001b[0m     \u001b[39mself\u001b[39m\u001b[39m.\u001b[39mrun_seq()\n\u001b[1;32m   2659\u001b[0m     spec_res \u001b[39m=\u001b[39m []\n",
      "File \u001b[0;32m~/Juan/qibolab/src/qibolab/instruments/zhinst.py:2217\u001b[0m, in \u001b[0;36mZurich.sequencesPulses_to_exp\u001b[0;34m(self)\u001b[0m\n\u001b[1;32m   2215\u001b[0m \u001b[39mwith\u001b[39;00m exp\u001b[39m.\u001b[39msection(uid\u001b[39m=\u001b[39m\u001b[39mf\u001b[39m\u001b[39m\"\u001b[39m\u001b[39msequence\u001b[39m\u001b[39m{\u001b[39;00mj\u001b[39m}\u001b[39;00m\u001b[39m_measure\u001b[39m\u001b[39m\"\u001b[39m):\n\u001b[1;32m   2216\u001b[0m     i\u001b[39m=\u001b[39m\u001b[39m0\u001b[39m\n\u001b[0;32m-> 2217\u001b[0m     \u001b[39mfor\u001b[39;00m pulse \u001b[39min\u001b[39;00m sequence_r:\n\u001b[1;32m   2218\u001b[0m         qubit \u001b[39m=\u001b[39m pulse\u001b[39m.\u001b[39muid\u001b[39m.\u001b[39msplit(\u001b[39m\"\u001b[39m\u001b[39m_\u001b[39m\u001b[39m\"\u001b[39m)[\u001b[39m1\u001b[39m]\n\u001b[1;32m   2219\u001b[0m         exp\u001b[39m.\u001b[39mplay(signal\u001b[39m=\u001b[39m\u001b[39mf\u001b[39m\u001b[39m\"\u001b[39m\u001b[39mmeasure\u001b[39m\u001b[39m{\u001b[39;00mqubit\u001b[39m}\u001b[39;00m\u001b[39m\"\u001b[39m, pulse\u001b[39m=\u001b[39mpulse, phase\u001b[39m=\u001b[39m\u001b[39mself\u001b[39m\u001b[39m.\u001b[39mrel_phases[j][i])\n",
      "\u001b[0;31mTypeError\u001b[0m: 'PulseFunctional' object is not iterable"
     ]
    }
   ],
   "source": [
    "msr,phase, i , q = Device.execute_flux_sequences([sequence1])\n",
    "print(msr, phase, i, q)"
   ]
  },
  {
   "cell_type": "code",
   "execution_count": 7,
   "metadata": {},
   "outputs": [],
   "source": [
    "Device.sequences_to_ZurichPulses([sequence2])"
   ]
  },
  {
   "cell_type": "code",
   "execution_count": 4,
   "metadata": {},
   "outputs": [
    {
     "ename": "TypeError",
     "evalue": "'PulseFunctional' object is not iterable",
     "output_type": "error",
     "traceback": [
      "\u001b[0;31m---------------------------------------------------------------------------\u001b[0m",
      "\u001b[0;31mTypeError\u001b[0m                                 Traceback (most recent call last)",
      "Cell \u001b[0;32mIn [4], line 1\u001b[0m\n\u001b[0;32m----> 1\u001b[0m Device\u001b[39m.\u001b[39msequencesPulses_to_exp()\n",
      "File \u001b[0;32m~/Juan/qibolab/src/qibolab/instruments/zhinst.py:2293\u001b[0m, in \u001b[0;36mZurich.sequencesPulses_to_exp\u001b[0;34m(self)\u001b[0m\n\u001b[1;32m   2291\u001b[0m \u001b[39m# # inner loop - real-time sweep of qubit drive pulse amplitude\u001b[39;00m\n\u001b[1;32m   2292\u001b[0m \u001b[39mwith\u001b[39;00m exp\u001b[39m.\u001b[39msection(uid\u001b[39m=\u001b[39m\u001b[39mf\u001b[39m\u001b[39m\"\u001b[39m\u001b[39msequence\u001b[39m\u001b[39m{\u001b[39;00mj\u001b[39m}\u001b[39;00m\u001b[39m_flux_bias\u001b[39m\u001b[39m\"\u001b[39m, alignment\u001b[39m=\u001b[39mlo\u001b[39m.\u001b[39mSectionAlignment\u001b[39m.\u001b[39mRIGHT):\n\u001b[0;32m-> 2293\u001b[0m     \u001b[39mfor\u001b[39;00m pulse \u001b[39min\u001b[39;00m sequence_f:\n\u001b[1;32m   2294\u001b[0m         qubit \u001b[39m=\u001b[39m pulse\u001b[39m.\u001b[39muid\u001b[39m.\u001b[39msplit(\u001b[39m\"\u001b[39m\u001b[39m_\u001b[39m\u001b[39m\"\u001b[39m)[\u001b[39m1\u001b[39m]\n\u001b[1;32m   2295\u001b[0m         exp\u001b[39m.\u001b[39mplay(signal\u001b[39m=\u001b[39m\u001b[39mf\u001b[39m\u001b[39m\"\u001b[39m\u001b[39mflux\u001b[39m\u001b[39m{\u001b[39;00mqubit\u001b[39m}\u001b[39;00m\u001b[39m\"\u001b[39m, pulse\u001b[39m=\u001b[39mpulse)\n",
      "\u001b[0;31mTypeError\u001b[0m: 'PulseFunctional' object is not iterable"
     ]
    }
   ],
   "source": [
    "Device.sequencesPulses_to_exp()"
   ]
  },
  {
   "cell_type": "code",
   "execution_count": 2,
   "metadata": {},
   "outputs": [
    {
     "ename": "TypeError",
     "evalue": "set_maps() takes 1 positional argument but 2 were given",
     "output_type": "error",
     "traceback": [
      "\u001b[0;31m---------------------------------------------------------------------------\u001b[0m",
      "\u001b[0;31mTypeError\u001b[0m                                 Traceback (most recent call last)",
      "Cell \u001b[0;32mIn [2], line 1\u001b[0m\n\u001b[0;32m----> 1\u001b[0m msr,phase, i , q \u001b[39m=\u001b[39m Device\u001b[39m.\u001b[39mexecute_flux_sequence(sequence1)\n\u001b[1;32m      2\u001b[0m \u001b[39mprint\u001b[39m(msr, phase, i, q)\n",
      "File \u001b[0;32m~/Juan/qibolab/src/qibolab/instruments/zhinst.py:2964\u001b[0m, in \u001b[0;36mZurich.execute_flux_sequence\u001b[0;34m(self, sequence)\u001b[0m\n\u001b[1;32m   2955\u001b[0m \u001b[39mdef\u001b[39;00m \u001b[39mexecute_flux_sequence\u001b[39m(\u001b[39mself\u001b[39m, sequence):\n\u001b[1;32m   2956\u001b[0m     \u001b[39m# if self.sequence == sequence:\u001b[39;00m\n\u001b[1;32m   2957\u001b[0m     \u001b[39m#     self.repeat_seq()\u001b[39;00m\n\u001b[0;32m   (...)\u001b[0m\n\u001b[1;32m   2960\u001b[0m     \u001b[39m#     self.sequencePulses_to_exp()\u001b[39;00m\n\u001b[1;32m   2961\u001b[0m     \u001b[39m#     self.run_seq()\u001b[39;00m\n\u001b[1;32m   2963\u001b[0m     \u001b[39mself\u001b[39m\u001b[39m.\u001b[39msequence_to_ZurichPulses(sequence)\n\u001b[0;32m-> 2964\u001b[0m     \u001b[39mself\u001b[39;49m\u001b[39m.\u001b[39;49msequencePulses_to_exp()\n\u001b[1;32m   2965\u001b[0m     \u001b[39mself\u001b[39m\u001b[39m.\u001b[39mrun_seq()\n\u001b[1;32m   2967\u001b[0m     spec_res \u001b[39m=\u001b[39m []\n",
      "File \u001b[0;32m~/Juan/qibolab/src/qibolab/instruments/zhinst.py:2950\u001b[0m, in \u001b[0;36mZurich.sequencePulses_to_exp\u001b[0;34m(self)\u001b[0m\n\u001b[1;32m   2947\u001b[0m         \u001b[39mwith\u001b[39;00m exp\u001b[39m.\u001b[39msection(uid\u001b[39m=\u001b[39m\u001b[39m\"\u001b[39m\u001b[39mrelax\u001b[39m\u001b[39m\"\u001b[39m):\n\u001b[1;32m   2948\u001b[0m             exp\u001b[39m.\u001b[39mdelay(signal\u001b[39m=\u001b[39m\u001b[39m\"\u001b[39m\u001b[39mmeasure\u001b[39m\u001b[39m\"\u001b[39m, time\u001b[39m=\u001b[39m\u001b[39mself\u001b[39m\u001b[39m.\u001b[39msettings[\u001b[39m\"\u001b[39m\u001b[39mreadout_delay\u001b[39m\u001b[39m\"\u001b[39m])\n\u001b[0;32m-> 2950\u001b[0m \u001b[39mself\u001b[39;49m\u001b[39m.\u001b[39;49mset_maps(\u001b[39mself\u001b[39;49m\u001b[39m.\u001b[39;49maddressed_qubit)\n\u001b[1;32m   2951\u001b[0m exp\u001b[39m.\u001b[39mset_signal_map(\u001b[39mself\u001b[39m\u001b[39m.\u001b[39mmap_q)\n\u001b[1;32m   2953\u001b[0m \u001b[39mself\u001b[39m\u001b[39m.\u001b[39mexperiment \u001b[39m=\u001b[39m exp\n",
      "\u001b[0;31mTypeError\u001b[0m: set_maps() takes 1 positional argument but 2 were given"
     ]
    }
   ],
   "source": [
    "msr,phase, i , q = Device.execute_flux_sequence(sequence1)\n",
    "print(msr, phase, i, q)"
   ]
  },
  {
   "cell_type": "code",
   "execution_count": 4,
   "metadata": {},
   "outputs": [
    {
     "name": "stdout",
     "output_type": "stream",
     "text": [
      "2023.01.12 13:06:07.818 laboneq.pulse_sheet_viewer.pulse_sheet_viewer INFO   Writing html file to /home/admin/Juan/qibolab/examples/Pulse_sheet_2023-01-12-13-06-07.html\n"
     ]
    },
    {
     "data": {
      "text/html": [
       "<a href='Pulse_sheet_2023-01-12-13-06-07.html' target='_blank'>Pulse_sheet_2023-01-12-13-06-07.html</a><br>"
      ],
      "text/plain": [
       "/home/admin/Juan/qibolab/examples/Pulse_sheet_2023-01-12-13-06-07.html"
      ]
     },
     "execution_count": 4,
     "metadata": {},
     "output_type": "execute_result"
    }
   ],
   "source": [
    "lo.show_pulse_sheet(\"Pulse_sheet\",Device.exp)"
   ]
  },
  {
   "cell_type": "code",
   "execution_count": 8,
   "metadata": {},
   "outputs": [
    {
     "name": "stdout",
     "output_type": "stream",
     "text": [
      "2023.01.18 11:00:53.120 laboneq.compiler.workflow.compiler INFO   Starting LabOne Q Compiler run...\n",
      "2023.01.18 11:00:53.144 laboneq.compiler.workflow.compiler INFO   Total seqC lines generated: 17\n",
      "2023.01.18 11:00:53.144 laboneq.compiler.workflow.compiler INFO   Total sample points generated: 3648\n",
      "2023.01.18 11:00:53.145 laboneq.compiler.workflow.compiler INFO   Finished LabOne Q Compiler run.\n",
      "2023.01.18 11:00:55.378 laboneq.controller.controller  INFO   Starting near-time execution...\n",
      "2023.01.18 11:00:56.229 laboneq.controller.controller  INFO   Finished near-time execution.\n",
      "[0.00015376527250553213, 0.00014335531844626267] [0.3227897725470687, 0.3267772064755336] [0.000145823935259659, 0.00013576920622603177] [4.877641780704416e-05, 4.6015975134540314e-05]\n"
     ]
    }
   ],
   "source": [
    "msr,phase, i , q = Device.execute_flux_sequences(sequences)\n",
    "print(msr, phase, i, q)"
   ]
  },
  {
   "cell_type": "code",
   "execution_count": 9,
   "metadata": {},
   "outputs": [
    {
     "name": "stdout",
     "output_type": "stream",
     "text": [
      "2023.01.18 11:00:57.652 laboneq.pulse_sheet_viewer.pulse_sheet_viewer INFO   Writing html file to /home/admin/Juan/qibolab/examples/Pulse_sheet_2023-01-18-11-00-57.html\n"
     ]
    },
    {
     "data": {
      "text/html": [
       "<a href='Pulse_sheet_2023-01-18-11-00-57.html' target='_blank'>Pulse_sheet_2023-01-18-11-00-57.html</a><br>"
      ],
      "text/plain": [
       "/home/admin/Juan/qibolab/examples/Pulse_sheet_2023-01-18-11-00-57.html"
      ]
     },
     "execution_count": 9,
     "metadata": {},
     "output_type": "execute_result"
    }
   ],
   "source": [
    "lo.show_pulse_sheet(\"Pulse_sheet\",Device.exp)"
   ]
  }
 ],
 "metadata": {
  "kernelspec": {
   "display_name": "Python 3.9.13 ('JQibo')",
   "language": "python",
   "name": "python3"
  },
  "language_info": {
   "codemirror_mode": {
    "name": "ipython",
    "version": 3
   },
   "file_extension": ".py",
   "mimetype": "text/x-python",
   "name": "python",
   "nbconvert_exporter": "python",
   "pygments_lexer": "ipython3",
   "version": "3.9.13"
  },
  "orig_nbformat": 4,
  "vscode": {
   "interpreter": {
    "hash": "f353bd5fd81425b5652546a01bae5f32b1385e41b0e8c3de3b348335c6a3ea5c"
   }
  }
 },
 "nbformat": 4,
 "nbformat_minor": 2
}
