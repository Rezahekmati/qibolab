{
 "cells": [
  {
   "cell_type": "raw",
   "metadata": {},
   "source": [
    "!ping 192.168.0.12\n",
    "!ping 192.168.0.14\n",
    "!ping 192.168.0.7\n",
    "!ping 192.168.0.8"
   ]
  },
  {
   "cell_type": "code",
   "execution_count": null,
   "metadata": {},
   "outputs": [],
   "source": [
    "from qibolab import Platform\n",
    "import diagnostics\n",
    "from qibolab.calibration import utils\n",
    "# Create a platform; connect and configure it\n",
    "platform = Platform('multiqubit')\n",
    "platform.connect()\n",
    "platform.setup()\n",
    "\n",
    "# create a diagnostics object\n",
    "ds = diagnostics.Diagnostics(platform)\n",
    "# Characterisation can be done by changing settings to qibolab/runcards/multiqubit.yml and diagnostics.yml\n",
    "\n",
    "# These scripts do not save the characterisation results on the runcard; to do so use \n",
    "#   from qibolab.calibration import utils\n",
    "#   utils.backup_config_file(platform)\n",
    "#   resonator_freq, avg_min_voltage, max_ro_voltage, smooth_dataset, dataset = ds.run_resonator_spectroscopy()\n",
    "#   ds.save_config_parameter(\"resonator_freq\", float(resonator_freq), \"settings\")"
   ]
  },
  {
   "cell_type": "code",
   "execution_count": null,
   "metadata": {},
   "outputs": [],
   "source": [
    "utils.backup_config_file(platform)"
   ]
  },
  {
   "cell_type": "markdown",
   "metadata": {},
   "source": [
    "Resonator Spectroscopy"
   ]
  },
  {
   "cell_type": "code",
   "execution_count": null,
   "metadata": {},
   "outputs": [],
   "source": [
    "\n",
    "resonator_freq, avg_min_voltage, max_ro_voltage, smooth_dataset, dataset = ds.run_resonator_spectroscopy()"
   ]
  },
  {
   "cell_type": "markdown",
   "metadata": {},
   "source": [
    "Qubit Spectroscopy"
   ]
  },
  {
   "cell_type": "code",
   "execution_count": null,
   "metadata": {},
   "outputs": [],
   "source": [
    "qubit_freq, min_ro_voltage, smooth_dataset, dataset = ds.run_qubit_spectroscopy()"
   ]
  },
  {
   "cell_type": "markdown",
   "metadata": {},
   "source": [
    "Rabi Oscillations with varying pulse length"
   ]
  },
  {
   "cell_type": "code",
   "execution_count": null,
   "metadata": {},
   "outputs": [],
   "source": [
    "dataset, pi_pulse_duration, pi_pulse_amplitude, pi_pulse_gain, rabi_oscillations_pi_pulse_min_voltage, t1 = ds.run_rabi_pulse_length()"
   ]
  },
  {
   "cell_type": "markdown",
   "metadata": {},
   "source": [
    "T1"
   ]
  },
  {
   "cell_type": "code",
   "execution_count": null,
   "metadata": {},
   "outputs": [],
   "source": [
    "t1, smooth_dataset, dataset = ds.run_t1()"
   ]
  },
  {
   "cell_type": "markdown",
   "metadata": {},
   "source": [
    "Ramsey"
   ]
  },
  {
   "cell_type": "code",
   "execution_count": null,
   "metadata": {},
   "outputs": [],
   "source": [
    "t2, smooth_dataset, dataset = ds.run_ramsey()"
   ]
  },
  {
   "cell_type": "markdown",
   "metadata": {},
   "source": [
    "Spin Echo"
   ]
  },
  {
   "cell_type": "code",
   "execution_count": null,
   "metadata": {},
   "outputs": [],
   "source": [
    "dataset = ds.run_spin_echo()"
   ]
  },
  {
   "cell_type": "code",
   "execution_count": null,
   "metadata": {},
   "outputs": [],
   "source": [
    "#Run Spin Echo 3 Pulses\n",
    "dataset = ds.run_spin_echo_3pulses()\n",
    "#TODO: The result of the plot does not match with the expected result\n",
    "#        it should result in state |0> and it seems to give state |1>"
   ]
  },
  {
   "cell_type": "markdown",
   "metadata": {},
   "source": [
    "Qubit states classification"
   ]
  },
  {
   "cell_type": "code",
   "execution_count": null,
   "metadata": {},
   "outputs": [],
   "source": [
    "all_gnd_states, mean_gnd_states, all_exc_states, mean_exc_states = ds.callibrate_qubit_states()"
   ]
  },
  {
   "cell_type": "code",
   "execution_count": null,
   "metadata": {},
   "outputs": [],
   "source": [
    "#utils.save_config_parameter(\"settings\", \"\", \"mean_exc_states\", complex(mean_exc_states))\n",
    "#utils.save_config_parameter(\"settings\", \"\", \"mean_gnd_states\", complex(mean_gnd_states))"
   ]
  },
  {
   "cell_type": "code",
   "execution_count": null,
   "metadata": {},
   "outputs": [],
   "source": [
    "utils.plot_qubit_states(all_gnd_states, all_exc_states)\n",
    "\n",
    "#Classify all points into 0 and 1\n",
    "classified_gnd_results = []\n",
    "for point in all_gnd_states: \n",
    "    classified_gnd_results.append(utils.classify(point, mean_gnd_states, mean_exc_states))\n",
    "\n",
    "classified_exc_results = []\n",
    "for point in all_exc_states:\n",
    "    classified_exc_results.append(utils.classify(point, mean_gnd_states, mean_exc_states))\n",
    "\n",
    "print(classified_gnd_results)\n",
    "print(classified_exc_results)"
   ]
  }
 ],
 "metadata": {
  "interpreter": {
   "hash": "7eaae0a1e5de089bd97afdf8c2e7e5174291eeeb163002bffa2af0ecb55f114e"
  },
  "kernelspec": {
   "display_name": "Python 3.9.7 ('Quantum_cluster')",
   "language": "python",
   "name": "python3"
  },
  "language_info": {
   "codemirror_mode": {
    "name": "ipython",
    "version": 3
   },
   "file_extension": ".py",
   "mimetype": "text/x-python",
   "name": "python",
   "nbconvert_exporter": "python",
   "pygments_lexer": "ipython3",
   "version": "3.9.12"
  },
  "orig_nbformat": 4
 },
 "nbformat": 4,
 "nbformat_minor": 2
}
