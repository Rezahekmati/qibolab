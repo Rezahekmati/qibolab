{
 "cells": [
  {
   "cell_type": "code",
   "execution_count": 1,
   "metadata": {},
   "outputs": [
    {
     "name": "stdout",
     "output_type": "stream",
     "text": [
      "\n",
      "Pinging 192.168.0.12 with 32 bytes of data:\n",
      "Reply from 192.168.0.12: bytes=32 time=6ms TTL=63\n",
      "Reply from 192.168.0.12: bytes=32 time=4ms TTL=63\n",
      "Reply from 192.168.0.12: bytes=32 time=4ms TTL=63\n",
      "Reply from 192.168.0.12: bytes=32 time=6ms TTL=63\n",
      "\n",
      "Ping statistics for 192.168.0.12:\n",
      "    Packets: Sent = 4, Received = 4, Lost = 0 (0% loss),\n",
      "Approximate round trip times in milli-seconds:\n",
      "    Minimum = 4ms, Maximum = 6ms, Average = 5ms\n",
      "\n",
      "Pinging 192.168.0.14 with 32 bytes of data:\n",
      "Reply from 192.168.0.14: bytes=32 time=5ms TTL=63\n",
      "Reply from 192.168.0.14: bytes=32 time=4ms TTL=63\n",
      "Reply from 192.168.0.14: bytes=32 time=5ms TTL=63\n",
      "Reply from 192.168.0.14: bytes=32 time=4ms TTL=63\n",
      "\n",
      "Ping statistics for 192.168.0.14:\n",
      "    Packets: Sent = 4, Received = 4, Lost = 0 (0% loss),\n",
      "Approximate round trip times in milli-seconds:\n",
      "    Minimum = 4ms, Maximum = 5ms, Average = 4ms\n",
      "\n",
      "Pinging 192.168.0.7 with 32 bytes of data:\n",
      "Reply from 192.168.0.7: bytes=32 time=5ms TTL=63\n",
      "Reply from 192.168.0.7: bytes=32 time=5ms TTL=63\n",
      "Reply from 192.168.0.7: bytes=32 time=4ms TTL=63\n",
      "Reply from 192.168.0.7: bytes=32 time=6ms TTL=63\n",
      "\n",
      "Ping statistics for 192.168.0.7:\n",
      "    Packets: Sent = 4, Received = 4, Lost = 0 (0% loss),\n",
      "Approximate round trip times in milli-seconds:\n",
      "    Minimum = 4ms, Maximum = 6ms, Average = 5ms\n",
      "\n",
      "Pinging 192.168.0.8 with 32 bytes of data:\n",
      "Reply from 192.168.0.8: bytes=32 time=6ms TTL=63\n",
      "Reply from 192.168.0.8: bytes=32 time=4ms TTL=63\n",
      "Reply from 192.168.0.8: bytes=32 time=5ms TTL=63\n",
      "Reply from 192.168.0.8: bytes=32 time=4ms TTL=63\n",
      "\n",
      "Ping statistics for 192.168.0.8:\n",
      "    Packets: Sent = 4, Received = 4, Lost = 0 (0% loss),\n",
      "Approximate round trip times in milli-seconds:\n",
      "    Minimum = 4ms, Maximum = 6ms, Average = 4ms\n"
     ]
    }
   ],
   "source": [
    "!ping 192.168.0.12\n",
    "!ping 192.168.0.14\n",
    "!ping 192.168.0.7\n",
    "!ping 192.168.0.8"
   ]
  },
  {
   "cell_type": "code",
   "execution_count": 2,
   "metadata": {},
   "outputs": [
    {
     "name": "stderr",
     "output_type": "stream",
     "text": [
      "[Qibo 0.1.7|INFO|2022-05-29 08:03:26]: Using numpy backend on /CPU:0\n",
      "[Qibo 0.1.7|WARNING|2022-05-29 08:03:26]: numpy backend uses `np.einsum` and supports CPU only. Consider installing the qibojit or qibotf backends for increased performance and to enable GPU acceleration.\n",
      "[Qibo 0.1.7|INFO|2022-05-29 08:03:26]: Loading platform multiqubit from runcard d:\\alvaro\\projects\\github\\qibolab\\src\\qibolab\\runcards\\multiqubit.yml\n",
      "[Qibo 0.1.7|INFO|2022-05-29 08:03:26]: Connecting to multiqubit instruments qrm.\n",
      "[Qibo 0.1.7|INFO|2022-05-29 08:03:26]: Connecting to multiqubit instruments lo_qrm.\n",
      "[Qibo 0.1.7|INFO|2022-05-29 08:03:27]: Connecting to multiqubit instruments qcm1.\n",
      "[Qibo 0.1.7|INFO|2022-05-29 08:03:27]: Connecting to multiqubit instruments lo_qcm1.\n"
     ]
    },
    {
     "name": "stdout",
     "output_type": "stream",
     "text": [
      "Connected to: Rohde&Schwarz SGS100A (serial:1416.0505k02/113301, firmware:4.2.76.0-4.30.046.295) in 0.25s\n",
      "Connected to: Rohde&Schwarz SGS100A (serial:1416.0505k02/113300, firmware:4.2.76.0-4.30.046.295) in 0.09s\n"
     ]
    },
    {
     "name": "stderr",
     "output_type": "stream",
     "text": [
      "[Qibo 0.1.7|INFO|2022-05-29 08:03:28]: Creating MeasurementControl Diagnostics\n"
     ]
    }
   ],
   "source": [
    "from qibolab import Platform\n",
    "import diagnostics\n",
    "from qibolab.calibration import utils\n",
    "# Create a platform; connect and configure it\n",
    "platform = Platform('multiqubit')\n",
    "platform.connect()\n",
    "platform.setup()\n",
    "\n",
    "# create a diagnostics object\n",
    "ds = diagnostics.Diagnostics(platform)\n",
    "# Characterisation can be done by changing settings to qibolab/runcards/multiqubit.yml and diagnostics.yml\n",
    "\n",
    "# These scripts do not save the characterisation results on the runcard; to do so use \n",
    "#   from qibolab.calibration import utils\n",
    "#   utils.backup_config_file(platform)\n",
    "#   resonator_freq, avg_min_voltage, max_ro_voltage, smooth_dataset, dataset = ds.run_resonator_spectroscopy()\n",
    "#   ds.save_config_parameter(\"resonator_freq\", float(resonator_freq), \"settings\")"
   ]
  },
  {
   "cell_type": "code",
   "execution_count": 6,
   "metadata": {},
   "outputs": [
    {
     "name": "stdout",
     "output_type": "stream",
     "text": [
      "Copying file: d:\\alvaro\\projects\\github\\qibolab\\src\\qibolab\\runcards\\multiqubit.yml\n",
      "Destination filed:\\alvaro\\projects\\github\\qibolab\\src\\qibolab\\calibration\\data\\settings_backups\\tiiq_29052022081450.yml\n",
      "Platform settings backup done\n"
     ]
    }
   ],
   "source": [
    "utils.backup_config_file(platform)"
   ]
  },
  {
   "cell_type": "markdown",
   "metadata": {},
   "source": [
    "Resonator Spectroscopy"
   ]
  },
  {
   "cell_type": "code",
   "execution_count": null,
   "metadata": {},
   "outputs": [],
   "source": [
    "\n",
    "resonator_freq, avg_min_voltage, max_ro_voltage, smooth_dataset, dataset = ds.run_resonator_spectroscopy()"
   ]
  },
  {
   "cell_type": "markdown",
   "metadata": {},
   "source": [
    "Qubit Spectroscopy"
   ]
  },
  {
   "cell_type": "code",
   "execution_count": null,
   "metadata": {},
   "outputs": [],
   "source": [
    "qubit_freq, min_ro_voltage, smooth_dataset, dataset = ds.run_qubit_spectroscopy()"
   ]
  },
  {
   "cell_type": "markdown",
   "metadata": {},
   "source": [
    "Rabi Oscillations with varying pulse length"
   ]
  },
  {
   "cell_type": "code",
   "execution_count": null,
   "metadata": {},
   "outputs": [],
   "source": [
    "dataset, pi_pulse_duration, pi_pulse_amplitude, pi_pulse_gain, rabi_oscillations_pi_pulse_min_voltage, t1 = ds.run_rabi_pulse_length()"
   ]
  },
  {
   "cell_type": "markdown",
   "metadata": {},
   "source": [
    "T1"
   ]
  },
  {
   "cell_type": "code",
   "execution_count": null,
   "metadata": {},
   "outputs": [],
   "source": [
    "t1, smooth_dataset, dataset = ds.run_t1()"
   ]
  },
  {
   "cell_type": "markdown",
   "metadata": {},
   "source": [
    "Ramsey"
   ]
  },
  {
   "cell_type": "code",
   "execution_count": null,
   "metadata": {},
   "outputs": [],
   "source": [
    "t2, smooth_dataset, dataset = ds.run_ramsey()"
   ]
  },
  {
   "cell_type": "markdown",
   "metadata": {},
   "source": [
    "Spin Echo"
   ]
  },
  {
   "cell_type": "code",
   "execution_count": null,
   "metadata": {},
   "outputs": [],
   "source": [
    "dataset = ds.run_spin_echo()"
   ]
  },
  {
   "cell_type": "code",
   "execution_count": null,
   "metadata": {},
   "outputs": [],
   "source": [
    "#Run Spin Echo 3 Pulses\n",
    "dataset = ds.run_spin_echo_3pulses()\n",
    "#TODO: The result of the plot does not match with the expected result\n",
    "#        it should result in state |0> and it seems to give state |1>"
   ]
  },
  {
   "cell_type": "markdown",
   "metadata": {},
   "source": [
    "Qubit states classification"
   ]
  },
  {
   "cell_type": "code",
   "execution_count": null,
   "metadata": {},
   "outputs": [],
   "source": [
    "all_gnd_states, mean_gnd_states, all_exc_states, mean_exc_states = ds.callibrate_qubit_states()"
   ]
  },
  {
   "cell_type": "code",
   "execution_count": null,
   "metadata": {},
   "outputs": [],
   "source": [
    "#utils.save_config_parameter(\"settings\", \"\", \"mean_exc_states\", complex(mean_exc_states))\n",
    "#utils.save_config_parameter(\"settings\", \"\", \"mean_gnd_states\", complex(mean_gnd_states))"
   ]
  },
  {
   "cell_type": "code",
   "execution_count": null,
   "metadata": {},
   "outputs": [],
   "source": [
    "utils.plot_qubit_states(all_gnd_states, all_exc_states)\n",
    "\n",
    "#Classify all points into 0 and 1\n",
    "classified_gnd_results = []\n",
    "for point in all_gnd_states: \n",
    "    classified_gnd_results.append(utils.classify(point, mean_gnd_states, mean_exc_states))\n",
    "\n",
    "classified_exc_results = []\n",
    "for point in all_exc_states:\n",
    "    classified_exc_results.append(utils.classify(point, mean_gnd_states, mean_exc_states))\n",
    "\n",
    "print(classified_gnd_results)\n",
    "print(classified_exc_results)"
   ]
  }
 ],
 "metadata": {
  "interpreter": {
   "hash": "7eaae0a1e5de089bd97afdf8c2e7e5174291eeeb163002bffa2af0ecb55f114e"
  },
  "kernelspec": {
   "display_name": "Python 3.9.7 ('Quantum_cluster')",
   "language": "python",
   "name": "python3"
  },
  "language_info": {
   "codemirror_mode": {
    "name": "ipython",
    "version": 3
   },
   "file_extension": ".py",
   "mimetype": "text/x-python",
   "name": "python",
   "nbconvert_exporter": "python",
   "pygments_lexer": "ipython3",
   "version": "3.9.12"
  },
  "orig_nbformat": 4
 },
 "nbformat": 4,
 "nbformat_minor": 2
}
