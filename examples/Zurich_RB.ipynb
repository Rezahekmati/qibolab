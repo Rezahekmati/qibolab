{
 "cells": [
  {
   "cell_type": "code",
   "execution_count": null,
   "metadata": {},
   "outputs": [],
   "source": []
  }
 ],
 "metadata": {
  "kernelspec": {
   "display_name": "Python 3.9.13 ('JQibo')",
   "language": "python",
   "name": "python3"
  },
  "language_info": {
   "name": "python",
   "version": "3.9.13"
  },
  "orig_nbformat": 4,
  "vscode": {
   "interpreter": {
    "hash": "f353bd5fd81425b5652546a01bae5f32b1385e41b0e8c3de3b348335c6a3ea5c"
   }
  }
 },
 "nbformat": 4,
 "nbformat_minor": 2
}
